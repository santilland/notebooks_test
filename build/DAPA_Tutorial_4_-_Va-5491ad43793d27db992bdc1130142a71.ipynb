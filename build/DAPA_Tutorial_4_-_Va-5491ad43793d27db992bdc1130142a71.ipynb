{
  "cells": [
    {
      "cell_type": "markdown",
      "id": "progressive-vacuum",
      "metadata": {
        "papermill": {
          "duration": 0.009769,
          "end_time": "2021-05-11T14:51:40.902716",
          "exception": false,
          "start_time": "2021-05-11T14:51:40.892947",
          "status": "completed"
        },
        "tags": []
      },
      "source": [
        "# DAPA Tutorial #4: Value - Sentinel-2"
      ]
    },
    {
      "cell_type": "markdown",
      "id": "capital-prevention",
      "metadata": {
        "papermill": {
          "duration": 0.008299,
          "end_time": "2021-05-11T14:51:40.919603",
          "exception": false,
          "start_time": "2021-05-11T14:51:40.911304",
          "status": "completed"
        },
        "tags": []
      },
      "source": [
        "## Load environment variables\n",
        "Please make sure that the environment variable \"DAPA_URL\" is set in the `custom.env` file. You can check this by executing the following block. \n",
        "\n",
        "If DAPA_URL is not set, please create a text file named `custom.env` in your home directory with the following input: \n",
        ">DAPA_URL=YOUR-PERSONAL-DAPA-APP-URL"
      ]
    },
    {
      "cell_type": "code",
      "execution_count": 1,
      "id": "diverse-impossible",
      "metadata": {
        "execution": {
          "iopub.execute_input": "2021-05-11T14:51:40.939429Z",
          "iopub.status.busy": "2021-05-11T14:51:40.938896Z",
          "iopub.status.idle": "2021-05-11T14:51:40.988212Z",
          "shell.execute_reply": "2021-05-11T14:51:40.988543Z"
        },
        "papermill": {
          "duration": 0.06078,
          "end_time": "2021-05-11T14:51:40.988692",
          "exception": false,
          "start_time": "2021-05-11T14:51:40.927912",
          "status": "completed"
        },
        "tags": []
      },
      "outputs": [
        {
          "data": {
            "text/markdown": [
              "API credentials have automatically been injected for your active subscriptions.  \n",
              "The following environment variables are now available:\n",
              "\n",
              "The following additional environment variables have been loaded from `~/custom.env`:\n",
              "* `AWS_BUCKET`\n",
              "* `DAPA_URL`\n",
              "* `DB_HOST`, `DB_NAME`, `DB_PASSWORD`, `DB_USER`\n",
              "* `OGC_EDC_URL`\n",
              "* `REFERENCE_DATA`\n"
            ],
            "text/plain": [
              "<IPython.core.display.Markdown object>"
            ]
          },
          "metadata": {},
          "output_type": "display_data"
        }
      ],
      "source": [
        "from edc import setup_environment_variables\n",
        "setup_environment_variables()"
      ]
    },
    {
      "cell_type": "markdown",
      "id": "permanent-jenny",
      "metadata": {
        "papermill": {
          "duration": 0.008575,
          "end_time": "2021-05-11T14:51:41.005897",
          "exception": false,
          "start_time": "2021-05-11T14:51:40.997322",
          "status": "completed"
        },
        "tags": []
      },
      "source": [
        "## Check notebook compabtibility\n",
        "**Please note:** If you conduct this notebook again at a later time, the base image of this Jupyter Hub service can include newer versions of the libraries installed. Thus, the notebook execution can fail. This compatibility check is only necessary when something is broken. "
      ]
    },
    {
      "cell_type": "code",
      "execution_count": 2,
      "id": "renewable-married",
      "metadata": {
        "execution": {
          "iopub.execute_input": "2021-05-11T14:51:41.026341Z",
          "iopub.status.busy": "2021-05-11T14:51:41.025812Z",
          "iopub.status.idle": "2021-05-11T14:51:41.029435Z",
          "shell.execute_reply": "2021-05-11T14:51:41.028991Z"
        },
        "papermill": {
          "duration": 0.015032,
          "end_time": "2021-05-11T14:51:41.029537",
          "exception": false,
          "start_time": "2021-05-11T14:51:41.014505",
          "status": "completed"
        },
        "tags": []
      },
      "outputs": [
        {
          "data": {
            "text/html": [
              "<script type=\"text/javascript\">\n",
              "        function toggle(id) {\n",
              "            el = document.getElementById(id);\n",
              "            el.style.display = el.style.display === \"none\" ? \"block\" : \"none\";\n",
              "        }\n",
              "    </script>"
            ],
            "text/plain": [
              "<IPython.core.display.HTML object>"
            ]
          },
          "metadata": {},
          "output_type": "display_data"
        },
        {
          "data": {
            "text/html": [
              "This notebook is compatible with this base image version (user-0.24.5)."
            ],
            "text/plain": [
              "<IPython.core.display.HTML object>"
            ]
          },
          "metadata": {},
          "output_type": "display_data"
        }
      ],
      "source": [
        "from edc import check_compatibility\n",
        "check_compatibility(\"user-0.24.5\", dependencies=[])"
      ]
    },
    {
      "cell_type": "markdown",
      "id": "interim-surgery",
      "metadata": {
        "papermill": {
          "duration": 0.009225,
          "end_time": "2021-05-11T14:51:41.048001",
          "exception": false,
          "start_time": "2021-05-11T14:51:41.038776",
          "status": "completed"
        },
        "tags": []
      },
      "source": [
        "## Load libraries\n",
        "Python libraries used in this tutorial will be loaded."
      ]
    },
    {
      "cell_type": "code",
      "execution_count": 3,
      "id": "computational-glossary",
      "metadata": {
        "execution": {
          "iopub.execute_input": "2021-05-11T14:51:41.076190Z",
          "iopub.status.busy": "2021-05-11T14:51:41.075682Z",
          "iopub.status.idle": "2021-05-11T14:51:42.246226Z",
          "shell.execute_reply": "2021-05-11T14:51:42.246626Z"
        },
        "papermill": {
          "duration": 1.189424,
          "end_time": "2021-05-11T14:51:42.246757",
          "exception": false,
          "start_time": "2021-05-11T14:51:41.057333",
          "status": "completed"
        },
        "tags": []
      },
      "outputs": [],
      "source": [
        "import os\n",
        "import xarray as xr\n",
        "import pandas as pd\n",
        "import requests\n",
        "import matplotlib\n",
        "from ipyleaflet import Map, Rectangle, Marker, DrawControl, basemaps, basemap_to_tiles\n",
        "%matplotlib inline"
      ]
    },
    {
      "cell_type": "markdown",
      "id": "honey-silver",
      "metadata": {
        "papermill": {
          "duration": 0.009433,
          "end_time": "2021-05-11T14:51:42.265833",
          "exception": false,
          "start_time": "2021-05-11T14:51:42.256400",
          "status": "completed"
        },
        "tags": []
      },
      "source": [
        "## Set DAPA endpoint\n",
        "Execute the following code to check if the DAPA_URL is available in the environment variable and to set the `/dapa` endpoint. "
      ]
    },
    {
      "cell_type": "code",
      "execution_count": 4,
      "id": "joint-attention",
      "metadata": {
        "execution": {
          "iopub.execute_input": "2021-05-11T14:51:42.288375Z",
          "iopub.status.busy": "2021-05-11T14:51:42.287756Z",
          "iopub.status.idle": "2021-05-11T14:51:42.290084Z",
          "shell.execute_reply": "2021-05-11T14:51:42.290411Z"
        },
        "papermill": {
          "duration": 0.015592,
          "end_time": "2021-05-11T14:51:42.290517",
          "exception": false,
          "start_time": "2021-05-11T14:51:42.274925",
          "status": "completed"
        },
        "tags": []
      },
      "outputs": [
        {
          "name": "stdout",
          "output_type": "stream",
          "text": [
            "DAPA path: /oapi\n"
          ]
        }
      ],
      "source": [
        "service_url = None\n",
        "dapa_url = None\n",
        "\n",
        "if 'DAPA_URL' not in os.environ:\n",
        "    print('!! DAPA_URL does not exist as environment variable. Please make sure this is the case - see first block of this notebook! !!')\n",
        "else:    \n",
        "    service_url = os.environ['DAPA_URL']\n",
        "    dapa_url = '{}/{}'.format(service_url, 'oapi')\n",
        "    print('DAPA path: {}'.format(dapa_url.replace(service_url, '')))"
      ]
    },
    {
      "cell_type": "markdown",
      "id": "aging-exception",
      "metadata": {
        "papermill": {
          "duration": 0.009348,
          "end_time": "2021-05-11T14:51:42.309182",
          "exception": false,
          "start_time": "2021-05-11T14:51:42.299834",
          "status": "completed"
        },
        "tags": []
      },
      "source": [
        "## Get collections supported by this endpoint\n",
        "This request provides a list of collections. The path of each collection is used as starting path of this service."
      ]
    },
    {
      "cell_type": "code",
      "execution_count": 5,
      "id": "complimentary-crystal",
      "metadata": {
        "execution": {
          "iopub.execute_input": "2021-05-11T14:51:42.331199Z",
          "iopub.status.busy": "2021-05-11T14:51:42.330656Z",
          "iopub.status.idle": "2021-05-11T14:51:42.425318Z",
          "shell.execute_reply": "2021-05-11T14:51:42.424819Z"
        },
        "papermill": {
          "duration": 0.107,
          "end_time": "2021-05-11T14:51:42.425420",
          "exception": false,
          "start_time": "2021-05-11T14:51:42.318420",
          "status": "completed"
        },
        "tags": []
      },
      "outputs": [
        {
          "name": "stdout",
          "output_type": "stream",
          "text": [
            "DAPA path: /oapi/collections\n"
          ]
        },
        {
          "data": {
            "text/plain": [
              "['/oapi/collections/DEM/',\n",
              " '/oapi/collections/L8L1C/',\n",
              " '/oapi/collections/S1GRD/',\n",
              " '/oapi/collections/S2L1C/',\n",
              " '/oapi/collections/S2L2A/',\n",
              " '/oapi/collections/S3OLCI/',\n",
              " '/oapi/collections/S3SLSTR/',\n",
              " '/oapi/collections/S5PL2/',\n",
              " '/oapi/collections/MODIS/']"
            ]
          },
          "execution_count": 5,
          "metadata": {},
          "output_type": "execute_result"
        }
      ],
      "source": [
        "collections_url = '{}/{}'.format(dapa_url, 'collections')\n",
        "collections = requests.get(collections_url, headers={'Accept': 'application/json'})\n",
        "\n",
        "print('DAPA path: {}'.format(collections.url.replace(service_url, '')))\n",
        "collections.json()"
      ]
    },
    {
      "cell_type": "markdown",
      "id": "republican-italy",
      "metadata": {
        "papermill": {
          "duration": 0.009737,
          "end_time": "2021-05-11T14:51:42.445088",
          "exception": false,
          "start_time": "2021-05-11T14:51:42.435351",
          "status": "completed"
        },
        "tags": []
      },
      "source": [
        "## Get fields of collection Sentinel-2 L2A\n",
        "The fields (or variables in other DAPA endpoints - these are the bands of the raster data) can be retrieved in all requests to the DAPA endpoint. In addition to the fixed set of fields, \"virtual\" fields can be used to conduct math operations (e.g., the calculation of indices). "
      ]
    },
    {
      "cell_type": "code",
      "execution_count": 6,
      "id": "exact-encoding",
      "metadata": {
        "execution": {
          "iopub.execute_input": "2021-05-11T14:51:42.468577Z",
          "iopub.status.busy": "2021-05-11T14:51:42.467273Z",
          "iopub.status.idle": "2021-05-11T14:51:42.500034Z",
          "shell.execute_reply": "2021-05-11T14:51:42.499545Z"
        },
        "papermill": {
          "duration": 0.045347,
          "end_time": "2021-05-11T14:51:42.500126",
          "exception": false,
          "start_time": "2021-05-11T14:51:42.454779",
          "status": "completed"
        },
        "tags": []
      },
      "outputs": [
        {
          "name": "stdout",
          "output_type": "stream",
          "text": [
            "DAPA path: /oapi/collections/S2L2A/dapa/fields\n"
          ]
        },
        {
          "data": {
            "text/plain": [
              "[{'id': 'B01', 'wavelength': 442.7},\n",
              " {'id': 'B02', 'wavelength': 492.4},\n",
              " {'id': 'B03', 'wavelength': 559.8},\n",
              " {'id': 'B04', 'wavelength': 664.6},\n",
              " {'id': 'B05', 'wavelength': 704.1},\n",
              " {'id': 'B06', 'wavelength': 740.5},\n",
              " {'id': 'B07', 'wavelength': 782.8},\n",
              " {'id': 'B08', 'wavelength': 832.8},\n",
              " {'id': 'B8A', 'wavelength': 864.7},\n",
              " {'id': 'B09', 'wavelength': 945.1},\n",
              " {'id': 'B11', 'wavelength': 1613.7},\n",
              " {'id': 'B12', 'wavelength': 2202.4},\n",
              " {'id': 'SCL', 'wavelength': None},\n",
              " {'id': 'SNW', 'wavelength': None},\n",
              " {'id': 'CLD', 'wavelength': None}]"
            ]
          },
          "execution_count": 6,
          "metadata": {},
          "output_type": "execute_result"
        }
      ],
      "source": [
        "collection = 'S2L2A'\n",
        "\n",
        "fields_url = '{}/{}/{}/{}'.format(dapa_url, 'collections', collection, 'dapa/fields')\n",
        "fields = requests.get(fields_url, headers={'Accept': 'application/json'})\n",
        "\n",
        "print('DAPA path: {}'.format(fields.url.replace(service_url, '')))\n",
        "fields.json()"
      ]
    },
    {
      "cell_type": "markdown",
      "id": "emerging-customer",
      "metadata": {
        "papermill": {
          "duration": 0.010115,
          "end_time": "2021-05-11T14:51:42.520387",
          "exception": false,
          "start_time": "2021-05-11T14:51:42.510272",
          "status": "completed"
        },
        "tags": []
      },
      "source": [
        "## Retrieve an NDVI value extraced for a single point"
      ]
    },
    {
      "cell_type": "markdown",
      "id": "italian-hollow",
      "metadata": {
        "papermill": {
          "duration": 0.010065,
          "end_time": "2021-05-11T14:51:42.540595",
          "exception": false,
          "start_time": "2021-05-11T14:51:42.530530",
          "status": "completed"
        },
        "tags": []
      },
      "source": [
        "### Set DAPA URL and parameters\n",
        "The output of this request is a single value requested from a point of interest (`value/position` endpoint). As the input collection (S2L2A) is a multi-temporal raster and the requested geometry is a point, temporal aggregation is conducted.\n",
        "\n",
        "To retrieve a single value of a point, the parameter `point` needs to be provided. For the temporal aggregation, the parameter `aggregate` needs to include the aggregation functions splitted by comma. The `time` parameter allows to aggregate data only within a specific time span. The band (`field`) from which the point is being extracted needs to be specified as well."
      ]
    },
    {
      "cell_type": "code",
      "execution_count": 7,
      "id": "changing-courage",
      "metadata": {
        "execution": {
          "iopub.execute_input": "2021-05-11T14:51:42.566628Z",
          "iopub.status.busy": "2021-05-11T14:51:42.565880Z",
          "iopub.status.idle": "2021-05-11T14:51:42.587936Z",
          "shell.execute_reply": "2021-05-11T14:51:42.586264Z"
        },
        "papermill": {
          "duration": 0.037374,
          "end_time": "2021-05-11T14:51:42.588029",
          "exception": false,
          "start_time": "2021-05-11T14:51:42.550655",
          "status": "completed"
        },
        "tags": []
      },
      "outputs": [
        {
          "data": {
            "application/vnd.jupyter.widget-view+json": {
              "model_id": "4f4e03b2fad4451683dec8f3ded21928",
              "version_major": 2,
              "version_minor": 0
            },
            "text/plain": [
              "Map(center=[48.05, 11.49], controls=(ZoomControl(options=['position', 'zoom_in_text', 'zoom_in_title', 'zoom_o…"
            ]
          },
          "metadata": {},
          "output_type": "display_data"
        }
      ],
      "source": [
        "# DAPA URL\n",
        "url = '{}/{}/{}/{}'.format(dapa_url, 'collections', collection, 'dapa/value/position')\n",
        "\n",
        "# Parameters for this request\n",
        "params = {\n",
        "    'point': '11.49,48.05',\n",
        "    'time': '2018-04-01T00:00:00Z/2018-07-01T00:00:00Z',\n",
        "    'fields': 'NDVI=(B04-B08)/(B04%2BB08)',\n",
        "    'aggregate': 'min,max,avg'\n",
        "}\n",
        "\n",
        "# show point in the map\n",
        "location = list(reversed([float(coord) for coord in params['point'].split(',')]))\n",
        "\n",
        "m = Map(\n",
        "    basemap=basemap_to_tiles(basemaps.OpenStreetMap.Mapnik),\n",
        "    center=location,\n",
        "    zoom=10\n",
        ")\n",
        "\n",
        "marker = Marker(location=location, draggable=False)\n",
        "m.add_layer(marker)\n",
        "\n",
        "m"
      ]
    },
    {
      "cell_type": "markdown",
      "id": "cubic-chemical",
      "metadata": {
        "papermill": {
          "duration": 0.010688,
          "end_time": "2021-05-11T14:51:42.609425",
          "exception": false,
          "start_time": "2021-05-11T14:51:42.598737",
          "status": "completed"
        },
        "tags": []
      },
      "source": [
        "### Build request URL and conduct request"
      ]
    },
    {
      "cell_type": "code",
      "execution_count": 8,
      "id": "ahead-tomato",
      "metadata": {
        "execution": {
          "iopub.execute_input": "2021-05-11T14:51:42.635811Z",
          "iopub.status.busy": "2021-05-11T14:51:42.635195Z",
          "iopub.status.idle": "2021-05-11T14:51:48.284127Z",
          "shell.execute_reply": "2021-05-11T14:51:48.284469Z"
        },
        "papermill": {
          "duration": 5.664482,
          "end_time": "2021-05-11T14:51:48.284593",
          "exception": false,
          "start_time": "2021-05-11T14:51:42.620111",
          "status": "completed"
        },
        "tags": []
      },
      "outputs": [
        {
          "name": "stdout",
          "output_type": "stream",
          "text": [
            "DAPA path: /oapi/collections/S2L2A/dapa/value/position?point=11.49,48.05&time=2018-04-01T00:00:00Z/2018-07-01T00:00:00Z&fields=NDVI=(B04-B08)/(B04%2BB08)&aggregate=min,max,avg\n",
            "Status code: 200\n"
          ]
        }
      ],
      "source": [
        "params_str = \"&\".join(\"%s=%s\" % (k, v) for k,v in params.items())\n",
        "r = requests.get(url, params=params_str)\n",
        "\n",
        "print('DAPA path: {}'.format(r.url.replace(service_url, '')))\n",
        "print('Status code: {}'.format(r.status_code))"
      ]
    },
    {
      "cell_type": "markdown",
      "id": "tribal-portable",
      "metadata": {
        "papermill": {
          "duration": 0.010824,
          "end_time": "2021-05-11T14:51:48.306561",
          "exception": false,
          "start_time": "2021-05-11T14:51:48.295737",
          "status": "completed"
        },
        "tags": []
      },
      "source": [
        "### Show content (one value for each aggregation method)\n",
        "The response of this request returns plain text with values splitted by comma. The order of the values relates to the order of the fields specified in the `fields` parameter in combination with the order of the `aggregation` functions. Additional output formats (e.g., CSV with headers included) will be integrated within the testbed activtiy. "
      ]
    },
    {
      "cell_type": "code",
      "execution_count": 9,
      "id": "terminal-hartford",
      "metadata": {
        "execution": {
          "iopub.execute_input": "2021-05-11T14:51:48.331720Z",
          "iopub.status.busy": "2021-05-11T14:51:48.330998Z",
          "iopub.status.idle": "2021-05-11T14:51:48.333362Z",
          "shell.execute_reply": "2021-05-11T14:51:48.333734Z"
        },
        "papermill": {
          "duration": 0.016582,
          "end_time": "2021-05-11T14:51:48.333831",
          "exception": false,
          "start_time": "2021-05-11T14:51:48.317249",
          "status": "completed"
        },
        "tags": []
      },
      "outputs": [
        {
          "data": {
            "text/plain": [
              "'-0.8713367,0.039432675,-0.4004872'"
            ]
          },
          "execution_count": 9,
          "metadata": {},
          "output_type": "execute_result"
        }
      ],
      "source": [
        "values = r.text\n",
        "values"
      ]
    },
    {
      "cell_type": "code",
      "execution_count": 10,
      "id": "usual-legislature",
      "metadata": {
        "execution": {
          "iopub.execute_input": "2021-05-11T14:51:48.359860Z",
          "iopub.status.busy": "2021-05-11T14:51:48.359075Z",
          "iopub.status.idle": "2021-05-11T14:51:48.362013Z",
          "shell.execute_reply": "2021-05-11T14:51:48.362358Z"
        },
        "papermill": {
          "duration": 0.017802,
          "end_time": "2021-05-11T14:51:48.362453",
          "exception": false,
          "start_time": "2021-05-11T14:51:48.344651",
          "status": "completed"
        },
        "tags": []
      },
      "outputs": [
        {
          "name": "stdout",
          "output_type": "stream",
          "text": [
            "min: -0.8713367\n",
            "max: 0.039432675\n",
            "avg: -0.4004872\n"
          ]
        }
      ],
      "source": [
        "print('%s: %s' % (params['aggregate'].split(',')[0], values.split(',')[0]))\n",
        "print('%s: %s' % (params['aggregate'].split(',')[1], values.split(',')[1]))\n",
        "print('%s: %s' % (params['aggregate'].split(',')[2], values.split(',')[2]))"
      ]
    }
  ],
  "metadata": {
    "kernelspec": {
      "display_name": "EDC 0.19.6 (Python3)",
      "language": "python",
      "name": "edc"
    },
    "language_info": {
      "codemirror_mode": {
        "name": "ipython",
        "version": 3
      },
      "file_extension": ".py",
      "mimetype": "text/x-python",
      "name": "python",
      "nbconvert_exporter": "python",
      "pygments_lexer": "ipython3",
      "version": "3.8.10"
    },
    "papermill": {
      "duration": 8.725362,
      "end_time": "2021-05-11T14:51:48.778912",
      "environment_variables": {},
      "exception": null,
      "input_path": "/tmp/tmpw9zm1tft",
      "output_path": "/tmp/cur_notebook.ipynb",
      "parameters": {},
      "start_time": "2021-05-11T14:51:40.053550",
      "version": "2.1.2"
    },
    "properties": {
      "authors": [
        {
          "id": "47919774-57f5-4b2d-9f6c-570b91e23604",
          "name": "jonas.eberle@dlr.de"
        }
      ],
      "description": "Value extraction based on DAPA experimental interface",
      "id": "95e1bd19-f57f-491f-afb2-1b10fb2efed1",
      "license": null,
      "name": "DAPA Tutorial #4: Value - Sentinel-2 - OGC Testbed 16",
      "requirements": [],
      "tags": [
        "DAPA"
      ],
      "tosAgree": true,
      "type": "Jupyter Notebook",
      "version": "0.2",
      "automatically_executable": false
    },
    "widgets": {
      "application/vnd.jupyter.widget-state+json": {
        "state": {
          "4735c44d591b4fff9c2326b6bbaf64db": {
            "model_module": "jupyter-leaflet",
            "model_module_version": "^0.13.5",
            "model_name": "LeafletZoomControlModel",
            "state": {
              "_model_module": "jupyter-leaflet",
              "_model_module_version": "^0.13.5",
              "_model_name": "LeafletZoomControlModel",
              "_view_count": null,
              "_view_module": "jupyter-leaflet",
              "_view_module_version": "^0.13.5",
              "_view_name": "LeafletZoomControlView",
              "options": [
                "position",
                "zoom_in_text",
                "zoom_in_title",
                "zoom_out_text",
                "zoom_out_title"
              ],
              "position": "topleft",
              "zoom_in_text": "+",
              "zoom_in_title": "Zoom in",
              "zoom_out_text": "-",
              "zoom_out_title": "Zoom out"
            }
          },
          "4f4e03b2fad4451683dec8f3ded21928": {
            "model_module": "jupyter-leaflet",
            "model_module_version": "^0.13.5",
            "model_name": "LeafletMapModel",
            "state": {
              "_dom_classes": [],
              "_model_module": "jupyter-leaflet",
              "_model_module_version": "^0.13.5",
              "_model_name": "LeafletMapModel",
              "_view_count": null,
              "_view_module": "jupyter-leaflet",
              "_view_module_version": "^0.13.5",
              "_view_name": "LeafletMapView",
              "bottom": 0,
              "bounce_at_zoom_limits": true,
              "box_zoom": true,
              "center": [
                48.05,
                11.49
              ],
              "close_popup_on_click": true,
              "controls": [
                "IPY_MODEL_4735c44d591b4fff9c2326b6bbaf64db",
                "IPY_MODEL_eec251d72f424b0baf80bdb04f6f7b58"
              ],
              "crs": {
                "custom": false,
                "name": "EPSG3857"
              },
              "default_style": "IPY_MODEL_7ed2ac4ef55b4cc8ad34a2df364fc6b3",
              "double_click_zoom": true,
              "dragging": true,
              "dragging_style": "IPY_MODEL_8b53adc0157749169c050b17b2019189",
              "east": 0,
              "fullscreen": false,
              "inertia": true,
              "inertia_deceleration": 3000,
              "inertia_max_speed": 1500,
              "interpolation": "bilinear",
              "keyboard": true,
              "keyboard_pan_offset": 80,
              "keyboard_zoom_offset": 1,
              "layers": [
                "IPY_MODEL_60d4057219ce4bf1ae1b7889b01d3782",
                "IPY_MODEL_f84ccf5d7a24419890d6f5cbfddfffd9"
              ],
              "layout": "IPY_MODEL_d11d0f19ca334f1da910dd7f54c13a1f",
              "left": 9007199254740991,
              "max_zoom": 18,
              "min_zoom": 1,
              "modisdate": "yesterday",
              "north": 0,
              "options": [
                "bounce_at_zoom_limits",
                "box_zoom",
                "center",
                "close_popup_on_click",
                "double_click_zoom",
                "dragging",
                "fullscreen",
                "inertia",
                "inertia_deceleration",
                "inertia_max_speed",
                "interpolation",
                "keyboard",
                "keyboard_pan_offset",
                "keyboard_zoom_offset",
                "max_zoom",
                "min_zoom",
                "scroll_wheel_zoom",
                "tap",
                "tap_tolerance",
                "touch_zoom",
                "world_copy_jump",
                "zoom",
                "zoom_animation_threshold",
                "zoom_delta",
                "zoom_snap",
                "zoom_start"
              ],
              "right": 0,
              "scroll_wheel_zoom": false,
              "south": 0,
              "style": "IPY_MODEL_dfe1b5fff2584e1091406389371bd2a5",
              "tap": true,
              "tap_tolerance": 15,
              "top": 9007199254740991,
              "touch_zoom": true,
              "west": 0,
              "window_url": "",
              "world_copy_jump": false,
              "zoom": 10,
              "zoom_animation_threshold": 4,
              "zoom_delta": 1,
              "zoom_snap": 1,
              "zoom_start": 12
            }
          },
          "60d4057219ce4bf1ae1b7889b01d3782": {
            "model_module": "jupyter-leaflet",
            "model_module_version": "^0.13.5",
            "model_name": "LeafletTileLayerModel",
            "state": {
              "_model_module": "jupyter-leaflet",
              "_model_module_version": "^0.13.5",
              "_model_name": "LeafletTileLayerModel",
              "_view_count": null,
              "_view_module": "jupyter-leaflet",
              "_view_module_version": "^0.13.5",
              "_view_name": "LeafletTileLayerView",
              "attribution": "Map data (c) <a href=\"https://openstreetmap.org\">OpenStreetMap</a> contributors",
              "base": true,
              "bottom": true,
              "detect_retina": false,
              "loading": false,
              "max_native_zoom": 18,
              "max_zoom": 19,
              "min_native_zoom": 0,
              "min_zoom": 1,
              "name": "OpenStreetMap.Mapnik",
              "no_wrap": false,
              "opacity": 1,
              "options": [
                "attribution",
                "detect_retina",
                "max_native_zoom",
                "max_zoom",
                "min_native_zoom",
                "min_zoom",
                "no_wrap",
                "tile_size",
                "tms"
              ],
              "popup": null,
              "popup_max_height": null,
              "popup_max_width": 300,
              "popup_min_width": 50,
              "show_loading": false,
              "tile_size": 256,
              "tms": false,
              "url": "https://{s}.tile.openstreetmap.org/{z}/{x}/{y}.png",
              "visible": true
            }
          },
          "7ed2ac4ef55b4cc8ad34a2df364fc6b3": {
            "model_module": "jupyter-leaflet",
            "model_module_version": "^0.13.5",
            "model_name": "LeafletMapStyleModel",
            "state": {
              "_model_module": "jupyter-leaflet",
              "_model_module_version": "^0.13.5",
              "_model_name": "LeafletMapStyleModel",
              "_view_count": null,
              "_view_module": "@jupyter-widgets/base",
              "_view_module_version": "1.2.0",
              "_view_name": "StyleView",
              "cursor": "grab"
            }
          },
          "8b53adc0157749169c050b17b2019189": {
            "model_module": "jupyter-leaflet",
            "model_module_version": "^0.13.5",
            "model_name": "LeafletMapStyleModel",
            "state": {
              "_model_module": "jupyter-leaflet",
              "_model_module_version": "^0.13.5",
              "_model_name": "LeafletMapStyleModel",
              "_view_count": null,
              "_view_module": "@jupyter-widgets/base",
              "_view_module_version": "1.2.0",
              "_view_name": "StyleView",
              "cursor": "move"
            }
          },
          "d11d0f19ca334f1da910dd7f54c13a1f": {
            "model_module": "@jupyter-widgets/base",
            "model_module_version": "1.2.0",
            "model_name": "LayoutModel",
            "state": {
              "_model_module": "@jupyter-widgets/base",
              "_model_module_version": "1.2.0",
              "_model_name": "LayoutModel",
              "_view_count": null,
              "_view_module": "@jupyter-widgets/base",
              "_view_module_version": "1.2.0",
              "_view_name": "LayoutView",
              "align_content": null,
              "align_items": null,
              "align_self": null,
              "border": null,
              "bottom": null,
              "display": null,
              "flex": null,
              "flex_flow": null,
              "grid_area": null,
              "grid_auto_columns": null,
              "grid_auto_flow": null,
              "grid_auto_rows": null,
              "grid_column": null,
              "grid_gap": null,
              "grid_row": null,
              "grid_template_areas": null,
              "grid_template_columns": null,
              "grid_template_rows": null,
              "height": null,
              "justify_content": null,
              "justify_items": null,
              "left": null,
              "margin": null,
              "max_height": null,
              "max_width": null,
              "min_height": null,
              "min_width": null,
              "object_fit": null,
              "object_position": null,
              "order": null,
              "overflow": null,
              "overflow_x": null,
              "overflow_y": null,
              "padding": null,
              "right": null,
              "top": null,
              "visibility": null,
              "width": null
            }
          },
          "dfe1b5fff2584e1091406389371bd2a5": {
            "model_module": "jupyter-leaflet",
            "model_module_version": "^0.13.5",
            "model_name": "LeafletMapStyleModel",
            "state": {
              "_model_module": "jupyter-leaflet",
              "_model_module_version": "^0.13.5",
              "_model_name": "LeafletMapStyleModel",
              "_view_count": null,
              "_view_module": "@jupyter-widgets/base",
              "_view_module_version": "1.2.0",
              "_view_name": "StyleView",
              "cursor": "grab"
            }
          },
          "eec251d72f424b0baf80bdb04f6f7b58": {
            "model_module": "jupyter-leaflet",
            "model_module_version": "^0.13.5",
            "model_name": "LeafletAttributionControlModel",
            "state": {
              "_model_module": "jupyter-leaflet",
              "_model_module_version": "^0.13.5",
              "_model_name": "LeafletAttributionControlModel",
              "_view_count": null,
              "_view_module": "jupyter-leaflet",
              "_view_module_version": "^0.13.5",
              "_view_name": "LeafletAttributionControlView",
              "options": [
                "position",
                "prefix"
              ],
              "position": "bottomright",
              "prefix": "ipyleaflet"
            }
          },
          "f84ccf5d7a24419890d6f5cbfddfffd9": {
            "model_module": "jupyter-leaflet",
            "model_module_version": "^0.13.5",
            "model_name": "LeafletMarkerModel",
            "state": {
              "_model_module": "jupyter-leaflet",
              "_model_module_version": "^0.13.5",
              "_model_name": "LeafletMarkerModel",
              "_view_count": null,
              "_view_module": "jupyter-leaflet",
              "_view_module_version": "^0.13.5",
              "_view_name": "LeafletMarkerView",
              "alt": "",
              "base": false,
              "bottom": false,
              "draggable": false,
              "icon": null,
              "keyboard": true,
              "location": [
                48.05,
                11.49
              ],
              "name": "",
              "opacity": 1,
              "options": [
                "alt",
                "draggable",
                "keyboard",
                "rise_offset",
                "rise_on_hover",
                "rotation_angle",
                "rotation_origin",
                "title",
                "z_index_offset"
              ],
              "popup": null,
              "popup_max_height": null,
              "popup_max_width": 300,
              "popup_min_width": 50,
              "rise_offset": 250,
              "rise_on_hover": false,
              "rotation_angle": 0,
              "rotation_origin": "",
              "title": "",
              "visible": true,
              "z_index_offset": 0
            }
          }
        },
        "version_major": 2,
        "version_minor": 0
      }
    }
  },
  "nbformat": 4,
  "nbformat_minor": 5
}
