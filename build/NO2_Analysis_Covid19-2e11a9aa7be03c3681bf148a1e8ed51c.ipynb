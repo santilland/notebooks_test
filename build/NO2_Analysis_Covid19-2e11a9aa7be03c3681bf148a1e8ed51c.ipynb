{
  "cells": [
    {
      "cell_type": "code",
      "execution_count": 1,
      "id": "c17db385",
      "metadata": {
        "execution": {
          "iopub.execute_input": "2021-05-11T14:50:01.016931Z",
          "iopub.status.busy": "2021-05-11T14:50:01.016230Z",
          "iopub.status.idle": "2021-05-11T14:50:01.074117Z",
          "shell.execute_reply": "2021-05-11T14:50:01.074470Z"
        },
        "papermill": {
          "duration": 0.070554,
          "end_time": "2021-05-11T14:50:01.074633",
          "exception": false,
          "start_time": "2021-05-11T14:50:01.004079",
          "status": "completed"
        },
        "tags": []
      },
      "outputs": [
        {
          "data": {
            "text/html": [
              "<script type=\"text/javascript\">\n",
              "        function toggle(id) {\n",
              "            el = document.getElementById(id);\n",
              "            el.style.display = el.style.display === \"none\" ? \"block\" : \"none\";\n",
              "        }\n",
              "    </script>"
            ],
            "text/plain": [
              "<IPython.core.display.HTML object>"
            ]
          },
          "metadata": {},
          "output_type": "display_data"
        },
        {
          "data": {
            "text/html": [
              "This notebook is compatible with this base image version (user-0.24.5)."
            ],
            "text/plain": [
              "<IPython.core.display.HTML object>"
            ]
          },
          "metadata": {},
          "output_type": "display_data"
        },
        {
          "data": {
            "text/markdown": [
              "\n",
              "\n",
              "---------\n",
              "\n",
              "The following environment variables are available:\n",
              "\n",
              "* `SH_CLIENT_ID`, `SH_INSTANCE_ID`, `SH_CLIENT_NAME`, `SH_CLIENT_SECRET`\n"
            ],
            "text/plain": [
              "<IPython.core.display.Markdown object>"
            ]
          },
          "metadata": {},
          "output_type": "display_data"
        }
      ],
      "source": [
        "from edc import check_compatibility\n",
        "check_compatibility(\"user-0.24.5\", dependencies=[\"SH\"])"
      ]
    },
    {
      "cell_type": "markdown",
      "id": "28ab381f",
      "metadata": {
        "papermill": {
          "duration": 0.008523,
          "end_time": "2021-05-11T14:50:01.091775",
          "exception": false,
          "start_time": "2021-05-11T14:50:01.083252",
          "status": "completed"
        },
        "tags": []
      },
      "source": [
        "# Impact of Covid19 induced lockdown on NO2 levels \n",
        "\n",
        "- Countries have initiated lockdown measures to control the spread of the disease \n",
        "- Not all of the measures were successful (Italy) \n",
        "- Countries (Germany) which successful implemented a lockdown showed a marked decrease in NO2 levels \n",
        "\n",
        "- NO2 is produced when fossil fuels are burned, as during transportation (cars, trucks etc. ) or \n",
        "- due to other economic activities (like factories )\n"
      ]
    },
    {
      "cell_type": "markdown",
      "id": "67d74581",
      "metadata": {
        "papermill": {
          "duration": 0.008378,
          "end_time": "2021-05-11T14:50:01.108518",
          "exception": false,
          "start_time": "2021-05-11T14:50:01.100140",
          "status": "completed"
        },
        "tags": []
      },
      "source": [
        "## Load required dependencies & credentials"
      ]
    },
    {
      "cell_type": "code",
      "execution_count": 2,
      "id": "277b188f",
      "metadata": {
        "execution": {
          "iopub.execute_input": "2021-05-11T14:50:01.128846Z",
          "iopub.status.busy": "2021-05-11T14:50:01.128363Z",
          "iopub.status.idle": "2021-05-11T14:50:02.398452Z",
          "shell.execute_reply": "2021-05-11T14:50:02.397917Z"
        },
        "papermill": {
          "duration": 1.28161,
          "end_time": "2021-05-11T14:50:02.398569",
          "exception": false,
          "start_time": "2021-05-11T14:50:01.116959",
          "status": "completed"
        },
        "tags": []
      },
      "outputs": [],
      "source": [
        "# Import required packages\n",
        "\n",
        "from xcube_sh.config import CubeConfig\n",
        "from xcube_sh.cube import open_cube\n",
        "from xcube_sh.sentinelhub import SentinelHub\n",
        "import xarray as xr\n",
        "\n",
        "from sentinelhub import BBox, WmsRequest, DataSource, SHConfig\n",
        "from functools import partial\n",
        "\n",
        "import numpy as np\n",
        "import pandas as pd\n",
        "\n",
        "from matplotlib import pyplot as plt\n"
      ]
    },
    {
      "cell_type": "code",
      "execution_count": 3,
      "id": "2d3f7506",
      "metadata": {
        "execution": {
          "iopub.execute_input": "2021-05-11T14:50:02.418925Z",
          "iopub.status.busy": "2021-05-11T14:50:02.418424Z",
          "iopub.status.idle": "2021-05-11T14:50:02.420627Z",
          "shell.execute_reply": "2021-05-11T14:50:02.420063Z"
        },
        "papermill": {
          "duration": 0.013625,
          "end_time": "2021-05-11T14:50:02.420756",
          "exception": false,
          "start_time": "2021-05-11T14:50:02.407131",
          "status": "completed"
        },
        "tags": []
      },
      "outputs": [],
      "source": [
        "# Set Sentinel Hub credentials\n",
        "\n",
        "import os\n",
        "sh_credentials = dict(client_id=os.environ['SH_CLIENT_ID'],\n",
        "                      client_secret=os.environ['SH_CLIENT_SECRET']) # This is only provided when the Oauth credentials are created\n",
        "\n",
        "# Sentinel-3 OLCI, Sentinel-3 SLSTR and Sentinel-5 layers are processed on different infrastructure, \n",
        "# which requires to used different end-point\n",
        "\n",
        "sh_credentials.update(api_url='https://creodias.sentinel-hub.com') "
      ]
    },
    {
      "cell_type": "markdown",
      "id": "b75f8885",
      "metadata": {
        "papermill": {
          "duration": 0.008275,
          "end_time": "2021-05-11T14:50:02.438243",
          "exception": false,
          "start_time": "2021-05-11T14:50:02.429968",
          "status": "completed"
        },
        "tags": []
      },
      "source": [
        "## Core function to calculate NO2 values\n",
        "\n",
        "NO2 values are calculated over the given period (Jan -May) for 2020 & 2019"
      ]
    },
    {
      "cell_type": "code",
      "execution_count": 4,
      "id": "14cb5fea",
      "metadata": {
        "execution": {
          "iopub.execute_input": "2021-05-11T14:50:02.460873Z",
          "iopub.status.busy": "2021-05-11T14:50:02.460186Z",
          "iopub.status.idle": "2021-05-11T14:50:02.461807Z",
          "shell.execute_reply": "2021-05-11T14:50:02.462165Z"
        },
        "papermill": {
          "duration": 0.015747,
          "end_time": "2021-05-11T14:50:02.462271",
          "exception": false,
          "start_time": "2021-05-11T14:50:02.446524",
          "status": "completed"
        },
        "tags": []
      },
      "outputs": [],
      "source": [
        "def caculateNO2(geometry, timerange):\n",
        "    \"\"\"\n",
        "    parameters:\n",
        "    geometry: BBox object to be passed. This contains the bounding box for the area of interest (AOI)\n",
        "    timerange: list giving the start & end of the time range format: YYYY-mm-dd\n",
        "    \n",
        "    return:\n",
        "    a dataframe with two columns: Mean NO2 and Timestamp\n",
        "    NO2 mean values for the time span between given timerange \n",
        "    \n",
        "    \"\"\"\n",
        "    cube_config = CubeConfig(dataset_name='S5PL2',\n",
        "                         band_names=['NO2'],\n",
        "                         tile_size=[512, 512],\n",
        "                         geometry=geometry,\n",
        "                         spatial_res=abs(bbox[2]-bbox[0])/512,\n",
        "                         time_range= timerange,\n",
        "                         time_period='3D') \n",
        "    cube = open_cube(cube_config, **sh_credentials)\n",
        "\n",
        "    no2_values = list() \n",
        "    timestamp = list()\n",
        "\n",
        "    for i in range(cube.time.shape[0]):\n",
        "        no2_values.append(np.nanmean(cube.NO2.isel(time=i).values[0]))\n",
        "        timestamp.append(cube.NO2.isel(time=i).time.values)\n",
        "        \n",
        "    assert len(no2_values) == len(timestamp)\n",
        "    \n",
        "    return pd.DataFrame({'DateTime': timestamp, 'Mean NO2': no2_values})"
      ]
    },
    {
      "cell_type": "markdown",
      "id": "8f6266c0",
      "metadata": {
        "papermill": {
          "duration": 0.008259,
          "end_time": "2021-05-11T14:50:02.479255",
          "exception": false,
          "start_time": "2021-05-11T14:50:02.470996",
          "status": "completed"
        },
        "tags": []
      },
      "source": [
        "## Read area of interest as a csv file\n",
        "*Uncomment the next code block if you want to read the AOI from a csv file*\n",
        "\n",
        "File has the following columns:\n",
        "- Country: Name of country/territory of interest\n",
        "- x1, y1 : Upper left corner co-ordinates (lat/lon)\n",
        "- x2, y2 : Lower right corner co-ordinates"
      ]
    },
    {
      "cell_type": "code",
      "execution_count": 5,
      "id": "6d98dd91",
      "metadata": {
        "execution": {
          "iopub.execute_input": "2021-05-11T14:50:02.498683Z",
          "iopub.status.busy": "2021-05-11T14:50:02.498145Z",
          "iopub.status.idle": "2021-05-11T14:50:02.499883Z",
          "shell.execute_reply": "2021-05-11T14:50:02.500235Z"
        },
        "papermill": {
          "duration": 0.012739,
          "end_time": "2021-05-11T14:50:02.500336",
          "exception": false,
          "start_time": "2021-05-11T14:50:02.487597",
          "status": "completed"
        },
        "tags": []
      },
      "outputs": [],
      "source": [
        "# aoi = pd.read_csv('AOI.csv')\n",
        "# print(aoi.shape)\n",
        "# print(aoi.head(8))\n",
        "\n",
        "# shape = aoi.shape\n",
        "# nullCount = sum(aoi.isna().sum())\n",
        "# print(f\"Shape of 2020 DF: {shape}, Count of Null values: {nullCount}\".format(shape , nullCount ))"
      ]
    },
    {
      "cell_type": "markdown",
      "id": "dc604c63",
      "metadata": {
        "papermill": {
          "duration": 0.008298,
          "end_time": "2021-05-11T14:50:02.517365",
          "exception": false,
          "start_time": "2021-05-11T14:50:02.509067",
          "status": "completed"
        },
        "tags": []
      },
      "source": [
        "## Define AOI as a list\n",
        "\n",
        "*This is a list of dictionaries with the required information*\n",
        "\n",
        "Each dict has the following keys:\n",
        "\n",
        "- Country: Name of country/territory of interest\n",
        "- x1, y1 : Upper left corner co-ordinates (lat/lon)\n",
        "- x2, y2 : Lower right corner co-ordinates"
      ]
    },
    {
      "cell_type": "code",
      "execution_count": 6,
      "id": "4ba8bc8f",
      "metadata": {
        "execution": {
          "iopub.execute_input": "2021-05-11T14:50:02.537911Z",
          "iopub.status.busy": "2021-05-11T14:50:02.537386Z",
          "iopub.status.idle": "2021-05-11T14:50:02.539548Z",
          "shell.execute_reply": "2021-05-11T14:50:02.538933Z"
        },
        "papermill": {
          "duration": 0.013931,
          "end_time": "2021-05-11T14:50:02.539639",
          "exception": false,
          "start_time": "2021-05-11T14:50:02.525708",
          "status": "completed"
        },
        "tags": []
      },
      "outputs": [],
      "source": [
        "aoi = list()\n",
        "\n",
        "#Define two dicts\n",
        "country1 = dict()\n",
        "country1['Country'] = 'Italy'\n",
        "country1['x1'] = 46.28 \n",
        "country1['y1'] = 6.42\n",
        "country1['x2'] = 37.25\n",
        "country1['y2'] = 19.73\n",
        "aoi.append(country1)\n",
        "\n",
        "country2 = dict()\n",
        "country2['Country'] = 'Germany'\n",
        "country2['x1'] = 54.77 \n",
        "country2['y1'] = 4.70\n",
        "country2['x2'] = 47.63\n",
        "country2['y2'] = 15.73\n",
        "aoi.append(country2)\n",
        "\n",
        "#print(len(aoi))"
      ]
    },
    {
      "cell_type": "markdown",
      "id": "eab6c70d",
      "metadata": {
        "papermill": {
          "duration": 0.008218,
          "end_time": "2021-05-11T14:50:02.560711",
          "exception": false,
          "start_time": "2021-05-11T14:50:02.552493",
          "status": "completed"
        },
        "tags": []
      },
      "source": [
        "## Main loop \n",
        "\n",
        "We iterate over each row in the `aoi.csv` file \n",
        "\n",
        "Sentinel-5P data for each defined AOI cube is extracted \n",
        "\n",
        "NO2 values for each tile is then averaged & stored in a list\n",
        "\n",
        "For the purpose of this demo we will calculate the NO2 values for one AOI and for one month \n",
        "(*That will ensure that we don't exceed the timelimit of 10mins!*)"
      ]
    },
    {
      "cell_type": "code",
      "execution_count": 7,
      "id": "48fcd86a",
      "metadata": {
        "execution": {
          "iopub.execute_input": "2021-05-11T14:50:02.586845Z",
          "iopub.status.busy": "2021-05-11T14:50:02.583577Z",
          "iopub.status.idle": "2021-05-11T14:50:59.606086Z",
          "shell.execute_reply": "2021-05-11T14:50:59.606453Z"
        },
        "papermill": {
          "duration": 57.037651,
          "end_time": "2021-05-11T14:50:59.606584",
          "exception": false,
          "start_time": "2021-05-11T14:50:02.568933",
          "status": "completed"
        },
        "tags": []
      },
      "outputs": [
        {
          "name": "stderr",
          "output_type": "stream",
          "text": [
            "/opt/conda/envs/eurodatacube-0.24.5/lib/python3.8/site-packages/xcube_sh/config.py:99: UserWarning: the geometry parameter is no longer supported, use bbox instead\n",
            "  warnings.warn('the geometry parameter is no longer supported, use bbox instead')\n"
          ]
        },
        {
          "name": "stdout",
          "output_type": "stream",
          "text": [
            "Shape of 2020 DF: (11, 2), Count of Null values: 0\n"
          ]
        },
        {
          "name": "stderr",
          "output_type": "stream",
          "text": [
            "/opt/conda/envs/eurodatacube-0.24.5/lib/python3.8/site-packages/xcube_sh/config.py:99: UserWarning: the geometry parameter is no longer supported, use bbox instead\n",
            "  warnings.warn('the geometry parameter is no longer supported, use bbox instead')\n"
          ]
        },
        {
          "name": "stdout",
          "output_type": "stream",
          "text": [
            "Shape of 2019 DF: (11, 2), Count of Null values: 0\n"
          ]
        }
      ],
      "source": [
        "import time \n",
        "\n",
        "start = time.time()\n",
        "aoi_no2 = list()\n",
        "\n",
        "# Check length of provided aoi list OR dataframe\n",
        "len_aoi = len(aoi)\n",
        "\n",
        "# Define how many AOIs you want to process. For the demo we will use only one \n",
        "counter = 1\n",
        "\n",
        "for idx in range(counter):\n",
        "    aoi_dict = dict()\n",
        "    \n",
        "    # Check if aoi is passed as a list or a dataframe\n",
        "    if isinstance(aoi, list):\n",
        "        aoi_dict['Country_BBox'] = aoi[idx]['Country']\n",
        "        x1 = int(aoi[idx]['x1'])  # degree \n",
        "        y1 = int(aoi[idx]['y1'])  # degree\n",
        "        x2 = int(aoi[idx]['x2'])  # degree\n",
        "        y2 = int(aoi[idx]['y2'])  # degree\n",
        "                \n",
        "    else:\n",
        "        aoi_dict['Country_BBox'] = aoi.loc[idx]['Country']\n",
        "        print(\"Processing: \", aoi_dict['Country_BBox'])\n",
        "        x1 = int(aoi.loc[idx]['x1'])  # degree \n",
        "        y1 = int(aoi.loc[idx]['y1'])  # degree\n",
        "        x2 = int(aoi.loc[idx]['x2'])  # degree\n",
        "        y2 = int(aoi.loc[idx]['y2'])  # degree\n",
        "\n",
        "    bbox = x1, y1, x2, y2\n",
        "    timerange = ['2020-01-01', '2020-01-31']\n",
        "    aoi_dict['NO2_2020'] = caculateNO2(bbox, timerange)\n",
        "    shape = aoi_dict['NO2_2020'].shape\n",
        "    nullCount = sum(aoi_dict['NO2_2020'].isna().sum())\n",
        "    print(f\"Shape of 2020 DF: {shape}, Count of Null values: {nullCount}\".format(shape , nullCount ))    \n",
        "    \n",
        "    timerange = ['2019-01-01', '2019-01-31']\n",
        "    aoi_dict['NO2_2019'] = caculateNO2(bbox, timerange)\n",
        "    shape = aoi_dict['NO2_2019'].shape\n",
        "    nullCount = sum(aoi_dict['NO2_2019'].isna().sum())\n",
        "    print(f\"Shape of 2019 DF: {shape}, Count of Null values: {nullCount}\".format(shape , nullCount ))\n",
        "\n",
        "    aoi_no2.append(aoi_dict)\n",
        "\n",
        "end = time.time()\n",
        "#print(len(aoi_no2))\n"
      ]
    },
    {
      "cell_type": "code",
      "execution_count": 8,
      "id": "6610b4ba",
      "metadata": {
        "execution": {
          "iopub.execute_input": "2021-05-11T14:50:59.628023Z",
          "iopub.status.busy": "2021-05-11T14:50:59.627429Z",
          "iopub.status.idle": "2021-05-11T14:50:59.630190Z",
          "shell.execute_reply": "2021-05-11T14:50:59.629647Z"
        },
        "papermill": {
          "duration": 0.014541,
          "end_time": "2021-05-11T14:50:59.630279",
          "exception": false,
          "start_time": "2021-05-11T14:50:59.615738",
          "status": "completed"
        },
        "tags": []
      },
      "outputs": [
        {
          "name": "stdout",
          "output_type": "stream",
          "text": [
            "Total processing time: 0.95 mins\n"
          ]
        }
      ],
      "source": [
        "print(\"Total processing time: {:.2} mins\".format((end-start)/60)) "
      ]
    },
    {
      "cell_type": "markdown",
      "id": "f1c20cb5",
      "metadata": {
        "papermill": {
          "duration": 0.010733,
          "end_time": "2021-05-11T14:50:59.651663",
          "exception": false,
          "start_time": "2021-05-11T14:50:59.640930",
          "status": "completed"
        },
        "tags": []
      },
      "source": [
        "The list is then pickled so that the information can then be reused in another run"
      ]
    },
    {
      "cell_type": "code",
      "execution_count": 9,
      "id": "5f4cd368",
      "metadata": {
        "execution": {
          "iopub.execute_input": "2021-05-11T14:50:59.676303Z",
          "iopub.status.busy": "2021-05-11T14:50:59.675776Z",
          "iopub.status.idle": "2021-05-11T14:50:59.678245Z",
          "shell.execute_reply": "2021-05-11T14:50:59.677764Z"
        },
        "papermill": {
          "duration": 0.015061,
          "end_time": "2021-05-11T14:50:59.678331",
          "exception": false,
          "start_time": "2021-05-11T14:50:59.663270",
          "status": "completed"
        },
        "tags": []
      },
      "outputs": [],
      "source": [
        "import pickle \n",
        "#print(len(aoi_no2))\n",
        "with open('aoi_list_no2.pkl', 'wb') as f:\n",
        "    pickle.dump(aoi_no2, f)"
      ]
    },
    {
      "cell_type": "markdown",
      "id": "16957aac",
      "metadata": {
        "papermill": {
          "duration": 0.009223,
          "end_time": "2021-05-11T14:50:59.696792",
          "exception": false,
          "start_time": "2021-05-11T14:50:59.687569",
          "status": "completed"
        },
        "tags": []
      },
      "source": [
        "## Plotting function\n",
        "\n",
        "This plots the NO2 values over time"
      ]
    },
    {
      "cell_type": "code",
      "execution_count": 10,
      "id": "160dec16",
      "metadata": {
        "execution": {
          "iopub.execute_input": "2021-05-11T14:50:59.719617Z",
          "iopub.status.busy": "2021-05-11T14:50:59.718998Z",
          "iopub.status.idle": "2021-05-11T14:50:59.720914Z",
          "shell.execute_reply": "2021-05-11T14:50:59.721251Z"
        },
        "papermill": {
          "duration": 0.01535,
          "end_time": "2021-05-11T14:50:59.721350",
          "exception": false,
          "start_time": "2021-05-11T14:50:59.706000",
          "status": "completed"
        },
        "tags": []
      },
      "outputs": [],
      "source": [
        "import matplotlib.pyplot as plt\n",
        "\n",
        "def plot_no2(idx):\n",
        "    \"\"\"\n",
        "    parameters:\n",
        "    idx: Input id for accessing NO2 data \n",
        "    \n",
        "    return:\n",
        "    None\n",
        "    line plots for NO2 (2020 vs 2019) are generated\n",
        "    \"\"\"\n",
        "\n",
        "    plt.plot(aoi_no2[idx]['NO2_2020']['DateTime'], aoi_no2[idx]['NO2_2020']['Mean NO2'],  label = 'NO2 levels (2020)')\n",
        "    plt.plot(aoi_no2[idx]['NO2_2020']['DateTime'], aoi_no2[idx]['NO2_2019']['Mean NO2'], label = 'NO2 levels (2019)')\n",
        "    plt.ylabel('NO2 Levels')\n",
        "    plt.xlabel('Month')\n",
        "    plt.title('NO2 levels for '+ aoi_no2[idx]['Country_BBox'])\n",
        "    plt.legend()\n",
        "    plt.savefig(aoi_no2[idx]['Country_BBox']+'.png')\n",
        "    plt.show()"
      ]
    },
    {
      "cell_type": "code",
      "execution_count": 11,
      "id": "5870bcf6",
      "metadata": {
        "execution": {
          "iopub.execute_input": "2021-05-11T14:50:59.754293Z",
          "iopub.status.busy": "2021-05-11T14:50:59.750576Z",
          "iopub.status.idle": "2021-05-11T14:50:59.979810Z",
          "shell.execute_reply": "2021-05-11T14:50:59.980143Z"
        },
        "papermill": {
          "duration": 0.249765,
          "end_time": "2021-05-11T14:50:59.980261",
          "exception": false,
          "start_time": "2021-05-11T14:50:59.730496",
          "status": "completed"
        },
        "tags": []
      },
      "outputs": [
        {
          "data": {
            "image/png": "[encoded data removed]",
            "text/plain": [
              "<Figure size 640x480 with 1 Axes>"
            ]
          },
          "metadata": {},
          "output_type": "display_data"
        }
      ],
      "source": [
        "for idx in range(len(aoi_no2)):\n",
        "    plot_no2(idx)\n"
      ]
    },
    {
      "cell_type": "code",
      "execution_count": null,
      "id": "a1c17e51",
      "metadata": {
        "papermill": {
          "duration": 0.010607,
          "end_time": "2021-05-11T14:51:00.001600",
          "exception": false,
          "start_time": "2021-05-11T14:50:59.990993",
          "status": "completed"
        },
        "tags": []
      },
      "outputs": [],
      "source": []
    }
  ],
  "metadata": {
    "kernelspec": {
      "display_name": "Python 3",
      "language": "python",
      "name": "python3"
    },
    "language_info": {
      "codemirror_mode": {
        "name": "ipython",
        "version": 3
      },
      "file_extension": ".py",
      "mimetype": "text/x-python",
      "name": "python",
      "nbconvert_exporter": "python",
      "pygments_lexer": "ipython3",
      "version": "3.8.10"
    },
    "papermill": {
      "duration": 61.035284,
      "end_time": "2021-05-11T14:51:01.259370",
      "environment_variables": {},
      "exception": null,
      "input_path": "/tmp/tmpkf49o9ss",
      "output_path": "/tmp/cur_notebook.ipynb",
      "parameters": {},
      "start_time": "2021-05-11T14:50:00.224086",
      "version": "2.1.0"
    },
    "properties": {
      "authors": [
        {
          "id": "efb05e9b-9eec-4e72-9b8d-ec1e782e7f23",
          "name": "aakashg80@gmail.com"
        }
      ],
      "description": "NO2 levels are used to assess success of pandemic lockdowns",
      "id": "1022d3c7-728e-484c-bce8-05b414282acc",
      "license": null,
      "name": "Covid19 Lockdown and Pollution (NO2)",
      "requirements": [
        "eurodatacube"
      ],
      "tags": [
        "COVID-19",
        "Analysis-Ready Data",
        "EO Data",
        "Jupyter",
        "Sentinel Data",
        "xcube"
      ],
      "tosAgree": true,
      "type": "Jupyter Notebook",
      "version": "1.0",
      "automatically_executable": false
    }
  },
  "nbformat": 4,
  "nbformat_minor": 5
}
