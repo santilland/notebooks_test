{
 "cells": [
  {
   "cell_type": "markdown",
   "id": "ff22ebb1",
   "metadata": {},
   "source": [
    "As the first step of the process we need install mptuclient on EDC environment. Currently the master version is not working, so we use the 1.8.8 branch."
   ]
  },
  {
   "cell_type": "code",
   "execution_count": null,
   "id": "b09d34c7",
   "metadata": {
    "tags": []
   },
   "outputs": [],
   "source": [
    "!pip install motuclient==1.8.8"
   ]
  },
  {
   "cell_type": "markdown",
   "id": "4c1e864d-f603-4569-8827-d44f2512b590",
   "metadata": {},
   "source": [
    "Run the request for a specific product. It will be downloaded into the root folder. Change \"out_dir\" and \"out_name\" to specify a different download path. Use the edc credentials to set the CMEMS_USERNAME and CMEMS_PASSWORD."
   ]
  },
  {
   "cell_type": "code",
   "execution_count": null,
   "id": "2dca3061-4c6e-465a-8ec6-0cf7884aff05",
   "metadata": {},
   "outputs": [],
   "source": [
    "import os\n",
    "from datetime import datetime\n",
    "\n",
    "cmems_usr = %env CMEMS_USERNAME\n",
    "cmems_passwd = %env CMEMS_PASSWORD\n",
    "\n",
    "# change these paramaters for different products. Details are available here https://resources.marine.copernicus.eu/product-detail/GLOBAL_ANALYSIS_FORECAST_PHY_001_024/DATA-ACCESS\n",
    "dataset_id=\"GLOBAL_ANALYSIS_FORECAST_PHY_001_024-TDS\"\n",
    "product_id=\"cmems_mod_glo_phy_anfc_merged-uv_PT1H-i\"\n",
    "variable1 = \"uo\"\n",
    "\n",
    "lon_min=\"28.5\"\n",
    "lon_max=\"32.5\"\n",
    "lat_min=\"42.5\"\n",
    "lat_max=\"46.0\"\n",
    "date_min=datetime(2021, 1, 6, 0, 0, 0, 0)\n",
    "date_max=datetime(2021, 4, 9, 0, 0, 0, 0)\n",
    "depth_min=0.494024\n",
    "depth_max=0.494026\n",
    "\n",
    "#destination folder and file names\n",
    "out_dir = \".\"\n",
    "nc_name = 'out.nc'\n",
    "\n",
    "\n",
    "#do not change!!\n",
    "motu_server =\"http://nrt.cmems-du.eu/motu-web/Motu\"\n",
    "\n",
    "fullPath = os.path.join(os.path.abspath('.'), out_dir, nc_name) \n",
    "print(fullPath)\n",
    "if os.path.exists(fullPath):\n",
    "    os.remove(fullPath)\n",
    "\n",
    "command = \"python -m motuclient --user \" + str(cmems_usr) + \" --pwd \" + str(cmems_passwd) +\" --motu \" + str(motu_server) + \" --service-id \" + str(dataset_id) + \" --product-id \" + str(product_id) + \" --longitude-min \" + str(lon_min) + \" --longitude-max \" + str(lon_max) + \" --latitude-min \" + str(lat_min) + \" --latitude-max \" + str(lat_max) + \" --date-min \" + str(date_min) + \" --date-max \" + str(date_max) + \" --variable \" + str(variable1) + \" --out-dir \" + str(out_dir) + \" --out-name \" + str(nc_name) + \" --depth-min \" + str(depth_min) + \" --depth-max \" + str(depth_max)\n",
    "print(\"Executing command:\")\n",
    "os.system(command)"
   ]
  }
 ],
 "metadata": {
  "kernelspec": {
   "display_name": "Python 3 (ipykernel)",
   "language": "python",
   "name": "python3"
  },
  "language_info": {
   "codemirror_mode": {
    "name": "ipython",
    "version": 3
   },
   "file_extension": ".py",
   "mimetype": "text/x-python",
   "name": "python",
   "nbconvert_exporter": "python",
   "pygments_lexer": "ipython3",
   "version": "3.8.10"
  },
  "properties": {
   "automatically_executable": false,
   "authors": [
    {
     "id": "90d02e27-9016-4f6a-8f94-db1522e9c06c",
     "name": "matej.perse+polar@sinergise.com"
    }
   ],
   "description": "Allows the download of Copernicus Marine Service data",
   "id": "ac2dd66f-d22f-4c95-bded-7a356c833c0d",
   "license": null,
   "name": "CMEMS data download",
   "requirements": [],
   "tags": [
    "Analysis-Ready Data",
    "Polar"
   ],
   "tosAgree": true,
   "type": "Jupyter Notebook",
   "version": "1.0.0"
  }
 },
 "nbformat": 4,
 "nbformat_minor": 5
}
