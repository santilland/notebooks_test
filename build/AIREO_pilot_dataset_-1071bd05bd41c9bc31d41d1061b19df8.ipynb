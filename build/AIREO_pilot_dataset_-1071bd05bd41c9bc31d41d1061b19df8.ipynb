{
  "cells": [
    {
      "cell_type": "code",
      "execution_count": 1,
      "id": "758743aa",
      "metadata": {
        "execution": {
          "iopub.execute_input": "2021-08-19T11:21:14.827347Z",
          "iopub.status.busy": "2021-08-19T11:21:14.826765Z",
          "iopub.status.idle": "2021-08-19T11:21:14.881342Z",
          "shell.execute_reply": "2021-08-19T11:21:14.880830Z"
        },
        "papermill": {
          "duration": 0.078505,
          "end_time": "2021-08-19T11:21:14.881463",
          "exception": false,
          "start_time": "2021-08-19T11:21:14.802958",
          "status": "completed"
        },
        "tags": []
      },
      "outputs": [
        {
          "data": {
            "text/html": [
              "<script type=\"text/javascript\">\n",
              "        function toggle(id) {\n",
              "            el = document.getElementById(id);\n",
              "            el.style.display = el.style.display === \"none\" ? \"block\" : \"none\";\n",
              "        }\n",
              "    </script>"
            ],
            "text/plain": [
              "<IPython.core.display.HTML object>"
            ]
          },
          "metadata": {},
          "output_type": "display_data"
        },
        {
          "data": {
            "text/html": [
              "This notebook is compatible with this base image version (user-0.24.5)."
            ],
            "text/plain": [
              "<IPython.core.display.HTML object>"
            ]
          },
          "metadata": {},
          "output_type": "display_data"
        },
        {
          "data": {
            "text/markdown": [
              "\n",
              "\n",
              "---------\n",
              "\n",
              "The following environment variables are available:\n",
              "\n",
              "* `SH_CLIENT_ID`, `SH_INSTANCE_ID`, `SH_CLIENT_NAME`, `SH_CLIENT_SECRET`\n"
            ],
            "text/plain": [
              "<IPython.core.display.Markdown object>"
            ]
          },
          "metadata": {},
          "output_type": "display_data"
        }
      ],
      "source": [
        "from edc import check_compatibility\n",
        "check_compatibility(\"user-0.24.5\", dependencies=[\"SH\"])"
      ]
    },
    {
      "cell_type": "code",
      "execution_count": 2,
      "id": "9d221b52",
      "metadata": {
        "execution": {
          "iopub.execute_input": "2021-08-19T11:21:14.923764Z",
          "iopub.status.busy": "2021-08-19T11:21:14.923226Z",
          "iopub.status.idle": "2021-08-19T11:21:23.194200Z",
          "shell.execute_reply": "2021-08-19T11:21:23.193656Z"
        },
        "papermill": {
          "duration": 8.293626,
          "end_time": "2021-08-19T11:21:23.194315",
          "exception": false,
          "start_time": "2021-08-19T11:21:14.900689",
          "status": "completed"
        },
        "tags": []
      },
      "outputs": [
        {
          "name": "stdout",
          "output_type": "stream",
          "text": [
            "Collecting git+https://github.com/aireo-project/aireo_lib\r\n",
            "  Cloning https://github.com/aireo-project/aireo_lib to /tmp/pip-req-build-2eyecpus\r\n",
            "  Running command git clone -q https://github.com/aireo-project/aireo_lib /tmp/pip-req-build-2eyecpus\r\n"
          ]
        },
        {
          "name": "stdout",
          "output_type": "stream",
          "text": [
            "  Installing build dependencies ... \u001b[?25l-"
          ]
        },
        {
          "name": "stdout",
          "output_type": "stream",
          "text": [
            "\b \b\\"
          ]
        },
        {
          "name": "stdout",
          "output_type": "stream",
          "text": [
            "\b \b|"
          ]
        },
        {
          "name": "stdout",
          "output_type": "stream",
          "text": [
            "\b \b/"
          ]
        },
        {
          "name": "stdout",
          "output_type": "stream",
          "text": [
            "\b \bdone\r\n"
          ]
        },
        {
          "name": "stdout",
          "output_type": "stream",
          "text": [
            "\u001b[?25h  Getting requirements to build wheel ... \u001b[?25l-"
          ]
        },
        {
          "name": "stdout",
          "output_type": "stream",
          "text": [
            "\b \bdone\r\n"
          ]
        },
        {
          "name": "stdout",
          "output_type": "stream",
          "text": [
            "\u001b[?25h    Preparing wheel metadata ... \u001b[?25l-"
          ]
        },
        {
          "name": "stdout",
          "output_type": "stream",
          "text": [
            "\b \bdone\r\n"
          ]
        },
        {
          "name": "stdout",
          "output_type": "stream",
          "text": [
            "\u001b[?25hRequirement already satisfied: xarray in /opt/conda/envs/eurodatacube-0.24.5/lib/python3.8/site-packages (from aireo-library==0.0.post1.dev6+gba53c4a) (0.18.0)\r\n",
            "Requirement already satisfied: matplotlib in /opt/conda/envs/eurodatacube-0.24.5/lib/python3.8/site-packages (from aireo-library==0.0.post1.dev6+gba53c4a) (3.4.2)\r\n"
          ]
        },
        {
          "name": "stdout",
          "output_type": "stream",
          "text": [
            "Collecting stac-pydantic==1.3.9\r\n"
          ]
        },
        {
          "name": "stdout",
          "output_type": "stream",
          "text": [
            "  Downloading stac_pydantic-1.3.9-py3-none-any.whl (25 kB)\r\n",
            "Requirement already satisfied: geopandas in /opt/conda/envs/eurodatacube-0.24.5/lib/python3.8/site-packages (from aireo-library==0.0.post1.dev6+gba53c4a) (0.9.0)\r\n",
            "Requirement already satisfied: numpy in /opt/conda/envs/eurodatacube-0.24.5/lib/python3.8/site-packages (from aireo-library==0.0.post1.dev6+gba53c4a) (1.20.2)\r\n",
            "Collecting pyaml\r\n",
            "  Downloading pyaml-21.8.3-py2.py3-none-any.whl (17 kB)\r\n"
          ]
        },
        {
          "name": "stdout",
          "output_type": "stream",
          "text": [
            "Collecting loguru\r\n",
            "  Downloading loguru-0.5.3-py3-none-any.whl (57 kB)\r\n",
            "\u001b[?25l\r",
            "\u001b[K     |█████▊                          | 10 kB 48.7 MB/s eta 0:00:01\r",
            "\u001b[K     |███████████▌                    | 20 kB 54.8 MB/s eta 0:00:01\r",
            "\u001b[K     |█████████████████▏              | 30 kB 65.4 MB/s eta 0:00:01\r",
            "\u001b[K     |███████████████████████         | 40 kB 73.1 MB/s eta 0:00:01\r",
            "\u001b[K     |████████████████████████████▋   | 51 kB 81.6 MB/s eta 0:00:01\r",
            "\u001b[K     |████████████████████████████████| 57 kB 15.1 MB/s \r\n"
          ]
        },
        {
          "name": "stdout",
          "output_type": "stream",
          "text": [
            "\u001b[?25hCollecting pydantic>=1.6\r\n",
            "  Downloading pydantic-1.8.2-cp38-cp38-manylinux2014_x86_64.whl (13.7 MB)\r\n",
            "\u001b[?25l\r",
            "\u001b[K     |                                | 10 kB 36.5 MB/s eta 0:00:01\r",
            "\u001b[K     |                                | 20 kB 44.1 MB/s eta 0:00:01\r",
            "\u001b[K     |                                | 30 kB 56.4 MB/s eta 0:00:01\r",
            "\u001b[K     |                                | 40 kB 65.8 MB/s eta 0:00:01\r",
            "\u001b[K     |▏                               | 51 kB 72.5 MB/s eta 0:00:01\r",
            "\u001b[K     |▏                               | 61 kB 80.5 MB/s eta 0:00:01\r",
            "\u001b[K     |▏                               | 71 kB 86.4 MB/s eta 0:00:01\r",
            "\u001b[K     |▏                               | 81 kB 92.5 MB/s eta 0:00:01\r",
            "\u001b[K     |▏                               | 92 kB 97.3 MB/s eta 0:00:01\r",
            "\u001b[K     |▎                               | 102 kB 101.6 MB/s eta 0:00:01\r",
            "\u001b[K     |▎                               | 112 kB 101.6 MB/s eta 0:00:01\r",
            "\u001b[K     |▎                               | 122 kB 101.6 MB/s eta 0:00:01\r",
            "\u001b[K     |▎                               | 133 kB 101.6 MB/s eta 0:00:01\r",
            "\u001b[K     |▍                               | 143 kB 101.6 MB/s eta 0:00:01\r",
            "\u001b[K     |▍                               | 153 kB 101.6 MB/s eta 0:00:01\r",
            "\u001b[K     |▍                               | 163 kB 101.6 MB/s eta 0:00:01\r",
            "\u001b[K     |▍                               | 174 kB 101.6 MB/s eta 0:00:01\r",
            "\u001b[K     |▍                               | 184 kB 101.6 MB/s eta 0:00:01\r",
            "\u001b[K     |▌                               | 194 kB 101.6 MB/s eta 0:00:01\r",
            "\u001b[K     |▌                               | 204 kB 101.6 MB/s eta 0:00:01\r",
            "\u001b[K     |▌                               | 215 kB 101.6 MB/s eta 0:00:01\r",
            "\u001b[K     |▌                               | 225 kB 101.6 MB/s eta 0:00:01\r",
            "\u001b[K     |▌                               | 235 kB 101.6 MB/s eta 0:00:01\r",
            "\u001b[K     |▋                               | 245 kB 101.6 MB/s eta 0:00:01\r",
            "\u001b[K     |▋                               | 256 kB 101.6 MB/s eta 0:00:01\r",
            "\u001b[K     |▋                               | 266 kB 101.6 MB/s eta 0:00:01\r",
            "\u001b[K     |▋                               | 276 kB 101.6 MB/s eta 0:00:01\r",
            "\u001b[K     |▊                               | 286 kB 101.6 MB/s eta 0:00:01\r",
            "\u001b[K     |▊                               | 296 kB 101.6 MB/s eta 0:00:01\r",
            "\u001b[K     |▊                               | 307 kB 101.6 MB/s eta 0:00:01\r",
            "\u001b[K     |▊                               | 317 kB 101.6 MB/s eta 0:00:01\r",
            "\u001b[K     |▊                               | 327 kB 101.6 MB/s eta 0:00:01\r",
            "\u001b[K     |▉                               | 337 kB 101.6 MB/s eta 0:00:01\r",
            "\u001b[K     |▉                               | 348 kB 101.6 MB/s eta 0:00:01\r",
            "\u001b[K     |▉                               | 358 kB 101.6 MB/s eta 0:00:01\r",
            "\u001b[K     |▉                               | 368 kB 101.6 MB/s eta 0:00:01\r",
            "\u001b[K     |▉                               | 378 kB 101.6 MB/s eta 0:00:01\r",
            "\u001b[K     |█                               | 389 kB 101.6 MB/s eta 0:00:01\r",
            "\u001b[K     |█                               | 399 kB 101.6 MB/s eta 0:00:01\r",
            "\u001b[K     |█                               | 409 kB 101.6 MB/s eta 0:00:01\r",
            "\u001b[K     |█                               | 419 kB 101.6 MB/s eta 0:00:01\r",
            "\u001b[K     |█                               | 430 kB 101.6 MB/s eta 0:00:01\r",
            "\u001b[K     |█                               | 440 kB 101.6 MB/s eta 0:00:01\r",
            "\u001b[K     |█                               | 450 kB 101.6 MB/s eta 0:00:01\r",
            "\u001b[K     |█                               | 460 kB 101.6 MB/s eta 0:00:01\r",
            "\u001b[K     |█                               | 471 kB 101.6 MB/s eta 0:00:01\r",
            "\u001b[K     |█▏                              | 481 kB 101.6 MB/s eta 0:00:01\r",
            "\u001b[K     |█▏                              | 491 kB 101.6 MB/s eta 0:00:01\r",
            "\u001b[K     |█▏                              | 501 kB 101.6 MB/s eta 0:00:01\r",
            "\u001b[K     |█▏                              | 512 kB 101.6 MB/s eta 0:00:01\r",
            "\u001b[K     |█▏                              | 522 kB 101.6 MB/s eta 0:00:01\r",
            "\u001b[K     |█▎                              | 532 kB 101.6 MB/s eta 0:00:01\r",
            "\u001b[K     |█▎                              | 542 kB 101.6 MB/s eta 0:00:01\r",
            "\u001b[K     |█▎                              | 552 kB 101.6 MB/s eta 0:00:01\r",
            "\u001b[K     |█▎                              | 563 kB 101.6 MB/s eta 0:00:01\r",
            "\u001b[K     |█▍                              | 573 kB 101.6 MB/s eta 0:00:01\r",
            "\u001b[K     |█▍                              | 583 kB 101.6 MB/s eta 0:00:01\r",
            "\u001b[K     |█▍                              | 593 kB 101.6 MB/s eta 0:00:01\r",
            "\u001b[K     |█▍                              | 604 kB 101.6 MB/s eta 0:00:01\r",
            "\u001b[K     |█▍                              | 614 kB 101.6 MB/s eta 0:00:01\r",
            "\u001b[K     |█▌                              | 624 kB 101.6 MB/s eta 0:00:01\r",
            "\u001b[K     |█▌                              | 634 kB 101.6 MB/s eta 0:00:01\r",
            "\u001b[K     |█▌                              | 645 kB 101.6 MB/s eta 0:00:01\r",
            "\u001b[K     |█▌                              | 655 kB 101.6 MB/s eta 0:00:01\r",
            "\u001b[K     |█▌                              | 665 kB 101.6 MB/s eta 0:00:01\r",
            "\u001b[K     |█▋                              | 675 kB 101.6 MB/s eta 0:00:01\r",
            "\u001b[K     |█▋                              | 686 kB 101.6 MB/s eta 0:00:01\r",
            "\u001b[K     |█▋                              | 696 kB 101.6 MB/s eta 0:00:01\r",
            "\u001b[K     |█▋                              | 706 kB 101.6 MB/s eta 0:00:01\r",
            "\u001b[K     |█▊                              | 716 kB 101.6 MB/s eta 0:00:01\r",
            "\u001b[K     |█▊                              | 727 kB 101.6 MB/s eta 0:00:01\r",
            "\u001b[K     |█▊                              | 737 kB 101.6 MB/s eta 0:00:01\r",
            "\u001b[K     |█▊                              | 747 kB 101.6 MB/s eta 0:00:01\r",
            "\u001b[K     |█▊                              | 757 kB 101.6 MB/s eta 0:00:01\r",
            "\u001b[K     |█▉                              | 768 kB 101.6 MB/s eta 0:00:01\r",
            "\u001b[K     |█▉                              | 778 kB 101.6 MB/s eta 0:00:01\r",
            "\u001b[K     |█▉                              | 788 kB 101.6 MB/s eta 0:00:01\r",
            "\u001b[K     |█▉                              | 798 kB 101.6 MB/s eta 0:00:01\r",
            "\u001b[K     |██                              | 808 kB 101.6 MB/s eta 0:00:01\r",
            "\u001b[K     |██                              | 819 kB 101.6 MB/s eta 0:00:01\r",
            "\u001b[K     |██                              | 829 kB 101.6 MB/s eta 0:00:01\r",
            "\u001b[K     |██                              | 839 kB 101.6 MB/s eta 0:00:01\r",
            "\u001b[K     |██                              | 849 kB 101.6 MB/s eta 0:00:01\r",
            "\u001b[K     |██                              | 860 kB 101.6 MB/s eta 0:00:01\r",
            "\u001b[K     |██                              | 870 kB 101.6 MB/s eta 0:00:01\r",
            "\u001b[K     |██                              | 880 kB 101.6 MB/s eta 0:00:01\r",
            "\u001b[K     |██                              | 890 kB 101.6 MB/s eta 0:00:01\r",
            "\u001b[K     |██                              | 901 kB 101.6 MB/s eta 0:00:01\r",
            "\u001b[K     |██▏                             | 911 kB 101.6 MB/s eta 0:00:01\r",
            "\u001b[K     |██▏                             | 921 kB 101.6 MB/s eta 0:00:01\r",
            "\u001b[K     |██▏                             | 931 kB 101.6 MB/s eta 0:00:01\r",
            "\u001b[K     |██▏                             | 942 kB 101.6 MB/s eta 0:00:01\r",
            "\u001b[K     |██▎                             | 952 kB 101.6 MB/s eta 0:00:01\r",
            "\u001b[K     |██▎                             | 962 kB 101.6 MB/s eta 0:00:01\r",
            "\u001b[K     |██▎                             | 972 kB 101.6 MB/s eta 0:00:01\r",
            "\u001b[K     |██▎                             | 983 kB 101.6 MB/s eta 0:00:01\r",
            "\u001b[K     |██▎                             | 993 kB 101.6 MB/s eta 0:00:01\r",
            "\u001b[K     |██▍                             | 1.0 MB 101.6 MB/s eta 0:00:01\r",
            "\u001b[K     |██▍                             | 1.0 MB 101.6 MB/s eta 0:00:01\r",
            "\u001b[K     |██▍                             | 1.0 MB 101.6 MB/s eta 0:00:01\r",
            "\u001b[K     |██▍                             | 1.0 MB 101.6 MB/s eta 0:00:01\r",
            "\u001b[K     |██▍                             | 1.0 MB 101.6 MB/s eta 0:00:01\r",
            "\u001b[K     |██▌                             | 1.1 MB 101.6 MB/s eta 0:00:01\r",
            "\u001b[K     |██▌                             | 1.1 MB 101.6 MB/s eta 0:00:01\r",
            "\u001b[K     |██▌                             | 1.1 MB 101.6 MB/s eta 0:00:01\r",
            "\u001b[K     |██▌                             | 1.1 MB 101.6 MB/s eta 0:00:01\r",
            "\u001b[K     |██▋                             | 1.1 MB 101.6 MB/s eta 0:00:01\r",
            "\u001b[K     |██▋                             | 1.1 MB 101.6 MB/s eta 0:00:01\r",
            "\u001b[K     |██▋                             | 1.1 MB 101.6 MB/s eta 0:00:01\r",
            "\u001b[K     |██▋                             | 1.1 MB 101.6 MB/s eta 0:00:01\r",
            "\u001b[K     |██▋                             | 1.1 MB 101.6 MB/s eta 0:00:01\r",
            "\u001b[K     |██▊                             | 1.1 MB 101.6 MB/s eta 0:00:01\r",
            "\u001b[K     |██▊                             | 1.2 MB 101.6 MB/s eta 0:00:01\r",
            "\u001b[K     |██▊                             | 1.2 MB 101.6 MB/s eta 0:00:01\r",
            "\u001b[K     |██▊                             | 1.2 MB 101.6 MB/s eta 0:00:01\r",
            "\u001b[K     |██▊                             | 1.2 MB 101.6 MB/s eta 0:00:01\r",
            "\u001b[K     |██▉                             | 1.2 MB 101.6 MB/s eta 0:00:01\r",
            "\u001b[K     |██▉                             | 1.2 MB 101.6 MB/s eta 0:00:01\r",
            "\u001b[K     |██▉                             | 1.2 MB 101.6 MB/s eta 0:00:01\r",
            "\u001b[K     |██▉                             | 1.2 MB 101.6 MB/s eta 0:00:01\r",
            "\u001b[K     |███                             | 1.2 MB 101.6 MB/s eta 0:00:01\r",
            "\u001b[K     |███                             | 1.2 MB 101.6 MB/s eta 0:00:01\r",
            "\u001b[K     |███                             | 1.3 MB 101.6 MB/s eta 0:00:01\r",
            "\u001b[K     |███                             | 1.3 MB 101.6 MB/s eta 0:00:01\r",
            "\u001b[K     |███                             | 1.3 MB 101.6 MB/s eta 0:00:01\r",
            "\u001b[K     |███                             | 1.3 MB 101.6 MB/s eta 0:00:01\r",
            "\u001b[K     |███                             | 1.3 MB 101.6 MB/s eta 0:00:01\r",
            "\u001b[K     |███                             | 1.3 MB 101.6 MB/s eta 0:00:01\r",
            "\u001b[K     |███                             | 1.3 MB 101.6 MB/s eta 0:00:01\r",
            "\u001b[K     |███                             | 1.3 MB 101.6 MB/s eta 0:00:01\r",
            "\u001b[K     |███▏                            | 1.3 MB 101.6 MB/s eta 0:00:01\r",
            "\u001b[K     |███▏                            | 1.4 MB 101.6 MB/s eta 0:00:01\r",
            "\u001b[K     |███▏                            | 1.4 MB 101.6 MB/s eta 0:00:01\r",
            "\u001b[K     |███▏                            | 1.4 MB 101.6 MB/s eta 0:00:01\r",
            "\u001b[K     |███▎                            | 1.4 MB 101.6 MB/s eta 0:00:01\r",
            "\u001b[K     |███▎                            | 1.4 MB 101.6 MB/s eta 0:00:01\r",
            "\u001b[K     |███▎                            | 1.4 MB 101.6 MB/s eta 0:00:01\r",
            "\u001b[K     |███▎                            | 1.4 MB 101.6 MB/s eta 0:00:01\r",
            "\u001b[K     |███▎                            | 1.4 MB 101.6 MB/s eta 0:00:01\r",
            "\u001b[K     |███▍                            | 1.4 MB 101.6 MB/s eta 0:00:01\r",
            "\u001b[K     |███▍                            | 1.4 MB 101.6 MB/s eta 0:00:01\r",
            "\u001b[K     |███▍                            | 1.5 MB 101.6 MB/s eta 0:00:01\r",
            "\u001b[K     |███▍                            | 1.5 MB 101.6 MB/s eta 0:00:01\r",
            "\u001b[K     |███▍                            | 1.5 MB 101.6 MB/s eta 0:00:01\r",
            "\u001b[K     |███▌                            | 1.5 MB 101.6 MB/s eta 0:00:01\r",
            "\u001b[K     |███▌                            | 1.5 MB 101.6 MB/s eta 0:00:01\r",
            "\u001b[K     |███▌                            | 1.5 MB 101.6 MB/s eta 0:00:01\r",
            "\u001b[K     |███▌                            | 1.5 MB 101.6 MB/s eta 0:00:01\r",
            "\u001b[K     |███▋                            | 1.5 MB 101.6 MB/s eta 0:00:01\r",
            "\u001b[K     |███▋                            | 1.5 MB 101.6 MB/s eta 0:00:01\r",
            "\u001b[K     |███▋                            | 1.5 MB 101.6 MB/s eta 0:00:01\r",
            "\u001b[K     |███▋                            | 1.6 MB 101.6 MB/s eta 0:00:01\r",
            "\u001b[K     |███▋                            | 1.6 MB 101.6 MB/s eta 0:00:01\r",
            "\u001b[K     |███▊                            | 1.6 MB 101.6 MB/s eta 0:00:01\r",
            "\u001b[K     |███▊                            | 1.6 MB 101.6 MB/s eta 0:00:01\r",
            "\u001b[K     |███▊                            | 1.6 MB 101.6 MB/s eta 0:00:01\r",
            "\u001b[K     |███▊                            | 1.6 MB 101.6 MB/s eta 0:00:01\r",
            "\u001b[K     |███▉                            | 1.6 MB 101.6 MB/s eta 0:00:01\r",
            "\u001b[K     |███▉                            | 1.6 MB 101.6 MB/s eta 0:00:01\r",
            "\u001b[K     |███▉                            | 1.6 MB 101.6 MB/s eta 0:00:01\r",
            "\u001b[K     |███▉                            | 1.6 MB 101.6 MB/s eta 0:00:01\r",
            "\u001b[K     |███▉                            | 1.7 MB 101.6 MB/s eta 0:00:01\r",
            "\u001b[K     |████                            | 1.7 MB 101.6 MB/s eta 0:00:01\r",
            "\u001b[K     |████                            | 1.7 MB 101.6 MB/s eta 0:00:01\r",
            "\u001b[K     |████                            | 1.7 MB 101.6 MB/s eta 0:00:01\r",
            "\u001b[K     |████                            | 1.7 MB 101.6 MB/s eta 0:00:01\r",
            "\u001b[K     |████                            | 1.7 MB 101.6 MB/s eta 0:00:01\r",
            "\u001b[K     |████                            | 1.7 MB 101.6 MB/s eta 0:00:01\r",
            "\u001b[K     |████                            | 1.7 MB 101.6 MB/s eta 0:00:01\r",
            "\u001b[K     |████                            | 1.7 MB 101.6 MB/s eta 0:00:01\r",
            "\u001b[K     |████                            | 1.8 MB 101.6 MB/s eta 0:00:01\r",
            "\u001b[K     |████▏                           | 1.8 MB 101.6 MB/s eta 0:00:01\r",
            "\u001b[K     |████▏                           | 1.8 MB 101.6 MB/s eta 0:00:01\r",
            "\u001b[K     |████▏                           | 1.8 MB 101.6 MB/s eta 0:00:01\r",
            "\u001b[K     |████▏                           | 1.8 MB 101.6 MB/s eta 0:00:01\r",
            "\u001b[K     |████▏                           | 1.8 MB 101.6 MB/s eta 0:00:01\r",
            "\u001b[K     |████▎                           | 1.8 MB 101.6 MB/s eta 0:00:01\r",
            "\u001b[K     |████▎                           | 1.8 MB 101.6 MB/s eta 0:00:01\r",
            "\u001b[K     |████▎                           | 1.8 MB 101.6 MB/s eta 0:00:01\r",
            "\u001b[K     |████▎                           | 1.8 MB 101.6 MB/s eta 0:00:01\r",
            "\u001b[K     |████▎                           | 1.9 MB 101.6 MB/s eta 0:00:01\r",
            "\u001b[K     |████▍                           | 1.9 MB 101.6 MB/s eta 0:00:01\r",
            "\u001b[K     |████▍                           | 1.9 MB 101.6 MB/s eta 0:00:01\r",
            "\u001b[K     |████▍                           | 1.9 MB 101.6 MB/s eta 0:00:01\r",
            "\u001b[K     |████▍                           | 1.9 MB 101.6 MB/s eta 0:00:01\r",
            "\u001b[K     |████▌                           | 1.9 MB 101.6 MB/s eta 0:00:01\r",
            "\u001b[K     |████▌                           | 1.9 MB 101.6 MB/s eta 0:00:01\r",
            "\u001b[K     |████▌                           | 1.9 MB 101.6 MB/s eta 0:00:01\r",
            "\u001b[K     |████▌                           | 1.9 MB 101.6 MB/s eta 0:00:01\r",
            "\u001b[K     |████▌                           | 1.9 MB 101.6 MB/s eta 0:00:01\r",
            "\u001b[K     |████▋                           | 2.0 MB 101.6 MB/s eta 0:00:01\r",
            "\u001b[K     |████▋                           | 2.0 MB 101.6 MB/s eta 0:00:01\r",
            "\u001b[K     |████▋                           | 2.0 MB 101.6 MB/s eta 0:00:01\r",
            "\u001b[K     |████▋                           | 2.0 MB 101.6 MB/s eta 0:00:01\r",
            "\u001b[K     |████▋                           | 2.0 MB 101.6 MB/s eta 0:00:01\r",
            "\u001b[K     |████▊                           | 2.0 MB 101.6 MB/s eta 0:00:01\r",
            "\u001b[K     |████▊                           | 2.0 MB 101.6 MB/s eta 0:00:01\r",
            "\u001b[K     |████▊                           | 2.0 MB 101.6 MB/s eta 0:00:01\r",
            "\u001b[K     |████▊                           | 2.0 MB 101.6 MB/s eta 0:00:01\r",
            "\u001b[K     |████▉                           | 2.0 MB 101.6 MB/s eta 0:00:01\r",
            "\u001b[K     |████▉                           | 2.1 MB 101.6 MB/s eta 0:00:01\r",
            "\u001b[K     |████▉                           | 2.1 MB 101.6 MB/s eta 0:00:01\r",
            "\u001b[K     |████▉                           | 2.1 MB 101.6 MB/s eta 0:00:01\r",
            "\u001b[K     |████▉                           | 2.1 MB 101.6 MB/s eta 0:00:01\r",
            "\u001b[K     |█████                           | 2.1 MB 101.6 MB/s eta 0:00:01\r",
            "\u001b[K     |█████                           | 2.1 MB 101.6 MB/s eta 0:00:01\r",
            "\u001b[K     |█████                           | 2.1 MB 101.6 MB/s eta 0:00:01\r",
            "\u001b[K     |█████                           | 2.1 MB 101.6 MB/s eta 0:00:01\r",
            "\u001b[K     |█████                           | 2.1 MB 101.6 MB/s eta 0:00:01\r",
            "\u001b[K     |█████                           | 2.2 MB 101.6 MB/s eta 0:00:01\r",
            "\u001b[K     |█████                           | 2.2 MB 101.6 MB/s eta 0:00:01\r",
            "\u001b[K     |█████                           | 2.2 MB 101.6 MB/s eta 0:00:01\r",
            "\u001b[K     |█████                           | 2.2 MB 101.6 MB/s eta 0:00:01\r",
            "\u001b[K     |█████▏                          | 2.2 MB 101.6 MB/s eta 0:00:01\r",
            "\u001b[K     |█████▏                          | 2.2 MB 101.6 MB/s eta 0:00:01\r",
            "\u001b[K     |█████▏                          | 2.2 MB 101.6 MB/s eta 0:00:01\r",
            "\u001b[K     |█████▏                          | 2.2 MB 101.6 MB/s eta 0:00:01\r",
            "\u001b[K     |█████▏                          | 2.2 MB 101.6 MB/s eta 0:00:01\r",
            "\u001b[K     |█████▎                          | 2.2 MB 101.6 MB/s eta 0:00:01\r",
            "\u001b[K     |█████▎                          | 2.3 MB 101.6 MB/s eta 0:00:01\r",
            "\u001b[K     |█████▎                          | 2.3 MB 101.6 MB/s eta 0:00:01\r",
            "\u001b[K     |█████▎                          | 2.3 MB 101.6 MB/s eta 0:00:01\r",
            "\u001b[K     |█████▎                          | 2.3 MB 101.6 MB/s eta 0:00:01\r",
            "\u001b[K     |█████▍                          | 2.3 MB 101.6 MB/s eta 0:00:01\r",
            "\u001b[K     |█████▍                          | 2.3 MB 101.6 MB/s eta 0:00:01\r",
            "\u001b[K     |█████▍                          | 2.3 MB 101.6 MB/s eta 0:00:01\r",
            "\u001b[K     |█████▍                          | 2.3 MB 101.6 MB/s eta 0:00:01\r",
            "\u001b[K     |█████▌                          | 2.3 MB 101.6 MB/s eta 0:00:01\r",
            "\u001b[K     |█████▌                          | 2.3 MB 101.6 MB/s eta 0:00:01\r",
            "\u001b[K     |█████▌                          | 2.4 MB 101.6 MB/s eta 0:00:01\r",
            "\u001b[K     |█████▌                          | 2.4 MB 101.6 MB/s eta 0:00:01\r",
            "\u001b[K     |█████▌                          | 2.4 MB 101.6 MB/s eta 0:00:01\r",
            "\u001b[K     |█████▋                          | 2.4 MB 101.6 MB/s eta 0:00:01\r",
            "\u001b[K     |█████▋                          | 2.4 MB 101.6 MB/s eta 0:00:01\r",
            "\u001b[K     |█████▋                          | 2.4 MB 101.6 MB/s eta 0:00:01\r",
            "\u001b[K     |█████▋                          | 2.4 MB 101.6 MB/s eta 0:00:01\r",
            "\u001b[K     |█████▊                          | 2.4 MB 101.6 MB/s eta 0:00:01\r",
            "\u001b[K     |█████▊                          | 2.4 MB 101.6 MB/s eta 0:00:01\r",
            "\u001b[K     |█████▊                          | 2.4 MB 101.6 MB/s eta 0:00:01\r",
            "\u001b[K     |█████▊                          | 2.5 MB 101.6 MB/s eta 0:00:01\r",
            "\u001b[K     |█████▊                          | 2.5 MB 101.6 MB/s eta 0:00:01\r",
            "\u001b[K     |█████▉                          | 2.5 MB 101.6 MB/s eta 0:00:01\r",
            "\u001b[K     |█████▉                          | 2.5 MB 101.6 MB/s eta 0:00:01\r",
            "\u001b[K     |█████▉                          | 2.5 MB 101.6 MB/s eta 0:00:01\r",
            "\u001b[K     |█████▉                          | 2.5 MB 101.6 MB/s eta 0:00:01\r",
            "\u001b[K     |█████▉                          | 2.5 MB 101.6 MB/s eta 0:00:01\r",
            "\u001b[K     |██████                          | 2.5 MB 101.6 MB/s eta 0:00:01\r",
            "\u001b[K     |██████                          | 2.5 MB 101.6 MB/s eta 0:00:01\r",
            "\u001b[K     |██████                          | 2.5 MB 101.6 MB/s eta 0:00:01\r",
            "\u001b[K     |██████                          | 2.6 MB 101.6 MB/s eta 0:00:01\r",
            "\u001b[K     |██████                          | 2.6 MB 101.6 MB/s eta 0:00:01\r",
            "\u001b[K     |██████                          | 2.6 MB 101.6 MB/s eta 0:00:01\r",
            "\u001b[K     |██████                          | 2.6 MB 101.6 MB/s eta 0:00:01\r",
            "\u001b[K     |██████                          | 2.6 MB 101.6 MB/s eta 0:00:01\r",
            "\u001b[K     |██████                          | 2.6 MB 101.6 MB/s eta 0:00:01\r",
            "\u001b[K     |██████▏                         | 2.6 MB 101.6 MB/s eta 0:00:01\r",
            "\u001b[K     |██████▏                         | 2.6 MB 101.6 MB/s eta 0:00:01\r",
            "\u001b[K     |██████▏                         | 2.6 MB 101.6 MB/s eta 0:00:01\r",
            "\u001b[K     |██████▏                         | 2.7 MB 101.6 MB/s eta 0:00:01\r",
            "\u001b[K     |██████▏                         | 2.7 MB 101.6 MB/s eta 0:00:01\r",
            "\u001b[K     |██████▎                         | 2.7 MB 101.6 MB/s eta 0:00:01\r",
            "\u001b[K     |██████▎                         | 2.7 MB 101.6 MB/s eta 0:00:01\r",
            "\u001b[K     |██████▎                         | 2.7 MB 101.6 MB/s eta 0:00:01\r",
            "\u001b[K     |██████▎                         | 2.7 MB 101.6 MB/s eta 0:00:01\r",
            "\u001b[K     |██████▍                         | 2.7 MB 101.6 MB/s eta 0:00:01\r",
            "\u001b[K     |██████▍                         | 2.7 MB 101.6 MB/s eta 0:00:01\r",
            "\u001b[K     |██████▍                         | 2.7 MB 101.6 MB/s eta 0:00:01\r",
            "\u001b[K     |██████▍                         | 2.7 MB 101.6 MB/s eta 0:00:01\r",
            "\u001b[K     |██████▍                         | 2.8 MB 101.6 MB/s eta 0:00:01\r",
            "\u001b[K     |██████▌                         | 2.8 MB 101.6 MB/s eta 0:00:01\r",
            "\u001b[K     |██████▌                         | 2.8 MB 101.6 MB/s eta 0:00:01\r",
            "\u001b[K     |██████▌                         | 2.8 MB 101.6 MB/s eta 0:00:01\r",
            "\u001b[K     |██████▌                         | 2.8 MB 101.6 MB/s eta 0:00:01\r",
            "\u001b[K     |██████▌                         | 2.8 MB 101.6 MB/s eta 0:00:01\r",
            "\u001b[K     |██████▋                         | 2.8 MB 101.6 MB/s eta 0:00:01\r",
            "\u001b[K     |██████▋                         | 2.8 MB 101.6 MB/s eta 0:00:01\r",
            "\u001b[K     |██████▋                         | 2.8 MB 101.6 MB/s eta 0:00:01\r",
            "\u001b[K     |██████▋                         | 2.8 MB 101.6 MB/s eta 0:00:01\r",
            "\u001b[K     |██████▊                         | 2.9 MB 101.6 MB/s eta 0:00:01\r",
            "\u001b[K     |██████▊                         | 2.9 MB 101.6 MB/s eta 0:00:01\r",
            "\u001b[K     |██████▊                         | 2.9 MB 101.6 MB/s eta 0:00:01\r",
            "\u001b[K     |██████▊                         | 2.9 MB 101.6 MB/s eta 0:00:01\r",
            "\u001b[K     |██████▊                         | 2.9 MB 101.6 MB/s eta 0:00:01\r",
            "\u001b[K     |██████▉                         | 2.9 MB 101.6 MB/s eta 0:00:01\r",
            "\u001b[K     |██████▉                         | 2.9 MB 101.6 MB/s eta 0:00:01\r",
            "\u001b[K     |██████▉                         | 2.9 MB 101.6 MB/s eta 0:00:01\r",
            "\u001b[K     |██████▉                         | 2.9 MB 101.6 MB/s eta 0:00:01\r",
            "\u001b[K     |██████▉                         | 2.9 MB 101.6 MB/s eta 0:00:01\r",
            "\u001b[K     |███████                         | 3.0 MB 101.6 MB/s eta 0:00:01\r",
            "\u001b[K     |███████                         | 3.0 MB 101.6 MB/s eta 0:00:01\r",
            "\u001b[K     |███████                         | 3.0 MB 101.6 MB/s eta 0:00:01\r",
            "\u001b[K     |███████                         | 3.0 MB 101.6 MB/s eta 0:00:01\r",
            "\u001b[K     |███████                         | 3.0 MB 101.6 MB/s eta 0:00:01\r",
            "\u001b[K     |███████                         | 3.0 MB 101.6 MB/s eta 0:00:01\r",
            "\u001b[K     |███████                         | 3.0 MB 101.6 MB/s eta 0:00:01\r",
            "\u001b[K     |███████                         | 3.0 MB 101.6 MB/s eta 0:00:01\r",
            "\u001b[K     |███████                         | 3.0 MB 101.6 MB/s eta 0:00:01\r",
            "\u001b[K     |███████▏                        | 3.1 MB 101.6 MB/s eta 0:00:01\r",
            "\u001b[K     |███████▏                        | 3.1 MB 101.6 MB/s eta 0:00:01\r",
            "\u001b[K     |███████▏                        | 3.1 MB 101.6 MB/s eta 0:00:01\r",
            "\u001b[K     |███████▏                        | 3.1 MB 101.6 MB/s eta 0:00:01\r",
            "\u001b[K     |███████▏                        | 3.1 MB 101.6 MB/s eta 0:00:01\r",
            "\u001b[K     |███████▎                        | 3.1 MB 101.6 MB/s eta 0:00:01\r",
            "\u001b[K     |███████▎                        | 3.1 MB 101.6 MB/s eta 0:00:01\r",
            "\u001b[K     |███████▎                        | 3.1 MB 101.6 MB/s eta 0:00:01\r",
            "\u001b[K     |███████▎                        | 3.1 MB 101.6 MB/s eta 0:00:01\r",
            "\u001b[K     |███████▍                        | 3.1 MB 101.6 MB/s eta 0:00:01\r",
            "\u001b[K     |███████▍                        | 3.2 MB 101.6 MB/s eta 0:00:01\r",
            "\u001b[K     |███████▍                        | 3.2 MB 101.6 MB/s eta 0:00:01\r",
            "\u001b[K     |███████▍                        | 3.2 MB 101.6 MB/s eta 0:00:01\r",
            "\u001b[K     |███████▍                        | 3.2 MB 101.6 MB/s eta 0:00:01\r",
            "\u001b[K     |███████▌                        | 3.2 MB 101.6 MB/s eta 0:00:01\r",
            "\u001b[K     |███████▌                        | 3.2 MB 101.6 MB/s eta 0:00:01\r",
            "\u001b[K     |███████▌                        | 3.2 MB 101.6 MB/s eta 0:00:01\r",
            "\u001b[K     |███████▌                        | 3.2 MB 101.6 MB/s eta 0:00:01\r",
            "\u001b[K     |███████▋                        | 3.2 MB 101.6 MB/s eta 0:00:01\r",
            "\u001b[K     |███████▋                        | 3.2 MB 101.6 MB/s eta 0:00:01\r",
            "\u001b[K     |███████▋                        | 3.3 MB 101.6 MB/s eta 0:00:01\r",
            "\u001b[K     |███████▋                        | 3.3 MB 101.6 MB/s eta 0:00:01\r",
            "\u001b[K     |███████▋                        | 3.3 MB 101.6 MB/s eta 0:00:01\r",
            "\u001b[K     |███████▊                        | 3.3 MB 101.6 MB/s eta 0:00:01\r",
            "\u001b[K     |███████▊                        | 3.3 MB 101.6 MB/s eta 0:00:01\r",
            "\u001b[K     |███████▊                        | 3.3 MB 101.6 MB/s eta 0:00:01\r",
            "\u001b[K     |███████▊                        | 3.3 MB 101.6 MB/s eta 0:00:01\r",
            "\u001b[K     |███████▊                        | 3.3 MB 101.6 MB/s eta 0:00:01\r",
            "\u001b[K     |███████▉                        | 3.3 MB 101.6 MB/s eta 0:00:01\r",
            "\u001b[K     |███████▉                        | 3.3 MB 101.6 MB/s eta 0:00:01\r",
            "\u001b[K     |███████▉                        | 3.4 MB 101.6 MB/s eta 0:00:01\r",
            "\u001b[K     |███████▉                        | 3.4 MB 101.6 MB/s eta 0:00:01\r",
            "\u001b[K     |████████                        | 3.4 MB 101.6 MB/s eta 0:00:01\r",
            "\u001b[K     |████████                        | 3.4 MB 101.6 MB/s eta 0:00:01\r",
            "\u001b[K     |████████                        | 3.4 MB 101.6 MB/s eta 0:00:01\r",
            "\u001b[K     |████████                        | 3.4 MB 101.6 MB/s eta 0:00:01\r",
            "\u001b[K     |████████                        | 3.4 MB 101.6 MB/s eta 0:00:01\r",
            "\u001b[K     |████████                        | 3.4 MB 101.6 MB/s eta 0:00:01\r",
            "\u001b[K     |████████                        | 3.4 MB 101.6 MB/s eta 0:00:01\r",
            "\u001b[K     |████████                        | 3.5 MB 101.6 MB/s eta 0:00:01\r",
            "\u001b[K     |████████                        | 3.5 MB 101.6 MB/s eta 0:00:01\r",
            "\u001b[K     |████████                        | 3.5 MB 101.6 MB/s eta 0:00:01\r",
            "\u001b[K     |████████▏                       | 3.5 MB 101.6 MB/s eta 0:00:01\r",
            "\u001b[K     |████████▏                       | 3.5 MB 101.6 MB/s eta 0:00:01\r",
            "\u001b[K     |████████▏                       | 3.5 MB 101.6 MB/s eta 0:00:01\r",
            "\u001b[K     |████████▏                       | 3.5 MB 101.6 MB/s eta 0:00:01\r",
            "\u001b[K     |████████▎                       | 3.5 MB 101.6 MB/s eta 0:00:01\r",
            "\u001b[K     |████████▎                       | 3.5 MB 101.6 MB/s eta 0:00:01\r",
            "\u001b[K     |████████▎                       | 3.5 MB 101.6 MB/s eta 0:00:01\r",
            "\u001b[K     |████████▎                       | 3.6 MB 101.6 MB/s eta 0:00:01\r",
            "\u001b[K     |████████▎                       | 3.6 MB 101.6 MB/s eta 0:00:01\r",
            "\u001b[K     |████████▍                       | 3.6 MB 101.6 MB/s eta 0:00:01\r",
            "\u001b[K     |████████▍                       | 3.6 MB 101.6 MB/s eta 0:00:01\r",
            "\u001b[K     |████████▍                       | 3.6 MB 101.6 MB/s eta 0:00:01\r",
            "\u001b[K     |████████▍                       | 3.6 MB 101.6 MB/s eta 0:00:01\r",
            "\u001b[K     |████████▍                       | 3.6 MB 101.6 MB/s eta 0:00:01\r",
            "\u001b[K     |████████▌                       | 3.6 MB 101.6 MB/s eta 0:00:01\r",
            "\u001b[K     |████████▌                       | 3.6 MB 101.6 MB/s eta 0:00:01\r",
            "\u001b[K     |████████▌                       | 3.6 MB 101.6 MB/s eta 0:00:01\r",
            "\u001b[K     |████████▌                       | 3.7 MB 101.6 MB/s eta 0:00:01\r",
            "\u001b[K     |████████▋                       | 3.7 MB 101.6 MB/s eta 0:00:01\r",
            "\u001b[K     |████████▋                       | 3.7 MB 101.6 MB/s eta 0:00:01\r",
            "\u001b[K     |████████▋                       | 3.7 MB 101.6 MB/s eta 0:00:01\r",
            "\u001b[K     |████████▋                       | 3.7 MB 101.6 MB/s eta 0:00:01\r",
            "\u001b[K     |████████▋                       | 3.7 MB 101.6 MB/s eta 0:00:01\r",
            "\u001b[K     |████████▊                       | 3.7 MB 101.6 MB/s eta 0:00:01\r",
            "\u001b[K     |████████▊                       | 3.7 MB 101.6 MB/s eta 0:00:01\r",
            "\u001b[K     |████████▊                       | 3.7 MB 101.6 MB/s eta 0:00:01\r",
            "\u001b[K     |████████▊                       | 3.7 MB 101.6 MB/s eta 0:00:01\r",
            "\u001b[K     |████████▊                       | 3.8 MB 101.6 MB/s eta 0:00:01\r",
            "\u001b[K     |████████▉                       | 3.8 MB 101.6 MB/s eta 0:00:01\r",
            "\u001b[K     |████████▉                       | 3.8 MB 101.6 MB/s eta 0:00:01\r",
            "\u001b[K     |████████▉                       | 3.8 MB 101.6 MB/s eta 0:00:01\r",
            "\u001b[K     |████████▉                       | 3.8 MB 101.6 MB/s eta 0:00:01\r",
            "\u001b[K     |█████████                       | 3.8 MB 101.6 MB/s eta 0:00:01\r",
            "\u001b[K     |█████████                       | 3.8 MB 101.6 MB/s eta 0:00:01\r",
            "\u001b[K     |█████████                       | 3.8 MB 101.6 MB/s eta 0:00:01\r",
            "\u001b[K     |█████████                       | 3.8 MB 101.6 MB/s eta 0:00:01\r",
            "\u001b[K     |█████████                       | 3.9 MB 101.6 MB/s eta 0:00:01\r",
            "\u001b[K     |█████████                       | 3.9 MB 101.6 MB/s eta 0:00:01\r",
            "\u001b[K     |█████████                       | 3.9 MB 101.6 MB/s eta 0:00:01\r",
            "\u001b[K     |█████████                       | 3.9 MB 101.6 MB/s eta 0:00:01\r",
            "\u001b[K     |█████████                       | 3.9 MB 101.6 MB/s eta 0:00:01\r",
            "\u001b[K     |█████████▏                      | 3.9 MB 101.6 MB/s eta 0:00:01\r",
            "\u001b[K     |█████████▏                      | 3.9 MB 101.6 MB/s eta 0:00:01\r",
            "\u001b[K     |█████████▏                      | 3.9 MB 101.6 MB/s eta 0:00:01\r",
            "\u001b[K     |█████████▏                      | 3.9 MB 101.6 MB/s eta 0:00:01\r",
            "\u001b[K     |█████████▏                      | 3.9 MB 101.6 MB/s eta 0:00:01\r",
            "\u001b[K     |█████████▎                      | 4.0 MB 101.6 MB/s eta 0:00:01\r",
            "\u001b[K     |█████████▎                      | 4.0 MB 101.6 MB/s eta 0:00:01\r",
            "\u001b[K     |█████████▎                      | 4.0 MB 101.6 MB/s eta 0:00:01\r",
            "\u001b[K     |█████████▎                      | 4.0 MB 101.6 MB/s eta 0:00:01\r",
            "\u001b[K     |█████████▎                      | 4.0 MB 101.6 MB/s eta 0:00:01\r",
            "\u001b[K     |█████████▍                      | 4.0 MB 101.6 MB/s eta 0:00:01\r",
            "\u001b[K     |█████████▍                      | 4.0 MB 101.6 MB/s eta 0:00:01\r",
            "\u001b[K     |█████████▍                      | 4.0 MB 101.6 MB/s eta 0:00:01\r",
            "\u001b[K     |█████████▍                      | 4.0 MB 101.6 MB/s eta 0:00:01\r",
            "\u001b[K     |█████████▌                      | 4.0 MB 101.6 MB/s eta 0:00:01\r",
            "\u001b[K     |█████████▌                      | 4.1 MB 101.6 MB/s eta 0:00:01\r",
            "\u001b[K     |█████████▌                      | 4.1 MB 101.6 MB/s eta 0:00:01\r",
            "\u001b[K     |█████████▌                      | 4.1 MB 101.6 MB/s eta 0:00:01\r",
            "\u001b[K     |█████████▌                      | 4.1 MB 101.6 MB/s eta 0:00:01\r",
            "\u001b[K     |█████████▋                      | 4.1 MB 101.6 MB/s eta 0:00:01\r",
            "\u001b[K     |█████████▋                      | 4.1 MB 101.6 MB/s eta 0:00:01\r",
            "\u001b[K     |█████████▋                      | 4.1 MB 101.6 MB/s eta 0:00:01\r",
            "\u001b[K     |█████████▋                      | 4.1 MB 101.6 MB/s eta 0:00:01\r",
            "\u001b[K     |█████████▋                      | 4.1 MB 101.6 MB/s eta 0:00:01\r",
            "\u001b[K     |█████████▊                      | 4.1 MB 101.6 MB/s eta 0:00:01\r",
            "\u001b[K     |█████████▊                      | 4.2 MB 101.6 MB/s eta 0:00:01\r",
            "\u001b[K     |█████████▊                      | 4.2 MB 101.6 MB/s eta 0:00:01\r",
            "\u001b[K     |█████████▊                      | 4.2 MB 101.6 MB/s eta 0:00:01\r",
            "\u001b[K     |█████████▉                      | 4.2 MB 101.6 MB/s eta 0:00:01\r",
            "\u001b[K     |█████████▉                      | 4.2 MB 101.6 MB/s eta 0:00:01\r",
            "\u001b[K     |█████████▉                      | 4.2 MB 101.6 MB/s eta 0:00:01\r",
            "\u001b[K     |█████████▉                      | 4.2 MB 101.6 MB/s eta 0:00:01\r",
            "\u001b[K     |█████████▉                      | 4.2 MB 101.6 MB/s eta 0:00:01\r",
            "\u001b[K     |██████████                      | 4.2 MB 101.6 MB/s eta 0:00:01\r",
            "\u001b[K     |██████████                      | 4.2 MB 101.6 MB/s eta 0:00:01\r",
            "\u001b[K     |██████████                      | 4.3 MB 101.6 MB/s eta 0:00:01\r",
            "\u001b[K     |██████████                      | 4.3 MB 101.6 MB/s eta 0:00:01\r",
            "\u001b[K     |██████████                      | 4.3 MB 101.6 MB/s eta 0:00:01\r",
            "\u001b[K     |██████████                      | 4.3 MB 101.6 MB/s eta 0:00:01\r",
            "\u001b[K     |██████████                      | 4.3 MB 101.6 MB/s eta 0:00:01\r",
            "\u001b[K     |██████████                      | 4.3 MB 101.6 MB/s eta 0:00:01\r",
            "\u001b[K     |██████████                      | 4.3 MB 101.6 MB/s eta 0:00:01\r",
            "\u001b[K     |██████████▏                     | 4.3 MB 101.6 MB/s eta 0:00:01\r",
            "\u001b[K     |██████████▏                     | 4.3 MB 101.6 MB/s eta 0:00:01\r",
            "\u001b[K     |██████████▏                     | 4.4 MB 101.6 MB/s eta 0:00:01\r",
            "\u001b[K     |██████████▏                     | 4.4 MB 101.6 MB/s eta 0:00:01\r",
            "\u001b[K     |██████████▏                     | 4.4 MB 101.6 MB/s eta 0:00:01\r",
            "\u001b[K     |██████████▎                     | 4.4 MB 101.6 MB/s eta 0:00:01\r",
            "\u001b[K     |██████████▎                     | 4.4 MB 101.6 MB/s eta 0:00:01\r",
            "\u001b[K     |██████████▎                     | 4.4 MB 101.6 MB/s eta 0:00:01\r",
            "\u001b[K     |██████████▎                     | 4.4 MB 101.6 MB/s eta 0:00:01\r",
            "\u001b[K     |██████████▎                     | 4.4 MB 101.6 MB/s eta 0:00:01\r",
            "\u001b[K     |██████████▍                     | 4.4 MB 101.6 MB/s eta 0:00:01\r",
            "\u001b[K     |██████████▍                     | 4.4 MB 101.6 MB/s eta 0:00:01\r",
            "\u001b[K     |██████████▍                     | 4.5 MB 101.6 MB/s eta 0:00:01\r",
            "\u001b[K     |██████████▍                     | 4.5 MB 101.6 MB/s eta 0:00:01\r",
            "\u001b[K     |██████████▌                     | 4.5 MB 101.6 MB/s eta 0:00:01\r",
            "\u001b[K     |██████████▌                     | 4.5 MB 101.6 MB/s eta 0:00:01\r",
            "\u001b[K     |██████████▌                     | 4.5 MB 101.6 MB/s eta 0:00:01\r",
            "\u001b[K     |██████████▌                     | 4.5 MB 101.6 MB/s eta 0:00:01\r",
            "\u001b[K     |██████████▌                     | 4.5 MB 101.6 MB/s eta 0:00:01\r",
            "\u001b[K     |██████████▋                     | 4.5 MB 101.6 MB/s eta 0:00:01\r",
            "\u001b[K     |██████████▋                     | 4.5 MB 101.6 MB/s eta 0:00:01\r",
            "\u001b[K     |██████████▋                     | 4.5 MB 101.6 MB/s eta 0:00:01\r",
            "\u001b[K     |██████████▋                     | 4.6 MB 101.6 MB/s eta 0:00:01\r",
            "\u001b[K     |██████████▋                     | 4.6 MB 101.6 MB/s eta 0:00:01\r",
            "\u001b[K     |██████████▊                     | 4.6 MB 101.6 MB/s eta 0:00:01\r",
            "\u001b[K     |██████████▊                     | 4.6 MB 101.6 MB/s eta 0:00:01\r",
            "\u001b[K     |██████████▊                     | 4.6 MB 101.6 MB/s eta 0:00:01\r",
            "\u001b[K     |██████████▊                     | 4.6 MB 101.6 MB/s eta 0:00:01\r",
            "\u001b[K     |██████████▉                     | 4.6 MB 101.6 MB/s eta 0:00:01\r",
            "\u001b[K     |██████████▉                     | 4.6 MB 101.6 MB/s eta 0:00:01\r",
            "\u001b[K     |██████████▉                     | 4.6 MB 101.6 MB/s eta 0:00:01\r",
            "\u001b[K     |██████████▉                     | 4.6 MB 101.6 MB/s eta 0:00:01\r",
            "\u001b[K     |██████████▉                     | 4.7 MB 101.6 MB/s eta 0:00:01\r",
            "\u001b[K     |███████████                     | 4.7 MB 101.6 MB/s eta 0:00:01\r",
            "\u001b[K     |███████████                     | 4.7 MB 101.6 MB/s eta 0:00:01\r",
            "\u001b[K     |███████████                     | 4.7 MB 101.6 MB/s eta 0:00:01\r",
            "\u001b[K     |███████████                     | 4.7 MB 101.6 MB/s eta 0:00:01\r",
            "\u001b[K     |███████████                     | 4.7 MB 101.6 MB/s eta 0:00:01"
          ]
        },
        {
          "name": "stdout",
          "output_type": "stream",
          "text": [
            "\r",
            "\u001b[K     |███████████                     | 4.7 MB 101.6 MB/s eta 0:00:01\r",
            "\u001b[K     |███████████                     | 4.7 MB 101.6 MB/s eta 0:00:01\r",
            "\u001b[K     |███████████                     | 4.7 MB 101.6 MB/s eta 0:00:01\r",
            "\u001b[K     |███████████                     | 4.8 MB 101.6 MB/s eta 0:00:01\r",
            "\u001b[K     |███████████▏                    | 4.8 MB 101.6 MB/s eta 0:00:01\r",
            "\u001b[K     |███████████▏                    | 4.8 MB 101.6 MB/s eta 0:00:01\r",
            "\u001b[K     |███████████▏                    | 4.8 MB 101.6 MB/s eta 0:00:01\r",
            "\u001b[K     |███████████▏                    | 4.8 MB 101.6 MB/s eta 0:00:01\r",
            "\u001b[K     |███████████▏                    | 4.8 MB 101.6 MB/s eta 0:00:01\r",
            "\u001b[K     |███████████▎                    | 4.8 MB 101.6 MB/s eta 0:00:01\r",
            "\u001b[K     |███████████▎                    | 4.8 MB 101.6 MB/s eta 0:00:01\r",
            "\u001b[K     |███████████▎                    | 4.8 MB 101.6 MB/s eta 0:00:01\r",
            "\u001b[K     |███████████▎                    | 4.8 MB 101.6 MB/s eta 0:00:01\r",
            "\u001b[K     |███████████▍                    | 4.9 MB 101.6 MB/s eta 0:00:01\r",
            "\u001b[K     |███████████▍                    | 4.9 MB 101.6 MB/s eta 0:00:01\r",
            "\u001b[K     |███████████▍                    | 4.9 MB 101.6 MB/s eta 0:00:01\r",
            "\u001b[K     |███████████▍                    | 4.9 MB 101.6 MB/s eta 0:00:01\r",
            "\u001b[K     |███████████▍                    | 4.9 MB 101.6 MB/s eta 0:00:01\r",
            "\u001b[K     |███████████▌                    | 4.9 MB 101.6 MB/s eta 0:00:01\r",
            "\u001b[K     |███████████▌                    | 4.9 MB 101.6 MB/s eta 0:00:01\r",
            "\u001b[K     |███████████▌                    | 4.9 MB 101.6 MB/s eta 0:00:01\r",
            "\u001b[K     |███████████▌                    | 4.9 MB 101.6 MB/s eta 0:00:01\r",
            "\u001b[K     |███████████▌                    | 4.9 MB 101.6 MB/s eta 0:00:01\r",
            "\u001b[K     |███████████▋                    | 5.0 MB 101.6 MB/s eta 0:00:01\r",
            "\u001b[K     |███████████▋                    | 5.0 MB 101.6 MB/s eta 0:00:01\r",
            "\u001b[K     |███████████▋                    | 5.0 MB 101.6 MB/s eta 0:00:01\r",
            "\u001b[K     |███████████▋                    | 5.0 MB 101.6 MB/s eta 0:00:01\r",
            "\u001b[K     |███████████▊                    | 5.0 MB 101.6 MB/s eta 0:00:01\r",
            "\u001b[K     |███████████▊                    | 5.0 MB 101.6 MB/s eta 0:00:01\r",
            "\u001b[K     |███████████▊                    | 5.0 MB 101.6 MB/s eta 0:00:01\r",
            "\u001b[K     |███████████▊                    | 5.0 MB 101.6 MB/s eta 0:00:01\r",
            "\u001b[K     |███████████▊                    | 5.0 MB 101.6 MB/s eta 0:00:01\r",
            "\u001b[K     |███████████▉                    | 5.0 MB 101.6 MB/s eta 0:00:01\r",
            "\u001b[K     |███████████▉                    | 5.1 MB 101.6 MB/s eta 0:00:01\r",
            "\u001b[K     |███████████▉                    | 5.1 MB 101.6 MB/s eta 0:00:01\r",
            "\u001b[K     |███████████▉                    | 5.1 MB 101.6 MB/s eta 0:00:01\r",
            "\u001b[K     |███████████▉                    | 5.1 MB 101.6 MB/s eta 0:00:01\r",
            "\u001b[K     |████████████                    | 5.1 MB 101.6 MB/s eta 0:00:01\r",
            "\u001b[K     |████████████                    | 5.1 MB 101.6 MB/s eta 0:00:01\r",
            "\u001b[K     |████████████                    | 5.1 MB 101.6 MB/s eta 0:00:01\r",
            "\u001b[K     |████████████                    | 5.1 MB 101.6 MB/s eta 0:00:01\r",
            "\u001b[K     |████████████                    | 5.1 MB 101.6 MB/s eta 0:00:01\r",
            "\u001b[K     |████████████                    | 5.2 MB 101.6 MB/s eta 0:00:01\r",
            "\u001b[K     |████████████                    | 5.2 MB 101.6 MB/s eta 0:00:01\r",
            "\u001b[K     |████████████                    | 5.2 MB 101.6 MB/s eta 0:00:01\r",
            "\u001b[K     |████████████                    | 5.2 MB 101.6 MB/s eta 0:00:01\r",
            "\u001b[K     |████████████▏                   | 5.2 MB 101.6 MB/s eta 0:00:01\r",
            "\u001b[K     |████████████▏                   | 5.2 MB 101.6 MB/s eta 0:00:01\r",
            "\u001b[K     |████████████▏                   | 5.2 MB 101.6 MB/s eta 0:00:01\r",
            "\u001b[K     |████████████▏                   | 5.2 MB 101.6 MB/s eta 0:00:01\r",
            "\u001b[K     |████████████▏                   | 5.2 MB 101.6 MB/s eta 0:00:01\r",
            "\u001b[K     |████████████▎                   | 5.2 MB 101.6 MB/s eta 0:00:01\r",
            "\u001b[K     |████████████▎                   | 5.3 MB 101.6 MB/s eta 0:00:01\r",
            "\u001b[K     |████████████▎                   | 5.3 MB 101.6 MB/s eta 0:00:01\r",
            "\u001b[K     |████████████▎                   | 5.3 MB 101.6 MB/s eta 0:00:01\r",
            "\u001b[K     |████████████▍                   | 5.3 MB 101.6 MB/s eta 0:00:01\r",
            "\u001b[K     |████████████▍                   | 5.3 MB 101.6 MB/s eta 0:00:01\r",
            "\u001b[K     |████████████▍                   | 5.3 MB 101.6 MB/s eta 0:00:01\r",
            "\u001b[K     |████████████▍                   | 5.3 MB 101.6 MB/s eta 0:00:01\r",
            "\u001b[K     |████████████▍                   | 5.3 MB 101.6 MB/s eta 0:00:01\r",
            "\u001b[K     |████████████▌                   | 5.3 MB 101.6 MB/s eta 0:00:01\r",
            "\u001b[K     |████████████▌                   | 5.3 MB 101.6 MB/s eta 0:00:01\r",
            "\u001b[K     |████████████▌                   | 5.4 MB 101.6 MB/s eta 0:00:01\r",
            "\u001b[K     |████████████▌                   | 5.4 MB 101.6 MB/s eta 0:00:01\r",
            "\u001b[K     |████████████▌                   | 5.4 MB 101.6 MB/s eta 0:00:01\r",
            "\u001b[K     |████████████▋                   | 5.4 MB 101.6 MB/s eta 0:00:01\r",
            "\u001b[K     |████████████▋                   | 5.4 MB 101.6 MB/s eta 0:00:01\r",
            "\u001b[K     |████████████▋                   | 5.4 MB 101.6 MB/s eta 0:00:01\r",
            "\u001b[K     |████████████▋                   | 5.4 MB 101.6 MB/s eta 0:00:01\r",
            "\u001b[K     |████████████▊                   | 5.4 MB 101.6 MB/s eta 0:00:01\r",
            "\u001b[K     |████████████▊                   | 5.4 MB 101.6 MB/s eta 0:00:01\r",
            "\u001b[K     |████████████▊                   | 5.4 MB 101.6 MB/s eta 0:00:01\r",
            "\u001b[K     |████████████▊                   | 5.5 MB 101.6 MB/s eta 0:00:01\r",
            "\u001b[K     |████████████▊                   | 5.5 MB 101.6 MB/s eta 0:00:01\r",
            "\u001b[K     |████████████▉                   | 5.5 MB 101.6 MB/s eta 0:00:01\r",
            "\u001b[K     |████████████▉                   | 5.5 MB 101.6 MB/s eta 0:00:01\r",
            "\u001b[K     |████████████▉                   | 5.5 MB 101.6 MB/s eta 0:00:01\r",
            "\u001b[K     |████████████▉                   | 5.5 MB 101.6 MB/s eta 0:00:01\r",
            "\u001b[K     |█████████████                   | 5.5 MB 101.6 MB/s eta 0:00:01\r",
            "\u001b[K     |█████████████                   | 5.5 MB 101.6 MB/s eta 0:00:01\r",
            "\u001b[K     |█████████████                   | 5.5 MB 101.6 MB/s eta 0:00:01\r",
            "\u001b[K     |█████████████                   | 5.6 MB 101.6 MB/s eta 0:00:01\r",
            "\u001b[K     |█████████████                   | 5.6 MB 101.6 MB/s eta 0:00:01\r",
            "\u001b[K     |█████████████                   | 5.6 MB 101.6 MB/s eta 0:00:01\r",
            "\u001b[K     |█████████████                   | 5.6 MB 101.6 MB/s eta 0:00:01\r",
            "\u001b[K     |█████████████                   | 5.6 MB 101.6 MB/s eta 0:00:01\r",
            "\u001b[K     |█████████████                   | 5.6 MB 101.6 MB/s eta 0:00:01\r",
            "\u001b[K     |█████████████                   | 5.6 MB 101.6 MB/s eta 0:00:01\r",
            "\u001b[K     |█████████████▏                  | 5.6 MB 101.6 MB/s eta 0:00:01\r",
            "\u001b[K     |█████████████▏                  | 5.6 MB 101.6 MB/s eta 0:00:01\r",
            "\u001b[K     |█████████████▏                  | 5.6 MB 101.6 MB/s eta 0:00:01\r",
            "\u001b[K     |█████████████▏                  | 5.7 MB 101.6 MB/s eta 0:00:01\r",
            "\u001b[K     |█████████████▎                  | 5.7 MB 101.6 MB/s eta 0:00:01\r",
            "\u001b[K     |█████████████▎                  | 5.7 MB 101.6 MB/s eta 0:00:01\r",
            "\u001b[K     |█████████████▎                  | 5.7 MB 101.6 MB/s eta 0:00:01\r",
            "\u001b[K     |█████████████▎                  | 5.7 MB 101.6 MB/s eta 0:00:01\r",
            "\u001b[K     |█████████████▎                  | 5.7 MB 101.6 MB/s eta 0:00:01\r",
            "\u001b[K     |█████████████▍                  | 5.7 MB 101.6 MB/s eta 0:00:01\r",
            "\u001b[K     |█████████████▍                  | 5.7 MB 101.6 MB/s eta 0:00:01\r",
            "\u001b[K     |█████████████▍                  | 5.7 MB 101.6 MB/s eta 0:00:01\r",
            "\u001b[K     |█████████████▍                  | 5.7 MB 101.6 MB/s eta 0:00:01\r",
            "\u001b[K     |█████████████▍                  | 5.8 MB 101.6 MB/s eta 0:00:01\r",
            "\u001b[K     |█████████████▌                  | 5.8 MB 101.6 MB/s eta 0:00:01\r",
            "\u001b[K     |█████████████▌                  | 5.8 MB 101.6 MB/s eta 0:00:01\r",
            "\u001b[K     |█████████████▌                  | 5.8 MB 101.6 MB/s eta 0:00:01\r",
            "\u001b[K     |█████████████▌                  | 5.8 MB 101.6 MB/s eta 0:00:01\r",
            "\u001b[K     |█████████████▋                  | 5.8 MB 101.6 MB/s eta 0:00:01\r",
            "\u001b[K     |█████████████▋                  | 5.8 MB 101.6 MB/s eta 0:00:01\r",
            "\u001b[K     |█████████████▋                  | 5.8 MB 101.6 MB/s eta 0:00:01\r",
            "\u001b[K     |█████████████▋                  | 5.8 MB 101.6 MB/s eta 0:00:01\r",
            "\u001b[K     |█████████████▋                  | 5.8 MB 101.6 MB/s eta 0:00:01\r",
            "\u001b[K     |█████████████▊                  | 5.9 MB 101.6 MB/s eta 0:00:01\r",
            "\u001b[K     |█████████████▊                  | 5.9 MB 101.6 MB/s eta 0:00:01\r",
            "\u001b[K     |█████████████▊                  | 5.9 MB 101.6 MB/s eta 0:00:01\r",
            "\u001b[K     |█████████████▊                  | 5.9 MB 101.6 MB/s eta 0:00:01\r",
            "\u001b[K     |█████████████▊                  | 5.9 MB 101.6 MB/s eta 0:00:01\r",
            "\u001b[K     |█████████████▉                  | 5.9 MB 101.6 MB/s eta 0:00:01\r",
            "\u001b[K     |█████████████▉                  | 5.9 MB 101.6 MB/s eta 0:00:01\r",
            "\u001b[K     |█████████████▉                  | 5.9 MB 101.6 MB/s eta 0:00:01\r",
            "\u001b[K     |█████████████▉                  | 5.9 MB 101.6 MB/s eta 0:00:01\r",
            "\u001b[K     |██████████████                  | 5.9 MB 101.6 MB/s eta 0:00:01\r",
            "\u001b[K     |██████████████                  | 6.0 MB 101.6 MB/s eta 0:00:01\r",
            "\u001b[K     |██████████████                  | 6.0 MB 101.6 MB/s eta 0:00:01\r",
            "\u001b[K     |██████████████                  | 6.0 MB 101.6 MB/s eta 0:00:01\r",
            "\u001b[K     |██████████████                  | 6.0 MB 101.6 MB/s eta 0:00:01\r",
            "\u001b[K     |██████████████                  | 6.0 MB 101.6 MB/s eta 0:00:01\r",
            "\u001b[K     |██████████████                  | 6.0 MB 101.6 MB/s eta 0:00:01\r",
            "\u001b[K     |██████████████                  | 6.0 MB 101.6 MB/s eta 0:00:01\r",
            "\u001b[K     |██████████████                  | 6.0 MB 101.6 MB/s eta 0:00:01\r",
            "\u001b[K     |██████████████                  | 6.0 MB 101.6 MB/s eta 0:00:01\r",
            "\u001b[K     |██████████████▏                 | 6.1 MB 101.6 MB/s eta 0:00:01\r",
            "\u001b[K     |██████████████▏                 | 6.1 MB 101.6 MB/s eta 0:00:01\r",
            "\u001b[K     |██████████████▏                 | 6.1 MB 101.6 MB/s eta 0:00:01\r",
            "\u001b[K     |██████████████▏                 | 6.1 MB 101.6 MB/s eta 0:00:01\r",
            "\u001b[K     |██████████████▎                 | 6.1 MB 101.6 MB/s eta 0:00:01\r",
            "\u001b[K     |██████████████▎                 | 6.1 MB 101.6 MB/s eta 0:00:01\r",
            "\u001b[K     |██████████████▎                 | 6.1 MB 101.6 MB/s eta 0:00:01\r",
            "\u001b[K     |██████████████▎                 | 6.1 MB 101.6 MB/s eta 0:00:01\r",
            "\u001b[K     |██████████████▎                 | 6.1 MB 101.6 MB/s eta 0:00:01\r",
            "\u001b[K     |██████████████▍                 | 6.1 MB 101.6 MB/s eta 0:00:01\r",
            "\u001b[K     |██████████████▍                 | 6.2 MB 101.6 MB/s eta 0:00:01\r",
            "\u001b[K     |██████████████▍                 | 6.2 MB 101.6 MB/s eta 0:00:01\r",
            "\u001b[K     |██████████████▍                 | 6.2 MB 101.6 MB/s eta 0:00:01\r",
            "\u001b[K     |██████████████▍                 | 6.2 MB 101.6 MB/s eta 0:00:01\r",
            "\u001b[K     |██████████████▌                 | 6.2 MB 101.6 MB/s eta 0:00:01\r",
            "\u001b[K     |██████████████▌                 | 6.2 MB 101.6 MB/s eta 0:00:01\r",
            "\u001b[K     |██████████████▌                 | 6.2 MB 101.6 MB/s eta 0:00:01\r",
            "\u001b[K     |██████████████▌                 | 6.2 MB 101.6 MB/s eta 0:00:01\r",
            "\u001b[K     |██████████████▋                 | 6.2 MB 101.6 MB/s eta 0:00:01\r",
            "\u001b[K     |██████████████▋                 | 6.2 MB 101.6 MB/s eta 0:00:01\r",
            "\u001b[K     |██████████████▋                 | 6.3 MB 101.6 MB/s eta 0:00:01\r",
            "\u001b[K     |██████████████▋                 | 6.3 MB 101.6 MB/s eta 0:00:01\r",
            "\u001b[K     |██████████████▋                 | 6.3 MB 101.6 MB/s eta 0:00:01\r",
            "\u001b[K     |██████████████▊                 | 6.3 MB 101.6 MB/s eta 0:00:01\r",
            "\u001b[K     |██████████████▊                 | 6.3 MB 101.6 MB/s eta 0:00:01\r",
            "\u001b[K     |██████████████▊                 | 6.3 MB 101.6 MB/s eta 0:00:01\r",
            "\u001b[K     |██████████████▊                 | 6.3 MB 101.6 MB/s eta 0:00:01\r",
            "\u001b[K     |██████████████▉                 | 6.3 MB 101.6 MB/s eta 0:00:01\r",
            "\u001b[K     |██████████████▉                 | 6.3 MB 101.6 MB/s eta 0:00:01\r",
            "\u001b[K     |██████████████▉                 | 6.3 MB 101.6 MB/s eta 0:00:01\r",
            "\u001b[K     |██████████████▉                 | 6.4 MB 101.6 MB/s eta 0:00:01\r",
            "\u001b[K     |██████████████▉                 | 6.4 MB 101.6 MB/s eta 0:00:01\r",
            "\u001b[K     |███████████████                 | 6.4 MB 101.6 MB/s eta 0:00:01\r",
            "\u001b[K     |███████████████                 | 6.4 MB 101.6 MB/s eta 0:00:01\r",
            "\u001b[K     |███████████████                 | 6.4 MB 101.6 MB/s eta 0:00:01\r",
            "\u001b[K     |███████████████                 | 6.4 MB 101.6 MB/s eta 0:00:01\r",
            "\u001b[K     |███████████████                 | 6.4 MB 101.6 MB/s eta 0:00:01\r",
            "\u001b[K     |███████████████                 | 6.4 MB 101.6 MB/s eta 0:00:01\r",
            "\u001b[K     |███████████████                 | 6.4 MB 101.6 MB/s eta 0:00:01\r",
            "\u001b[K     |███████████████                 | 6.5 MB 101.6 MB/s eta 0:00:01\r",
            "\u001b[K     |███████████████                 | 6.5 MB 101.6 MB/s eta 0:00:01\r",
            "\u001b[K     |███████████████▏                | 6.5 MB 101.6 MB/s eta 0:00:01\r",
            "\u001b[K     |███████████████▏                | 6.5 MB 101.6 MB/s eta 0:00:01\r",
            "\u001b[K     |███████████████▏                | 6.5 MB 101.6 MB/s eta 0:00:01\r",
            "\u001b[K     |███████████████▏                | 6.5 MB 101.6 MB/s eta 0:00:01\r",
            "\u001b[K     |███████████████▏                | 6.5 MB 101.6 MB/s eta 0:00:01\r",
            "\u001b[K     |███████████████▎                | 6.5 MB 101.6 MB/s eta 0:00:01\r",
            "\u001b[K     |███████████████▎                | 6.5 MB 101.6 MB/s eta 0:00:01\r",
            "\u001b[K     |███████████████▎                | 6.5 MB 101.6 MB/s eta 0:00:01\r",
            "\u001b[K     |███████████████▎                | 6.6 MB 101.6 MB/s eta 0:00:01\r",
            "\u001b[K     |███████████████▎                | 6.6 MB 101.6 MB/s eta 0:00:01\r",
            "\u001b[K     |███████████████▍                | 6.6 MB 101.6 MB/s eta 0:00:01\r",
            "\u001b[K     |███████████████▍                | 6.6 MB 101.6 MB/s eta 0:00:01\r",
            "\u001b[K     |███████████████▍                | 6.6 MB 101.6 MB/s eta 0:00:01\r",
            "\u001b[K     |███████████████▍                | 6.6 MB 101.6 MB/s eta 0:00:01\r",
            "\u001b[K     |███████████████▌                | 6.6 MB 101.6 MB/s eta 0:00:01\r",
            "\u001b[K     |███████████████▌                | 6.6 MB 101.6 MB/s eta 0:00:01\r",
            "\u001b[K     |███████████████▌                | 6.6 MB 101.6 MB/s eta 0:00:01\r",
            "\u001b[K     |███████████████▌                | 6.6 MB 101.6 MB/s eta 0:00:01\r",
            "\u001b[K     |███████████████▌                | 6.7 MB 101.6 MB/s eta 0:00:01\r",
            "\u001b[K     |███████████████▋                | 6.7 MB 101.6 MB/s eta 0:00:01\r",
            "\u001b[K     |███████████████▋                | 6.7 MB 101.6 MB/s eta 0:00:01\r",
            "\u001b[K     |███████████████▋                | 6.7 MB 101.6 MB/s eta 0:00:01\r",
            "\u001b[K     |███████████████▋                | 6.7 MB 101.6 MB/s eta 0:00:01\r",
            "\u001b[K     |███████████████▋                | 6.7 MB 101.6 MB/s eta 0:00:01\r",
            "\u001b[K     |███████████████▊                | 6.7 MB 101.6 MB/s eta 0:00:01\r",
            "\u001b[K     |███████████████▊                | 6.7 MB 101.6 MB/s eta 0:00:01\r",
            "\u001b[K     |███████████████▊                | 6.7 MB 101.6 MB/s eta 0:00:01\r",
            "\u001b[K     |███████████████▊                | 6.7 MB 101.6 MB/s eta 0:00:01\r",
            "\u001b[K     |███████████████▉                | 6.8 MB 101.6 MB/s eta 0:00:01\r",
            "\u001b[K     |███████████████▉                | 6.8 MB 101.6 MB/s eta 0:00:01\r",
            "\u001b[K     |███████████████▉                | 6.8 MB 101.6 MB/s eta 0:00:01\r",
            "\u001b[K     |███████████████▉                | 6.8 MB 101.6 MB/s eta 0:00:01\r",
            "\u001b[K     |███████████████▉                | 6.8 MB 101.6 MB/s eta 0:00:01\r",
            "\u001b[K     |████████████████                | 6.8 MB 101.6 MB/s eta 0:00:01\r",
            "\u001b[K     |████████████████                | 6.8 MB 101.6 MB/s eta 0:00:01\r",
            "\u001b[K     |████████████████                | 6.8 MB 101.6 MB/s eta 0:00:01\r",
            "\u001b[K     |████████████████                | 6.8 MB 101.6 MB/s eta 0:00:01\r",
            "\u001b[K     |████████████████                | 6.9 MB 101.6 MB/s eta 0:00:01\r",
            "\u001b[K     |████████████████                | 6.9 MB 101.6 MB/s eta 0:00:01\r",
            "\u001b[K     |████████████████                | 6.9 MB 101.6 MB/s eta 0:00:01\r",
            "\u001b[K     |████████████████                | 6.9 MB 101.6 MB/s eta 0:00:01\r",
            "\u001b[K     |████████████████                | 6.9 MB 101.6 MB/s eta 0:00:01\r",
            "\u001b[K     |████████████████▏               | 6.9 MB 101.6 MB/s eta 0:00:01\r",
            "\u001b[K     |████████████████▏               | 6.9 MB 101.6 MB/s eta 0:00:01\r",
            "\u001b[K     |████████████████▏               | 6.9 MB 101.6 MB/s eta 0:00:01\r",
            "\u001b[K     |████████████████▏               | 6.9 MB 101.6 MB/s eta 0:00:01\r",
            "\u001b[K     |████████████████▏               | 6.9 MB 101.6 MB/s eta 0:00:01\r",
            "\u001b[K     |████████████████▎               | 7.0 MB 101.6 MB/s eta 0:00:01\r",
            "\u001b[K     |████████████████▎               | 7.0 MB 101.6 MB/s eta 0:00:01\r",
            "\u001b[K     |████████████████▎               | 7.0 MB 101.6 MB/s eta 0:00:01\r",
            "\u001b[K     |████████████████▎               | 7.0 MB 101.6 MB/s eta 0:00:01\r",
            "\u001b[K     |████████████████▍               | 7.0 MB 101.6 MB/s eta 0:00:01\r",
            "\u001b[K     |████████████████▍               | 7.0 MB 101.6 MB/s eta 0:00:01\r",
            "\u001b[K     |████████████████▍               | 7.0 MB 101.6 MB/s eta 0:00:01\r",
            "\u001b[K     |████████████████▍               | 7.0 MB 101.6 MB/s eta 0:00:01\r",
            "\u001b[K     |████████████████▍               | 7.0 MB 101.6 MB/s eta 0:00:01\r",
            "\u001b[K     |████████████████▌               | 7.0 MB 101.6 MB/s eta 0:00:01\r",
            "\u001b[K     |████████████████▌               | 7.1 MB 101.6 MB/s eta 0:00:01\r",
            "\u001b[K     |████████████████▌               | 7.1 MB 101.6 MB/s eta 0:00:01\r",
            "\u001b[K     |████████████████▌               | 7.1 MB 101.6 MB/s eta 0:00:01\r",
            "\u001b[K     |████████████████▌               | 7.1 MB 101.6 MB/s eta 0:00:01\r",
            "\u001b[K     |████████████████▋               | 7.1 MB 101.6 MB/s eta 0:00:01\r",
            "\u001b[K     |████████████████▋               | 7.1 MB 101.6 MB/s eta 0:00:01\r",
            "\u001b[K     |████████████████▋               | 7.1 MB 101.6 MB/s eta 0:00:01\r",
            "\u001b[K     |████████████████▋               | 7.1 MB 101.6 MB/s eta 0:00:01\r",
            "\u001b[K     |████████████████▊               | 7.1 MB 101.6 MB/s eta 0:00:01\r",
            "\u001b[K     |████████████████▊               | 7.1 MB 101.6 MB/s eta 0:00:01\r",
            "\u001b[K     |████████████████▊               | 7.2 MB 101.6 MB/s eta 0:00:01\r",
            "\u001b[K     |████████████████▊               | 7.2 MB 101.6 MB/s eta 0:00:01\r",
            "\u001b[K     |████████████████▊               | 7.2 MB 101.6 MB/s eta 0:00:01\r",
            "\u001b[K     |████████████████▉               | 7.2 MB 101.6 MB/s eta 0:00:01\r",
            "\u001b[K     |████████████████▉               | 7.2 MB 101.6 MB/s eta 0:00:01\r",
            "\u001b[K     |████████████████▉               | 7.2 MB 101.6 MB/s eta 0:00:01\r",
            "\u001b[K     |████████████████▉               | 7.2 MB 101.6 MB/s eta 0:00:01\r",
            "\u001b[K     |████████████████▉               | 7.2 MB 101.6 MB/s eta 0:00:01\r",
            "\u001b[K     |█████████████████               | 7.2 MB 101.6 MB/s eta 0:00:01\r",
            "\u001b[K     |█████████████████               | 7.2 MB 101.6 MB/s eta 0:00:01\r",
            "\u001b[K     |█████████████████               | 7.3 MB 101.6 MB/s eta 0:00:01\r",
            "\u001b[K     |█████████████████               | 7.3 MB 101.6 MB/s eta 0:00:01\r",
            "\u001b[K     |█████████████████               | 7.3 MB 101.6 MB/s eta 0:00:01\r",
            "\u001b[K     |█████████████████               | 7.3 MB 101.6 MB/s eta 0:00:01\r",
            "\u001b[K     |█████████████████               | 7.3 MB 101.6 MB/s eta 0:00:01\r",
            "\u001b[K     |█████████████████               | 7.3 MB 101.6 MB/s eta 0:00:01\r",
            "\u001b[K     |█████████████████               | 7.3 MB 101.6 MB/s eta 0:00:01\r",
            "\u001b[K     |█████████████████▏              | 7.3 MB 101.6 MB/s eta 0:00:01\r",
            "\u001b[K     |█████████████████▏              | 7.3 MB 101.6 MB/s eta 0:00:01\r",
            "\u001b[K     |█████████████████▏              | 7.4 MB 101.6 MB/s eta 0:00:01\r",
            "\u001b[K     |█████████████████▏              | 7.4 MB 101.6 MB/s eta 0:00:01\r",
            "\u001b[K     |█████████████████▏              | 7.4 MB 101.6 MB/s eta 0:00:01\r",
            "\u001b[K     |█████████████████▎              | 7.4 MB 101.6 MB/s eta 0:00:01\r",
            "\u001b[K     |█████████████████▎              | 7.4 MB 101.6 MB/s eta 0:00:01\r",
            "\u001b[K     |█████████████████▎              | 7.4 MB 101.6 MB/s eta 0:00:01\r",
            "\u001b[K     |█████████████████▎              | 7.4 MB 101.6 MB/s eta 0:00:01\r",
            "\u001b[K     |█████████████████▍              | 7.4 MB 101.6 MB/s eta 0:00:01\r",
            "\u001b[K     |█████████████████▍              | 7.4 MB 101.6 MB/s eta 0:00:01\r",
            "\u001b[K     |█████████████████▍              | 7.4 MB 101.6 MB/s eta 0:00:01\r",
            "\u001b[K     |█████████████████▍              | 7.5 MB 101.6 MB/s eta 0:00:01\r",
            "\u001b[K     |█████████████████▍              | 7.5 MB 101.6 MB/s eta 0:00:01\r",
            "\u001b[K     |█████████████████▌              | 7.5 MB 101.6 MB/s eta 0:00:01\r",
            "\u001b[K     |█████████████████▌              | 7.5 MB 101.6 MB/s eta 0:00:01\r",
            "\u001b[K     |█████████████████▌              | 7.5 MB 101.6 MB/s eta 0:00:01\r",
            "\u001b[K     |█████████████████▌              | 7.5 MB 101.6 MB/s eta 0:00:01\r",
            "\u001b[K     |█████████████████▌              | 7.5 MB 101.6 MB/s eta 0:00:01\r",
            "\u001b[K     |█████████████████▋              | 7.5 MB 101.6 MB/s eta 0:00:01\r",
            "\u001b[K     |█████████████████▋              | 7.5 MB 101.6 MB/s eta 0:00:01\r",
            "\u001b[K     |█████████████████▋              | 7.5 MB 101.6 MB/s eta 0:00:01\r",
            "\u001b[K     |█████████████████▋              | 7.6 MB 101.6 MB/s eta 0:00:01\r",
            "\u001b[K     |█████████████████▊              | 7.6 MB 101.6 MB/s eta 0:00:01\r",
            "\u001b[K     |█████████████████▊              | 7.6 MB 101.6 MB/s eta 0:00:01\r",
            "\u001b[K     |█████████████████▊              | 7.6 MB 101.6 MB/s eta 0:00:01\r",
            "\u001b[K     |█████████████████▊              | 7.6 MB 101.6 MB/s eta 0:00:01\r",
            "\u001b[K     |█████████████████▊              | 7.6 MB 101.6 MB/s eta 0:00:01\r",
            "\u001b[K     |█████████████████▉              | 7.6 MB 101.6 MB/s eta 0:00:01\r",
            "\u001b[K     |█████████████████▉              | 7.6 MB 101.6 MB/s eta 0:00:01\r",
            "\u001b[K     |█████████████████▉              | 7.6 MB 101.6 MB/s eta 0:00:01\r",
            "\u001b[K     |█████████████████▉              | 7.6 MB 101.6 MB/s eta 0:00:01\r",
            "\u001b[K     |█████████████████▉              | 7.7 MB 101.6 MB/s eta 0:00:01\r",
            "\u001b[K     |██████████████████              | 7.7 MB 101.6 MB/s eta 0:00:01\r",
            "\u001b[K     |██████████████████              | 7.7 MB 101.6 MB/s eta 0:00:01\r",
            "\u001b[K     |██████████████████              | 7.7 MB 101.6 MB/s eta 0:00:01\r",
            "\u001b[K     |██████████████████              | 7.7 MB 101.6 MB/s eta 0:00:01\r",
            "\u001b[K     |██████████████████              | 7.7 MB 101.6 MB/s eta 0:00:01\r",
            "\u001b[K     |██████████████████              | 7.7 MB 101.6 MB/s eta 0:00:01\r",
            "\u001b[K     |██████████████████              | 7.7 MB 101.6 MB/s eta 0:00:01\r",
            "\u001b[K     |██████████████████              | 7.7 MB 101.6 MB/s eta 0:00:01\r",
            "\u001b[K     |██████████████████              | 7.8 MB 101.6 MB/s eta 0:00:01\r",
            "\u001b[K     |██████████████████▏             | 7.8 MB 101.6 MB/s eta 0:00:01\r",
            "\u001b[K     |██████████████████▏             | 7.8 MB 101.6 MB/s eta 0:00:01\r",
            "\u001b[K     |██████████████████▏             | 7.8 MB 101.6 MB/s eta 0:00:01\r",
            "\u001b[K     |██████████████████▏             | 7.8 MB 101.6 MB/s eta 0:00:01\r",
            "\u001b[K     |██████████████████▎             | 7.8 MB 101.6 MB/s eta 0:00:01\r",
            "\u001b[K     |██████████████████▎             | 7.8 MB 101.6 MB/s eta 0:00:01\r",
            "\u001b[K     |██████████████████▎             | 7.8 MB 101.6 MB/s eta 0:00:01\r",
            "\u001b[K     |██████████████████▎             | 7.8 MB 101.6 MB/s eta 0:00:01\r",
            "\u001b[K     |██████████████████▎             | 7.8 MB 101.6 MB/s eta 0:00:01\r",
            "\u001b[K     |██████████████████▍             | 7.9 MB 101.6 MB/s eta 0:00:01\r",
            "\u001b[K     |██████████████████▍             | 7.9 MB 101.6 MB/s eta 0:00:01\r",
            "\u001b[K     |██████████████████▍             | 7.9 MB 101.6 MB/s eta 0:00:01\r",
            "\u001b[K     |██████████████████▍             | 7.9 MB 101.6 MB/s eta 0:00:01\r",
            "\u001b[K     |██████████████████▍             | 7.9 MB 101.6 MB/s eta 0:00:01\r",
            "\u001b[K     |██████████████████▌             | 7.9 MB 101.6 MB/s eta 0:00:01\r",
            "\u001b[K     |██████████████████▌             | 7.9 MB 101.6 MB/s eta 0:00:01\r",
            "\u001b[K     |██████████████████▌             | 7.9 MB 101.6 MB/s eta 0:00:01\r",
            "\u001b[K     |██████████████████▌             | 7.9 MB 101.6 MB/s eta 0:00:01\r",
            "\u001b[K     |██████████████████▋             | 7.9 MB 101.6 MB/s eta 0:00:01\r",
            "\u001b[K     |██████████████████▋             | 8.0 MB 101.6 MB/s eta 0:00:01\r",
            "\u001b[K     |██████████████████▋             | 8.0 MB 101.6 MB/s eta 0:00:01\r",
            "\u001b[K     |██████████████████▋             | 8.0 MB 101.6 MB/s eta 0:00:01\r",
            "\u001b[K     |██████████████████▋             | 8.0 MB 101.6 MB/s eta 0:00:01\r",
            "\u001b[K     |██████████████████▊             | 8.0 MB 101.6 MB/s eta 0:00:01\r",
            "\u001b[K     |██████████████████▊             | 8.0 MB 101.6 MB/s eta 0:00:01\r",
            "\u001b[K     |██████████████████▊             | 8.0 MB 101.6 MB/s eta 0:00:01\r",
            "\u001b[K     |██████████████████▊             | 8.0 MB 101.6 MB/s eta 0:00:01\r",
            "\u001b[K     |██████████████████▊             | 8.0 MB 101.6 MB/s eta 0:00:01\r",
            "\u001b[K     |██████████████████▉             | 8.0 MB 101.6 MB/s eta 0:00:01\r",
            "\u001b[K     |██████████████████▉             | 8.1 MB 101.6 MB/s eta 0:00:01\r",
            "\u001b[K     |██████████████████▉             | 8.1 MB 101.6 MB/s eta 0:00:01\r",
            "\u001b[K     |██████████████████▉             | 8.1 MB 101.6 MB/s eta 0:00:01\r",
            "\u001b[K     |███████████████████             | 8.1 MB 101.6 MB/s eta 0:00:01\r",
            "\u001b[K     |███████████████████             | 8.1 MB 101.6 MB/s eta 0:00:01\r",
            "\u001b[K     |███████████████████             | 8.1 MB 101.6 MB/s eta 0:00:01\r",
            "\u001b[K     |███████████████████             | 8.1 MB 101.6 MB/s eta 0:00:01\r",
            "\u001b[K     |███████████████████             | 8.1 MB 101.6 MB/s eta 0:00:01\r",
            "\u001b[K     |███████████████████             | 8.1 MB 101.6 MB/s eta 0:00:01\r",
            "\u001b[K     |███████████████████             | 8.2 MB 101.6 MB/s eta 0:00:01\r",
            "\u001b[K     |███████████████████             | 8.2 MB 101.6 MB/s eta 0:00:01\r",
            "\u001b[K     |███████████████████             | 8.2 MB 101.6 MB/s eta 0:00:01\r",
            "\u001b[K     |███████████████████             | 8.2 MB 101.6 MB/s eta 0:00:01\r",
            "\u001b[K     |███████████████████▏            | 8.2 MB 101.6 MB/s eta 0:00:01\r",
            "\u001b[K     |███████████████████▏            | 8.2 MB 101.6 MB/s eta 0:00:01\r",
            "\u001b[K     |███████████████████▏            | 8.2 MB 101.6 MB/s eta 0:00:01\r",
            "\u001b[K     |███████████████████▏            | 8.2 MB 101.6 MB/s eta 0:00:01\r",
            "\u001b[K     |███████████████████▎            | 8.2 MB 101.6 MB/s eta 0:00:01\r",
            "\u001b[K     |███████████████████▎            | 8.2 MB 101.6 MB/s eta 0:00:01\r",
            "\u001b[K     |███████████████████▎            | 8.3 MB 101.6 MB/s eta 0:00:01\r",
            "\u001b[K     |███████████████████▎            | 8.3 MB 101.6 MB/s eta 0:00:01\r",
            "\u001b[K     |███████████████████▎            | 8.3 MB 101.6 MB/s eta 0:00:01\r",
            "\u001b[K     |███████████████████▍            | 8.3 MB 101.6 MB/s eta 0:00:01\r",
            "\u001b[K     |███████████████████▍            | 8.3 MB 101.6 MB/s eta 0:00:01\r",
            "\u001b[K     |███████████████████▍            | 8.3 MB 101.6 MB/s eta 0:00:01\r",
            "\u001b[K     |███████████████████▍            | 8.3 MB 101.6 MB/s eta 0:00:01\r",
            "\u001b[K     |███████████████████▍            | 8.3 MB 101.6 MB/s eta 0:00:01\r",
            "\u001b[K     |███████████████████▌            | 8.3 MB 101.6 MB/s eta 0:00:01\r",
            "\u001b[K     |███████████████████▌            | 8.3 MB 101.6 MB/s eta 0:00:01\r",
            "\u001b[K     |███████████████████▌            | 8.4 MB 101.6 MB/s eta 0:00:01\r",
            "\u001b[K     |███████████████████▌            | 8.4 MB 101.6 MB/s eta 0:00:01\r",
            "\u001b[K     |███████████████████▋            | 8.4 MB 101.6 MB/s eta 0:00:01\r",
            "\u001b[K     |███████████████████▋            | 8.4 MB 101.6 MB/s eta 0:00:01\r",
            "\u001b[K     |███████████████████▋            | 8.4 MB 101.6 MB/s eta 0:00:01\r",
            "\u001b[K     |███████████████████▋            | 8.4 MB 101.6 MB/s eta 0:00:01\r",
            "\u001b[K     |███████████████████▋            | 8.4 MB 101.6 MB/s eta 0:00:01\r",
            "\u001b[K     |███████████████████▊            | 8.4 MB 101.6 MB/s eta 0:00:01\r",
            "\u001b[K     |███████████████████▊            | 8.4 MB 101.6 MB/s eta 0:00:01\r",
            "\u001b[K     |███████████████████▊            | 8.4 MB 101.6 MB/s eta 0:00:01\r",
            "\u001b[K     |███████████████████▊            | 8.5 MB 101.6 MB/s eta 0:00:01\r",
            "\u001b[K     |███████████████████▊            | 8.5 MB 101.6 MB/s eta 0:00:01\r",
            "\u001b[K     |███████████████████▉            | 8.5 MB 101.6 MB/s eta 0:00:01\r",
            "\u001b[K     |███████████████████▉            | 8.5 MB 101.6 MB/s eta 0:00:01\r",
            "\u001b[K     |███████████████████▉            | 8.5 MB 101.6 MB/s eta 0:00:01\r",
            "\u001b[K     |███████████████████▉            | 8.5 MB 101.6 MB/s eta 0:00:01\r",
            "\u001b[K     |████████████████████            | 8.5 MB 101.6 MB/s eta 0:00:01\r",
            "\u001b[K     |████████████████████            | 8.5 MB 101.6 MB/s eta 0:00:01\r",
            "\u001b[K     |████████████████████            | 8.5 MB 101.6 MB/s eta 0:00:01\r",
            "\u001b[K     |████████████████████            | 8.6 MB 101.6 MB/s eta 0:00:01\r",
            "\u001b[K     |████████████████████            | 8.6 MB 101.6 MB/s eta 0:00:01\r",
            "\u001b[K     |████████████████████            | 8.6 MB 101.6 MB/s eta 0:00:01\r",
            "\u001b[K     |████████████████████            | 8.6 MB 101.6 MB/s eta 0:00:01\r",
            "\u001b[K     |████████████████████            | 8.6 MB 101.6 MB/s eta 0:00:01\r",
            "\u001b[K     |████████████████████            | 8.6 MB 101.6 MB/s eta 0:00:01\r",
            "\u001b[K     |████████████████████▏           | 8.6 MB 101.6 MB/s eta 0:00:01\r",
            "\u001b[K     |████████████████████▏           | 8.6 MB 101.6 MB/s eta 0:00:01\r",
            "\u001b[K     |████████████████████▏           | 8.6 MB 101.6 MB/s eta 0:00:01\r",
            "\u001b[K     |████████████████████▏           | 8.6 MB 101.6 MB/s eta 0:00:01\r",
            "\u001b[K     |████████████████████▏           | 8.7 MB 101.6 MB/s eta 0:00:01\r",
            "\u001b[K     |████████████████████▎           | 8.7 MB 101.6 MB/s eta 0:00:01\r",
            "\u001b[K     |████████████████████▎           | 8.7 MB 101.6 MB/s eta 0:00:01\r",
            "\u001b[K     |████████████████████▎           | 8.7 MB 101.6 MB/s eta 0:00:01\r",
            "\u001b[K     |████████████████████▎           | 8.7 MB 101.6 MB/s eta 0:00:01\r",
            "\u001b[K     |████████████████████▎           | 8.7 MB 101.6 MB/s eta 0:00:01\r",
            "\u001b[K     |████████████████████▍           | 8.7 MB 101.6 MB/s eta 0:00:01\r",
            "\u001b[K     |████████████████████▍           | 8.7 MB 101.6 MB/s eta 0:00:01\r",
            "\u001b[K     |████████████████████▍           | 8.7 MB 101.6 MB/s eta 0:00:01\r",
            "\u001b[K     |████████████████████▍           | 8.7 MB 101.6 MB/s eta 0:00:01\r",
            "\u001b[K     |████████████████████▌           | 8.8 MB 101.6 MB/s eta 0:00:01\r",
            "\u001b[K     |████████████████████▌           | 8.8 MB 101.6 MB/s eta 0:00:01\r",
            "\u001b[K     |████████████████████▌           | 8.8 MB 101.6 MB/s eta 0:00:01\r",
            "\u001b[K     |████████████████████▌           | 8.8 MB 101.6 MB/s eta 0:00:01\r",
            "\u001b[K     |████████████████████▌           | 8.8 MB 101.6 MB/s eta 0:00:01\r",
            "\u001b[K     |████████████████████▋           | 8.8 MB 101.6 MB/s eta 0:00:01\r",
            "\u001b[K     |████████████████████▋           | 8.8 MB 101.6 MB/s eta 0:00:01\r",
            "\u001b[K     |████████████████████▋           | 8.8 MB 101.6 MB/s eta 0:00:01\r",
            "\u001b[K     |████████████████████▋           | 8.8 MB 101.6 MB/s eta 0:00:01\r",
            "\u001b[K     |████████████████████▋           | 8.8 MB 101.6 MB/s eta 0:00:01\r",
            "\u001b[K     |████████████████████▊           | 8.9 MB 101.6 MB/s eta 0:00:01\r",
            "\u001b[K     |████████████████████▊           | 8.9 MB 101.6 MB/s eta 0:00:01\r",
            "\u001b[K     |████████████████████▊           | 8.9 MB 101.6 MB/s eta 0:00:01\r",
            "\u001b[K     |████████████████████▊           | 8.9 MB 101.6 MB/s eta 0:00:01\r",
            "\u001b[K     |████████████████████▉           | 8.9 MB 101.6 MB/s eta 0:00:01\r",
            "\u001b[K     |████████████████████▉           | 8.9 MB 101.6 MB/s eta 0:00:01\r",
            "\u001b[K     |████████████████████▉           | 8.9 MB 101.6 MB/s eta 0:00:01\r",
            "\u001b[K     |████████████████████▉           | 8.9 MB 101.6 MB/s eta 0:00:01\r",
            "\u001b[K     |████████████████████▉           | 8.9 MB 101.6 MB/s eta 0:00:01\r",
            "\u001b[K     |█████████████████████           | 8.9 MB 101.6 MB/s eta 0:00:01\r",
            "\u001b[K     |█████████████████████           | 9.0 MB 101.6 MB/s eta 0:00:01\r",
            "\u001b[K     |█████████████████████           | 9.0 MB 101.6 MB/s eta 0:00:01\r",
            "\u001b[K     |█████████████████████           | 9.0 MB 101.6 MB/s eta 0:00:01\r",
            "\u001b[K     |█████████████████████           | 9.0 MB 101.6 MB/s eta 0:00:01\r",
            "\u001b[K     |█████████████████████           | 9.0 MB 101.6 MB/s eta 0:00:01\r",
            "\u001b[K     |█████████████████████           | 9.0 MB 101.6 MB/s eta 0:00:01\r",
            "\u001b[K     |█████████████████████           | 9.0 MB 101.6 MB/s eta 0:00:01\r",
            "\u001b[K     |█████████████████████           | 9.0 MB 101.6 MB/s eta 0:00:01\r",
            "\u001b[K     |█████████████████████▏          | 9.0 MB 101.6 MB/s eta 0:00:01\r",
            "\u001b[K     |█████████████████████▏          | 9.1 MB 101.6 MB/s eta 0:00:01\r",
            "\u001b[K     |█████████████████████▏          | 9.1 MB 101.6 MB/s eta 0:00:01\r",
            "\u001b[K     |█████████████████████▏          | 9.1 MB 101.6 MB/s eta 0:00:01\r",
            "\u001b[K     |█████████████████████▏          | 9.1 MB 101.6 MB/s eta 0:00:01\r",
            "\u001b[K     |█████████████████████▎          | 9.1 MB 101.6 MB/s eta 0:00:01\r",
            "\u001b[K     |█████████████████████▎          | 9.1 MB 101.6 MB/s eta 0:00:01\r",
            "\u001b[K     |█████████████████████▎          | 9.1 MB 101.6 MB/s eta 0:00:01\r",
            "\u001b[K     |█████████████████████▎          | 9.1 MB 101.6 MB/s eta 0:00:01\r",
            "\u001b[K     |█████████████████████▎          | 9.1 MB 101.6 MB/s eta 0:00:01\r",
            "\u001b[K     |█████████████████████▍          | 9.1 MB 101.6 MB/s eta 0:00:01\r",
            "\u001b[K     |█████████████████████▍          | 9.2 MB 101.6 MB/s eta 0:00:01\r",
            "\u001b[K     |█████████████████████▍          | 9.2 MB 101.6 MB/s eta 0:00:01\r",
            "\u001b[K     |█████████████████████▍          | 9.2 MB 101.6 MB/s eta 0:00:01\r",
            "\u001b[K     |█████████████████████▌          | 9.2 MB 101.6 MB/s eta 0:00:01\r",
            "\u001b[K     |█████████████████████▌          | 9.2 MB 101.6 MB/s eta 0:00:01\r",
            "\u001b[K     |█████████████████████▌          | 9.2 MB 101.6 MB/s eta 0:00:01\r",
            "\u001b[K     |█████████████████████▌          | 9.2 MB 101.6 MB/s eta 0:00:01\r",
            "\u001b[K     |█████████████████████▌          | 9.2 MB 101.6 MB/s eta 0:00:01\r",
            "\u001b[K     |█████████████████████▋          | 9.2 MB 101.6 MB/s eta 0:00:01\r",
            "\u001b[K     |█████████████████████▋          | 9.2 MB 101.6 MB/s eta 0:00:01\r",
            "\u001b[K     |█████████████████████▋          | 9.3 MB 101.6 MB/s eta 0:00:01\r",
            "\u001b[K     |█████████████████████▋          | 9.3 MB 101.6 MB/s eta 0:00:01\r",
            "\u001b[K     |█████████████████████▋          | 9.3 MB 101.6 MB/s eta 0:00:01\r",
            "\u001b[K     |█████████████████████▊          | 9.3 MB 101.6 MB/s eta 0:00:01\r",
            "\u001b[K     |█████████████████████▊          | 9.3 MB 101.6 MB/s eta 0:00:01\r",
            "\u001b[K     |█████████████████████▊          | 9.3 MB 101.6 MB/s eta 0:00:01\r",
            "\u001b[K     |█████████████████████▊          | 9.3 MB 101.6 MB/s eta 0:00:01\r",
            "\u001b[K     |█████████████████████▉          | 9.3 MB 101.6 MB/s eta 0:00:01\r",
            "\u001b[K     |█████████████████████▉          | 9.3 MB 101.6 MB/s eta 0:00:01\r",
            "\u001b[K     |█████████████████████▉          | 9.3 MB 101.6 MB/s eta 0:00:01\r",
            "\u001b[K     |█████████████████████▉          | 9.4 MB 101.6 MB/s eta 0:00:01\r",
            "\u001b[K     |█████████████████████▉          | 9.4 MB 101.6 MB/s eta 0:00:01\r",
            "\u001b[K     |██████████████████████          | 9.4 MB 101.6 MB/s eta 0:00:01\r",
            "\u001b[K     |██████████████████████          | 9.4 MB 101.6 MB/s eta 0:00:01\r",
            "\u001b[K     |██████████████████████          | 9.4 MB 101.6 MB/s eta 0:00:01\r",
            "\u001b[K     |██████████████████████          | 9.4 MB 101.6 MB/s eta 0:00:01\r",
            "\u001b[K     |██████████████████████          | 9.4 MB 101.6 MB/s eta 0:00:01\r",
            "\u001b[K     |██████████████████████          | 9.4 MB 101.6 MB/s eta 0:00:01\r",
            "\u001b[K     |██████████████████████          | 9.4 MB 101.6 MB/s eta 0:00:01\r",
            "\u001b[K     |██████████████████████          | 9.5 MB 101.6 MB/s eta 0:00:01\r",
            "\u001b[K     |██████████████████████          | 9.5 MB 101.6 MB/s eta 0:00:01\r",
            "\u001b[K     |██████████████████████▏         | 9.5 MB 101.6 MB/s eta 0:00:01\r",
            "\u001b[K     |██████████████████████▏         | 9.5 MB 101.6 MB/s eta 0:00:01\r",
            "\u001b[K     |██████████████████████▏         | 9.5 MB 101.6 MB/s eta 0:00:01\r",
            "\u001b[K     |██████████████████████▏         | 9.5 MB 101.6 MB/s eta 0:00:01\r",
            "\u001b[K     |██████████████████████▏         | 9.5 MB 101.6 MB/s eta 0:00:01\r",
            "\u001b[K     |██████████████████████▎         | 9.5 MB 101.6 MB/s eta 0:00:01\r",
            "\u001b[K     |██████████████████████▎         | 9.5 MB 101.6 MB/s eta 0:00:01\r",
            "\u001b[K     |██████████████████████▎         | 9.5 MB 101.6 MB/s eta 0:00:01\r",
            "\u001b[K     |██████████████████████▎         | 9.6 MB 101.6 MB/s eta 0:00:01\r",
            "\u001b[K     |██████████████████████▍         | 9.6 MB 101.6 MB/s eta 0:00:01\r",
            "\u001b[K     |██████████████████████▍         | 9.6 MB 101.6 MB/s eta 0:00:01\r",
            "\u001b[K     |██████████████████████▍         | 9.6 MB 101.6 MB/s eta 0:00:01\r",
            "\u001b[K     |██████████████████████▍         | 9.6 MB 101.6 MB/s eta 0:00:01\r",
            "\u001b[K     |██████████████████████▍         | 9.6 MB 101.6 MB/s eta 0:00:01\r",
            "\u001b[K     |██████████████████████▌         | 9.6 MB 101.6 MB/s eta 0:00:01\r",
            "\u001b[K     |██████████████████████▌         | 9.6 MB 101.6 MB/s eta 0:00:01\r",
            "\u001b[K     |██████████████████████▌         | 9.6 MB 101.6 MB/s eta 0:00:01\r",
            "\u001b[K     |██████████████████████▌         | 9.6 MB 101.6 MB/s eta 0:00:01\r",
            "\u001b[K     |██████████████████████▌         | 9.7 MB 101.6 MB/s eta 0:00:01\r",
            "\u001b[K     |██████████████████████▋         | 9.7 MB 101.6 MB/s eta 0:00:01\r",
            "\u001b[K     |██████████████████████▋         | 9.7 MB 101.6 MB/s eta 0:00:01\r",
            "\u001b[K     |██████████████████████▋         | 9.7 MB 101.6 MB/s eta 0:00:01\r",
            "\u001b[K     |██████████████████████▋         | 9.7 MB 101.6 MB/s eta 0:00:01\r",
            "\u001b[K     |██████████████████████▊         | 9.7 MB 101.6 MB/s eta 0:00:01\r",
            "\u001b[K     |██████████████████████▊         | 9.7 MB 101.6 MB/s eta 0:00:01\r",
            "\u001b[K     |██████████████████████▊         | 9.7 MB 101.6 MB/s eta 0:00:01\r",
            "\u001b[K     |██████████████████████▊         | 9.7 MB 101.6 MB/s eta 0:00:01\r",
            "\u001b[K     |██████████████████████▊         | 9.7 MB 101.6 MB/s eta 0:00:01\r",
            "\u001b[K     |██████████████████████▉         | 9.8 MB 101.6 MB/s eta 0:00:01\r",
            "\u001b[K     |██████████████████████▉         | 9.8 MB 101.6 MB/s eta 0:00:01\r",
            "\u001b[K     |██████████████████████▉         | 9.8 MB 101.6 MB/s eta 0:00:01\r",
            "\u001b[K     |██████████████████████▉         | 9.8 MB 101.6 MB/s eta 0:00:01\r",
            "\u001b[K     |██████████████████████▉         | 9.8 MB 101.6 MB/s eta 0:00:01\r",
            "\u001b[K     |███████████████████████         | 9.8 MB 101.6 MB/s eta 0:00:01\r",
            "\u001b[K     |███████████████████████         | 9.8 MB 101.6 MB/s eta 0:00:01\r",
            "\u001b[K     |███████████████████████         | 9.8 MB 101.6 MB/s eta 0:00:01\r",
            "\u001b[K     |███████████████████████         | 9.8 MB 101.6 MB/s eta 0:00:01\r",
            "\u001b[K     |███████████████████████         | 9.9 MB 101.6 MB/s eta 0:00:01\r",
            "\u001b[K     |███████████████████████         | 9.9 MB 101.6 MB/s eta 0:00:01\r",
            "\u001b[K     |███████████████████████         | 9.9 MB 101.6 MB/s eta 0:00:01\r",
            "\u001b[K     |███████████████████████         | 9.9 MB 101.6 MB/s eta 0:00:01\r",
            "\u001b[K     |███████████████████████         | 9.9 MB 101.6 MB/s eta 0:00:01\r",
            "\u001b[K     |███████████████████████▏        | 9.9 MB 101.6 MB/s eta 0:00:01\r",
            "\u001b[K     |███████████████████████▏        | 9.9 MB 101.6 MB/s eta 0:00:01\r",
            "\u001b[K     |███████████████████████▏        | 9.9 MB 101.6 MB/s eta 0:00:01\r",
            "\u001b[K     |███████████████████████▏        | 9.9 MB 101.6 MB/s eta 0:00:01\r",
            "\u001b[K     |███████████████████████▏        | 9.9 MB 101.6 MB/s eta 0:00:01\r",
            "\u001b[K     |███████████████████████▎        | 10.0 MB 101.6 MB/s eta 0:00:01\r",
            "\u001b[K     |███████████████████████▎        | 10.0 MB 101.6 MB/s eta 0:00:01\r",
            "\u001b[K     |███████████████████████▎        | 10.0 MB 101.6 MB/s eta 0:00:01\r",
            "\u001b[K     |███████████████████████▎        | 10.0 MB 101.6 MB/s eta 0:00:01\r",
            "\u001b[K     |███████████████████████▍        | 10.0 MB 101.6 MB/s eta 0:00:01\r",
            "\u001b[K     |███████████████████████▍        | 10.0 MB 101.6 MB/s eta 0:00:01\r",
            "\u001b[K     |███████████████████████▍        | 10.0 MB 101.6 MB/s eta 0:00:01\r",
            "\u001b[K     |███████████████████████▍        | 10.0 MB 101.6 MB/s eta 0:00:01\r",
            "\u001b[K     |███████████████████████▍        | 10.0 MB 101.6 MB/s eta 0:00:01\r",
            "\u001b[K     |███████████████████████▌        | 10.0 MB 101.6 MB/s eta 0:00:01\r",
            "\u001b[K     |███████████████████████▌        | 10.1 MB 101.6 MB/s eta 0:00:01\r",
            "\u001b[K     |███████████████████████▌        | 10.1 MB 101.6 MB/s eta 0:00:01\r",
            "\u001b[K     |███████████████████████▌        | 10.1 MB 101.6 MB/s eta 0:00:01\r",
            "\u001b[K     |███████████████████████▋        | 10.1 MB 101.6 MB/s eta 0:00:01\r",
            "\u001b[K     |███████████████████████▋        | 10.1 MB 101.6 MB/s eta 0:00:01\r",
            "\u001b[K     |███████████████████████▋        | 10.1 MB 101.6 MB/s eta 0:00:01\r",
            "\u001b[K     |███████████████████████▋        | 10.1 MB 101.6 MB/s eta 0:00:01\r",
            "\u001b[K     |███████████████████████▋        | 10.1 MB 101.6 MB/s eta 0:00:01\r",
            "\u001b[K     |███████████████████████▊        | 10.1 MB 101.6 MB/s eta 0:00:01\r",
            "\u001b[K     |███████████████████████▊        | 10.1 MB 101.6 MB/s eta 0:00:01\r",
            "\u001b[K     |███████████████████████▊        | 10.2 MB 101.6 MB/s eta 0:00:01\r",
            "\u001b[K     |███████████████████████▊        | 10.2 MB 101.6 MB/s eta 0:00:01\r",
            "\u001b[K     |███████████████████████▊        | 10.2 MB 101.6 MB/s eta 0:00:01\r",
            "\u001b[K     |███████████████████████▉        | 10.2 MB 101.6 MB/s eta 0:00:01\r",
            "\u001b[K     |███████████████████████▉        | 10.2 MB 101.6 MB/s eta 0:00:01\r",
            "\u001b[K     |███████████████████████▉        | 10.2 MB 101.6 MB/s eta 0:00:01\r",
            "\u001b[K     |███████████████████████▉        | 10.2 MB 101.6 MB/s eta 0:00:01\r",
            "\u001b[K     |████████████████████████        | 10.2 MB 101.6 MB/s eta 0:00:01\r",
            "\u001b[K     |████████████████████████        | 10.2 MB 101.6 MB/s eta 0:00:01\r",
            "\u001b[K     |████████████████████████        | 10.3 MB 101.6 MB/s eta 0:00:01\r",
            "\u001b[K     |████████████████████████        | 10.3 MB 101.6 MB/s eta 0:00:01\r",
            "\u001b[K     |████████████████████████        | 10.3 MB 101.6 MB/s eta 0:00:01\r",
            "\u001b[K     |████████████████████████        | 10.3 MB 101.6 MB/s eta 0:00:01\r",
            "\u001b[K     |████████████████████████        | 10.3 MB 101.6 MB/s eta 0:00:01\r",
            "\u001b[K     |████████████████████████        | 10.3 MB 101.6 MB/s eta 0:00:01\r",
            "\u001b[K     |████████████████████████        | 10.3 MB 101.6 MB/s eta 0:00:01\r",
            "\u001b[K     |████████████████████████        | 10.3 MB 101.6 MB/s eta 0:00:01\r",
            "\u001b[K     |████████████████████████▏       | 10.3 MB 101.6 MB/s eta 0:00:01\r",
            "\u001b[K     |████████████████████████▏       | 10.3 MB 101.6 MB/s eta 0:00:01\r",
            "\u001b[K     |████████████████████████▏       | 10.4 MB 101.6 MB/s eta 0:00:01\r",
            "\u001b[K     |████████████████████████▏       | 10.4 MB 101.6 MB/s eta 0:00:01\r",
            "\u001b[K     |████████████████████████▎       | 10.4 MB 101.6 MB/s eta 0:00:01\r",
            "\u001b[K     |████████████████████████▎       | 10.4 MB 101.6 MB/s eta 0:00:01\r",
            "\u001b[K     |████████████████████████▎       | 10.4 MB 101.6 MB/s eta 0:00:01\r",
            "\u001b[K     |████████████████████████▎       | 10.4 MB 101.6 MB/s eta 0:00:01\r",
            "\u001b[K     |████████████████████████▎       | 10.4 MB 101.6 MB/s eta 0:00:01\r",
            "\u001b[K     |████████████████████████▍       | 10.4 MB 101.6 MB/s eta 0:00:01\r",
            "\u001b[K     |████████████████████████▍       | 10.4 MB 101.6 MB/s eta 0:00:01\r",
            "\u001b[K     |████████████████████████▍       | 10.4 MB 101.6 MB/s eta 0:00:01\r",
            "\u001b[K     |████████████████████████▍       | 10.5 MB 101.6 MB/s eta 0:00:01\r",
            "\u001b[K     |████████████████████████▍       | 10.5 MB 101.6 MB/s eta 0:00:01\r",
            "\u001b[K     |████████████████████████▌       | 10.5 MB 101.6 MB/s eta 0:00:01\r",
            "\u001b[K     |████████████████████████▌       | 10.5 MB 101.6 MB/s eta 0:00:01\r",
            "\u001b[K     |████████████████████████▌       | 10.5 MB 101.6 MB/s eta 0:00:01\r",
            "\u001b[K     |████████████████████████▌       | 10.5 MB 101.6 MB/s eta 0:00:01\r",
            "\u001b[K     |████████████████████████▋       | 10.5 MB 101.6 MB/s eta 0:00:01\r",
            "\u001b[K     |████████████████████████▋       | 10.5 MB 101.6 MB/s eta 0:00:01\r",
            "\u001b[K     |████████████████████████▋       | 10.5 MB 101.6 MB/s eta 0:00:01\r",
            "\u001b[K     |████████████████████████▋       | 10.5 MB 101.6 MB/s eta 0:00:01\r",
            "\u001b[K     |████████████████████████▋       | 10.6 MB 101.6 MB/s eta 0:00:01\r",
            "\u001b[K     |████████████████████████▊       | 10.6 MB 101.6 MB/s eta 0:00:01\r",
            "\u001b[K     |████████████████████████▊       | 10.6 MB 101.6 MB/s eta 0:00:01\r",
            "\u001b[K     |████████████████████████▊       | 10.6 MB 101.6 MB/s eta 0:00:01\r",
            "\u001b[K     |████████████████████████▊       | 10.6 MB 101.6 MB/s eta 0:00:01\r",
            "\u001b[K     |████████████████████████▊       | 10.6 MB 101.6 MB/s eta 0:00:01\r",
            "\u001b[K     |████████████████████████▉       | 10.6 MB 101.6 MB/s eta 0:00:01\r",
            "\u001b[K     |████████████████████████▉       | 10.6 MB 101.6 MB/s eta 0:00:01\r",
            "\u001b[K     |████████████████████████▉       | 10.6 MB 101.6 MB/s eta 0:00:01\r",
            "\u001b[K     |████████████████████████▉       | 10.6 MB 101.6 MB/s eta 0:00:01\r",
            "\u001b[K     |█████████████████████████       | 10.7 MB 101.6 MB/s eta 0:00:01\r",
            "\u001b[K     |█████████████████████████       | 10.7 MB 101.6 MB/s eta 0:00:01\r",
            "\u001b[K     |█████████████████████████       | 10.7 MB 101.6 MB/s eta 0:00:01\r",
            "\u001b[K     |█████████████████████████       | 10.7 MB 101.6 MB/s eta 0:00:01\r",
            "\u001b[K     |█████████████████████████       | 10.7 MB 101.6 MB/s eta 0:00:01\r",
            "\u001b[K     |█████████████████████████       | 10.7 MB 101.6 MB/s eta 0:00:01\r",
            "\u001b[K     |█████████████████████████       | 10.7 MB 101.6 MB/s eta 0:00:01\r",
            "\u001b[K     |█████████████████████████       | 10.7 MB 101.6 MB/s eta 0:00:01\r",
            "\u001b[K     |█████████████████████████       | 10.7 MB 101.6 MB/s eta 0:00:01\r",
            "\u001b[K     |█████████████████████████       | 10.8 MB 101.6 MB/s eta 0:00:01\r",
            "\u001b[K     |█████████████████████████▏      | 10.8 MB 101.6 MB/s eta 0:00:01\r",
            "\u001b[K     |█████████████████████████▏      | 10.8 MB 101.6 MB/s eta 0:00:01\r",
            "\u001b[K     |█████████████████████████▏      | 10.8 MB 101.6 MB/s eta 0:00:01\r",
            "\u001b[K     |█████████████████████████▏      | 10.8 MB 101.6 MB/s eta 0:00:01\r",
            "\u001b[K     |█████████████████████████▎      | 10.8 MB 101.6 MB/s eta 0:00:01\r",
            "\u001b[K     |█████████████████████████▎      | 10.8 MB 101.6 MB/s eta 0:00:01\r",
            "\u001b[K     |█████████████████████████▎      | 10.8 MB 101.6 MB/s eta 0:00:01\r",
            "\u001b[K     |█████████████████████████▎      | 10.8 MB 101.6 MB/s eta 0:00:01\r",
            "\u001b[K     |█████████████████████████▎      | 10.8 MB 101.6 MB/s eta 0:00:01\r",
            "\u001b[K     |█████████████████████████▍      | 10.9 MB 101.6 MB/s eta 0:00:01\r",
            "\u001b[K     |█████████████████████████▍      | 10.9 MB 101.6 MB/s eta 0:00:01\r",
            "\u001b[K     |█████████████████████████▍      | 10.9 MB 101.6 MB/s eta 0:00:01\r",
            "\u001b[K     |█████████████████████████▍      | 10.9 MB 101.6 MB/s eta 0:00:01\r",
            "\u001b[K     |█████████████████████████▌      | 10.9 MB 101.6 MB/s eta 0:00:01\r",
            "\u001b[K     |█████████████████████████▌      | 10.9 MB 101.6 MB/s eta 0:00:01\r",
            "\u001b[K     |█████████████████████████▌      | 10.9 MB 101.6 MB/s eta 0:00:01\r",
            "\u001b[K     |█████████████████████████▌      | 10.9 MB 101.6 MB/s eta 0:00:01\r",
            "\u001b[K     |█████████████████████████▌      | 10.9 MB 101.6 MB/s eta 0:00:01\r",
            "\u001b[K     |█████████████████████████▋      | 10.9 MB 101.6 MB/s eta 0:00:01\r",
            "\u001b[K     |█████████████████████████▋      | 11.0 MB 101.6 MB/s eta 0:00:01\r",
            "\u001b[K     |█████████████████████████▋      | 11.0 MB 101.6 MB/s eta 0:00:01\r",
            "\u001b[K     |█████████████████████████▋      | 11.0 MB 101.6 MB/s eta 0:00:01\r",
            "\u001b[K     |█████████████████████████▋      | 11.0 MB 101.6 MB/s eta 0:00:01\r",
            "\u001b[K     |█████████████████████████▊      | 11.0 MB 101.6 MB/s eta 0:00:01\r",
            "\u001b[K     |█████████████████████████▊      | 11.0 MB 101.6 MB/s eta 0:00:01\r",
            "\u001b[K     |█████████████████████████▊      | 11.0 MB 101.6 MB/s eta 0:00:01\r",
            "\u001b[K     |█████████████████████████▊      | 11.0 MB 101.6 MB/s eta 0:00:01\r",
            "\u001b[K     |█████████████████████████▉      | 11.0 MB 101.6 MB/s eta 0:00:01\r",
            "\u001b[K     |█████████████████████████▉      | 11.0 MB 101.6 MB/s eta 0:00:01\r",
            "\u001b[K     |█████████████████████████▉      | 11.1 MB 101.6 MB/s eta 0:00:01\r",
            "\u001b[K     |█████████████████████████▉      | 11.1 MB 101.6 MB/s eta 0:00:01\r",
            "\u001b[K     |█████████████████████████▉      | 11.1 MB 101.6 MB/s eta 0:00:01\r",
            "\u001b[K     |██████████████████████████      | 11.1 MB 101.6 MB/s eta 0:00:01\r",
            "\u001b[K     |██████████████████████████      | 11.1 MB 101.6 MB/s eta 0:00:01\r",
            "\u001b[K     |██████████████████████████      | 11.1 MB 101.6 MB/s eta 0:00:01\r",
            "\u001b[K     |██████████████████████████      | 11.1 MB 101.6 MB/s eta 0:00:01\r",
            "\u001b[K     |██████████████████████████      | 11.1 MB 101.6 MB/s eta 0:00:01\r",
            "\u001b[K     |██████████████████████████      | 11.1 MB 101.6 MB/s eta 0:00:01\r",
            "\u001b[K     |██████████████████████████      | 11.2 MB 101.6 MB/s eta 0:00:01\r",
            "\u001b[K     |██████████████████████████      | 11.2 MB 101.6 MB/s eta 0:00:01\r",
            "\u001b[K     |██████████████████████████      | 11.2 MB 101.6 MB/s eta 0:00:01\r",
            "\u001b[K     |██████████████████████████▏     | 11.2 MB 101.6 MB/s eta 0:00:01\r",
            "\u001b[K     |██████████████████████████▏     | 11.2 MB 101.6 MB/s eta 0:00:01\r",
            "\u001b[K     |██████████████████████████▏     | 11.2 MB 101.6 MB/s eta 0:00:01\r",
            "\u001b[K     |██████████████████████████▏     | 11.2 MB 101.6 MB/s eta 0:00:01\r",
            "\u001b[K     |██████████████████████████▏     | 11.2 MB 101.6 MB/s eta 0:00:01\r",
            "\u001b[K     |██████████████████████████▎     | 11.2 MB 101.6 MB/s eta 0:00:01\r",
            "\u001b[K     |██████████████████████████▎     | 11.2 MB 101.6 MB/s eta 0:00:01\r",
            "\u001b[K     |██████████████████████████▎     | 11.3 MB 101.6 MB/s eta 0:00:01\r",
            "\u001b[K     |██████████████████████████▎     | 11.3 MB 101.6 MB/s eta 0:00:01\r",
            "\u001b[K     |██████████████████████████▎     | 11.3 MB 101.6 MB/s eta 0:00:01\r",
            "\u001b[K     |██████████████████████████▍     | 11.3 MB 101.6 MB/s eta 0:00:01\r",
            "\u001b[K     |██████████████████████████▍     | 11.3 MB 101.6 MB/s eta 0:00:01\r",
            "\u001b[K     |██████████████████████████▍     | 11.3 MB 101.6 MB/s eta 0:00:01\r",
            "\u001b[K     |██████████████████████████▍     | 11.3 MB 101.6 MB/s eta 0:00:01\r",
            "\u001b[K     |██████████████████████████▌     | 11.3 MB 101.6 MB/s eta 0:00:01\r",
            "\u001b[K     |██████████████████████████▌     | 11.3 MB 101.6 MB/s eta 0:00:01\r",
            "\u001b[K     |██████████████████████████▌     | 11.3 MB 101.6 MB/s eta 0:00:01\r",
            "\u001b[K     |██████████████████████████▌     | 11.4 MB 101.6 MB/s eta 0:00:01\r",
            "\u001b[K     |██████████████████████████▌     | 11.4 MB 101.6 MB/s eta 0:00:01\r",
            "\u001b[K     |██████████████████████████▋     | 11.4 MB 101.6 MB/s eta 0:00:01\r",
            "\u001b[K     |██████████████████████████▋     | 11.4 MB 101.6 MB/s eta 0:00:01\r",
            "\u001b[K     |██████████████████████████▋     | 11.4 MB 101.6 MB/s eta 0:00:01\r",
            "\u001b[K     |██████████████████████████▋     | 11.4 MB 101.6 MB/s eta 0:00:01\r",
            "\u001b[K     |██████████████████████████▋     | 11.4 MB 101.6 MB/s eta 0:00:01\r",
            "\u001b[K     |██████████████████████████▊     | 11.4 MB 101.6 MB/s eta 0:00:01\r",
            "\u001b[K     |██████████████████████████▊     | 11.4 MB 101.6 MB/s eta 0:00:01\r",
            "\u001b[K     |██████████████████████████▊     | 11.4 MB 101.6 MB/s eta 0:00:01\r",
            "\u001b[K     |██████████████████████████▊     | 11.5 MB 101.6 MB/s eta 0:00:01\r",
            "\u001b[K     |██████████████████████████▉     | 11.5 MB 101.6 MB/s eta 0:00:01\r",
            "\u001b[K     |██████████████████████████▉     | 11.5 MB 101.6 MB/s eta 0:00:01\r",
            "\u001b[K     |██████████████████████████▉     | 11.5 MB 101.6 MB/s eta 0:00:01\r",
            "\u001b[K     |██████████████████████████▉     | 11.5 MB 101.6 MB/s eta 0:00:01\r",
            "\u001b[K     |██████████████████████████▉     | 11.5 MB 101.6 MB/s eta 0:00:01\r",
            "\u001b[K     |███████████████████████████     | 11.5 MB 101.6 MB/s eta 0:00:01\r",
            "\u001b[K     |███████████████████████████     | 11.5 MB 101.6 MB/s eta 0:00:01\r",
            "\u001b[K     |███████████████████████████     | 11.5 MB 101.6 MB/s eta 0:00:01\r",
            "\u001b[K     |███████████████████████████     | 11.6 MB 101.6 MB/s eta 0:00:01\r",
            "\u001b[K     |███████████████████████████     | 11.6 MB 101.6 MB/s eta 0:00:01\r",
            "\u001b[K     |███████████████████████████     | 11.6 MB 101.6 MB/s eta 0:00:01\r",
            "\u001b[K     |███████████████████████████     | 11.6 MB 101.6 MB/s eta 0:00:01\r",
            "\u001b[K     |███████████████████████████     | 11.6 MB 101.6 MB/s eta 0:00:01\r",
            "\u001b[K     |███████████████████████████     | 11.6 MB 101.6 MB/s eta 0:00:01\r",
            "\u001b[K     |███████████████████████████▏    | 11.6 MB 101.6 MB/s eta 0:00:01\r",
            "\u001b[K     |███████████████████████████▏    | 11.6 MB 101.6 MB/s eta 0:00:01\r",
            "\u001b[K     |███████████████████████████▏    | 11.6 MB 101.6 MB/s eta 0:00:01\r",
            "\u001b[K     |███████████████████████████▏    | 11.6 MB 101.6 MB/s eta 0:00:01\r",
            "\u001b[K     |███████████████████████████▏    | 11.7 MB 101.6 MB/s eta 0:00:01\r",
            "\u001b[K     |███████████████████████████▎    | 11.7 MB 101.6 MB/s eta 0:00:01\r",
            "\u001b[K     |███████████████████████████▎    | 11.7 MB 101.6 MB/s eta 0:00:01\r",
            "\u001b[K     |███████████████████████████▎    | 11.7 MB 101.6 MB/s eta 0:00:01\r",
            "\u001b[K     |███████████████████████████▎    | 11.7 MB 101.6 MB/s eta 0:00:01\r",
            "\u001b[K     |███████████████████████████▍    | 11.7 MB 101.6 MB/s eta 0:00:01\r",
            "\u001b[K     |███████████████████████████▍    | 11.7 MB 101.6 MB/s eta 0:00:01\r",
            "\u001b[K     |███████████████████████████▍    | 11.7 MB 101.6 MB/s eta 0:00:01\r",
            "\u001b[K     |███████████████████████████▍    | 11.7 MB 101.6 MB/s eta 0:00:01\r",
            "\u001b[K     |███████████████████████████▍    | 11.7 MB 101.6 MB/s eta 0:00:01\r",
            "\u001b[K     |███████████████████████████▌    | 11.8 MB 101.6 MB/s eta 0:00:01\r",
            "\u001b[K     |███████████████████████████▌    | 11.8 MB 101.6 MB/s eta 0:00:01\r",
            "\u001b[K     |███████████████████████████▌    | 11.8 MB 101.6 MB/s eta 0:00:01\r",
            "\u001b[K     |███████████████████████████▌    | 11.8 MB 101.6 MB/s eta 0:00:01\r",
            "\u001b[K     |███████████████████████████▌    | 11.8 MB 101.6 MB/s eta 0:00:01\r",
            "\u001b[K     |███████████████████████████▋    | 11.8 MB 101.6 MB/s eta 0:00:01\r",
            "\u001b[K     |███████████████████████████▋    | 11.8 MB 101.6 MB/s eta 0:00:01\r",
            "\u001b[K     |███████████████████████████▋    | 11.8 MB 101.6 MB/s eta 0:00:01\r",
            "\u001b[K     |███████████████████████████▋    | 11.8 MB 101.6 MB/s eta 0:00:01\r",
            "\u001b[K     |███████████████████████████▊    | 11.8 MB 101.6 MB/s eta 0:00:01\r",
            "\u001b[K     |███████████████████████████▊    | 11.9 MB 101.6 MB/s eta 0:00:01\r",
            "\u001b[K     |███████████████████████████▊    | 11.9 MB 101.6 MB/s eta 0:00:01\r",
            "\u001b[K     |███████████████████████████▊    | 11.9 MB 101.6 MB/s eta 0:00:01\r",
            "\u001b[K     |███████████████████████████▊    | 11.9 MB 101.6 MB/s eta 0:00:01\r",
            "\u001b[K     |███████████████████████████▉    | 11.9 MB 101.6 MB/s eta 0:00:01\r",
            "\u001b[K     |███████████████████████████▉    | 11.9 MB 101.6 MB/s eta 0:00:01\r",
            "\u001b[K     |███████████████████████████▉    | 11.9 MB 101.6 MB/s eta 0:00:01\r",
            "\u001b[K     |███████████████████████████▉    | 11.9 MB 101.6 MB/s eta 0:00:01\r",
            "\u001b[K     |███████████████████████████▉    | 11.9 MB 101.6 MB/s eta 0:00:01\r",
            "\u001b[K     |████████████████████████████    | 12.0 MB 101.6 MB/s eta 0:00:01\r",
            "\u001b[K     |████████████████████████████    | 12.0 MB 101.6 MB/s eta 0:00:01\r",
            "\u001b[K     |████████████████████████████    | 12.0 MB 101.6 MB/s eta 0:00:01\r",
            "\u001b[K     |████████████████████████████    | 12.0 MB 101.6 MB/s eta 0:00:01\r",
            "\u001b[K     |████████████████████████████    | 12.0 MB 101.6 MB/s eta 0:00:01\r",
            "\u001b[K     |████████████████████████████    | 12.0 MB 101.6 MB/s eta 0:00:01\r",
            "\u001b[K     |████████████████████████████    | 12.0 MB 101.6 MB/s eta 0:00:01\r",
            "\u001b[K     |████████████████████████████    | 12.0 MB 101.6 MB/s eta 0:00:01\r",
            "\u001b[K     |████████████████████████████    | 12.0 MB 101.6 MB/s eta 0:00:01\r",
            "\u001b[K     |████████████████████████████▏   | 12.0 MB 101.6 MB/s eta 0:00:01\r",
            "\u001b[K     |████████████████████████████▏   | 12.1 MB 101.6 MB/s eta 0:00:01\r",
            "\u001b[K     |████████████████████████████▏   | 12.1 MB 101.6 MB/s eta 0:00:01\r",
            "\u001b[K     |████████████████████████████▏   | 12.1 MB 101.6 MB/s eta 0:00:01\r",
            "\u001b[K     |████████████████████████████▏   | 12.1 MB 101.6 MB/s eta 0:00:01\r",
            "\u001b[K     |████████████████████████████▎   | 12.1 MB 101.6 MB/s eta 0:00:01\r",
            "\u001b[K     |████████████████████████████▎   | 12.1 MB 101.6 MB/s eta 0:00:01\r",
            "\u001b[K     |████████████████████████████▎   | 12.1 MB 101.6 MB/s eta 0:00:01\r",
            "\u001b[K     |████████████████████████████▎   | 12.1 MB 101.6 MB/s eta 0:00:01\r",
            "\u001b[K     |████████████████████████████▍   | 12.1 MB 101.6 MB/s eta 0:00:01\r",
            "\u001b[K     |████████████████████████████▍   | 12.1 MB 101.6 MB/s eta 0:00:01\r",
            "\u001b[K     |████████████████████████████▍   | 12.2 MB 101.6 MB/s eta 0:00:01\r",
            "\u001b[K     |████████████████████████████▍   | 12.2 MB 101.6 MB/s eta 0:00:01\r",
            "\u001b[K     |████████████████████████████▍   | 12.2 MB 101.6 MB/s eta 0:00:01\r",
            "\u001b[K     |████████████████████████████▌   | 12.2 MB 101.6 MB/s eta 0:00:01\r",
            "\u001b[K     |████████████████████████████▌   | 12.2 MB 101.6 MB/s eta 0:00:01\r",
            "\u001b[K     |████████████████████████████▌   | 12.2 MB 101.6 MB/s eta 0:00:01\r",
            "\u001b[K     |████████████████████████████▌   | 12.2 MB 101.6 MB/s eta 0:00:01\r",
            "\u001b[K     |████████████████████████████▌   | 12.2 MB 101.6 MB/s eta 0:00:01\r",
            "\u001b[K     |████████████████████████████▋   | 12.2 MB 101.6 MB/s eta 0:00:01\r",
            "\u001b[K     |████████████████████████████▋   | 12.2 MB 101.6 MB/s eta 0:00:01\r",
            "\u001b[K     |████████████████████████████▋   | 12.3 MB 101.6 MB/s eta 0:00:01\r",
            "\u001b[K     |████████████████████████████▋   | 12.3 MB 101.6 MB/s eta 0:00:01\r",
            "\u001b[K     |████████████████████████████▊   | 12.3 MB 101.6 MB/s eta 0:00:01\r",
            "\u001b[K     |████████████████████████████▊   | 12.3 MB 101.6 MB/s eta 0:00:01\r",
            "\u001b[K     |████████████████████████████▊   | 12.3 MB 101.6 MB/s eta 0:00:01\r",
            "\u001b[K     |████████████████████████████▊   | 12.3 MB 101.6 MB/s eta 0:00:01\r",
            "\u001b[K     |████████████████████████████▊   | 12.3 MB 101.6 MB/s eta 0:00:01\r",
            "\u001b[K     |████████████████████████████▉   | 12.3 MB 101.6 MB/s eta 0:00:01\r",
            "\u001b[K     |████████████████████████████▉   | 12.3 MB 101.6 MB/s eta 0:00:01\r",
            "\u001b[K     |████████████████████████████▉   | 12.3 MB 101.6 MB/s eta 0:00:01\r",
            "\u001b[K     |████████████████████████████▉   | 12.4 MB 101.6 MB/s eta 0:00:01\r",
            "\u001b[K     |████████████████████████████▉   | 12.4 MB 101.6 MB/s eta 0:00:01\r",
            "\u001b[K     |█████████████████████████████   | 12.4 MB 101.6 MB/s eta 0:00:01\r",
            "\u001b[K     |█████████████████████████████   | 12.4 MB 101.6 MB/s eta 0:00:01\r",
            "\u001b[K     |█████████████████████████████   | 12.4 MB 101.6 MB/s eta 0:00:01\r",
            "\u001b[K     |█████████████████████████████   | 12.4 MB 101.6 MB/s eta 0:00:01\r",
            "\u001b[K     |█████████████████████████████   | 12.4 MB 101.6 MB/s eta 0:00:01\r",
            "\u001b[K     |█████████████████████████████   | 12.4 MB 101.6 MB/s eta 0:00:01\r",
            "\u001b[K     |█████████████████████████████   | 12.4 MB 101.6 MB/s eta 0:00:01\r",
            "\u001b[K     |█████████████████████████████   | 12.5 MB 101.6 MB/s eta 0:00:01\r",
            "\u001b[K     |█████████████████████████████   | 12.5 MB 101.6 MB/s eta 0:00:01\r",
            "\u001b[K     |█████████████████████████████▏  | 12.5 MB 101.6 MB/s eta 0:00:01\r",
            "\u001b[K     |█████████████████████████████▏  | 12.5 MB 101.6 MB/s eta 0:00:01\r",
            "\u001b[K     |█████████████████████████████▏  | 12.5 MB 101.6 MB/s eta 0:00:01\r",
            "\u001b[K     |█████████████████████████████▏  | 12.5 MB 101.6 MB/s eta 0:00:01\r",
            "\u001b[K     |█████████████████████████████▎  | 12.5 MB 101.6 MB/s eta 0:00:01\r",
            "\u001b[K     |█████████████████████████████▎  | 12.5 MB 101.6 MB/s eta 0:00:01\r",
            "\u001b[K     |█████████████████████████████▎  | 12.5 MB 101.6 MB/s eta 0:00:01\r",
            "\u001b[K     |█████████████████████████████▎  | 12.5 MB 101.6 MB/s eta 0:00:01\r",
            "\u001b[K     |█████████████████████████████▎  | 12.6 MB 101.6 MB/s eta 0:00:01\r",
            "\u001b[K     |█████████████████████████████▍  | 12.6 MB 101.6 MB/s eta 0:00:01\r",
            "\u001b[K     |█████████████████████████████▍  | 12.6 MB 101.6 MB/s eta 0:00:01"
          ]
        },
        {
          "name": "stdout",
          "output_type": "stream",
          "text": [
            "\r",
            "\u001b[K     |█████████████████████████████▍  | 12.6 MB 101.6 MB/s eta 0:00:01\r",
            "\u001b[K     |█████████████████████████████▍  | 12.6 MB 101.6 MB/s eta 0:00:01\r",
            "\u001b[K     |█████████████████████████████▍  | 12.6 MB 101.6 MB/s eta 0:00:01\r",
            "\u001b[K     |█████████████████████████████▌  | 12.6 MB 101.6 MB/s eta 0:00:01\r",
            "\u001b[K     |█████████████████████████████▌  | 12.6 MB 101.6 MB/s eta 0:00:01\r",
            "\u001b[K     |█████████████████████████████▌  | 12.6 MB 101.6 MB/s eta 0:00:01\r",
            "\u001b[K     |█████████████████████████████▌  | 12.6 MB 101.6 MB/s eta 0:00:01\r",
            "\u001b[K     |█████████████████████████████▋  | 12.7 MB 101.6 MB/s eta 0:00:01\r",
            "\u001b[K     |█████████████████████████████▋  | 12.7 MB 101.6 MB/s eta 0:00:01\r",
            "\u001b[K     |█████████████████████████████▋  | 12.7 MB 101.6 MB/s eta 0:00:01\r",
            "\u001b[K     |█████████████████████████████▋  | 12.7 MB 101.6 MB/s eta 0:00:01\r",
            "\u001b[K     |█████████████████████████████▋  | 12.7 MB 101.6 MB/s eta 0:00:01\r",
            "\u001b[K     |█████████████████████████████▊  | 12.7 MB 101.6 MB/s eta 0:00:01\r",
            "\u001b[K     |█████████████████████████████▊  | 12.7 MB 101.6 MB/s eta 0:00:01\r",
            "\u001b[K     |█████████████████████████████▊  | 12.7 MB 101.6 MB/s eta 0:00:01\r",
            "\u001b[K     |█████████████████████████████▊  | 12.7 MB 101.6 MB/s eta 0:00:01\r",
            "\u001b[K     |█████████████████████████████▊  | 12.7 MB 101.6 MB/s eta 0:00:01\r",
            "\u001b[K     |█████████████████████████████▉  | 12.8 MB 101.6 MB/s eta 0:00:01\r",
            "\u001b[K     |█████████████████████████████▉  | 12.8 MB 101.6 MB/s eta 0:00:01\r",
            "\u001b[K     |█████████████████████████████▉  | 12.8 MB 101.6 MB/s eta 0:00:01\r",
            "\u001b[K     |█████████████████████████████▉  | 12.8 MB 101.6 MB/s eta 0:00:01\r",
            "\u001b[K     |██████████████████████████████  | 12.8 MB 101.6 MB/s eta 0:00:01\r",
            "\u001b[K     |██████████████████████████████  | 12.8 MB 101.6 MB/s eta 0:00:01\r",
            "\u001b[K     |██████████████████████████████  | 12.8 MB 101.6 MB/s eta 0:00:01\r",
            "\u001b[K     |██████████████████████████████  | 12.8 MB 101.6 MB/s eta 0:00:01\r",
            "\u001b[K     |██████████████████████████████  | 12.8 MB 101.6 MB/s eta 0:00:01\r",
            "\u001b[K     |██████████████████████████████  | 12.9 MB 101.6 MB/s eta 0:00:01\r",
            "\u001b[K     |██████████████████████████████  | 12.9 MB 101.6 MB/s eta 0:00:01\r",
            "\u001b[K     |██████████████████████████████  | 12.9 MB 101.6 MB/s eta 0:00:01\r",
            "\u001b[K     |██████████████████████████████  | 12.9 MB 101.6 MB/s eta 0:00:01\r",
            "\u001b[K     |██████████████████████████████  | 12.9 MB 101.6 MB/s eta 0:00:01\r",
            "\u001b[K     |██████████████████████████████▏ | 12.9 MB 101.6 MB/s eta 0:00:01\r",
            "\u001b[K     |██████████████████████████████▏ | 12.9 MB 101.6 MB/s eta 0:00:01\r",
            "\u001b[K     |██████████████████████████████▏ | 12.9 MB 101.6 MB/s eta 0:00:01\r",
            "\u001b[K     |██████████████████████████████▏ | 12.9 MB 101.6 MB/s eta 0:00:01\r",
            "\u001b[K     |██████████████████████████████▎ | 12.9 MB 101.6 MB/s eta 0:00:01\r",
            "\u001b[K     |██████████████████████████████▎ | 13.0 MB 101.6 MB/s eta 0:00:01\r",
            "\u001b[K     |██████████████████████████████▎ | 13.0 MB 101.6 MB/s eta 0:00:01\r",
            "\u001b[K     |██████████████████████████████▎ | 13.0 MB 101.6 MB/s eta 0:00:01\r",
            "\u001b[K     |██████████████████████████████▎ | 13.0 MB 101.6 MB/s eta 0:00:01\r",
            "\u001b[K     |██████████████████████████████▍ | 13.0 MB 101.6 MB/s eta 0:00:01\r",
            "\u001b[K     |██████████████████████████████▍ | 13.0 MB 101.6 MB/s eta 0:00:01\r",
            "\u001b[K     |██████████████████████████████▍ | 13.0 MB 101.6 MB/s eta 0:00:01\r",
            "\u001b[K     |██████████████████████████████▍ | 13.0 MB 101.6 MB/s eta 0:00:01\r",
            "\u001b[K     |██████████████████████████████▍ | 13.0 MB 101.6 MB/s eta 0:00:01\r",
            "\u001b[K     |██████████████████████████████▌ | 13.0 MB 101.6 MB/s eta 0:00:01\r",
            "\u001b[K     |██████████████████████████████▌ | 13.1 MB 101.6 MB/s eta 0:00:01\r",
            "\u001b[K     |██████████████████████████████▌ | 13.1 MB 101.6 MB/s eta 0:00:01\r",
            "\u001b[K     |██████████████████████████████▌ | 13.1 MB 101.6 MB/s eta 0:00:01\r",
            "\u001b[K     |██████████████████████████████▋ | 13.1 MB 101.6 MB/s eta 0:00:01\r",
            "\u001b[K     |██████████████████████████████▋ | 13.1 MB 101.6 MB/s eta 0:00:01\r",
            "\u001b[K     |██████████████████████████████▋ | 13.1 MB 101.6 MB/s eta 0:00:01\r",
            "\u001b[K     |██████████████████████████████▋ | 13.1 MB 101.6 MB/s eta 0:00:01\r",
            "\u001b[K     |██████████████████████████████▋ | 13.1 MB 101.6 MB/s eta 0:00:01\r",
            "\u001b[K     |██████████████████████████████▊ | 13.1 MB 101.6 MB/s eta 0:00:01\r",
            "\u001b[K     |██████████████████████████████▊ | 13.1 MB 101.6 MB/s eta 0:00:01\r",
            "\u001b[K     |██████████████████████████████▊ | 13.2 MB 101.6 MB/s eta 0:00:01\r",
            "\u001b[K     |██████████████████████████████▊ | 13.2 MB 101.6 MB/s eta 0:00:01\r",
            "\u001b[K     |██████████████████████████████▊ | 13.2 MB 101.6 MB/s eta 0:00:01\r",
            "\u001b[K     |██████████████████████████████▉ | 13.2 MB 101.6 MB/s eta 0:00:01\r",
            "\u001b[K     |██████████████████████████████▉ | 13.2 MB 101.6 MB/s eta 0:00:01\r",
            "\u001b[K     |██████████████████████████████▉ | 13.2 MB 101.6 MB/s eta 0:00:01\r",
            "\u001b[K     |██████████████████████████████▉ | 13.2 MB 101.6 MB/s eta 0:00:01\r",
            "\u001b[K     |███████████████████████████████ | 13.2 MB 101.6 MB/s eta 0:00:01\r",
            "\u001b[K     |███████████████████████████████ | 13.2 MB 101.6 MB/s eta 0:00:01\r",
            "\u001b[K     |███████████████████████████████ | 13.3 MB 101.6 MB/s eta 0:00:01\r",
            "\u001b[K     |███████████████████████████████ | 13.3 MB 101.6 MB/s eta 0:00:01\r",
            "\u001b[K     |███████████████████████████████ | 13.3 MB 101.6 MB/s eta 0:00:01\r",
            "\u001b[K     |███████████████████████████████ | 13.3 MB 101.6 MB/s eta 0:00:01\r",
            "\u001b[K     |███████████████████████████████ | 13.3 MB 101.6 MB/s eta 0:00:01\r",
            "\u001b[K     |███████████████████████████████ | 13.3 MB 101.6 MB/s eta 0:00:01\r",
            "\u001b[K     |███████████████████████████████ | 13.3 MB 101.6 MB/s eta 0:00:01\r",
            "\u001b[K     |███████████████████████████████▏| 13.3 MB 101.6 MB/s eta 0:00:01\r",
            "\u001b[K     |███████████████████████████████▏| 13.3 MB 101.6 MB/s eta 0:00:01\r",
            "\u001b[K     |███████████████████████████████▏| 13.3 MB 101.6 MB/s eta 0:00:01\r",
            "\u001b[K     |███████████████████████████████▏| 13.4 MB 101.6 MB/s eta 0:00:01\r",
            "\u001b[K     |███████████████████████████████▏| 13.4 MB 101.6 MB/s eta 0:00:01\r",
            "\u001b[K     |███████████████████████████████▎| 13.4 MB 101.6 MB/s eta 0:00:01\r",
            "\u001b[K     |███████████████████████████████▎| 13.4 MB 101.6 MB/s eta 0:00:01\r",
            "\u001b[K     |███████████████████████████████▎| 13.4 MB 101.6 MB/s eta 0:00:01\r",
            "\u001b[K     |███████████████████████████████▎| 13.4 MB 101.6 MB/s eta 0:00:01\r",
            "\u001b[K     |███████████████████████████████▎| 13.4 MB 101.6 MB/s eta 0:00:01\r",
            "\u001b[K     |███████████████████████████████▍| 13.4 MB 101.6 MB/s eta 0:00:01\r",
            "\u001b[K     |███████████████████████████████▍| 13.4 MB 101.6 MB/s eta 0:00:01\r",
            "\u001b[K     |███████████████████████████████▍| 13.4 MB 101.6 MB/s eta 0:00:01\r",
            "\u001b[K     |███████████████████████████████▍| 13.5 MB 101.6 MB/s eta 0:00:01\r",
            "\u001b[K     |███████████████████████████████▌| 13.5 MB 101.6 MB/s eta 0:00:01\r",
            "\u001b[K     |███████████████████████████████▌| 13.5 MB 101.6 MB/s eta 0:00:01\r",
            "\u001b[K     |███████████████████████████████▌| 13.5 MB 101.6 MB/s eta 0:00:01\r",
            "\u001b[K     |███████████████████████████████▌| 13.5 MB 101.6 MB/s eta 0:00:01\r",
            "\u001b[K     |███████████████████████████████▌| 13.5 MB 101.6 MB/s eta 0:00:01\r",
            "\u001b[K     |███████████████████████████████▋| 13.5 MB 101.6 MB/s eta 0:00:01\r",
            "\u001b[K     |███████████████████████████████▋| 13.5 MB 101.6 MB/s eta 0:00:01\r",
            "\u001b[K     |███████████████████████████████▋| 13.5 MB 101.6 MB/s eta 0:00:01\r",
            "\u001b[K     |███████████████████████████████▋| 13.5 MB 101.6 MB/s eta 0:00:01\r",
            "\u001b[K     |███████████████████████████████▋| 13.6 MB 101.6 MB/s eta 0:00:01\r",
            "\u001b[K     |███████████████████████████████▊| 13.6 MB 101.6 MB/s eta 0:00:01\r",
            "\u001b[K     |███████████████████████████████▊| 13.6 MB 101.6 MB/s eta 0:00:01\r",
            "\u001b[K     |███████████████████████████████▊| 13.6 MB 101.6 MB/s eta 0:00:01\r",
            "\u001b[K     |███████████████████████████████▊| 13.6 MB 101.6 MB/s eta 0:00:01\r",
            "\u001b[K     |███████████████████████████████▉| 13.6 MB 101.6 MB/s eta 0:00:01\r",
            "\u001b[K     |███████████████████████████████▉| 13.6 MB 101.6 MB/s eta 0:00:01\r",
            "\u001b[K     |███████████████████████████████▉| 13.6 MB 101.6 MB/s eta 0:00:01\r",
            "\u001b[K     |███████████████████████████████▉| 13.6 MB 101.6 MB/s eta 0:00:01\r",
            "\u001b[K     |███████████████████████████████▉| 13.6 MB 101.6 MB/s eta 0:00:01\r",
            "\u001b[K     |████████████████████████████████| 13.7 MB 101.6 MB/s eta 0:00:01\r",
            "\u001b[K     |████████████████████████████████| 13.7 MB 101.6 MB/s eta 0:00:01\r",
            "\u001b[K     |████████████████████████████████| 13.7 MB 101.6 MB/s eta 0:00:01\r",
            "\u001b[K     |████████████████████████████████| 13.7 MB 101.6 MB/s eta 0:00:01\r",
            "\u001b[K     |████████████████████████████████| 13.7 MB 101.6 MB/s eta 0:00:01"
          ]
        },
        {
          "name": "stdout",
          "output_type": "stream",
          "text": [
            "\r",
            "\u001b[K     |████████████████████████████████| 13.7 MB 101.6 MB/s \r\n"
          ]
        },
        {
          "name": "stdout",
          "output_type": "stream",
          "text": [
            "\u001b[?25hRequirement already satisfied: click in /opt/conda/envs/eurodatacube-0.24.5/lib/python3.8/site-packages (from stac-pydantic==1.3.9->aireo-library==0.0.post1.dev6+gba53c4a) (7.1.2)\r\n"
          ]
        },
        {
          "name": "stdout",
          "output_type": "stream",
          "text": [
            "Collecting geojson-pydantic\r\n",
            "  Downloading geojson-pydantic-0.3.1.tar.gz (8.4 kB)\r\n"
          ]
        },
        {
          "name": "stdout",
          "output_type": "stream",
          "text": [
            "Requirement already satisfied: typing-extensions>=3.7.4.3 in /opt/conda/envs/eurodatacube-0.24.5/lib/python3.8/site-packages (from pydantic>=1.6->stac-pydantic==1.3.9->aireo-library==0.0.post1.dev6+gba53c4a) (3.7.4.3)\r\n",
            "Requirement already satisfied: shapely>=1.6 in /opt/conda/envs/eurodatacube-0.24.5/lib/python3.8/site-packages (from geopandas->aireo-library==0.0.post1.dev6+gba53c4a) (1.7.1)\r\n"
          ]
        },
        {
          "name": "stdout",
          "output_type": "stream",
          "text": [
            "Requirement already satisfied: pyproj>=2.2.0 in /opt/conda/envs/eurodatacube-0.24.5/lib/python3.8/site-packages (from geopandas->aireo-library==0.0.post1.dev6+gba53c4a) (3.0.1)\r\n",
            "Requirement already satisfied: pandas>=0.24.0 in /opt/conda/envs/eurodatacube-0.24.5/lib/python3.8/site-packages (from geopandas->aireo-library==0.0.post1.dev6+gba53c4a) (1.2.4)\r\n",
            "Requirement already satisfied: fiona>=1.8 in /opt/conda/envs/eurodatacube-0.24.5/lib/python3.8/site-packages (from geopandas->aireo-library==0.0.post1.dev6+gba53c4a) (1.8.18)\r\n",
            "Requirement already satisfied: attrs>=17 in /opt/conda/envs/eurodatacube-0.24.5/lib/python3.8/site-packages (from fiona>=1.8->geopandas->aireo-library==0.0.post1.dev6+gba53c4a) (21.2.0)\r\n",
            "Requirement already satisfied: certifi in /opt/conda/envs/eurodatacube-0.24.5/lib/python3.8/site-packages (from fiona>=1.8->geopandas->aireo-library==0.0.post1.dev6+gba53c4a) (2020.12.5)\r\n",
            "Requirement already satisfied: cligj>=0.5 in /opt/conda/envs/eurodatacube-0.24.5/lib/python3.8/site-packages (from fiona>=1.8->geopandas->aireo-library==0.0.post1.dev6+gba53c4a) (0.7.1)\r\n",
            "Requirement already satisfied: click-plugins>=1.0 in /opt/conda/envs/eurodatacube-0.24.5/lib/python3.8/site-packages (from fiona>=1.8->geopandas->aireo-library==0.0.post1.dev6+gba53c4a) (1.1.1)\r\n",
            "Requirement already satisfied: six>=1.7 in /opt/conda/envs/eurodatacube-0.24.5/lib/python3.8/site-packages (from fiona>=1.8->geopandas->aireo-library==0.0.post1.dev6+gba53c4a) (1.16.0)\r\n",
            "Requirement already satisfied: munch in /opt/conda/envs/eurodatacube-0.24.5/lib/python3.8/site-packages (from fiona>=1.8->geopandas->aireo-library==0.0.post1.dev6+gba53c4a) (2.5.0)\r\n",
            "Requirement already satisfied: python-dateutil>=2.7.3 in /opt/conda/envs/eurodatacube-0.24.5/lib/python3.8/site-packages (from pandas>=0.24.0->geopandas->aireo-library==0.0.post1.dev6+gba53c4a) (2.8.1)\r\n"
          ]
        },
        {
          "name": "stdout",
          "output_type": "stream",
          "text": [
            "Requirement already satisfied: pytz>=2017.3 in /opt/conda/envs/eurodatacube-0.24.5/lib/python3.8/site-packages (from pandas>=0.24.0->geopandas->aireo-library==0.0.post1.dev6+gba53c4a) (2021.1)\r\n",
            "Requirement already satisfied: kiwisolver>=1.0.1 in /opt/conda/envs/eurodatacube-0.24.5/lib/python3.8/site-packages (from matplotlib->aireo-library==0.0.post1.dev6+gba53c4a) (1.3.1)\r\n",
            "Requirement already satisfied: cycler>=0.10 in /opt/conda/envs/eurodatacube-0.24.5/lib/python3.8/site-packages (from matplotlib->aireo-library==0.0.post1.dev6+gba53c4a) (0.10.0)\r\n",
            "Requirement already satisfied: pillow>=6.2.0 in /opt/conda/envs/eurodatacube-0.24.5/lib/python3.8/site-packages (from matplotlib->aireo-library==0.0.post1.dev6+gba53c4a) (8.1.2)\r\n",
            "Requirement already satisfied: pyparsing>=2.2.1 in /opt/conda/envs/eurodatacube-0.24.5/lib/python3.8/site-packages (from matplotlib->aireo-library==0.0.post1.dev6+gba53c4a) (2.4.7)\r\n"
          ]
        },
        {
          "name": "stdout",
          "output_type": "stream",
          "text": [
            "Requirement already satisfied: PyYAML in /opt/conda/envs/eurodatacube-0.24.5/lib/python3.8/site-packages (from pyaml->aireo-library==0.0.post1.dev6+gba53c4a) (5.4.1)\r\n",
            "Requirement already satisfied: setuptools>=40.4 in /opt/conda/envs/eurodatacube-0.24.5/lib/python3.8/site-packages (from xarray->aireo-library==0.0.post1.dev6+gba53c4a) (49.6.0.post20210108)\r\n"
          ]
        },
        {
          "name": "stdout",
          "output_type": "stream",
          "text": [
            "Building wheels for collected packages: aireo-library, geojson-pydantic\r\n"
          ]
        },
        {
          "name": "stdout",
          "output_type": "stream",
          "text": [
            "  Building wheel for aireo-library (PEP 517) ... \u001b[?25l-"
          ]
        },
        {
          "name": "stdout",
          "output_type": "stream",
          "text": [
            "\b \bdone\r\n",
            "\u001b[?25h  Created wheel for aireo-library: filename=aireo_library-0.0.post1.dev6+gba53c4a-py2.py3-none-any.whl size=32595 sha256=9dc34ac793ac511cecfb6d0593a8eb89330c431d2e06e2df254f18021d34ff6f\r\n",
            "  Stored in directory: /tmp/pip-ephem-wheel-cache-oe3ws41i/wheels/21/0d/e3/5070de6a55fd86816588bdec861c04e5854a778bdc27889fa4\r\n"
          ]
        },
        {
          "name": "stdout",
          "output_type": "stream",
          "text": [
            "  Building wheel for geojson-pydantic (setup.py) ... \u001b[?25l-"
          ]
        },
        {
          "name": "stdout",
          "output_type": "stream",
          "text": [
            "\b \bdone\r\n",
            "\u001b[?25h  Created wheel for geojson-pydantic: filename=geojson_pydantic-0.3.1-py3-none-any.whl size=6939 sha256=93eb5df4b101b2436e2021de5bb02fa8152d7689a7e7ff7a6818d6eee9f77cc8\r\n",
            "  Stored in directory: /home/jovyan/true/wheels/ef/c4/15/441ebb8276a98d23e3ea91a7724f583b1a1602ad9a5e8b3f94\r\n",
            "Successfully built aireo-library geojson-pydantic\r\n"
          ]
        },
        {
          "name": "stdout",
          "output_type": "stream",
          "text": [
            "Installing collected packages: pydantic, geojson-pydantic, stac-pydantic, pyaml, loguru, aireo-library\r\n"
          ]
        },
        {
          "name": "stdout",
          "output_type": "stream",
          "text": [
            "Successfully installed aireo-library-0.0.post1.dev6+gba53c4a geojson-pydantic-0.3.1 loguru-0.5.3 pyaml-21.8.3 pydantic-1.8.2 stac-pydantic-1.3.9\r\n"
          ]
        }
      ],
      "source": [
        "#Install aireo library\n",
        "!python3 -m pip install git+https://github.com/aireo-project/aireo_lib"
      ]
    },
    {
      "cell_type": "markdown",
      "id": "a42b5654",
      "metadata": {
        "papermill": {
          "duration": 0.026707,
          "end_time": "2021-08-19T11:21:23.248523",
          "exception": false,
          "start_time": "2021-08-19T11:21:23.221816",
          "status": "completed"
        },
        "tags": []
      },
      "source": [
        "# AIREO pilot dataset - Biomass (Forest Observation System)\n"
      ]
    },
    {
      "cell_type": "markdown",
      "id": "2a61c9eb",
      "metadata": {
        "papermill": {
          "duration": 0.029544,
          "end_time": "2021-08-19T11:21:23.305391",
          "exception": false,
          "start_time": "2021-08-19T11:21:23.275847",
          "status": "completed"
        },
        "tags": []
      },
      "source": [
        "Forest Observation System [FOS](https://forest-observation-system.net) is an international cooperation aiming to establish an in-situ forest biomass database in order to support Earth Observation with reliable, up to date, representative and comparable data for validation (Schepaschenko, D. et al. 2019)."
      ]
    },
    {
      "cell_type": "markdown",
      "id": "be6010c0",
      "metadata": {
        "papermill": {
          "duration": 0.026704,
          "end_time": "2021-08-19T11:21:23.358780",
          "exception": false,
          "start_time": "2021-08-19T11:21:23.332076",
          "status": "completed"
        },
        "tags": []
      },
      "source": [
        "## Introduction\n",
        "\n",
        "The notebook demonstrates the use of <b> aireo_lib </b>, a python library created as a part of the [AIREO](https://aireo.net/) (Artificial Intelligence Ready Earth Observation training datasets) project. The project aims to make EO datasets easily accessible for the ML (Machine Learning) community. As such, AIREO specifications (shorthand specs) which define metadata elements to be included with the training dataset are proposed, supplemented by a best-practices document which suggests how to fill those metadata elements. Finally, the library takes all into account and implements specs, best-practices and offers an easy-to-use pythonic interface bridging the gap between EO and ML community.\n",
        "\n",
        "Therefore, this notebook is divided into two sections, one for the training dataset creator (usually from the EO community) and the other for its user (usually from the ML community). The structure of the notebook is the following:\n",
        "\n",
        "\n",
        "1) For Creator \n",
        "\n",
        "    - Create a [STAC](https://stacspec.org/) catalog object using the library\n",
        "    \n",
        "    - Populate metadata elements prescribed by the AIREO specs\n",
        "    \n",
        "    - Generate a STAC metadata directory using the library\n",
        "\n",
        "    - Check AIREO compliance level and metadata completeness\n",
        "\n",
        "   \n",
        "2) For User \n",
        "\n",
        "    - Create a training dataset object as defined in the library using only the STAC metadata\n",
        "    \n",
        "    - Get example instances from the object and other dataset variables like the number of instances, etc.\n",
        "    \n",
        "    - Use library's functions to plot the data\n",
        "    \n",
        "    - Investigate statistics using the library"
      ]
    },
    {
      "cell_type": "markdown",
      "id": "b0401fc4",
      "metadata": {
        "papermill": {
          "duration": 0.026805,
          "end_time": "2021-08-19T11:21:23.412622",
          "exception": false,
          "start_time": "2021-08-19T11:21:23.385817",
          "status": "completed"
        },
        "tags": []
      },
      "source": [
        "## AIREO STAC Catalog basics"
      ]
    },
    {
      "cell_type": "markdown",
      "id": "c06dc39b",
      "metadata": {
        "papermill": {
          "duration": 0.026849,
          "end_time": "2021-08-19T11:21:23.465788",
          "exception": false,
          "start_time": "2021-08-19T11:21:23.438939",
          "status": "completed"
        },
        "tags": []
      },
      "source": [
        "The AIREO specs propose a hierarchical structure for STAC metadata. It is a two level structure where the dataset is represented by a collection of AOIs (Area Of Interests), hence, the dataset and AOI being the two levels.\n",
        "\n",
        "1. At the dataset level we have a dataset catalog whose metadata elements are the core elements proposed in the AIREO spec. In addition to it, the common metadata elements across each AOI are also at the dataset level, which we shall call root level henceforth. Here, for each data variable there is a separate json which is a STAC Item by definition and is named using the field_schema metadata element. Additionally, there is also a datasheet file in markdown format at the root level which contains human readable information about the key elements of the dataset.\n",
        "\n",
        "2. Each AOI has a separate folder within the root level. And in each AOI folder there is a STAC collection representing that AOI and additional json files for each data variable. The additional json files here too, are STAC Items and follow a similar naming convention to the ones at the root level. The assets for each AOI, i.e. the files containing actual data are also in the folder.\n",
        "\n",
        "The diagram below summarises this hierarchical structure:\n",
        "\n",
        "\n",
        "```\n",
        "Root level (dataset)\n",
        "│\n",
        "│   DatasetCatalog.json\n",
        "│   datasheet.md\n",
        "│   references_output1.json\n",
        "│   features_input1.json\n",
        "│   ...\n",
        "│\n",
        "│\n",
        "└───AOI 1\n",
        "│      1.json (AOI Collection)\n",
        "│      feature_input1.json\n",
        "│      reference_output1.json\n",
        "│      <reference_asset>\n",
        "│      <feature_asseet>\n",
        "│   \n",
        "│   \n",
        "└───AOI 2\n",
        "│      ...\n",
        "│   \n",
        "│\n",
        "└───AOI 3\n",
        "│      ...\n",
        "│   \n",
        "...     \n",
        "```"
      ]
    },
    {
      "cell_type": "markdown",
      "id": "0a1a0229",
      "metadata": {
        "papermill": {
          "duration": 0.026283,
          "end_time": "2021-08-19T11:21:23.518530",
          "exception": false,
          "start_time": "2021-08-19T11:21:23.492247",
          "status": "completed"
        },
        "tags": []
      },
      "source": [
        "## Creator perpsective"
      ]
    },
    {
      "cell_type": "code",
      "execution_count": 3,
      "id": "5414382b",
      "metadata": {
        "execution": {
          "iopub.execute_input": "2021-08-19T11:21:23.576074Z",
          "iopub.status.busy": "2021-08-19T11:21:23.575505Z",
          "iopub.status.idle": "2021-08-19T11:21:25.120449Z",
          "shell.execute_reply": "2021-08-19T11:21:25.119821Z"
        },
        "papermill": {
          "duration": 1.57531,
          "end_time": "2021-08-19T11:21:25.120558",
          "exception": false,
          "start_time": "2021-08-19T11:21:23.545248",
          "status": "completed"
        },
        "tags": []
      },
      "outputs": [],
      "source": [
        "import aireo_lib.core\n",
        "import os\n",
        "import json\n",
        "import numpy as np\n",
        "from osgeo import gdal\n",
        "from tqdm.notebook import tqdm\n",
        "from shapely import geometry\n",
        "import shutil\n",
        "import rioxarray\n",
        "import xarray as xr\n",
        "from pathlib import Path\n",
        "from sentinelhub import (SHConfig, BBox, bbox_to_dimensions, CRS,SentinelHubBatch, SentinelHubRequest, DataCollection, MimeType, FisRequest)\n",
        "from sentinelhub.geometry import Geometry\n",
        "import PIL.Image as Image\n",
        "import pandas as pd\n",
        "pd.set_option('display.max_rows', None)\n",
        "import geopandas as gp"
      ]
    },
    {
      "cell_type": "code",
      "execution_count": 4,
      "id": "03e83543-933e-4ac2-99e0-d5e9a9101dae",
      "metadata": {
        "execution": {
          "iopub.execute_input": "2021-08-19T11:21:25.178275Z",
          "iopub.status.busy": "2021-08-19T11:21:25.177760Z",
          "iopub.status.idle": "2021-08-19T11:21:25.179646Z",
          "shell.execute_reply": "2021-08-19T11:21:25.179175Z"
        },
        "papermill": {
          "duration": 0.032201,
          "end_time": "2021-08-19T11:21:25.179737",
          "exception": false,
          "start_time": "2021-08-19T11:21:25.147536",
          "status": "completed"
        },
        "tags": []
      },
      "outputs": [],
      "source": [
        "# set ssl permissions correctly so Biomass excel shee can be pulled\n",
        "\n",
        "import ssl\n",
        "\n",
        "try:\n",
        "    _create_unverified_https_context = ssl._create_unverified_context\n",
        "except AttributeError:\n",
        "    # Legacy Python that doesn't verify HTTPS certificates by default\n",
        "    pass\n",
        "else:\n",
        "    # Handle target environment that doesn't support HTTPS verification\n",
        "    ssl._create_default_https_context = _create_unverified_https_context"
      ]
    },
    {
      "cell_type": "code",
      "execution_count": 5,
      "id": "25f2707c",
      "metadata": {
        "execution": {
          "iopub.execute_input": "2021-08-19T11:21:25.236313Z",
          "iopub.status.busy": "2021-08-19T11:21:25.235760Z",
          "iopub.status.idle": "2021-08-19T11:21:25.996686Z",
          "shell.execute_reply": "2021-08-19T11:21:25.996140Z"
        },
        "papermill": {
          "duration": 0.790715,
          "end_time": "2021-08-19T11:21:25.996811",
          "exception": false,
          "start_time": "2021-08-19T11:21:25.206096",
          "status": "completed"
        },
        "tags": []
      },
      "outputs": [
        {
          "name": "stderr",
          "output_type": "stream",
          "text": [
            "<ipython-input-5-5b595d75abc1>:3: FutureWarning: Your version of xlrd is 1.2.0. In xlrd >= 2.0, only the xls format is supported. As a result, the openpyxl engine will be used if it is installed and the engine argument is not specified. Install openpyxl instead.\n",
            "  df = pd.read_excel (path)\n"
          ]
        }
      ],
      "source": [
        "#Pull Biomass excel sheet\n",
        "path = ('https://forest-observation-system.net/Data/FOS_Plots_v2019.04.10.xlsx')\n",
        "df = pd.read_excel (path)\n",
        "df.keys()\n",
        "gdf = gp.GeoDataFrame(\n",
        "    df, geometry=gp.points_from_xy(df.Lon_cnt, df.Lat_cnt))"
      ]
    },
    {
      "cell_type": "code",
      "execution_count": 6,
      "id": "7313774a",
      "metadata": {
        "execution": {
          "iopub.execute_input": "2021-08-19T11:21:26.054477Z",
          "iopub.status.busy": "2021-08-19T11:21:26.053967Z",
          "iopub.status.idle": "2021-08-19T11:21:26.055839Z",
          "shell.execute_reply": "2021-08-19T11:21:26.055362Z"
        },
        "papermill": {
          "duration": 0.031963,
          "end_time": "2021-08-19T11:21:26.055956",
          "exception": false,
          "start_time": "2021-08-19T11:21:26.023993",
          "status": "completed"
        },
        "tags": []
      },
      "outputs": [],
      "source": [
        "# Path to write the STAC root metadata file too\n",
        "catalog_fn_w_path = os.environ['EDC_PATH']+'/data/biomass/Biomass_stac_generated/EO_TDS.json'\n",
        "\n",
        "# Creating an empty STAC Catalog object\n",
        "new_tds_ctl_o = aireo_lib.core.tds_stac_io.DatasetSTACCatalog()\n"
      ]
    },
    {
      "cell_type": "code",
      "execution_count": 7,
      "id": "4621e3ce",
      "metadata": {
        "execution": {
          "iopub.execute_input": "2021-08-19T11:21:26.113663Z",
          "iopub.status.busy": "2021-08-19T11:21:26.113136Z",
          "iopub.status.idle": "2021-08-19T11:21:37.061172Z",
          "shell.execute_reply": "2021-08-19T11:21:37.060551Z"
        },
        "papermill": {
          "duration": 10.978537,
          "end_time": "2021-08-19T11:21:37.061281",
          "exception": false,
          "start_time": "2021-08-19T11:21:26.082744",
          "status": "completed"
        },
        "scrolled": true,
        "tags": []
      },
      "outputs": [],
      "source": [
        "# Get AOI list for the TDS\n",
        "\n",
        "reference_path = os.environ['EDC_PATH']  + '/data/biomass/Biomass_tiff/'\n",
        "#print(os.listdir(reference_path))\n",
        "aoi_ids = [i.replace('.tif','').replace('patch_', '') for i in os.listdir(reference_path) if '.tif' in i]\n",
        "aoi_ids = ['ALP-02_0_3',\n",
        " 'ALP-02_0_2',\n",
        " 'ASN-02_0_0',\n",
        " 'ALP-02_0_0',\n",
        " 'ALP-02_0_1']"
      ]
    },
    {
      "cell_type": "code",
      "execution_count": 8,
      "id": "3ecd575f",
      "metadata": {
        "execution": {
          "iopub.execute_input": "2021-08-19T11:21:37.121925Z",
          "iopub.status.busy": "2021-08-19T11:21:37.120542Z",
          "iopub.status.idle": "2021-08-19T11:21:37.123828Z",
          "shell.execute_reply": "2021-08-19T11:21:37.123381Z"
        },
        "papermill": {
          "duration": 0.035345,
          "end_time": "2021-08-19T11:21:37.123947",
          "exception": false,
          "start_time": "2021-08-19T11:21:37.088602",
          "status": "completed"
        },
        "tags": []
      },
      "outputs": [],
      "source": [
        "# Creating root metadata dictionary\n",
        "\n",
        "tds_root_core_metadata_d = {}\n",
        "tds_root_core_metadata_d['aireo_version'] = \"0.0.1-alpha.1\"\n",
        "tds_root_core_metadata_d['title'] = \"Aireo Pilot datasets - Forest Observatory System - Biomass\"\n",
        "tds_root_core_metadata_d['description'] = \"Above ground biomass split in 260 plots of 50 x 50 m.\"\n",
        "tds_root_core_metadata_d['created'] = 'Null'\n",
        "tds_root_core_metadata_d['license_url_list'] = 'https://creativecommons.org/licenses/by/4.0/deed.de' \n",
        "tds_root_core_metadata_d['license'] = \"CC-BY-4.0\"\n",
        "tds_root_core_metadata_d[\"providers_name\"]= \"[FOS, RAINFOR, AfriTRON]\"\n",
        "tds_root_core_metadata_d[\"providers_description\"] = \"international cooperation to establish a global in-situ forest biomass database to support earth observation and to encourage investment in relevant field-based observations and science.\"\n",
        "tds_root_core_metadata_d[\"providers_roles\"] = {'FOS': [\"licensor\", \"host\"], 'RAINFOR':[\"producer\", \"processor\" , \"host\"],'AfriTRON':[\"producer\", \"processor\" ]}\n",
        "tds_root_core_metadata_d[\"providers_url\"]= {'FOS':'https://forest-observation-system.net', 'RAINFOR': 'https://www.rainfor.org/', \n",
        "                        'AfriTRON': 'https://www.afritron.org/'}                         \n",
        "tds_root_core_metadata_d['id'] =  \"aa24c994-e8a9-4175-9a16-7def23bf762b\" #changed UUID\n",
        "tds_root_core_metadata_d['type'] = \"Collection\"\n",
        "tds_root_core_metadata_d['stac_version'] = '1.0.0-beta.2'\n",
        "tds_root_core_metadata_d['provenance'] = 'The dataset was fed by providers based on ground field measurements (see providers) and the accompanying satellite images were provided by Sentinel Hub (see links in providers) using Sentinel 2 images.'\n",
        "tds_root_core_metadata_d['purpose'] = \"The dataset has sentinel 2 images matching the location of each plotID in order to add remote sensing imagery to in-situ data taken from dataset  \"\n",
        "tds_root_core_metadata_d['tasks'] =  ['regression']\n",
        "tds_root_core_metadata_d['data_preprocessing'] = {'type':'free-text', 'recipe':'Only satellite images with cloud cover less than 20% are considered'}\n",
        "tds_root_core_metadata_d['funding_info'] = \"The AIREO project is funded by ESA, the underlying fields and crop data are funded by Agricultural Market Austria and the satellite imagery used is through funds from ESA.\"\n",
        "tds_root_core_metadata_d['field_schema'] = {'features': {'input1': ['georeferenced_eo_image']}, 'references': {'output1': ['reference_data']}}\n",
        "tds_root_core_metadata_d['example_definition'] = \"An example for ML training would be a satellite imagery with its biomass associated as referece. That could be used to predict Biomass measurements in other parts of the planet using regression method\"\n",
        "\n",
        "tds_root_core_metadata_d['example_window_size'] = 256 #do you need these twofor biomass? they are for sampling\n",
        "tds_root_core_metadata_d['example_stride'] = 26\n",
        "                                                 \n",
        "tds_root_core_metadata_d['data_completeness'] = \"Data has lots of entries in different languages. Not all entries are completed\"\n",
        "tds_root_core_metadata_d['data_split'] = \"It should be split in wide acceptance proportion 80%-20%\"\n",
        "tds_root_core_metadata_d['data_sharing'] = \"The dataset will be shared on Euro Data Cube (EDC) and can be accessed through jupyter notebooks on EDC.\"\n",
        "tds_root_core_metadata_d['compliance_level'] = 'level 1'\n",
        "tds_root_core_metadata_d['links'] =  []\n"
      ]
    },
    {
      "cell_type": "code",
      "execution_count": 9,
      "id": "773f09c1",
      "metadata": {
        "execution": {
          "iopub.execute_input": "2021-08-19T11:21:37.184385Z",
          "iopub.status.busy": "2021-08-19T11:21:37.183510Z",
          "iopub.status.idle": "2021-08-19T11:21:37.217339Z",
          "shell.execute_reply": "2021-08-19T11:21:37.217662Z"
        },
        "papermill": {
          "duration": 0.067166,
          "end_time": "2021-08-19T11:21:37.217773",
          "exception": false,
          "start_time": "2021-08-19T11:21:37.150607",
          "status": "completed"
        },
        "tags": []
      },
      "outputs": [],
      "source": [
        "#Creating common predictive feature metadata dictionary\n",
        "\n",
        "g_feature_metadata_d = {}\n",
        "g_feature_metadata_d['type'] = \"Feature\"\n",
        "g_feature_metadata_d['stac_version'] = \"1.0.0-beta.2\"\n",
        "g_feature_metadata_d['stac_extensions'] = [\"georeferenced_eo_image\"]\n",
        "g_feature_metadata_d['id'] = f'common_predictive_feature_metadata'\n",
        "g_feature_metadata_d['collection'] = \"aa24c994-e8a9-4175-9a16-7def23bf762b\"\n",
        "\n",
        "shape = gdf.geometry\n",
        "geom = np.array(shape[0])\n",
        "coords = [\"x\",\"y\"]\n",
        "\n",
        "lon = df['Lon_cnt'][1]\n",
        "lat = df['Lat_cnt'][1]\n",
        "LON = round(lon+0.05,2)\n",
        "LAT = round(lat+0.05,1)\n",
        "roi_bbox = BBox(bbox=[ lon,lat,LON, LAT], crs=CRS.WGS84)\n",
        "\n",
        "from shapely import geometry\n",
        "g_feature_metadata_d['geometry'] = geometry.mapping(geometry.MultiPoint(shape))\n",
        "g_feature_metadata_d['bbox'] = list(roi_bbox)\n",
        "g_feature_metadata_d['properties'] = {}\n",
        "g_feature_metadata_d[\"properties\"][\"status\"]= \"Null\"\n",
        "g_feature_metadata_d[\"properties\"]['parent_identifier'] = \"aa24c994-e8a9-4175-9a16-7def23bf762b\"\n",
        "g_feature_metadata_d[\"properties\"]['acquisition_type'] = \"Null\"\n",
        "g_feature_metadata_d[\"properties\"]['product_type']  = \"Null\"\n",
        "g_feature_metadata_d[\"properties\"]['processing_level'] = 1.0\n",
        "g_feature_metadata_d[\"properties\"]['platform_short_name'] = \"Sentinel 2\"\n",
        "g_feature_metadata_d[\"properties\"]['sensor_type'] = \"OPTICAL\"\n",
        "g_feature_metadata_d[\"properties\"]['sensor_resolution'] = \"10m\"\n",
        "g_feature_metadata_d[\"properties\"]['gsd'] = 10\n",
        "g_feature_metadata_d['properties']['datetime'] = \"2019\" #change as per biomass\n",
        "g_feature_metadata_d[\"properties\"]['identifier'] = \"Null\"\n",
        "g_feature_metadata_d['links'] = []\n",
        "g_feature_metadata_d[\"assets\"] =  {}\n",
        "feature_metadata_d = {}\n",
        "feature_metadata_d['input1'] = g_feature_metadata_d"
      ]
    },
    {
      "cell_type": "code",
      "execution_count": 10,
      "id": "29f01a7e",
      "metadata": {
        "execution": {
          "iopub.execute_input": "2021-08-19T11:21:37.281237Z",
          "iopub.status.busy": "2021-08-19T11:21:37.277185Z",
          "iopub.status.idle": "2021-08-19T11:21:37.336831Z",
          "shell.execute_reply": "2021-08-19T11:21:37.337177Z"
        },
        "papermill": {
          "duration": 0.089007,
          "end_time": "2021-08-19T11:21:37.337287",
          "exception": false,
          "start_time": "2021-08-19T11:21:37.248280",
          "status": "completed"
        },
        "tags": []
      },
      "outputs": [],
      "source": [
        "#Creating common reference metadata dictionary\n",
        "\n",
        "g_ref_data_metadata_d = {}\n",
        "\n",
        "g_ref_data_metadata_d['id'] = f'common_reference_metadata'\n",
        "g_ref_data_metadata_d['type'] = \"Feature\"\n",
        "g_ref_data_metadata_d['stac_version'] = \"1.0.0-beta.2\"\n",
        "g_ref_data_metadata_d['stac_extensions'] = [\"reference_data\"]\n",
        "g_ref_data_metadata_d['collection'] = \"aa24c994-e8a9-4175-9a16-7def23bf762b\"\n",
        "shape = gdf.geometry\n",
        "geom = np.array(shape[0])\n",
        "coords = [\"x\",\"y\"]\n",
        "\n",
        "from shapely import geometry\n",
        "g_ref_data_metadata_d['geometry'] = geometry.mapping(geometry.MultiPoint(shape))\n",
        "\n",
        "g_ref_data_metadata_d['bbox'] = list(roi_bbox)\n",
        "#[min(xs),min(ys), max(xs), max(ys)]\n",
        "g_ref_data_metadata_d['properties'] = {}\n",
        "g_ref_data_metadata_d[\"properties\"]['name'] = \" Reference metadata\"\n",
        "g_ref_data_metadata_d['properties']['description'] = \"The reference data \"\n",
        "g_ref_data_metadata_d['properties']['type'] = \"Raster\"\n",
        "g_ref_data_metadata_d['properties']['task'] = \"regression\"\n",
        "g_ref_data_metadata_d['properties']['classes']=[]\n",
        "g_ref_data_metadata_d['properties']['overviews']=[]\n",
        "g_ref_data_metadata_d['properties']['collection_method'] = \"The reference data was collected by Agricultural Market Austria for the year 2019 for Common Agriculture Practices for EU to process agriculture subsidies, etc. The exact method for ground surveys was not clearly documented and the only info available is that \\\"all field uses were recorded by the applicants\\\".\"\n",
        "g_ref_data_metadata_d['properties']['data_preprocessing'] = {'type':'free-text', 'recipe':\"The polygons in the original reference data were converted into rasters overlayed on satellite image of 10m resoltuion. As such no other changes were made to the fields or the crop types themselves.\"}\n",
        "g_ref_data_metadata_d['properties']['CRS'] = 'EPSG:4326'\n",
        "g_ref_data_metadata_d['properties']['time_range'] = '2018'\n",
        "g_ref_data_metadata_d[\"properties\"]['value'] = 0.663\n",
        "g_ref_data_metadata_d['properties'][\"orientation\"]= \"Null\"\n",
        "g_ref_data_metadata_d[\"properties\"]['datetime'] = \"2019\"\n",
        "g_ref_data_metadata_d['links'] = []\n",
        "g_ref_data_metadata_d[\"assets\"] = {}\n",
        "\n",
        "ref_metadata_d = {}\n",
        "ref_metadata_d['output1'] = g_ref_data_metadata_d"
      ]
    },
    {
      "cell_type": "code",
      "execution_count": 11,
      "id": "d89e42ab",
      "metadata": {
        "execution": {
          "iopub.execute_input": "2021-08-19T11:21:37.422641Z",
          "iopub.status.busy": "2021-08-19T11:21:37.400244Z",
          "iopub.status.idle": "2021-08-19T11:21:37.450875Z",
          "shell.execute_reply": "2021-08-19T11:21:37.450466Z"
        },
        "papermill": {
          "duration": 0.087272,
          "end_time": "2021-08-19T11:21:37.450967",
          "exception": false,
          "start_time": "2021-08-19T11:21:37.363695",
          "status": "completed"
        },
        "tags": []
      },
      "outputs": [
        {
          "data": {
            "text/plain": [
              "True"
            ]
          },
          "execution_count": 11,
          "metadata": {},
          "output_type": "execute_result"
        }
      ],
      "source": [
        "# Add TDS global core elements metadata, and add global level profile metadata to the catalog object.\n",
        "\n",
        "new_tds_ctl_o.add_tds_root_metadata(tds_root_core_metadata_d, feature_metadata_d, ref_metadata_d)\n"
      ]
    },
    {
      "cell_type": "code",
      "execution_count": 12,
      "id": "2749af8f",
      "metadata": {
        "execution": {
          "iopub.execute_input": "2021-08-19T11:21:37.515378Z",
          "iopub.status.busy": "2021-08-19T11:21:37.513271Z",
          "iopub.status.idle": "2021-08-19T11:21:37.992942Z",
          "shell.execute_reply": "2021-08-19T11:21:37.993303Z"
        },
        "papermill": {
          "duration": 0.51568,
          "end_time": "2021-08-19T11:21:37.993424",
          "exception": false,
          "start_time": "2021-08-19T11:21:37.477744",
          "status": "completed"
        },
        "tags": []
      },
      "outputs": [
        {
          "name": "stdout",
          "output_type": "stream",
          "text": [
            "True\n",
            "True\n",
            "True\n"
          ]
        },
        {
          "name": "stdout",
          "output_type": "stream",
          "text": [
            "True\n",
            "True\n"
          ]
        }
      ],
      "source": [
        "# Adding metadata for each AOI\n",
        "\n",
        "for aoi_id in aoi_ids[:5]:\n",
        "    # Dictionary for each AOI collection metadata\n",
        "    aoi_metadata_d = {}\n",
        "    aoi_metadata_d['type'] = \"Collection\"\n",
        "    aoi_metadata_d[\"id\"] = f\"{aoi_id}\"\n",
        "    aoi_metadata_d['stac_version'] = '1.0.0-beta.2'\n",
        "    aoi_metadata_d['title'] = f\"{aoi_id} Collection\"\n",
        "    aoi_metadata_d['description'] = \"Each AOI contains satellite images \"\n",
        "    aoi_metadata_d[\"license\"] = \"CC-BY-4.0\"\n",
        "    shape = gdf.geometry\n",
        "    geom = np.array(shape[0])\n",
        "    coords = [\"x\",\"y\"]\n",
        "    \n",
        "    aoi_metadata_d[\"bbox\"]= list(roi_bbox)\n",
        "    aoi_metadata_d['geometry'] = geometry.mapping(geometry.MultiPoint(shape))\n",
        "    aoi_metadata_d[\"extent\"] = {\"spatial\" : {\"bbox\":[[geom[0], geom[1], geom[0], geom[1]]]}, \n",
        "                      \"temporal\": {\"interval\": [['2019']]}}\n",
        "    aoi_metadata_d['time_range'] = '2019'\n",
        "    aoi_metadata_d['links'] = []\n",
        "    aoi_metadata_d[\"assets\"] = {}\n",
        "    \n",
        "    \n",
        "    # Dictionary for each AOI's predictive feature metadata\n",
        "    aoi_feature_metadata_d = {}\n",
        "    aoi_feature_metadata_d['id'] = f'reference_metadata_AOI_{aoi_id}'\n",
        "    aoi_feature_metadata_d['type'] = \"Feature\"\n",
        "    aoi_feature_metadata_d['stac_version'] = \"1.0.0-beta.2\"\n",
        "    aoi_feature_metadata_d['stac_extensions'] = [\"reference_data\"]\n",
        "    aoi_feature_metadata_d['collection'] = \"970460aa-7835-11eb-9439-0242ac130002\"\n",
        "    aoi_feature_metadata_d['bbox'] = aoi_metadata_d[\"bbox\"]\n",
        "    aoi_feature_metadata_d['geometry'] = aoi_metadata_d[\"geometry\"]\n",
        "    aoi_feature_metadata_d['properties'] = {}\n",
        "    aoi_feature_metadata_d[\"properties\"]['name'] = str(aoi_id)+ \" Reference metadata\"\n",
        "    aoi_feature_metadata_d['properties']['description'] = \"The reference data consists in different data from biomass dataset\"\n",
        "    aoi_feature_metadata_d['properties']['type'] = \"Raster\"\n",
        "    aoi_feature_metadata_d['properties']['task'] = \"regression\"\n",
        "    aoi_feature_metadata_d['properties']['classes'] = []\n",
        "    aoi_feature_metadata_d['properties']['overviews'] = []\n",
        "    aoi_feature_metadata_d['properties']['collection_method'] = \"The reference data consists in varios in-situ measurements taken by providers in different plots distributed worldwide.\"\n",
        "    aoi_feature_metadata_d['properties']['data_preprocessing'] = \"Null\"\n",
        "    aoi_feature_metadata_d['properties']['CRS'] = 'EPSG:4326'\n",
        "    aoi_feature_metadata_d['properties']['time_range'] = '2019'\n",
        "    aoi_feature_metadata_d[\"properties\"]['value'] = 0\n",
        "    aoi_feature_metadata_d['properties'][\"orientation\"]= \"null\"\n",
        "    aoi_feature_metadata_d[\"properties\"]['datetime'] = \"2020-03-09T14:53:23.262208+00:00\"\n",
        "\n",
        "    aoi_feature_metadata_d['links'] = []  \n",
        "    aoi_feature_metadata_d[\"assets\"] = {}\n",
        "\n",
        "    aoi_feature_d = {}\n",
        "    aoi_feature_d['input1'] = aoi_feature_metadata_d\n",
        "    \n",
        "    # Dictionary for each AOI's reference metadata\n",
        "    aoi_ref_data_metadata_d = {}\n",
        "    aoi_ref_data_metadata_d['type'] = \"Feature\"\n",
        "    aoi_ref_data_metadata_d['stac_version'] = \"1.0.0-beta.2\"\n",
        "    aoi_ref_data_metadata_d['stac_extensions'] = [\"georeferenced_eo_image\"]\n",
        "    aoi_ref_data_metadata_d['id'] = f'predictive_feature_metadata_AOI_{aoi_id}'\n",
        "    aoi_ref_data_metadata_d['collection'] = \"970460aa-7835-11eb-9439-0242ac130002\"\n",
        "    aoi_ref_data_metadata_d[\"bbox\"]= aoi_metadata_d[\"bbox\"]\n",
        "    aoi_ref_data_metadata_d['geometry'] = aoi_metadata_d[\"geometry\"]\n",
        "    aoi_ref_data_metadata_d[\"properties\"] = {}\n",
        "    aoi_ref_data_metadata_d[\"properties\"][\"status\"]= \"Null\"\n",
        "    aoi_ref_data_metadata_d[\"properties\"]['parent_identifier'] = \"970460aa-7835-11eb-9439-0242ac130002\"\n",
        "    aoi_ref_data_metadata_d[\"properties\"]['acquisition_type'] = \"Null\"\n",
        "    aoi_ref_data_metadata_d[\"properties\"]['product_type']  = \"Null\"\n",
        "    aoi_ref_data_metadata_d[\"properties\"]['processing_level'] = 1.0\n",
        "    aoi_ref_data_metadata_d[\"properties\"]['platform_short_name'] = \"Sentinel 2\"\n",
        "    aoi_ref_data_metadata_d[\"properties\"]['sensor_type'] = \"OPTICAL\"\n",
        "    aoi_ref_data_metadata_d[\"properties\"]['sensor_resolution'] = \"10m\"\n",
        "    aoi_ref_data_metadata_d[\"properties\"]['gsd'] = 10\n",
        "    aoi_ref_data_metadata_d[\"properties\"]['identifier'] = str(aoi_id)\n",
        "    aoi_ref_data_metadata_d[\"properties\"]['acquisition_date'] = '2018'\n",
        "    aoi_ref_data_metadata_d[\"properties\"]['datetime'] = \"2018\"\n",
        "    aoi_ref_data_metadata_d['links'] = []\n",
        "    aoi_ref_data_metadata_d[\"assets\"] = {}\n",
        "    aoi_ref_d = {}\n",
        "    aoi_ref_d['output1'] = aoi_ref_data_metadata_d\n",
        "    \n",
        "    output_path = os.path.join(os.environ['EDC_PATH'] + '/data/biomass/Biomass_mask')\n",
        "    input_path = os.path.join(os.environ['EDC_PATH'] + '/data/biomass/Biomass_tiff')\n",
        "    aoi_ref_data_asset_path_d = {'output1':os.path.join(output_path, f'patch_mask_{aoi_id}.json')}\n",
        "    aoi_feature_asset_path_d = {'input1':os.path.join(input_path, f'patch_{aoi_id}.tif')}\n",
        "                                            \n",
        "    print(new_tds_ctl_o.add_aoi_metadata(aoi_metadata_d=aoi_metadata_d,\n",
        "                                   aoi_feature_metadata_d=aoi_feature_d,\n",
        "                                   aoi_ref_data_metadata_d=aoi_ref_d,\n",
        "                                   aoi_feature_asset_path_d=aoi_feature_asset_path_d,\n",
        "                                   aoi_ref_data_asset_path_d=aoi_ref_data_asset_path_d))"
      ]
    },
    {
      "cell_type": "markdown",
      "id": "efa1dfb5",
      "metadata": {
        "papermill": {
          "duration": 0.027805,
          "end_time": "2021-08-19T11:21:38.048499",
          "exception": false,
          "start_time": "2021-08-19T11:21:38.020694",
          "status": "completed"
        },
        "tags": []
      },
      "source": [
        "#### stac_generated folder creation"
      ]
    },
    {
      "cell_type": "markdown",
      "id": "f300e37b",
      "metadata": {
        "papermill": {
          "duration": 0.027019,
          "end_time": "2021-08-19T11:21:38.102956",
          "exception": false,
          "start_time": "2021-08-19T11:21:38.075937",
          "status": "completed"
        },
        "tags": []
      },
      "source": [
        "Prior to this step, you will need to create a folder called 'biomass_stac_generated' in your environment and leave it empty"
      ]
    },
    {
      "cell_type": "code",
      "execution_count": 13,
      "id": "bc9496fd",
      "metadata": {
        "execution": {
          "iopub.execute_input": "2021-08-19T11:21:38.164947Z",
          "iopub.status.busy": "2021-08-19T11:21:38.164385Z",
          "iopub.status.idle": "2021-08-19T11:21:38.166198Z",
          "shell.execute_reply": "2021-08-19T11:21:38.165745Z"
        },
        "papermill": {
          "duration": 0.031928,
          "end_time": "2021-08-19T11:21:38.166301",
          "exception": false,
          "start_time": "2021-08-19T11:21:38.134373",
          "status": "completed"
        },
        "tags": []
      },
      "outputs": [],
      "source": [
        "# If a STAC catalog has already been generated remove it before re generating the catalog below\n",
        "\n",
        "import shutil\n",
        "stac_generated_path = os.path.join('./biomass_stac_generated')\n",
        "if os.path.exists(stac_generated_path):\n",
        "    shutil.rmtree(stac_generated_path)"
      ]
    },
    {
      "cell_type": "code",
      "execution_count": 14,
      "id": "bb562694",
      "metadata": {
        "execution": {
          "iopub.execute_input": "2021-08-19T11:21:38.224224Z",
          "iopub.status.busy": "2021-08-19T11:21:38.223628Z",
          "iopub.status.idle": "2021-08-19T11:21:40.160028Z",
          "shell.execute_reply": "2021-08-19T11:21:40.159395Z"
        },
        "papermill": {
          "duration": 1.966862,
          "end_time": "2021-08-19T11:21:40.160145",
          "exception": false,
          "start_time": "2021-08-19T11:21:38.193283",
          "status": "completed"
        },
        "tags": []
      },
      "outputs": [],
      "source": [
        "catalog_fn_w_path = './biomass_stac_generated/TDS.json'\n",
        "new_tds_ctl_o.write_TDS_STAC_Catalog(catalog_fn_w_path)"
      ]
    },
    {
      "cell_type": "markdown",
      "id": "b88c0c1c",
      "metadata": {
        "papermill": {
          "duration": 0.027376,
          "end_time": "2021-08-19T11:21:40.214945",
          "exception": false,
          "start_time": "2021-08-19T11:21:40.187569",
          "status": "completed"
        },
        "tags": []
      },
      "source": [
        "#### Checking Compliance Level"
      ]
    },
    {
      "cell_type": "code",
      "execution_count": 15,
      "id": "5b84ab73",
      "metadata": {
        "execution": {
          "iopub.execute_input": "2021-08-19T11:21:40.274447Z",
          "iopub.status.busy": "2021-08-19T11:21:40.273637Z",
          "iopub.status.idle": "2021-08-19T11:21:40.294046Z",
          "shell.execute_reply": "2021-08-19T11:21:40.293582Z"
        },
        "papermill": {
          "duration": 0.051321,
          "end_time": "2021-08-19T11:21:40.294148",
          "exception": false,
          "start_time": "2021-08-19T11:21:40.242827",
          "status": "completed"
        },
        "tags": []
      },
      "outputs": [
        {
          "data": {
            "text/plain": [
              "1"
            ]
          },
          "execution_count": 15,
          "metadata": {},
          "output_type": "execute_result"
        }
      ],
      "source": [
        "catalog_fn_w_path = os.path.join('./biomass_stac_generated/TDS.json')\n",
        "new_tds_ctl_o = aireo_lib.core.tds_stac_io.DatasetSTACCatalog.from_TDSCatalog(catalog_fn_w_path)\n",
        "new_tds_ctl_o.compute_compliance_level()"
      ]
    },
    {
      "cell_type": "markdown",
      "id": "b27d6f84",
      "metadata": {
        "papermill": {
          "duration": 0.028055,
          "end_time": "2021-08-19T11:21:40.349802",
          "exception": false,
          "start_time": "2021-08-19T11:21:40.321747",
          "status": "completed"
        },
        "tags": []
      },
      "source": [
        "##### Checking metadata completeness"
      ]
    },
    {
      "cell_type": "code",
      "execution_count": 16,
      "id": "7ce9ad2e",
      "metadata": {
        "execution": {
          "iopub.execute_input": "2021-08-19T11:21:40.408628Z",
          "iopub.status.busy": "2021-08-19T11:21:40.408084Z",
          "iopub.status.idle": "2021-08-19T11:21:40.410158Z",
          "shell.execute_reply": "2021-08-19T11:21:40.410510Z"
        },
        "papermill": {
          "duration": 0.033312,
          "end_time": "2021-08-19T11:21:40.410622",
          "exception": false,
          "start_time": "2021-08-19T11:21:40.377310",
          "status": "completed"
        },
        "tags": []
      },
      "outputs": [
        {
          "data": {
            "text/plain": [
              "{'tds_core_metadata': {'required_metadata': 1.0,\n",
              "  'recommended_metadata': 0.3333333333333333,\n",
              "  'optional_metadata': 0.23529411764705882}}"
            ]
          },
          "execution_count": 16,
          "metadata": {},
          "output_type": "execute_result"
        }
      ],
      "source": [
        "new_tds_ctl_o.report_metadata_completeness()"
      ]
    },
    {
      "cell_type": "markdown",
      "id": "81b9ec41",
      "metadata": {
        "papermill": {
          "duration": 0.027997,
          "end_time": "2021-08-19T11:21:40.470356",
          "exception": false,
          "start_time": "2021-08-19T11:21:40.442359",
          "status": "completed"
        },
        "tags": []
      },
      "source": [
        "#### Defining AOI class"
      ]
    },
    {
      "cell_type": "code",
      "execution_count": 17,
      "id": "c26ef88e",
      "metadata": {
        "execution": {
          "iopub.execute_input": "2021-08-19T11:21:40.534916Z",
          "iopub.status.busy": "2021-08-19T11:21:40.527021Z",
          "iopub.status.idle": "2021-08-19T11:21:40.536477Z",
          "shell.execute_reply": "2021-08-19T11:21:40.536825Z"
        },
        "papermill": {
          "duration": 0.039025,
          "end_time": "2021-08-19T11:21:40.536931",
          "exception": false,
          "start_time": "2021-08-19T11:21:40.497906",
          "status": "completed"
        },
        "tags": []
      },
      "outputs": [],
      "source": [
        "#should inherit AOIDataset\n",
        "\n",
        "from aireo_lib.core import AOIDataset\n",
        "\n",
        "class AOIDatasetBiomass(AOIDataset):\n",
        "\n",
        "    def __init__(self, AOI_STAC_collection, TDS_STAC_catalog):\n",
        "\n",
        "        self.AOI_STAC_collection = AOI_STAC_collection\n",
        "        self.TDS_STAC_catalog = TDS_STAC_catalog\n",
        "        self.stride = self.TDS_STAC_catalog.tds_ctl_root_info.tds_root_metadata_d['example_stride']\n",
        "        self.window_size = self.TDS_STAC_catalog.tds_ctl_root_info.tds_root_metadata_d['example_window_size']\n",
        "        \n",
        "        _first = True\n",
        "        \n",
        "        for eo_feature in self.AOI_STAC_collection.aoi_all_field_metadata.features:\n",
        "            aoi_feature_asset_path_d = self.AOI_STAC_collection.aoi_all_field_metadata.features[eo_feature].data_asset_w_path\n",
        "            self.feature_var_name = 'features_' + eo_feature\n",
        "            if _first:\n",
        "                self.data = rioxarray.open_rasterio(aoi_feature_asset_path_d).to_dataset(name = self.feature_var_name)\n",
        "                _first = False\n",
        "            else:\n",
        "                self.data[self.feature_var_name] = rioxarray.open_rasterio(aoi_feature_asset_path_d)\n",
        "        \n",
        "        for reference_data in self.AOI_STAC_collection.aoi_all_field_metadata.references:\n",
        "            aoi_ref_data_asset_path_d = self.AOI_STAC_collection.aoi_all_field_metadata.references[reference_data].data_asset_w_path\n",
        "            self.ref_var_name = 'references_'+reference_data\n",
        "            if _first:\n",
        "                with open(aoi_ref_data_asset_path_d, 'r') as f:\n",
        "                    data = json.load(f)\n",
        "                t = [data['Wood density']]\n",
        "                d = {\n",
        "                    \"Wood density\": {\"dims\": (\"t\"), \"data\": t},\n",
        "                }\n",
        "                self.data = xr.Dataset.from_dict(d).to_dataset(name = self.ref_var_name).to_array()\n",
        "            else:\n",
        "                with open(aoi_ref_data_asset_path_d, 'r') as f:\n",
        "                    data = json.load(f)\n",
        "                t = [data['Wood density']]\n",
        "                d = {\n",
        "                    \"Wood density\": {\"dims\": (\"t\"), \"data\": t},\n",
        "                }\n",
        "                self.data[self.ref_var_name] = xr.Dataset.from_dict(d).to_array().rename({'t':'mask'})\n",
        "        \n",
        "\n",
        "\n",
        "    def __getitem__(self, index):\n",
        "        \n",
        "        along_x = int((self.data[self.feature_var_name].shape[1] - self.window_size)/self.stride)\n",
        "        along_y = int((self.data[self.feature_var_name].shape[-1] - self.window_size)/self.stride)\n",
        "        x1 = self.stride * int(index % along_x)\n",
        "        y1 = self.stride * int(index / along_y)\n",
        "        x2 = x1 + self.window_size\n",
        "        y2 = y1 + self.window_size\n",
        "        \n",
        "        #store feature and reference data in same xarray, name the axes\n",
        "        ds = self.data.isel(band=[0], mask=[0], x=slice(x1,x2), y=slice(y1, y2))        \n",
        "        return ds\n",
        "    \n",
        "\n",
        "    def __len__(self):\n",
        "        \n",
        "        along_x = int((self.data[self.feature_var_name].shape[1] - self.window_size)/self.stride) + 1\n",
        "        along_y = int((self.data[self.feature_var_name].shape[-1] - self.window_size)/self.stride) + 1\n",
        "        return along_x * along_y\n",
        "    \n",
        "    def get_length(self):\n",
        "        return self.__len__()"
      ]
    },
    {
      "cell_type": "markdown",
      "id": "d5badace",
      "metadata": {
        "papermill": {
          "duration": 0.027428,
          "end_time": "2021-08-19T11:21:40.591768",
          "exception": false,
          "start_time": "2021-08-19T11:21:40.564340",
          "status": "completed"
        },
        "tags": []
      },
      "source": [
        "## TDS user"
      ]
    },
    {
      "cell_type": "markdown",
      "id": "02c78948",
      "metadata": {
        "papermill": {
          "duration": 0.028093,
          "end_time": "2021-08-19T11:21:40.648098",
          "exception": false,
          "start_time": "2021-08-19T11:21:40.620005",
          "status": "completed"
        },
        "tags": []
      },
      "source": [
        "### Parsing TDS"
      ]
    },
    {
      "cell_type": "code",
      "execution_count": 18,
      "id": "83a6b4d0",
      "metadata": {
        "execution": {
          "iopub.execute_input": "2021-08-19T11:21:40.707215Z",
          "iopub.status.busy": "2021-08-19T11:21:40.706684Z",
          "iopub.status.idle": "2021-08-19T11:21:40.751484Z",
          "shell.execute_reply": "2021-08-19T11:21:40.750989Z"
        },
        "papermill": {
          "duration": 0.07618,
          "end_time": "2021-08-19T11:21:40.751584",
          "exception": false,
          "start_time": "2021-08-19T11:21:40.675404",
          "status": "completed"
        },
        "tags": []
      },
      "outputs": [
        {
          "name": "stderr",
          "output_type": "stream",
          "text": [
            "/opt/conda/envs/eurodatacube-0.24.5/lib/python3.8/site-packages/rioxarray/_io.py:753: NotGeoreferencedWarning: Dataset has no geotransform set. The identity matrix may be returned.\n",
            "  warnings.warn(str(rio_warning.message), type(rio_warning.message))\n",
            "/opt/conda/envs/eurodatacube-0.24.5/lib/python3.8/site-packages/rioxarray/_io.py:753: NotGeoreferencedWarning: Dataset has no geotransform set. The identity matrix may be returned.\n",
            "  warnings.warn(str(rio_warning.message), type(rio_warning.message))\n",
            "/opt/conda/envs/eurodatacube-0.24.5/lib/python3.8/site-packages/rioxarray/_io.py:753: NotGeoreferencedWarning: Dataset has no geotransform set. The identity matrix may be returned.\n",
            "  warnings.warn(str(rio_warning.message), type(rio_warning.message))\n",
            "/opt/conda/envs/eurodatacube-0.24.5/lib/python3.8/site-packages/rioxarray/_io.py:753: NotGeoreferencedWarning: Dataset has no geotransform set. The identity matrix may be returned.\n",
            "  warnings.warn(str(rio_warning.message), type(rio_warning.message))\n",
            "/opt/conda/envs/eurodatacube-0.24.5/lib/python3.8/site-packages/rioxarray/_io.py:753: NotGeoreferencedWarning: Dataset has no geotransform set. The identity matrix may be returned.\n",
            "  warnings.warn(str(rio_warning.message), type(rio_warning.message))\n"
          ]
        }
      ],
      "source": [
        "from aireo_lib.core import EOTrainingDataset\n",
        "\n",
        "cap_tds_ctl_fn = Path(catalog_fn_w_path)\n",
        "\n",
        "eo_tds_obj = EOTrainingDataset(cap_tds_ctl_fn, AOIDatasetBiomass)"
      ]
    },
    {
      "cell_type": "code",
      "execution_count": 19,
      "id": "7a0ba711",
      "metadata": {
        "execution": {
          "iopub.execute_input": "2021-08-19T11:21:40.811144Z",
          "iopub.status.busy": "2021-08-19T11:21:40.810634Z",
          "iopub.status.idle": "2021-08-19T11:21:40.812750Z",
          "shell.execute_reply": "2021-08-19T11:21:40.813082Z"
        },
        "papermill": {
          "duration": 0.033535,
          "end_time": "2021-08-19T11:21:40.813194",
          "exception": false,
          "start_time": "2021-08-19T11:21:40.779659",
          "status": "completed"
        },
        "tags": []
      },
      "outputs": [
        {
          "data": {
            "text/plain": [
              "1980"
            ]
          },
          "execution_count": 19,
          "metadata": {},
          "output_type": "execute_result"
        }
      ],
      "source": [
        "len(eo_tds_obj)"
      ]
    },
    {
      "cell_type": "code",
      "execution_count": 20,
      "id": "d2745947",
      "metadata": {
        "execution": {
          "iopub.execute_input": "2021-08-19T11:21:40.882404Z",
          "iopub.status.busy": "2021-08-19T11:21:40.881907Z",
          "iopub.status.idle": "2021-08-19T11:21:40.889561Z",
          "shell.execute_reply": "2021-08-19T11:21:40.889080Z"
        },
        "papermill": {
          "duration": 0.044524,
          "end_time": "2021-08-19T11:21:40.889654",
          "exception": false,
          "start_time": "2021-08-19T11:21:40.845130",
          "status": "completed"
        },
        "tags": []
      },
      "outputs": [
        {
          "data": {
            "text/html": [
              "<div><svg style=\"position: absolute; width: 0; height: 0; overflow: hidden\">\n",
              "<defs>\n",
              "<symbol id=\"icon-database\" viewBox=\"0 0 32 32\">\n",
              "<path d=\"M16 0c-8.837 0-16 2.239-16 5v4c0 2.761 7.163 5 16 5s16-2.239 16-5v-4c0-2.761-7.163-5-16-5z\"></path>\n",
              "<path d=\"M16 17c-8.837 0-16-2.239-16-5v6c0 2.761 7.163 5 16 5s16-2.239 16-5v-6c0 2.761-7.163 5-16 5z\"></path>\n",
              "<path d=\"M16 26c-8.837 0-16-2.239-16-5v6c0 2.761 7.163 5 16 5s16-2.239 16-5v-6c0 2.761-7.163 5-16 5z\"></path>\n",
              "</symbol>\n",
              "<symbol id=\"icon-file-text2\" viewBox=\"0 0 32 32\">\n",
              "<path d=\"M28.681 7.159c-0.694-0.947-1.662-2.053-2.724-3.116s-2.169-2.030-3.116-2.724c-1.612-1.182-2.393-1.319-2.841-1.319h-15.5c-1.378 0-2.5 1.121-2.5 2.5v27c0 1.378 1.122 2.5 2.5 2.5h23c1.378 0 2.5-1.122 2.5-2.5v-19.5c0-0.448-0.137-1.23-1.319-2.841zM24.543 5.457c0.959 0.959 1.712 1.825 2.268 2.543h-4.811v-4.811c0.718 0.556 1.584 1.309 2.543 2.268zM28 29.5c0 0.271-0.229 0.5-0.5 0.5h-23c-0.271 0-0.5-0.229-0.5-0.5v-27c0-0.271 0.229-0.5 0.5-0.5 0 0 15.499-0 15.5 0v7c0 0.552 0.448 1 1 1h7v19.5z\"></path>\n",
              "<path d=\"M23 26h-14c-0.552 0-1-0.448-1-1s0.448-1 1-1h14c0.552 0 1 0.448 1 1s-0.448 1-1 1z\"></path>\n",
              "<path d=\"M23 22h-14c-0.552 0-1-0.448-1-1s0.448-1 1-1h14c0.552 0 1 0.448 1 1s-0.448 1-1 1z\"></path>\n",
              "<path d=\"M23 18h-14c-0.552 0-1-0.448-1-1s0.448-1 1-1h14c0.552 0 1 0.448 1 1s-0.448 1-1 1z\"></path>\n",
              "</symbol>\n",
              "</defs>\n",
              "</svg>\n",
              "<style>/* CSS stylesheet for displaying xarray objects in jupyterlab.\n",
              " *\n",
              " */\n",
              "\n",
              ":root {\n",
              "  --xr-font-color0: var(--jp-content-font-color0, rgba(0, 0, 0, 1));\n",
              "  --xr-font-color2: var(--jp-content-font-color2, rgba(0, 0, 0, 0.54));\n",
              "  --xr-font-color3: var(--jp-content-font-color3, rgba(0, 0, 0, 0.38));\n",
              "  --xr-border-color: var(--jp-border-color2, #e0e0e0);\n",
              "  --xr-disabled-color: var(--jp-layout-color3, #bdbdbd);\n",
              "  --xr-background-color: var(--jp-layout-color0, white);\n",
              "  --xr-background-color-row-even: var(--jp-layout-color1, white);\n",
              "  --xr-background-color-row-odd: var(--jp-layout-color2, #eeeeee);\n",
              "}\n",
              "\n",
              "html[theme=dark],\n",
              "body.vscode-dark {\n",
              "  --xr-font-color0: rgba(255, 255, 255, 1);\n",
              "  --xr-font-color2: rgba(255, 255, 255, 0.54);\n",
              "  --xr-font-color3: rgba(255, 255, 255, 0.38);\n",
              "  --xr-border-color: #1F1F1F;\n",
              "  --xr-disabled-color: #515151;\n",
              "  --xr-background-color: #111111;\n",
              "  --xr-background-color-row-even: #111111;\n",
              "  --xr-background-color-row-odd: #313131;\n",
              "}\n",
              "\n",
              ".xr-wrap {\n",
              "  display: block;\n",
              "  min-width: 300px;\n",
              "  max-width: 700px;\n",
              "}\n",
              "\n",
              ".xr-text-repr-fallback {\n",
              "  /* fallback to plain text repr when CSS is not injected (untrusted notebook) */\n",
              "  display: none;\n",
              "}\n",
              "\n",
              ".xr-header {\n",
              "  padding-top: 6px;\n",
              "  padding-bottom: 6px;\n",
              "  margin-bottom: 4px;\n",
              "  border-bottom: solid 1px var(--xr-border-color);\n",
              "}\n",
              "\n",
              ".xr-header > div,\n",
              ".xr-header > ul {\n",
              "  display: inline;\n",
              "  margin-top: 0;\n",
              "  margin-bottom: 0;\n",
              "}\n",
              "\n",
              ".xr-obj-type,\n",
              ".xr-array-name {\n",
              "  margin-left: 2px;\n",
              "  margin-right: 10px;\n",
              "}\n",
              "\n",
              ".xr-obj-type {\n",
              "  color: var(--xr-font-color2);\n",
              "}\n",
              "\n",
              ".xr-sections {\n",
              "  padding-left: 0 !important;\n",
              "  display: grid;\n",
              "  grid-template-columns: 150px auto auto 1fr 20px 20px;\n",
              "}\n",
              "\n",
              ".xr-section-item {\n",
              "  display: contents;\n",
              "}\n",
              "\n",
              ".xr-section-item input {\n",
              "  display: none;\n",
              "}\n",
              "\n",
              ".xr-section-item input + label {\n",
              "  color: var(--xr-disabled-color);\n",
              "}\n",
              "\n",
              ".xr-section-item input:enabled + label {\n",
              "  cursor: pointer;\n",
              "  color: var(--xr-font-color2);\n",
              "}\n",
              "\n",
              ".xr-section-item input:enabled + label:hover {\n",
              "  color: var(--xr-font-color0);\n",
              "}\n",
              "\n",
              ".xr-section-summary {\n",
              "  grid-column: 1;\n",
              "  color: var(--xr-font-color2);\n",
              "  font-weight: 500;\n",
              "}\n",
              "\n",
              ".xr-section-summary > span {\n",
              "  display: inline-block;\n",
              "  padding-left: 0.5em;\n",
              "}\n",
              "\n",
              ".xr-section-summary-in:disabled + label {\n",
              "  color: var(--xr-font-color2);\n",
              "}\n",
              "\n",
              ".xr-section-summary-in + label:before {\n",
              "  display: inline-block;\n",
              "  content: '►';\n",
              "  font-size: 11px;\n",
              "  width: 15px;\n",
              "  text-align: center;\n",
              "}\n",
              "\n",
              ".xr-section-summary-in:disabled + label:before {\n",
              "  color: var(--xr-disabled-color);\n",
              "}\n",
              "\n",
              ".xr-section-summary-in:checked + label:before {\n",
              "  content: '▼';\n",
              "}\n",
              "\n",
              ".xr-section-summary-in:checked + label > span {\n",
              "  display: none;\n",
              "}\n",
              "\n",
              ".xr-section-summary,\n",
              ".xr-section-inline-details {\n",
              "  padding-top: 4px;\n",
              "  padding-bottom: 4px;\n",
              "}\n",
              "\n",
              ".xr-section-inline-details {\n",
              "  grid-column: 2 / -1;\n",
              "}\n",
              "\n",
              ".xr-section-details {\n",
              "  display: none;\n",
              "  grid-column: 1 / -1;\n",
              "  margin-bottom: 5px;\n",
              "}\n",
              "\n",
              ".xr-section-summary-in:checked ~ .xr-section-details {\n",
              "  display: contents;\n",
              "}\n",
              "\n",
              ".xr-array-wrap {\n",
              "  grid-column: 1 / -1;\n",
              "  display: grid;\n",
              "  grid-template-columns: 20px auto;\n",
              "}\n",
              "\n",
              ".xr-array-wrap > label {\n",
              "  grid-column: 1;\n",
              "  vertical-align: top;\n",
              "}\n",
              "\n",
              ".xr-preview {\n",
              "  color: var(--xr-font-color3);\n",
              "}\n",
              "\n",
              ".xr-array-preview,\n",
              ".xr-array-data {\n",
              "  padding: 0 5px !important;\n",
              "  grid-column: 2;\n",
              "}\n",
              "\n",
              ".xr-array-data,\n",
              ".xr-array-in:checked ~ .xr-array-preview {\n",
              "  display: none;\n",
              "}\n",
              "\n",
              ".xr-array-in:checked ~ .xr-array-data,\n",
              ".xr-array-preview {\n",
              "  display: inline-block;\n",
              "}\n",
              "\n",
              ".xr-dim-list {\n",
              "  display: inline-block !important;\n",
              "  list-style: none;\n",
              "  padding: 0 !important;\n",
              "  margin: 0;\n",
              "}\n",
              "\n",
              ".xr-dim-list li {\n",
              "  display: inline-block;\n",
              "  padding: 0;\n",
              "  margin: 0;\n",
              "}\n",
              "\n",
              ".xr-dim-list:before {\n",
              "  content: '(';\n",
              "}\n",
              "\n",
              ".xr-dim-list:after {\n",
              "  content: ')';\n",
              "}\n",
              "\n",
              ".xr-dim-list li:not(:last-child):after {\n",
              "  content: ',';\n",
              "  padding-right: 5px;\n",
              "}\n",
              "\n",
              ".xr-has-index {\n",
              "  font-weight: bold;\n",
              "}\n",
              "\n",
              ".xr-var-list,\n",
              ".xr-var-item {\n",
              "  display: contents;\n",
              "}\n",
              "\n",
              ".xr-var-item > div,\n",
              ".xr-var-item label,\n",
              ".xr-var-item > .xr-var-name span {\n",
              "  background-color: var(--xr-background-color-row-even);\n",
              "  margin-bottom: 0;\n",
              "}\n",
              "\n",
              ".xr-var-item > .xr-var-name:hover span {\n",
              "  padding-right: 5px;\n",
              "}\n",
              "\n",
              ".xr-var-list > li:nth-child(odd) > div,\n",
              ".xr-var-list > li:nth-child(odd) > label,\n",
              ".xr-var-list > li:nth-child(odd) > .xr-var-name span {\n",
              "  background-color: var(--xr-background-color-row-odd);\n",
              "}\n",
              "\n",
              ".xr-var-name {\n",
              "  grid-column: 1;\n",
              "}\n",
              "\n",
              ".xr-var-dims {\n",
              "  grid-column: 2;\n",
              "}\n",
              "\n",
              ".xr-var-dtype {\n",
              "  grid-column: 3;\n",
              "  text-align: right;\n",
              "  color: var(--xr-font-color2);\n",
              "}\n",
              "\n",
              ".xr-var-preview {\n",
              "  grid-column: 4;\n",
              "}\n",
              "\n",
              ".xr-var-name,\n",
              ".xr-var-dims,\n",
              ".xr-var-dtype,\n",
              ".xr-preview,\n",
              ".xr-attrs dt {\n",
              "  white-space: nowrap;\n",
              "  overflow: hidden;\n",
              "  text-overflow: ellipsis;\n",
              "  padding-right: 10px;\n",
              "}\n",
              "\n",
              ".xr-var-name:hover,\n",
              ".xr-var-dims:hover,\n",
              ".xr-var-dtype:hover,\n",
              ".xr-attrs dt:hover {\n",
              "  overflow: visible;\n",
              "  width: auto;\n",
              "  z-index: 1;\n",
              "}\n",
              "\n",
              ".xr-var-attrs,\n",
              ".xr-var-data {\n",
              "  display: none;\n",
              "  background-color: var(--xr-background-color) !important;\n",
              "  padding-bottom: 5px !important;\n",
              "}\n",
              "\n",
              ".xr-var-attrs-in:checked ~ .xr-var-attrs,\n",
              ".xr-var-data-in:checked ~ .xr-var-data {\n",
              "  display: block;\n",
              "}\n",
              "\n",
              ".xr-var-data > table {\n",
              "  float: right;\n",
              "}\n",
              "\n",
              ".xr-var-name span,\n",
              ".xr-var-data,\n",
              ".xr-attrs {\n",
              "  padding-left: 25px !important;\n",
              "}\n",
              "\n",
              ".xr-attrs,\n",
              ".xr-var-attrs,\n",
              ".xr-var-data {\n",
              "  grid-column: 1 / -1;\n",
              "}\n",
              "\n",
              "dl.xr-attrs {\n",
              "  padding: 0;\n",
              "  margin: 0;\n",
              "  display: grid;\n",
              "  grid-template-columns: 125px auto;\n",
              "}\n",
              "\n",
              ".xr-attrs dt,\n",
              ".xr-attrs dd {\n",
              "  padding: 0;\n",
              "  margin: 0;\n",
              "  float: left;\n",
              "  padding-right: 10px;\n",
              "  width: auto;\n",
              "}\n",
              "\n",
              ".xr-attrs dt {\n",
              "  font-weight: normal;\n",
              "  grid-column: 1;\n",
              "}\n",
              "\n",
              ".xr-attrs dt:hover span {\n",
              "  display: inline-block;\n",
              "  background: var(--xr-background-color);\n",
              "  padding-right: 10px;\n",
              "}\n",
              "\n",
              ".xr-attrs dd {\n",
              "  grid-column: 2;\n",
              "  white-space: pre-wrap;\n",
              "  word-break: break-all;\n",
              "}\n",
              "\n",
              ".xr-icon-database,\n",
              ".xr-icon-file-text2 {\n",
              "  display: inline-block;\n",
              "  vertical-align: middle;\n",
              "  width: 1em;\n",
              "  height: 1.5em !important;\n",
              "  stroke-width: 0;\n",
              "  stroke: currentColor;\n",
              "  fill: currentColor;\n",
              "}\n",
              "</style><pre class='xr-text-repr-fallback'>&lt;xarray.Dataset&gt;\n",
              "Dimensions:             (band: 1, mask: 1, variable: 1, x: 256, y: 256)\n",
              "Coordinates:\n",
              "  * band                (band) int64 1\n",
              "  * x                   (x) float64 0.5 1.5 2.5 3.5 ... 252.5 253.5 254.5 255.5\n",
              "  * y                   (y) float64 0.5 1.5 2.5 3.5 ... 252.5 253.5 254.5 255.5\n",
              "    spatial_ref         int64 0\n",
              "  * variable            (variable) &lt;U12 &#x27;Wood density&#x27;\n",
              "Dimensions without coordinates: mask\n",
              "Data variables:\n",
              "    features_input1     (band, y, x) uint8 27 27 27 27 27 27 ... 26 26 26 26 26\n",
              "    references_output1  (variable, mask) float64 0.638</pre><div class='xr-wrap' hidden><div class='xr-header'><div class='xr-obj-type'>xarray.Dataset</div></div><ul class='xr-sections'><li class='xr-section-item'><input id='section-52194b15-44a9-4b95-abab-795ca6562ed2' class='xr-section-summary-in' type='checkbox' disabled ><label for='section-52194b15-44a9-4b95-abab-795ca6562ed2' class='xr-section-summary'  title='Expand/collapse section'>Dimensions:</label><div class='xr-section-inline-details'><ul class='xr-dim-list'><li><span class='xr-has-index'>band</span>: 1</li><li><span>mask</span>: 1</li><li><span class='xr-has-index'>variable</span>: 1</li><li><span class='xr-has-index'>x</span>: 256</li><li><span class='xr-has-index'>y</span>: 256</li></ul></div><div class='xr-section-details'></div></li><li class='xr-section-item'><input id='section-0ee687fa-c1bf-4b01-9d19-da570cb8a464' class='xr-section-summary-in' type='checkbox'  checked><label for='section-0ee687fa-c1bf-4b01-9d19-da570cb8a464' class='xr-section-summary' >Coordinates: <span>(5)</span></label><div class='xr-section-inline-details'></div><div class='xr-section-details'><ul class='xr-var-list'><li class='xr-var-item'><div class='xr-var-name'><span class='xr-has-index'>band</span></div><div class='xr-var-dims'>(band)</div><div class='xr-var-dtype'>int64</div><div class='xr-var-preview xr-preview'>1</div><input id='attrs-3355131d-ac56-4b49-acc0-9d380ac4bc87' class='xr-var-attrs-in' type='checkbox' disabled><label for='attrs-3355131d-ac56-4b49-acc0-9d380ac4bc87' title='Show/Hide attributes'><svg class='icon xr-icon-file-text2'><use xlink:href='#icon-file-text2'></use></svg></label><input id='data-4286710b-63da-47fb-a973-9771f810cef8' class='xr-var-data-in' type='checkbox'><label for='data-4286710b-63da-47fb-a973-9771f810cef8' title='Show/Hide data repr'><svg class='icon xr-icon-database'><use xlink:href='#icon-database'></use></svg></label><div class='xr-var-attrs'><dl class='xr-attrs'></dl></div><div class='xr-var-data'><pre>array([1])</pre></div></li><li class='xr-var-item'><div class='xr-var-name'><span class='xr-has-index'>x</span></div><div class='xr-var-dims'>(x)</div><div class='xr-var-dtype'>float64</div><div class='xr-var-preview xr-preview'>0.5 1.5 2.5 ... 253.5 254.5 255.5</div><input id='attrs-8d7c0379-e5ed-4892-85f6-37cb2d024678' class='xr-var-attrs-in' type='checkbox' disabled><label for='attrs-8d7c0379-e5ed-4892-85f6-37cb2d024678' title='Show/Hide attributes'><svg class='icon xr-icon-file-text2'><use xlink:href='#icon-file-text2'></use></svg></label><input id='data-2e9c8fee-7700-449d-a55d-fd5eee8396a4' class='xr-var-data-in' type='checkbox'><label for='data-2e9c8fee-7700-449d-a55d-fd5eee8396a4' title='Show/Hide data repr'><svg class='icon xr-icon-database'><use xlink:href='#icon-database'></use></svg></label><div class='xr-var-attrs'><dl class='xr-attrs'></dl></div><div class='xr-var-data'><pre>array([  0.5,   1.5,   2.5, ..., 253.5, 254.5, 255.5])</pre></div></li><li class='xr-var-item'><div class='xr-var-name'><span class='xr-has-index'>y</span></div><div class='xr-var-dims'>(y)</div><div class='xr-var-dtype'>float64</div><div class='xr-var-preview xr-preview'>0.5 1.5 2.5 ... 253.5 254.5 255.5</div><input id='attrs-4f9ba577-9ed9-4aa7-88f2-918ac3043440' class='xr-var-attrs-in' type='checkbox' disabled><label for='attrs-4f9ba577-9ed9-4aa7-88f2-918ac3043440' title='Show/Hide attributes'><svg class='icon xr-icon-file-text2'><use xlink:href='#icon-file-text2'></use></svg></label><input id='data-4e381aaf-d892-4780-8c9b-016b9a55d475' class='xr-var-data-in' type='checkbox'><label for='data-4e381aaf-d892-4780-8c9b-016b9a55d475' title='Show/Hide data repr'><svg class='icon xr-icon-database'><use xlink:href='#icon-database'></use></svg></label><div class='xr-var-attrs'><dl class='xr-attrs'></dl></div><div class='xr-var-data'><pre>array([  0.5,   1.5,   2.5, ..., 253.5, 254.5, 255.5])</pre></div></li><li class='xr-var-item'><div class='xr-var-name'><span>spatial_ref</span></div><div class='xr-var-dims'>()</div><div class='xr-var-dtype'>int64</div><div class='xr-var-preview xr-preview'>0</div><input id='attrs-2690f09e-0073-4d62-b1f9-a388221543fe' class='xr-var-attrs-in' type='checkbox' ><label for='attrs-2690f09e-0073-4d62-b1f9-a388221543fe' title='Show/Hide attributes'><svg class='icon xr-icon-file-text2'><use xlink:href='#icon-file-text2'></use></svg></label><input id='data-46d831df-ae4a-4164-b227-b872f0e6bc6d' class='xr-var-data-in' type='checkbox'><label for='data-46d831df-ae4a-4164-b227-b872f0e6bc6d' title='Show/Hide data repr'><svg class='icon xr-icon-database'><use xlink:href='#icon-database'></use></svg></label><div class='xr-var-attrs'><dl class='xr-attrs'><dt><span>GeoTransform :</span></dt><dd>0.0 1.0 0.0 0.0 0.0 1.0</dd></dl></div><div class='xr-var-data'><pre>array(0)</pre></div></li><li class='xr-var-item'><div class='xr-var-name'><span class='xr-has-index'>variable</span></div><div class='xr-var-dims'>(variable)</div><div class='xr-var-dtype'>&lt;U12</div><div class='xr-var-preview xr-preview'>&#x27;Wood density&#x27;</div><input id='attrs-2c0948f7-4401-4884-8f7e-6b4bb8174073' class='xr-var-attrs-in' type='checkbox' disabled><label for='attrs-2c0948f7-4401-4884-8f7e-6b4bb8174073' title='Show/Hide attributes'><svg class='icon xr-icon-file-text2'><use xlink:href='#icon-file-text2'></use></svg></label><input id='data-2ec0b416-d53a-4904-b3ce-dc21dfa3e85c' class='xr-var-data-in' type='checkbox'><label for='data-2ec0b416-d53a-4904-b3ce-dc21dfa3e85c' title='Show/Hide data repr'><svg class='icon xr-icon-database'><use xlink:href='#icon-database'></use></svg></label><div class='xr-var-attrs'><dl class='xr-attrs'></dl></div><div class='xr-var-data'><pre>array([&#x27;Wood density&#x27;], dtype=&#x27;&lt;U12&#x27;)</pre></div></li></ul></div></li><li class='xr-section-item'><input id='section-df8c70f9-7a9c-4f1d-be88-8d065788bf71' class='xr-section-summary-in' type='checkbox'  checked><label for='section-df8c70f9-7a9c-4f1d-be88-8d065788bf71' class='xr-section-summary' >Data variables: <span>(2)</span></label><div class='xr-section-inline-details'></div><div class='xr-section-details'><ul class='xr-var-list'><li class='xr-var-item'><div class='xr-var-name'><span>features_input1</span></div><div class='xr-var-dims'>(band, y, x)</div><div class='xr-var-dtype'>uint8</div><div class='xr-var-preview xr-preview'>...</div><input id='attrs-be6dc62e-0c08-4af2-9d12-c9fdfa73a42f' class='xr-var-attrs-in' type='checkbox' ><label for='attrs-be6dc62e-0c08-4af2-9d12-c9fdfa73a42f' title='Show/Hide attributes'><svg class='icon xr-icon-file-text2'><use xlink:href='#icon-file-text2'></use></svg></label><input id='data-997e0017-7427-4632-99fb-10b34ae7cdf0' class='xr-var-data-in' type='checkbox'><label for='data-997e0017-7427-4632-99fb-10b34ae7cdf0' title='Show/Hide data repr'><svg class='icon xr-icon-database'><use xlink:href='#icon-database'></use></svg></label><div class='xr-var-attrs'><dl class='xr-attrs'><dt><span>scale_factor :</span></dt><dd>1.0</dd><dt><span>add_offset :</span></dt><dd>0.0</dd></dl></div><div class='xr-var-data'><pre>array([[[27, 27, ..., 27, 27],\n",
              "        [27, 27, ..., 27, 27],\n",
              "        ...,\n",
              "        [26, 26, ..., 26, 26],\n",
              "        [26, 26, ..., 26, 26]]], dtype=uint8)</pre></div></li><li class='xr-var-item'><div class='xr-var-name'><span>references_output1</span></div><div class='xr-var-dims'>(variable, mask)</div><div class='xr-var-dtype'>float64</div><div class='xr-var-preview xr-preview'>0.638</div><input id='attrs-baee0bc7-bd55-4e3d-aab5-f07f5e38926d' class='xr-var-attrs-in' type='checkbox' disabled><label for='attrs-baee0bc7-bd55-4e3d-aab5-f07f5e38926d' title='Show/Hide attributes'><svg class='icon xr-icon-file-text2'><use xlink:href='#icon-file-text2'></use></svg></label><input id='data-5f69a788-2d0e-4775-82b1-9a0d2e6b37c0' class='xr-var-data-in' type='checkbox'><label for='data-5f69a788-2d0e-4775-82b1-9a0d2e6b37c0' title='Show/Hide data repr'><svg class='icon xr-icon-database'><use xlink:href='#icon-database'></use></svg></label><div class='xr-var-attrs'><dl class='xr-attrs'></dl></div><div class='xr-var-data'><pre>array([[0.638]])</pre></div></li></ul></div></li><li class='xr-section-item'><input id='section-96611503-51cf-40cf-901d-7b0acb5ec830' class='xr-section-summary-in' type='checkbox' disabled ><label for='section-96611503-51cf-40cf-901d-7b0acb5ec830' class='xr-section-summary'  title='Expand/collapse section'>Attributes: <span>(0)</span></label><div class='xr-section-inline-details'></div><div class='xr-section-details'><dl class='xr-attrs'></dl></div></li></ul></div></div>"
            ],
            "text/plain": [
              "<xarray.Dataset>\n",
              "Dimensions:             (band: 1, mask: 1, variable: 1, x: 256, y: 256)\n",
              "Coordinates:\n",
              "  * band                (band) int64 1\n",
              "  * x                   (x) float64 0.5 1.5 2.5 3.5 ... 252.5 253.5 254.5 255.5\n",
              "  * y                   (y) float64 0.5 1.5 2.5 3.5 ... 252.5 253.5 254.5 255.5\n",
              "    spatial_ref         int64 0\n",
              "  * variable            (variable) <U12 'Wood density'\n",
              "Dimensions without coordinates: mask\n",
              "Data variables:\n",
              "    features_input1     (band, y, x) uint8 ...\n",
              "    references_output1  (variable, mask) float64 0.638"
            ]
          },
          "execution_count": 20,
          "metadata": {},
          "output_type": "execute_result"
        }
      ],
      "source": [
        "eo_tds_obj[0]"
      ]
    },
    {
      "cell_type": "code",
      "execution_count": 21,
      "id": "8024a05d",
      "metadata": {
        "execution": {
          "iopub.execute_input": "2021-08-19T11:21:40.958580Z",
          "iopub.status.busy": "2021-08-19T11:21:40.958092Z",
          "iopub.status.idle": "2021-08-19T11:21:40.960512Z",
          "shell.execute_reply": "2021-08-19T11:21:40.960082Z"
        },
        "papermill": {
          "duration": 0.042528,
          "end_time": "2021-08-19T11:21:40.960600",
          "exception": false,
          "start_time": "2021-08-19T11:21:40.918072",
          "status": "completed"
        },
        "tags": []
      },
      "outputs": [
        {
          "data": {
            "text/plain": [
              "[<xarray.Dataset>\n",
              " Dimensions:             (band: 1, mask: 1, variable: 1, x: 58, y: 256)\n",
              " Coordinates:\n",
              "   * band                (band) int64 1\n",
              "   * x                   (x) float64 494.5 495.5 496.5 ... 549.5 550.5 551.5\n",
              "   * y                   (y) float64 26.5 27.5 28.5 29.5 ... 279.5 280.5 281.5\n",
              "     spatial_ref         int64 0\n",
              "   * variable            (variable) <U12 'Wood density'\n",
              " Dimensions without coordinates: mask\n",
              " Data variables:\n",
              "     features_input1     (band, y, x) uint8 ...\n",
              "     references_output1  (variable, mask) float64 0.638,\n",
              " <xarray.Dataset>\n",
              " Dimensions:             (band: 1, mask: 1, variable: 1, x: 256, y: 256)\n",
              " Coordinates:\n",
              "   * band                (band) int64 1\n",
              "   * x                   (x) float64 234.5 235.5 236.5 ... 487.5 488.5 489.5\n",
              "   * y                   (y) float64 754.5 755.5 756.5 ... 1.008e+03 1.01e+03\n",
              "     spatial_ref         int64 0\n",
              "   * variable            (variable) <U12 'Wood density'\n",
              " Dimensions without coordinates: mask\n",
              " Data variables:\n",
              "     features_input1     (band, y, x) uint8 ...\n",
              "     references_output1  (variable, mask) float64 0.6]"
            ]
          },
          "execution_count": 21,
          "metadata": {},
          "output_type": "execute_result"
        }
      ],
      "source": [
        "eo_tds_obj.get_subset([19,1121], data_type='numpy')"
      ]
    },
    {
      "cell_type": "code",
      "execution_count": 22,
      "id": "97379190",
      "metadata": {
        "execution": {
          "iopub.execute_input": "2021-08-19T11:21:41.021577Z",
          "iopub.status.busy": "2021-08-19T11:21:41.021079Z",
          "iopub.status.idle": "2021-08-19T11:21:41.028410Z",
          "shell.execute_reply": "2021-08-19T11:21:41.022927Z"
        },
        "papermill": {
          "duration": 0.038989,
          "end_time": "2021-08-19T11:21:41.028498",
          "exception": false,
          "start_time": "2021-08-19T11:21:40.989509",
          "status": "completed"
        },
        "tags": []
      },
      "outputs": [
        {
          "data": {
            "text/plain": [
              "396"
            ]
          },
          "execution_count": 22,
          "metadata": {},
          "output_type": "execute_result"
        }
      ],
      "source": [
        "aoi_objs = eo_tds_obj.get_aoi_datasets()\n",
        "len(aoi_objs[1])"
      ]
    },
    {
      "cell_type": "code",
      "execution_count": 23,
      "id": "4b6eebc0",
      "metadata": {
        "execution": {
          "iopub.execute_input": "2021-08-19T11:21:41.091371Z",
          "iopub.status.busy": "2021-08-19T11:21:41.090851Z",
          "iopub.status.idle": "2021-08-19T11:21:42.740715Z",
          "shell.execute_reply": "2021-08-19T11:21:42.740276Z"
        },
        "papermill": {
          "duration": 1.683334,
          "end_time": "2021-08-19T11:21:42.740819",
          "exception": false,
          "start_time": "2021-08-19T11:21:41.057485",
          "status": "completed"
        },
        "tags": []
      },
      "outputs": [
        {
          "data": {
            "text/plain": [
              "<module 'aireo_lib.plotting' from '/opt/conda/envs/eurodatacube-0.24.5/lib/python3.8/site-packages/aireo_lib/plotting.py'>"
            ]
          },
          "execution_count": 23,
          "metadata": {},
          "output_type": "execute_result"
        }
      ],
      "source": [
        "import aireo_lib.plotting \n",
        "#import matplotlib.pyplot as plt\n",
        "from importlib import reload\n",
        "reload(aireo_lib.plotting)"
      ]
    },
    {
      "cell_type": "code",
      "execution_count": 24,
      "id": "ca162267",
      "metadata": {
        "execution": {
          "iopub.execute_input": "2021-08-19T11:21:42.804992Z",
          "iopub.status.busy": "2021-08-19T11:21:42.804486Z",
          "iopub.status.idle": "2021-08-19T11:21:43.066318Z",
          "shell.execute_reply": "2021-08-19T11:21:43.065823Z"
        },
        "papermill": {
          "duration": 0.296263,
          "end_time": "2021-08-19T11:21:43.066427",
          "exception": false,
          "start_time": "2021-08-19T11:21:42.770164",
          "status": "completed"
        },
        "tags": []
      },
      "outputs": [
        {
          "data": {
            "image/png": "[encoded data removed]",
            "text/plain": [
              "<Figure size 640x480 with 1 Axes>"
            ]
          },
          "execution_count": 24,
          "metadata": {},
          "output_type": "execute_result"
        }
      ],
      "source": [
        "plot_d = aireo_lib.plotting.EOTDSPlot.plot_example(EOTDS=eo_tds_obj, \n",
        "                       ex_index=1, \n",
        "                       field_names=['features_input1', 'references_output1'])\n",
        "plot_d['references_output1']"
      ]
    },
    {
      "cell_type": "code",
      "execution_count": 25,
      "id": "b38467e0",
      "metadata": {
        "execution": {
          "iopub.execute_input": "2021-08-19T11:21:43.132921Z",
          "iopub.status.busy": "2021-08-19T11:21:43.131459Z",
          "iopub.status.idle": "2021-08-19T11:21:43.302816Z",
          "shell.execute_reply": "2021-08-19T11:21:43.303212Z"
        },
        "papermill": {
          "duration": 0.206742,
          "end_time": "2021-08-19T11:21:43.303344",
          "exception": false,
          "start_time": "2021-08-19T11:21:43.096602",
          "status": "completed"
        },
        "tags": []
      },
      "outputs": [
        {
          "data": {
            "image/png": "[encoded data removed]",
            "text/plain": [
              "<Figure size 640x480 with 2 Axes>"
            ]
          },
          "execution_count": 25,
          "metadata": {},
          "output_type": "execute_result"
        }
      ],
      "source": [
        "plot_d['features_input1']"
      ]
    },
    {
      "cell_type": "code",
      "execution_count": 26,
      "id": "d0fcc65c",
      "metadata": {
        "execution": {
          "iopub.execute_input": "2021-08-19T11:21:43.372620Z",
          "iopub.status.busy": "2021-08-19T11:21:43.372070Z",
          "iopub.status.idle": "2021-08-19T11:21:43.373992Z",
          "shell.execute_reply": "2021-08-19T11:21:43.373497Z"
        },
        "papermill": {
          "duration": 0.035292,
          "end_time": "2021-08-19T11:21:43.374096",
          "exception": false,
          "start_time": "2021-08-19T11:21:43.338804",
          "status": "completed"
        },
        "tags": []
      },
      "outputs": [],
      "source": [
        "aoi_obj = eo_tds_obj.get_aoi_dataset(2)"
      ]
    },
    {
      "cell_type": "code",
      "execution_count": 27,
      "id": "7ba11a13",
      "metadata": {
        "execution": {
          "iopub.execute_input": "2021-08-19T11:21:43.443956Z",
          "iopub.status.busy": "2021-08-19T11:21:43.443399Z",
          "iopub.status.idle": "2021-08-19T11:21:43.599632Z",
          "shell.execute_reply": "2021-08-19T11:21:43.599101Z"
        },
        "papermill": {
          "duration": 0.195283,
          "end_time": "2021-08-19T11:21:43.599738",
          "exception": false,
          "start_time": "2021-08-19T11:21:43.404455",
          "status": "completed"
        },
        "tags": []
      },
      "outputs": [
        {
          "data": {
            "text/plain": [
              "{'features_input1': <Figure size 640x480 with 1 Axes>,\n",
              " 'references_output1': <Figure size 640x480 with 1 Axes>}"
            ]
          },
          "execution_count": 27,
          "metadata": {},
          "output_type": "execute_result"
        }
      ],
      "source": [
        "aoi_plots_d = aireo_lib.plotting.EOTDSPlot.plot_aoi_dataset(aoi_obj)\n",
        "aoi_plots_d"
      ]
    },
    {
      "cell_type": "markdown",
      "id": "3398538e",
      "metadata": {
        "papermill": {
          "duration": 0.030269,
          "end_time": "2021-08-19T11:21:43.660743",
          "exception": false,
          "start_time": "2021-08-19T11:21:43.630474",
          "status": "completed"
        },
        "tags": []
      },
      "source": [
        "### Statistics"
      ]
    },
    {
      "cell_type": "code",
      "execution_count": 28,
      "id": "dd2df228",
      "metadata": {
        "execution": {
          "iopub.execute_input": "2021-08-19T11:21:43.725426Z",
          "iopub.status.busy": "2021-08-19T11:21:43.724901Z",
          "iopub.status.idle": "2021-08-19T11:21:43.730711Z",
          "shell.execute_reply": "2021-08-19T11:21:43.730219Z"
        },
        "papermill": {
          "duration": 0.039189,
          "end_time": "2021-08-19T11:21:43.730803",
          "exception": false,
          "start_time": "2021-08-19T11:21:43.691614",
          "status": "completed"
        },
        "tags": []
      },
      "outputs": [
        {
          "data": {
            "text/plain": [
              "<module 'aireo_lib.statistics' from '/opt/conda/envs/eurodatacube-0.24.5/lib/python3.8/site-packages/aireo_lib/statistics.py'>"
            ]
          },
          "execution_count": 28,
          "metadata": {},
          "output_type": "execute_result"
        }
      ],
      "source": [
        "import aireo_lib.statistics\n",
        "from importlib import reload\n",
        "reload(aireo_lib.statistics)"
      ]
    },
    {
      "cell_type": "code",
      "execution_count": 29,
      "id": "5d6f208d",
      "metadata": {
        "execution": {
          "iopub.execute_input": "2021-08-19T11:21:43.798105Z",
          "iopub.status.busy": "2021-08-19T11:21:43.797212Z",
          "iopub.status.idle": "2021-08-19T11:21:45.372597Z",
          "shell.execute_reply": "2021-08-19T11:21:45.372924Z"
        },
        "papermill": {
          "duration": 1.61167,
          "end_time": "2021-08-19T11:21:45.373052",
          "exception": false,
          "start_time": "2021-08-19T11:21:43.761382",
          "status": "completed"
        },
        "scrolled": true,
        "tags": []
      },
      "outputs": [
        {
          "data": {
            "text/plain": [
              "{'aoi_0_channel_0': {'mean': 26.873867753623188,\n",
              "  'std': 0.4051226901619986,\n",
              "  'max': 31,\n",
              "  'min': 26},\n",
              " 'aoi_0_channel_1': {'mean': 19.43317777252678,\n",
              "  'std': 0.6398376144134297,\n",
              "  'max': 55,\n",
              "  'min': 17},\n",
              " 'aoi_0_channel_2': {'mean': 16.241150427956313,\n",
              "  'std': 1.2698744111272524,\n",
              "  'max': 52,\n",
              "  'min': 11},\n",
              " 'aoi_0_channel_3': {'mean': 255.0, 'std': 0.0, 'max': 255, 'min': 255},\n",
              " 'aoi_1_channel_0': {'mean': 26.58989215763495,\n",
              "  'std': 0.5510576821693521,\n",
              "  'max': 31,\n",
              "  'min': 26},\n",
              " 'aoi_1_channel_1': {'mean': 18.99902856542743,\n",
              "  'std': 0.6219620360048315,\n",
              "  'max': 55,\n",
              "  'min': 17},\n",
              " 'aoi_1_channel_2': {'mean': 15.868213085486243,\n",
              "  'std': 1.275843387351881,\n",
              "  'max': 60,\n",
              "  'min': 11},\n",
              " 'aoi_1_channel_3': {'mean': 255.0, 'std': 0.0, 'max': 255, 'min': 255},\n",
              " 'aoi_2_channel_0': {'mean': 26.493252467968915,\n",
              "  'std': 0.6442354184800584,\n",
              "  'max': 31,\n",
              "  'min': 26},\n",
              " 'aoi_2_channel_1': {'mean': 19.11965875078765,\n",
              "  'std': 0.8970989654945212,\n",
              "  'max': 51,\n",
              "  'min': 17},\n",
              " 'aoi_2_channel_2': {'mean': 16.627239878701953,\n",
              "  'std': 1.4815671570844071,\n",
              "  'max': 55,\n",
              "  'min': 11},\n",
              " 'aoi_2_channel_3': {'mean': 255.0, 'std': 0.0, 'max': 255, 'min': 255},\n",
              " 'aoi_3_channel_0': {'mean': 50.48073540222642,\n",
              "  'std': 17.361681719790074,\n",
              "  'max': 104,\n",
              "  'min': 26},\n",
              " 'aoi_3_channel_1': {'mean': 40.667869473324934,\n",
              "  'std': 16.64268323933773,\n",
              "  'max': 97,\n",
              "  'min': 18},\n",
              " 'aoi_3_channel_2': {'mean': 36.28787446177274,\n",
              "  'std': 17.027679004746744,\n",
              "  'max': 94,\n",
              "  'min': 12},\n",
              " 'aoi_3_channel_3': {'mean': 255.0, 'std': 0.0, 'max': 255, 'min': 255},\n",
              " 'aoi_4_channel_0': {'mean': 31.0596447700063,\n",
              "  'std': 14.29068689519169,\n",
              "  'max': 157,\n",
              "  'min': 25},\n",
              " 'aoi_4_channel_1': {'mean': 23.667713584331022,\n",
              "  'std': 16.331065401187942,\n",
              "  'max': 175,\n",
              "  'min': 17},\n",
              " 'aoi_4_channel_2': {'mean': 20.17729665511447,\n",
              "  'std': 16.53413792951748,\n",
              "  'max': 177,\n",
              "  'min': 10},\n",
              " 'aoi_4_channel_3': {'mean': 255.0, 'std': 0.0, 'max': 255, 'min': 255}}"
            ]
          },
          "execution_count": 29,
          "metadata": {},
          "output_type": "execute_result"
        }
      ],
      "source": [
        "aireo_lib.statistics.EOTDSStatistics.feature_data_statistics(eo_tds_obj)"
      ]
    },
    {
      "cell_type": "code",
      "execution_count": 30,
      "id": "26b5c4b2",
      "metadata": {
        "execution": {
          "iopub.execute_input": "2021-08-19T11:21:45.440075Z",
          "iopub.status.busy": "2021-08-19T11:21:45.439437Z",
          "iopub.status.idle": "2021-08-19T11:21:45.442206Z",
          "shell.execute_reply": "2021-08-19T11:21:45.441702Z"
        },
        "papermill": {
          "duration": 0.038087,
          "end_time": "2021-08-19T11:21:45.442300",
          "exception": false,
          "start_time": "2021-08-19T11:21:45.404213",
          "status": "completed"
        },
        "tags": []
      },
      "outputs": [
        {
          "data": {
            "text/plain": [
              "{'references_output1_aoi0': Counter({0.638: 1}),\n",
              " 'references_output1_aoi1': Counter({0.577: 1}),\n",
              " 'references_output1_aoi2': Counter({0.6: 1}),\n",
              " 'references_output1_aoi3': Counter({0.635: 1}),\n",
              " 'references_output1_aoi4': Counter({0.608: 1}),\n",
              " 'whole_TDS_stats': {0.638: 1, 0.577: 1, 0.6: 1, 0.635: 1, 0.608: 1}}"
            ]
          },
          "execution_count": 30,
          "metadata": {},
          "output_type": "execute_result"
        }
      ],
      "source": [
        "aireo_lib.statistics.EOTDSStatistics.reference_data_statistics(eo_tds_obj)"
      ]
    },
    {
      "cell_type": "markdown",
      "id": "e2deb36f",
      "metadata": {
        "papermill": {
          "duration": 0.079071,
          "end_time": "2021-08-19T11:21:45.552277",
          "exception": false,
          "start_time": "2021-08-19T11:21:45.473206",
          "status": "completed"
        },
        "tags": []
      },
      "source": [
        "## Format"
      ]
    },
    {
      "cell_type": "markdown",
      "id": "0dd990f4",
      "metadata": {
        "papermill": {
          "duration": 0.031263,
          "end_time": "2021-08-19T11:21:45.614649",
          "exception": false,
          "start_time": "2021-08-19T11:21:45.583386",
          "status": "completed"
        },
        "tags": []
      },
      "source": [
        "The dataset is in spreadsheet format (.xlsx)"
      ]
    },
    {
      "cell_type": "markdown",
      "id": "343b024f",
      "metadata": {
        "papermill": {
          "duration": 0.031381,
          "end_time": "2021-08-19T11:21:45.677773",
          "exception": false,
          "start_time": "2021-08-19T11:21:45.646392",
          "status": "completed"
        },
        "tags": []
      },
      "source": [
        "## Version"
      ]
    },
    {
      "cell_type": "markdown",
      "id": "9dfbbfe5",
      "metadata": {
        "papermill": {
          "duration": 0.031999,
          "end_time": "2021-08-19T11:21:45.741248",
          "exception": false,
          "start_time": "2021-08-19T11:21:45.709249",
          "status": "completed"
        },
        "tags": []
      },
      "source": [
        "FOS plot data v2019.04.10"
      ]
    },
    {
      "cell_type": "markdown",
      "id": "a9fe6b37",
      "metadata": {
        "papermill": {
          "duration": 0.032035,
          "end_time": "2021-08-19T11:21:45.804822",
          "exception": false,
          "start_time": "2021-08-19T11:21:45.772787",
          "status": "completed"
        },
        "tags": []
      },
      "source": [
        "## License"
      ]
    },
    {
      "cell_type": "markdown",
      "id": "e1eef508",
      "metadata": {
        "papermill": {
          "duration": 0.031597,
          "end_time": "2021-08-19T11:21:45.868510",
          "exception": false,
          "start_time": "2021-08-19T11:21:45.836913",
          "status": "completed"
        },
        "tags": []
      },
      "source": [
        "This dataset is licensed under a [Creative Commons Attribution 4.0 International License (CC-BY 4.0).](https://creativecommons.org/licenses/by/4.0/)"
      ]
    },
    {
      "cell_type": "markdown",
      "id": "faf8ba48",
      "metadata": {
        "papermill": {
          "duration": 0.031765,
          "end_time": "2021-08-19T11:21:45.931577",
          "exception": false,
          "start_time": "2021-08-19T11:21:45.899812",
          "status": "completed"
        },
        "tags": []
      },
      "source": [
        "## References"
      ]
    },
    {
      "cell_type": "markdown",
      "id": "887ddc05",
      "metadata": {
        "papermill": {
          "duration": 0.031257,
          "end_time": "2021-08-19T11:21:45.994057",
          "exception": false,
          "start_time": "2021-08-19T11:21:45.962800",
          "status": "completed"
        },
        "tags": []
      },
      "source": [
        "Schepaschenko, D., Chave, J., Phillips, O. L., Lewis, S. L., Davies, S. J., Réjou-Méchain, M., ... & Labrière, N. (2019). The Forest Observation System, building a global reference dataset for remote sensing of forest biomass. Scientific data, 6(1), 1-11."
      ]
    }
  ],
  "metadata": {
    "kernelspec": {
      "display_name": "EDC-GPU 0.24.5 (Python3)",
      "language": "python",
      "name": "edc-gpu"
    },
    "language_info": {
      "codemirror_mode": {
        "name": "ipython",
        "version": 3
      },
      "file_extension": ".py",
      "mimetype": "text/x-python",
      "name": "python",
      "nbconvert_exporter": "python",
      "pygments_lexer": "ipython3",
      "version": "3.8.10"
    },
    "papermill": {
      "default_parameters": {},
      "duration": 32.736837,
      "end_time": "2021-08-19T11:21:46.531509",
      "environment_variables": {},
      "exception": null,
      "input_path": "/tmp/tmpjedz5gl6",
      "output_path": "/tmp/notebook_output.ipynb",
      "parameters": {},
      "start_time": "2021-08-19T11:21:13.794672",
      "version": "2.3.3"
    },
    "properties": {
      "authors": [
        {
          "id": "a7f80638-e89a-4349-9cc7-7ed6ec2d79b7",
          "name": "AIREO team"
        }
      ],
      "description": "Use of aireo_lib library as part of AIREO project",
      "id": "a8f41fdb-b43b-428b-9919-5616ec0420bb",
      "license": null,
      "name": "AIREO pilot dataset - Biomass (Forest Observation System)",
      "requirements": [
        "eurodatacube",
        "eoxhub"
      ],
      "tags": [
        "Analysis-Ready Data",
        "EO Data",
        "Jupyter",
        "Machine Learning",
        "Sentinel Data",
        "Sentinel Hub"
      ],
      "tosAgree": true,
      "type": "Jupyter Notebook",
      "version": "0.1.3",
      "automatically_executable": false
    }
  },
  "nbformat": 4,
  "nbformat_minor": 5
}
