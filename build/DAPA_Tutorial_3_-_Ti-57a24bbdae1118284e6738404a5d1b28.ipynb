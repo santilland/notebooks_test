{
  "cells": [
    {
      "cell_type": "markdown",
      "id": "single-dancing",
      "metadata": {
        "papermill": {
          "duration": 0.013155,
          "end_time": "2021-05-11T14:51:24.154675",
          "exception": false,
          "start_time": "2021-05-11T14:51:24.141520",
          "status": "completed"
        },
        "tags": []
      },
      "source": [
        "# DAPA Tutorial #3: Timeseries - Sentinel-2"
      ]
    },
    {
      "cell_type": "markdown",
      "id": "spiritual-cookie",
      "metadata": {
        "papermill": {
          "duration": 0.011533,
          "end_time": "2021-05-11T14:51:24.177611",
          "exception": false,
          "start_time": "2021-05-11T14:51:24.166078",
          "status": "completed"
        },
        "tags": []
      },
      "source": [
        "## Load environment variables\n",
        "Please make sure that the environment variable \"DAPA_URL\" is set in the `custom.env` file. You can check this by executing the following block. \n",
        "\n",
        "If DAPA_URL is not set, please create a text file named `custom.env` in your home directory with the following input: \n",
        ">DAPA_URL=YOUR-PERSONAL-DAPA-APP-URL"
      ]
    },
    {
      "cell_type": "code",
      "execution_count": 1,
      "id": "pursuant-compensation",
      "metadata": {
        "execution": {
          "iopub.execute_input": "2021-05-11T14:51:24.204098Z",
          "iopub.status.busy": "2021-05-11T14:51:24.203322Z",
          "iopub.status.idle": "2021-05-11T14:51:24.253753Z",
          "shell.execute_reply": "2021-05-11T14:51:24.253273Z"
        },
        "papermill": {
          "duration": 0.064841,
          "end_time": "2021-05-11T14:51:24.253848",
          "exception": false,
          "start_time": "2021-05-11T14:51:24.189007",
          "status": "completed"
        },
        "tags": []
      },
      "outputs": [
        {
          "data": {
            "text/markdown": [
              "API credentials have automatically been injected for your active subscriptions.  \n",
              "The following environment variables are now available:\n",
              "\n",
              "The following additional environment variables have been loaded from `~/custom.env`:\n",
              "* `AWS_BUCKET`\n",
              "* `DAPA_URL`\n",
              "* `DB_HOST`, `DB_NAME`, `DB_PASSWORD`, `DB_USER`\n",
              "* `OGC_EDC_URL`\n",
              "* `REFERENCE_DATA`\n"
            ],
            "text/plain": [
              "<IPython.core.display.Markdown object>"
            ]
          },
          "metadata": {},
          "output_type": "display_data"
        }
      ],
      "source": [
        "from edc import setup_environment_variables\n",
        "setup_environment_variables()"
      ]
    },
    {
      "cell_type": "markdown",
      "id": "sharp-treasurer",
      "metadata": {
        "papermill": {
          "duration": 0.011502,
          "end_time": "2021-05-11T14:51:24.276829",
          "exception": false,
          "start_time": "2021-05-11T14:51:24.265327",
          "status": "completed"
        },
        "tags": []
      },
      "source": [
        "## Check notebook compabtibility\n",
        "**Please note:** If you conduct this notebook again at a later time, the base image of this Jupyter Hub service can include newer versions of the libraries installed. Thus, the notebook execution can fail. This compatibility check is only necessary when something is broken. "
      ]
    },
    {
      "cell_type": "code",
      "execution_count": 2,
      "id": "polar-arizona",
      "metadata": {
        "execution": {
          "iopub.execute_input": "2021-05-11T14:51:24.303077Z",
          "iopub.status.busy": "2021-05-11T14:51:24.302403Z",
          "iopub.status.idle": "2021-05-11T14:51:24.305632Z",
          "shell.execute_reply": "2021-05-11T14:51:24.305975Z"
        },
        "papermill": {
          "duration": 0.017808,
          "end_time": "2021-05-11T14:51:24.306073",
          "exception": false,
          "start_time": "2021-05-11T14:51:24.288265",
          "status": "completed"
        },
        "tags": []
      },
      "outputs": [
        {
          "data": {
            "text/html": [
              "<script type=\"text/javascript\">\n",
              "        function toggle(id) {\n",
              "            el = document.getElementById(id);\n",
              "            el.style.display = el.style.display === \"none\" ? \"block\" : \"none\";\n",
              "        }\n",
              "    </script>"
            ],
            "text/plain": [
              "<IPython.core.display.HTML object>"
            ]
          },
          "metadata": {},
          "output_type": "display_data"
        },
        {
          "data": {
            "text/html": [
              "This notebook is compatible with this base image version (user-0.24.5)."
            ],
            "text/plain": [
              "<IPython.core.display.HTML object>"
            ]
          },
          "metadata": {},
          "output_type": "display_data"
        }
      ],
      "source": [
        "from edc import check_compatibility\n",
        "check_compatibility(\"user-0.24.5\", dependencies=[])"
      ]
    },
    {
      "cell_type": "markdown",
      "id": "following-closure",
      "metadata": {
        "papermill": {
          "duration": 0.012731,
          "end_time": "2021-05-11T14:51:24.330746",
          "exception": false,
          "start_time": "2021-05-11T14:51:24.318015",
          "status": "completed"
        },
        "tags": []
      },
      "source": [
        "## Load libraries\n",
        "Python libraries used in this tutorial will be loaded."
      ]
    },
    {
      "cell_type": "code",
      "execution_count": 3,
      "id": "colonial-worry",
      "metadata": {
        "execution": {
          "iopub.execute_input": "2021-05-11T14:51:24.362141Z",
          "iopub.status.busy": "2021-05-11T14:51:24.361637Z",
          "iopub.status.idle": "2021-05-11T14:51:25.538578Z",
          "shell.execute_reply": "2021-05-11T14:51:25.538051Z"
        },
        "papermill": {
          "duration": 1.19599,
          "end_time": "2021-05-11T14:51:25.538697",
          "exception": false,
          "start_time": "2021-05-11T14:51:24.342707",
          "status": "completed"
        },
        "tags": []
      },
      "outputs": [],
      "source": [
        "import os\n",
        "import xarray as xr\n",
        "import pandas as pd\n",
        "import requests\n",
        "import matplotlib\n",
        "from ipyleaflet import Map, Rectangle, Marker, DrawControl, basemaps, basemap_to_tiles\n",
        "%matplotlib inline"
      ]
    },
    {
      "cell_type": "markdown",
      "id": "suspected-census",
      "metadata": {
        "papermill": {
          "duration": 0.012265,
          "end_time": "2021-05-11T14:51:25.563720",
          "exception": false,
          "start_time": "2021-05-11T14:51:25.551455",
          "status": "completed"
        },
        "tags": []
      },
      "source": [
        "## Set DAPA endpoint\n",
        "Execute the following code to check if the DAPA_URL is available in the environment variable and to set the `/dapa` endpoint. "
      ]
    },
    {
      "cell_type": "code",
      "execution_count": 4,
      "id": "twelve-fossil",
      "metadata": {
        "execution": {
          "iopub.execute_input": "2021-05-11T14:51:25.592502Z",
          "iopub.status.busy": "2021-05-11T14:51:25.591959Z",
          "iopub.status.idle": "2021-05-11T14:51:25.594123Z",
          "shell.execute_reply": "2021-05-11T14:51:25.594467Z"
        },
        "papermill": {
          "duration": 0.018329,
          "end_time": "2021-05-11T14:51:25.594572",
          "exception": false,
          "start_time": "2021-05-11T14:51:25.576243",
          "status": "completed"
        },
        "tags": []
      },
      "outputs": [
        {
          "name": "stdout",
          "output_type": "stream",
          "text": [
            "DAPA path: /oapi\n"
          ]
        }
      ],
      "source": [
        "service_url = None\n",
        "dapa_url = None\n",
        "\n",
        "if 'DAPA_URL' not in os.environ:\n",
        "    print('!! DAPA_URL does not exist as environment variable. Please make sure this is the case - see first block of this notebook! !!')\n",
        "else:    \n",
        "    service_url = os.environ['DAPA_URL']\n",
        "    dapa_url = '{}/{}'.format(service_url, 'oapi')\n",
        "    print('DAPA path: {}'.format(dapa_url.replace(service_url, '')))"
      ]
    },
    {
      "cell_type": "markdown",
      "id": "sufficient-nudist",
      "metadata": {
        "papermill": {
          "duration": 0.012214,
          "end_time": "2021-05-11T14:51:25.618986",
          "exception": false,
          "start_time": "2021-05-11T14:51:25.606772",
          "status": "completed"
        },
        "tags": []
      },
      "source": [
        "## Get collections supported by this endpoint\n",
        "This request provides a list of collections. The path of each collection is used as starting path of this service."
      ]
    },
    {
      "cell_type": "code",
      "execution_count": 5,
      "id": "collectible-porcelain",
      "metadata": {
        "execution": {
          "iopub.execute_input": "2021-05-11T14:51:25.651021Z",
          "iopub.status.busy": "2021-05-11T14:51:25.650449Z",
          "iopub.status.idle": "2021-05-11T14:51:25.731046Z",
          "shell.execute_reply": "2021-05-11T14:51:25.731438Z"
        },
        "papermill": {
          "duration": 0.100429,
          "end_time": "2021-05-11T14:51:25.731566",
          "exception": false,
          "start_time": "2021-05-11T14:51:25.631137",
          "status": "completed"
        },
        "tags": []
      },
      "outputs": [
        {
          "name": "stdout",
          "output_type": "stream",
          "text": [
            "DAPA path: /oapi/collections\n"
          ]
        },
        {
          "data": {
            "text/plain": [
              "['/oapi/collections/DEM/',\n",
              " '/oapi/collections/L8L1C/',\n",
              " '/oapi/collections/S1GRD/',\n",
              " '/oapi/collections/S2L1C/',\n",
              " '/oapi/collections/S2L2A/',\n",
              " '/oapi/collections/S3OLCI/',\n",
              " '/oapi/collections/S3SLSTR/',\n",
              " '/oapi/collections/S5PL2/',\n",
              " '/oapi/collections/MODIS/']"
            ]
          },
          "execution_count": 5,
          "metadata": {},
          "output_type": "execute_result"
        }
      ],
      "source": [
        "collections_url = '{}/{}'.format(dapa_url, 'collections')\n",
        "collections = requests.get(collections_url, headers={'Accept': 'application/json'})\n",
        "\n",
        "print('DAPA path: {}'.format(collections.url.replace(service_url, '')))\n",
        "collections.json()"
      ]
    },
    {
      "cell_type": "markdown",
      "id": "responsible-school",
      "metadata": {
        "papermill": {
          "duration": 0.012679,
          "end_time": "2021-05-11T14:51:25.757116",
          "exception": false,
          "start_time": "2021-05-11T14:51:25.744437",
          "status": "completed"
        },
        "tags": []
      },
      "source": [
        "## Get fields of collection Sentinel-2 L2A\n",
        "The fields (or variables in other DAPA endpoints - these are the bands of the raster data) can be retrieved in all requests to the DAPA endpoint. In addition to the fixed set of fields, \"virtual\" fields can be used to conduct math operations (e.g., the calculation of indices). "
      ]
    },
    {
      "cell_type": "code",
      "execution_count": 6,
      "id": "cardiovascular-boulder",
      "metadata": {
        "execution": {
          "iopub.execute_input": "2021-05-11T14:51:25.785708Z",
          "iopub.status.busy": "2021-05-11T14:51:25.785206Z",
          "iopub.status.idle": "2021-05-11T14:51:25.812966Z",
          "shell.execute_reply": "2021-05-11T14:51:25.812486Z"
        },
        "papermill": {
          "duration": 0.043521,
          "end_time": "2021-05-11T14:51:25.813054",
          "exception": false,
          "start_time": "2021-05-11T14:51:25.769533",
          "status": "completed"
        },
        "tags": []
      },
      "outputs": [
        {
          "name": "stdout",
          "output_type": "stream",
          "text": [
            "DAPA path: /oapi/collections/S2L2A/dapa/fields\n"
          ]
        },
        {
          "data": {
            "text/plain": [
              "[{'id': 'B01', 'wavelength': 442.7},\n",
              " {'id': 'B02', 'wavelength': 492.4},\n",
              " {'id': 'B03', 'wavelength': 559.8},\n",
              " {'id': 'B04', 'wavelength': 664.6},\n",
              " {'id': 'B05', 'wavelength': 704.1},\n",
              " {'id': 'B06', 'wavelength': 740.5},\n",
              " {'id': 'B07', 'wavelength': 782.8},\n",
              " {'id': 'B08', 'wavelength': 832.8},\n",
              " {'id': 'B8A', 'wavelength': 864.7},\n",
              " {'id': 'B09', 'wavelength': 945.1},\n",
              " {'id': 'B11', 'wavelength': 1613.7},\n",
              " {'id': 'B12', 'wavelength': 2202.4},\n",
              " {'id': 'SCL', 'wavelength': None},\n",
              " {'id': 'SNW', 'wavelength': None},\n",
              " {'id': 'CLD', 'wavelength': None}]"
            ]
          },
          "execution_count": 6,
          "metadata": {},
          "output_type": "execute_result"
        }
      ],
      "source": [
        "collection = 'S2L2A'\n",
        "\n",
        "fields_url = '{}/{}/{}/{}'.format(dapa_url, 'collections', collection, 'dapa/fields')\n",
        "fields = requests.get(fields_url, headers={'Accept': 'application/json'})\n",
        "\n",
        "print('DAPA path: {}'.format(fields.url.replace(service_url, '')))\n",
        "fields.json()"
      ]
    },
    {
      "cell_type": "markdown",
      "id": "humanitarian-armenia",
      "metadata": {
        "papermill": {
          "duration": 0.012959,
          "end_time": "2021-05-11T14:51:25.839002",
          "exception": false,
          "start_time": "2021-05-11T14:51:25.826043",
          "status": "completed"
        },
        "tags": []
      },
      "source": [
        "## Retrieve NDVI as 1d time-series extraced for a single point"
      ]
    },
    {
      "cell_type": "markdown",
      "id": "injured-marathon",
      "metadata": {
        "papermill": {
          "duration": 0.012995,
          "end_time": "2021-05-11T14:51:25.865057",
          "exception": false,
          "start_time": "2021-05-11T14:51:25.852062",
          "status": "completed"
        },
        "tags": []
      },
      "source": [
        "### Set DAPA URL and parameters\n",
        "The output of this request is a time-series requested from a point of interest (`timeseries/position` endpoint). As the input collection (S2L2A) is a multi-temporal raster and the requested geometry is a point, no aggregation is conducted.\n",
        "\n",
        "To retrieve a time-series of a point, the parameter `point` needs to be provided. The `time` parameter allows to extract data only within a specific time span. The band (`field`) from which the point is being extracted needs to be specified as well."
      ]
    },
    {
      "cell_type": "code",
      "execution_count": 7,
      "id": "anticipated-excess",
      "metadata": {
        "execution": {
          "iopub.execute_input": "2021-05-11T14:51:25.902659Z",
          "iopub.status.busy": "2021-05-11T14:51:25.900825Z",
          "iopub.status.idle": "2021-05-11T14:51:25.917673Z",
          "shell.execute_reply": "2021-05-11T14:51:25.915106Z"
        },
        "papermill": {
          "duration": 0.039688,
          "end_time": "2021-05-11T14:51:25.917760",
          "exception": false,
          "start_time": "2021-05-11T14:51:25.878072",
          "status": "completed"
        },
        "tags": []
      },
      "outputs": [
        {
          "data": {
            "application/vnd.jupyter.widget-view+json": {
              "model_id": "5d2cc5daf751422481b146821e4d4089",
              "version_major": 2,
              "version_minor": 0
            },
            "text/plain": [
              "Map(center=[48.05, 11.49], controls=(ZoomControl(options=['position', 'zoom_in_text', 'zoom_in_title', 'zoom_o…"
            ]
          },
          "metadata": {},
          "output_type": "display_data"
        }
      ],
      "source": [
        "# DAPA URL\n",
        "url = '{}/{}/{}/{}'.format(dapa_url, 'collections', collection, 'dapa/timeseries/position')\n",
        "\n",
        "# Parameters for this request\n",
        "params = {\n",
        "    'point': '11.49,48.05',\n",
        "    'time': '2018-04-01T00:00:00Z/2018-05-01T00:00:00Z',\n",
        "    'fields': 'NDVI=(B08-B04)/(B08%2BB04)'    # Please note: + signs need to be URL encoded -> %2B\n",
        "}\n",
        "\n",
        "# show point in the map\n",
        "location = list(reversed([float(coord) for coord in params['point'].split(',')]))\n",
        "m = Map(\n",
        "    basemap=basemap_to_tiles(basemaps.OpenStreetMap.Mapnik),\n",
        "    center=location,\n",
        "    zoom=10\n",
        ")\n",
        "\n",
        "marker = Marker(location=location, draggable=False)\n",
        "m.add_layer(marker)\n",
        "\n",
        "m"
      ]
    },
    {
      "cell_type": "markdown",
      "id": "organized-glossary",
      "metadata": {
        "papermill": {
          "duration": 0.021302,
          "end_time": "2021-05-11T14:51:25.952620",
          "exception": false,
          "start_time": "2021-05-11T14:51:25.931318",
          "status": "completed"
        },
        "tags": []
      },
      "source": [
        "### Build request URL and conduct request"
      ]
    },
    {
      "cell_type": "code",
      "execution_count": 8,
      "id": "cloudy-northwest",
      "metadata": {
        "execution": {
          "iopub.execute_input": "2021-05-11T14:51:25.984495Z",
          "iopub.status.busy": "2021-05-11T14:51:25.983830Z",
          "iopub.status.idle": "2021-05-11T14:51:29.192201Z",
          "shell.execute_reply": "2021-05-11T14:51:29.192536Z"
        },
        "papermill": {
          "duration": 3.226748,
          "end_time": "2021-05-11T14:51:29.192661",
          "exception": false,
          "start_time": "2021-05-11T14:51:25.965913",
          "status": "completed"
        },
        "tags": []
      },
      "outputs": [
        {
          "name": "stdout",
          "output_type": "stream",
          "text": [
            "DAPA path: /oapi/collections/S2L2A/dapa/timeseries/position?point=11.49,48.05&time=2018-04-01T00:00:00Z/2018-05-01T00:00:00Z&fields=NDVI=(B08-B04)/(B08%2BB04)\n",
            "Status code: 200\n"
          ]
        }
      ],
      "source": [
        "params_str = \"&\".join(\"%s=%s\" % (k, v) for k,v in params.items())\n",
        "r = requests.get(url, params=params_str)\n",
        "\n",
        "print('DAPA path: {}'.format(r.url.replace(service_url, '')))\n",
        "print('Status code: {}'.format(r.status_code))"
      ]
    },
    {
      "cell_type": "markdown",
      "id": "vertical-league",
      "metadata": {
        "papermill": {
          "duration": 0.013554,
          "end_time": "2021-05-11T14:51:29.220113",
          "exception": false,
          "start_time": "2021-05-11T14:51:29.206559",
          "status": "completed"
        },
        "tags": []
      },
      "source": [
        "### Write timeseries dataset to CSV file\n",
        "The response of this request returns data as CSV including headers splitted by comma. Additional output formats (e.g., CSV with headers included) will be integrated within the testbed activtiy. \n",
        "\n",
        "You can either write the response to file or use it as string (`r.content` variable). "
      ]
    },
    {
      "cell_type": "code",
      "execution_count": 9,
      "id": "injured-constitutional",
      "metadata": {
        "execution": {
          "iopub.execute_input": "2021-05-11T14:51:29.250301Z",
          "iopub.status.busy": "2021-05-11T14:51:29.249795Z",
          "iopub.status.idle": "2021-05-11T14:51:29.251980Z",
          "shell.execute_reply": "2021-05-11T14:51:29.251454Z"
        },
        "papermill": {
          "duration": 0.018327,
          "end_time": "2021-05-11T14:51:29.252068",
          "exception": false,
          "start_time": "2021-05-11T14:51:29.233741",
          "status": "completed"
        },
        "tags": []
      },
      "outputs": [],
      "source": [
        "# write time-series data to CSV file\n",
        "with open('timeseries_s2.csv', 'wb') as filew:\n",
        "    filew.write(r.content)"
      ]
    },
    {
      "cell_type": "markdown",
      "id": "successful-equality",
      "metadata": {
        "papermill": {
          "duration": 0.014449,
          "end_time": "2021-05-11T14:51:29.285334",
          "exception": false,
          "start_time": "2021-05-11T14:51:29.270885",
          "status": "completed"
        },
        "tags": []
      },
      "source": [
        "### Open timeseries dataset with pandas\n",
        "Time-series data can be opened, processed, and plotted easily with the `Pandas` library. You only need to specify the `datetime` column to automatically convert dates from string to a datetime object. "
      ]
    },
    {
      "cell_type": "code",
      "execution_count": 10,
      "id": "popular-denmark",
      "metadata": {
        "execution": {
          "iopub.execute_input": "2021-05-11T14:51:29.315925Z",
          "iopub.status.busy": "2021-05-11T14:51:29.315424Z",
          "iopub.status.idle": "2021-05-11T14:51:29.328339Z",
          "shell.execute_reply": "2021-05-11T14:51:29.327912Z"
        },
        "papermill": {
          "duration": 0.029651,
          "end_time": "2021-05-11T14:51:29.328436",
          "exception": false,
          "start_time": "2021-05-11T14:51:29.298785",
          "status": "completed"
        },
        "scrolled": true,
        "tags": []
      },
      "outputs": [
        {
          "data": {
            "text/html": [
              "<div>\n",
              "<style scoped>\n",
              "    .dataframe tbody tr th:only-of-type {\n",
              "        vertical-align: middle;\n",
              "    }\n",
              "\n",
              "    .dataframe tbody tr th {\n",
              "        vertical-align: top;\n",
              "    }\n",
              "\n",
              "    .dataframe thead th {\n",
              "        text-align: right;\n",
              "    }\n",
              "</style>\n",
              "<table border=\"1\" class=\"dataframe\">\n",
              "  <thead>\n",
              "    <tr style=\"text-align: right;\">\n",
              "      <th></th>\n",
              "      <th>NDVI</th>\n",
              "    </tr>\n",
              "    <tr>\n",
              "      <th>datetime</th>\n",
              "      <th></th>\n",
              "    </tr>\n",
              "  </thead>\n",
              "  <tbody>\n",
              "    <tr>\n",
              "      <th>2018-04-02 10:24:35+00:00</th>\n",
              "      <td>0.701217</td>\n",
              "    </tr>\n",
              "    <tr>\n",
              "      <th>2018-04-04 10:10:21+00:00</th>\n",
              "      <td>0.229457</td>\n",
              "    </tr>\n",
              "    <tr>\n",
              "      <th>2018-04-07 10:20:20+00:00</th>\n",
              "      <td>0.833333</td>\n",
              "    </tr>\n",
              "    <tr>\n",
              "      <th>2018-04-09 10:13:43+00:00</th>\n",
              "      <td>0.634615</td>\n",
              "    </tr>\n",
              "    <tr>\n",
              "      <th>2018-04-12 10:20:24+00:00</th>\n",
              "      <td>0.100667</td>\n",
              "    </tr>\n",
              "    <tr>\n",
              "      <th>2018-04-14 10:15:36+00:00</th>\n",
              "      <td>0.509171</td>\n",
              "    </tr>\n",
              "    <tr>\n",
              "      <th>2018-04-17 10:20:21+00:00</th>\n",
              "      <td>0.497207</td>\n",
              "    </tr>\n",
              "    <tr>\n",
              "      <th>2018-04-19 10:14:57+00:00</th>\n",
              "      <td>0.686788</td>\n",
              "    </tr>\n",
              "    <tr>\n",
              "      <th>2018-04-22 10:21:15+00:00</th>\n",
              "      <td>0.671642</td>\n",
              "    </tr>\n",
              "    <tr>\n",
              "      <th>2018-04-24 10:15:26+00:00</th>\n",
              "      <td>0.016803</td>\n",
              "    </tr>\n",
              "    <tr>\n",
              "      <th>2018-04-27 10:20:22+00:00</th>\n",
              "      <td>0.774345</td>\n",
              "    </tr>\n",
              "    <tr>\n",
              "      <th>2018-04-29 10:12:58+00:00</th>\n",
              "      <td>0.214486</td>\n",
              "    </tr>\n",
              "  </tbody>\n",
              "</table>\n",
              "</div>"
            ],
            "text/plain": [
              "                               NDVI\n",
              "datetime                           \n",
              "2018-04-02 10:24:35+00:00  0.701217\n",
              "2018-04-04 10:10:21+00:00  0.229457\n",
              "2018-04-07 10:20:20+00:00  0.833333\n",
              "2018-04-09 10:13:43+00:00  0.634615\n",
              "2018-04-12 10:20:24+00:00  0.100667\n",
              "2018-04-14 10:15:36+00:00  0.509171\n",
              "2018-04-17 10:20:21+00:00  0.497207\n",
              "2018-04-19 10:14:57+00:00  0.686788\n",
              "2018-04-22 10:21:15+00:00  0.671642\n",
              "2018-04-24 10:15:26+00:00  0.016803\n",
              "2018-04-27 10:20:22+00:00  0.774345\n",
              "2018-04-29 10:12:58+00:00  0.214486"
            ]
          },
          "execution_count": 10,
          "metadata": {},
          "output_type": "execute_result"
        }
      ],
      "source": [
        "# read data into Pandas dataframe\n",
        "ds = pd.read_csv('timeseries_s2.csv', parse_dates=['datetime'])\n",
        "\n",
        "# set index to datetime column\n",
        "ds.set_index('datetime', inplace=True)\n",
        "\n",
        "# show dataframe\n",
        "ds"
      ]
    },
    {
      "cell_type": "markdown",
      "id": "native-mixer",
      "metadata": {
        "papermill": {
          "duration": 0.014261,
          "end_time": "2021-05-11T14:51:29.356960",
          "exception": false,
          "start_time": "2021-05-11T14:51:29.342699",
          "status": "completed"
        },
        "tags": []
      },
      "source": [
        "### Plot NDVI data"
      ]
    },
    {
      "cell_type": "code",
      "execution_count": 11,
      "id": "bigger-sleep",
      "metadata": {
        "execution": {
          "iopub.execute_input": "2021-05-11T14:51:29.388147Z",
          "iopub.status.busy": "2021-05-11T14:51:29.387657Z",
          "iopub.status.idle": "2021-05-11T14:51:29.550786Z",
          "shell.execute_reply": "2021-05-11T14:51:29.550272Z"
        },
        "papermill": {
          "duration": 0.179878,
          "end_time": "2021-05-11T14:51:29.550884",
          "exception": false,
          "start_time": "2021-05-11T14:51:29.371006",
          "status": "completed"
        },
        "tags": []
      },
      "outputs": [
        {
          "data": {
            "text/plain": [
              "<AxesSubplot:xlabel='datetime'>"
            ]
          },
          "execution_count": 11,
          "metadata": {},
          "output_type": "execute_result"
        },
        {
          "data": {
            "image/png": "[encoded data removed]",
            "text/plain": [
              "<Figure size 432x288 with 1 Axes>"
            ]
          },
          "metadata": {
            "needs_background": "light"
          },
          "output_type": "display_data"
        }
      ],
      "source": [
        "ds.plot()"
      ]
    },
    {
      "cell_type": "markdown",
      "id": "shared-habitat",
      "metadata": {
        "papermill": {
          "duration": 0.01493,
          "end_time": "2021-05-11T14:51:29.583236",
          "exception": false,
          "start_time": "2021-05-11T14:51:29.568306",
          "status": "completed"
        },
        "tags": []
      },
      "source": [
        "### Output CSV file"
      ]
    },
    {
      "cell_type": "code",
      "execution_count": 12,
      "id": "august-services",
      "metadata": {
        "execution": {
          "iopub.execute_input": "2021-05-11T14:51:29.615817Z",
          "iopub.status.busy": "2021-05-11T14:51:29.615274Z",
          "iopub.status.idle": "2021-05-11T14:51:30.245105Z",
          "shell.execute_reply": "2021-05-11T14:51:30.244657Z"
        },
        "papermill": {
          "duration": 0.647059,
          "end_time": "2021-05-11T14:51:30.245204",
          "exception": false,
          "start_time": "2021-05-11T14:51:29.598145",
          "status": "completed"
        },
        "tags": []
      },
      "outputs": [
        {
          "name": "stdout",
          "output_type": "stream",
          "text": [
            "datetime,NDVI\r",
            "\r\n",
            "2018-04-02T10:24:35Z,0.7012165\r",
            "\r\n",
            "2018-04-04T10:10:21Z,0.22945666\r",
            "\r\n",
            "2018-04-07T10:20:20Z,0.8333333\r",
            "\r\n",
            "2018-04-09T10:13:43Z,0.63461536\r",
            "\r\n",
            "2018-04-12T10:20:24Z,0.10066674\r",
            "\r\n",
            "2018-04-14T10:15:36Z,0.5091714\r",
            "\r\n",
            "2018-04-17T10:20:21Z,0.49720672\r",
            "\r\n",
            "2018-04-19T10:14:57Z,0.68678766\r",
            "\r\n",
            "2018-04-22T10:21:15Z,0.67164177\r",
            "\r\n",
            "2018-04-24T10:15:26Z,0.0168028\r",
            "\r\n",
            "2018-04-27T10:20:22Z,0.77434456\r",
            "\r\n",
            "2018-04-29T10:12:58Z,0.2144858\r",
            "\r\n"
          ]
        }
      ],
      "source": [
        "!cat timeseries_s2.csv"
      ]
    },
    {
      "cell_type": "markdown",
      "id": "romantic-davis",
      "metadata": {
        "papermill": {
          "duration": 0.015061,
          "end_time": "2021-05-11T14:51:30.275518",
          "exception": false,
          "start_time": "2021-05-11T14:51:30.260457",
          "status": "completed"
        },
        "tags": []
      },
      "source": [
        "## Time-series aggregated over area"
      ]
    },
    {
      "cell_type": "code",
      "execution_count": 13,
      "id": "sudden-tobago",
      "metadata": {
        "execution": {
          "iopub.execute_input": "2021-05-11T14:51:30.314780Z",
          "iopub.status.busy": "2021-05-11T14:51:30.314130Z",
          "iopub.status.idle": "2021-05-11T14:51:38.253882Z",
          "shell.execute_reply": "2021-05-11T14:51:38.254376Z"
        },
        "papermill": {
          "duration": 7.96391,
          "end_time": "2021-05-11T14:51:38.254548",
          "exception": false,
          "start_time": "2021-05-11T14:51:30.290638",
          "status": "completed"
        },
        "tags": []
      },
      "outputs": [
        {
          "name": "stdout",
          "output_type": "stream",
          "text": [
            "DAPA path: /oapi/collections/S2L2A/dapa/timeseries/area?bbox=11.49,48.05,11.66,48.22&aggregate=min,max,avg&time=2018-04-01T00:00:00Z/2018-05-01T00:00:00Z&fields=NDVI=(B08-B04)/(B08%2BB04)\n",
            "Status code: 200\n"
          ]
        }
      ],
      "source": [
        "# DAPA URL\n",
        "url = '{}/{}/{}/{}'.format(dapa_url, 'collections', collection, 'dapa/timeseries/area')\n",
        "\n",
        "# Parameters for this request\n",
        "params = {\n",
        "    #'point': '11.49,48.05',\n",
        "    'bbox': '11.49,48.05,11.66,48.22',\n",
        "    'aggregate': 'min,max,avg',\n",
        "    'time': '2018-04-01T00:00:00Z/2018-05-01T00:00:00Z',\n",
        "    'fields': 'NDVI=(B08-B04)/(B08%2BB04)'    # Please note: + signs need to be URL encoded -> %2B\n",
        "}\n",
        "\n",
        "params_str = \"&\".join(\"%s=%s\" % (k, v) for k,v in params.items())\n",
        "r = requests.get(url, params=params_str)\n",
        "\n",
        "print('DAPA path: {}'.format(r.url.replace(service_url, '')))\n",
        "print('Status code: {}'.format(r.status_code))"
      ]
    },
    {
      "cell_type": "code",
      "execution_count": 14,
      "id": "controlled-export",
      "metadata": {
        "execution": {
          "iopub.execute_input": "2021-05-11T14:51:38.292255Z",
          "iopub.status.busy": "2021-05-11T14:51:38.291710Z",
          "iopub.status.idle": "2021-05-11T14:51:38.300200Z",
          "shell.execute_reply": "2021-05-11T14:51:38.300531Z"
        },
        "papermill": {
          "duration": 0.03024,
          "end_time": "2021-05-11T14:51:38.300661",
          "exception": false,
          "start_time": "2021-05-11T14:51:38.270421",
          "status": "completed"
        },
        "tags": []
      },
      "outputs": [
        {
          "data": {
            "text/html": [
              "<div>\n",
              "<style scoped>\n",
              "    .dataframe tbody tr th:only-of-type {\n",
              "        vertical-align: middle;\n",
              "    }\n",
              "\n",
              "    .dataframe tbody tr th {\n",
              "        vertical-align: top;\n",
              "    }\n",
              "\n",
              "    .dataframe thead th {\n",
              "        text-align: right;\n",
              "    }\n",
              "</style>\n",
              "<table border=\"1\" class=\"dataframe\">\n",
              "  <thead>\n",
              "    <tr style=\"text-align: right;\">\n",
              "      <th></th>\n",
              "      <th>NDVI_min</th>\n",
              "      <th>NDVI_max</th>\n",
              "      <th>NDVI_avg</th>\n",
              "    </tr>\n",
              "    <tr>\n",
              "      <th>datetime</th>\n",
              "      <th></th>\n",
              "      <th></th>\n",
              "      <th></th>\n",
              "    </tr>\n",
              "  </thead>\n",
              "  <tbody>\n",
              "    <tr>\n",
              "      <th>2018-04-02 10:24:35+00:00</th>\n",
              "      <td>-1.000000</td>\n",
              "      <td>1.000000</td>\n",
              "      <td>0.351652</td>\n",
              "    </tr>\n",
              "    <tr>\n",
              "      <th>2018-04-04 10:10:21+00:00</th>\n",
              "      <td>-0.089418</td>\n",
              "      <td>0.601969</td>\n",
              "      <td>0.146855</td>\n",
              "    </tr>\n",
              "    <tr>\n",
              "      <th>2018-04-07 10:20:20+00:00</th>\n",
              "      <td>-1.000000</td>\n",
              "      <td>1.000000</td>\n",
              "      <td>0.366545</td>\n",
              "    </tr>\n",
              "    <tr>\n",
              "      <th>2018-04-09 10:13:43+00:00</th>\n",
              "      <td>-0.236350</td>\n",
              "      <td>0.874247</td>\n",
              "      <td>0.190702</td>\n",
              "    </tr>\n",
              "    <tr>\n",
              "      <th>2018-04-12 10:20:24+00:00</th>\n",
              "      <td>-0.086605</td>\n",
              "      <td>0.435908</td>\n",
              "      <td>0.096532</td>\n",
              "    </tr>\n",
              "    <tr>\n",
              "      <th>2018-04-14 10:15:36+00:00</th>\n",
              "      <td>-0.210497</td>\n",
              "      <td>0.798558</td>\n",
              "      <td>0.313741</td>\n",
              "    </tr>\n",
              "    <tr>\n",
              "      <th>2018-04-17 10:20:21+00:00</th>\n",
              "      <td>-0.565506</td>\n",
              "      <td>0.914530</td>\n",
              "      <td>0.217762</td>\n",
              "    </tr>\n",
              "    <tr>\n",
              "      <th>2018-04-19 10:14:57+00:00</th>\n",
              "      <td>-1.000000</td>\n",
              "      <td>1.000000</td>\n",
              "      <td>0.428746</td>\n",
              "    </tr>\n",
              "    <tr>\n",
              "      <th>2018-04-22 10:21:15+00:00</th>\n",
              "      <td>-1.000000</td>\n",
              "      <td>1.000000</td>\n",
              "      <td>0.459265</td>\n",
              "    </tr>\n",
              "    <tr>\n",
              "      <th>2018-04-24 10:15:26+00:00</th>\n",
              "      <td>-0.377535</td>\n",
              "      <td>1.000000</td>\n",
              "      <td>0.289178</td>\n",
              "    </tr>\n",
              "    <tr>\n",
              "      <th>2018-04-27 10:20:22+00:00</th>\n",
              "      <td>-1.000000</td>\n",
              "      <td>1.000000</td>\n",
              "      <td>0.490446</td>\n",
              "    </tr>\n",
              "    <tr>\n",
              "      <th>2018-04-29 10:12:58+00:00</th>\n",
              "      <td>-0.006635</td>\n",
              "      <td>0.830065</td>\n",
              "      <td>0.230646</td>\n",
              "    </tr>\n",
              "  </tbody>\n",
              "</table>\n",
              "</div>"
            ],
            "text/plain": [
              "                           NDVI_min  NDVI_max  NDVI_avg\n",
              "datetime                                               \n",
              "2018-04-02 10:24:35+00:00 -1.000000  1.000000  0.351652\n",
              "2018-04-04 10:10:21+00:00 -0.089418  0.601969  0.146855\n",
              "2018-04-07 10:20:20+00:00 -1.000000  1.000000  0.366545\n",
              "2018-04-09 10:13:43+00:00 -0.236350  0.874247  0.190702\n",
              "2018-04-12 10:20:24+00:00 -0.086605  0.435908  0.096532\n",
              "2018-04-14 10:15:36+00:00 -0.210497  0.798558  0.313741\n",
              "2018-04-17 10:20:21+00:00 -0.565506  0.914530  0.217762\n",
              "2018-04-19 10:14:57+00:00 -1.000000  1.000000  0.428746\n",
              "2018-04-22 10:21:15+00:00 -1.000000  1.000000  0.459265\n",
              "2018-04-24 10:15:26+00:00 -0.377535  1.000000  0.289178\n",
              "2018-04-27 10:20:22+00:00 -1.000000  1.000000  0.490446\n",
              "2018-04-29 10:12:58+00:00 -0.006635  0.830065  0.230646"
            ]
          },
          "execution_count": 14,
          "metadata": {},
          "output_type": "execute_result"
        }
      ],
      "source": [
        "# read data into Pandas dataframe\n",
        "from io import StringIO\n",
        "ds = pd.read_csv(StringIO(r.text), parse_dates=['datetime'])\n",
        "\n",
        "# set index to datetime column\n",
        "ds.set_index('datetime', inplace=True)\n",
        "\n",
        "# show dataframe\n",
        "ds"
      ]
    },
    {
      "cell_type": "code",
      "execution_count": 15,
      "id": "sacred-feeding",
      "metadata": {
        "execution": {
          "iopub.execute_input": "2021-05-11T14:51:38.339966Z",
          "iopub.status.busy": "2021-05-11T14:51:38.339047Z",
          "iopub.status.idle": "2021-05-11T14:51:38.512756Z",
          "shell.execute_reply": "2021-05-11T14:51:38.513116Z"
        },
        "papermill": {
          "duration": 0.196694,
          "end_time": "2021-05-11T14:51:38.513224",
          "exception": false,
          "start_time": "2021-05-11T14:51:38.316530",
          "status": "completed"
        },
        "tags": []
      },
      "outputs": [
        {
          "data": {
            "text/plain": [
              "<AxesSubplot:xlabel='datetime'>"
            ]
          },
          "execution_count": 15,
          "metadata": {},
          "output_type": "execute_result"
        },
        {
          "data": {
            "image/png": "[encoded data removed]",
            "text/plain": [
              "<Figure size 432x288 with 1 Axes>"
            ]
          },
          "metadata": {
            "needs_background": "light"
          },
          "output_type": "display_data"
        }
      ],
      "source": [
        "ds.plot()"
      ]
    }
  ],
  "metadata": {
    "kernelspec": {
      "display_name": "EDC 0.19.6 (Python3)",
      "language": "python",
      "name": "edc"
    },
    "language_info": {
      "codemirror_mode": {
        "name": "ipython",
        "version": 3
      },
      "file_extension": ".py",
      "mimetype": "text/x-python",
      "name": "python",
      "nbconvert_exporter": "python",
      "pygments_lexer": "ipython3",
      "version": "3.8.10"
    },
    "papermill": {
      "duration": 15.578786,
      "end_time": "2021-05-11T14:51:38.934607",
      "environment_variables": {},
      "exception": null,
      "input_path": "/tmp/tmp0rt_7ohj",
      "output_path": "/tmp/cur_notebook.ipynb",
      "parameters": {},
      "start_time": "2021-05-11T14:51:23.355821",
      "version": "2.1.2"
    },
    "properties": {
      "authors": [
        {
          "id": "47919774-57f5-4b2d-9f6c-570b91e23604",
          "name": "jonas.eberle@dlr.de"
        }
      ],
      "description": "Timeseries extraction based on DAPA experimental interface",
      "id": "6cf1d7e1-ad61-4dac-8dd0-e2bfedb6e343",
      "license": null,
      "name": "DAPA Tutorial #3: Timeseries - Sentinel-2 - OGC Testbed 16",
      "requirements": [],
      "tags": [
        "DAPA"
      ],
      "tosAgree": true,
      "type": "Jupyter Notebook",
      "version": "0.2",
      "automatically_executable": false
    },
    "widgets": {
      "application/vnd.jupyter.widget-state+json": {
        "state": {
          "0e9c297c0f0c41e2af97f0fea4bde858": {
            "model_module": "jupyter-leaflet",
            "model_module_version": "^0.13.5",
            "model_name": "LeafletMapStyleModel",
            "state": {
              "_model_module": "jupyter-leaflet",
              "_model_module_version": "^0.13.5",
              "_model_name": "LeafletMapStyleModel",
              "_view_count": null,
              "_view_module": "@jupyter-widgets/base",
              "_view_module_version": "1.2.0",
              "_view_name": "StyleView",
              "cursor": "grab"
            }
          },
          "10cfe5fb67aa4e80b148039581256397": {
            "model_module": "jupyter-leaflet",
            "model_module_version": "^0.13.5",
            "model_name": "LeafletMapStyleModel",
            "state": {
              "_model_module": "jupyter-leaflet",
              "_model_module_version": "^0.13.5",
              "_model_name": "LeafletMapStyleModel",
              "_view_count": null,
              "_view_module": "@jupyter-widgets/base",
              "_view_module_version": "1.2.0",
              "_view_name": "StyleView",
              "cursor": "grab"
            }
          },
          "529c796347f84d079355c0d3418ae18c": {
            "model_module": "jupyter-leaflet",
            "model_module_version": "^0.13.5",
            "model_name": "LeafletMarkerModel",
            "state": {
              "_model_module": "jupyter-leaflet",
              "_model_module_version": "^0.13.5",
              "_model_name": "LeafletMarkerModel",
              "_view_count": null,
              "_view_module": "jupyter-leaflet",
              "_view_module_version": "^0.13.5",
              "_view_name": "LeafletMarkerView",
              "alt": "",
              "base": false,
              "bottom": false,
              "draggable": false,
              "icon": null,
              "keyboard": true,
              "location": [
                48.05,
                11.49
              ],
              "name": "",
              "opacity": 1,
              "options": [
                "alt",
                "draggable",
                "keyboard",
                "rise_offset",
                "rise_on_hover",
                "rotation_angle",
                "rotation_origin",
                "title",
                "z_index_offset"
              ],
              "popup": null,
              "popup_max_height": null,
              "popup_max_width": 300,
              "popup_min_width": 50,
              "rise_offset": 250,
              "rise_on_hover": false,
              "rotation_angle": 0,
              "rotation_origin": "",
              "title": "",
              "visible": true,
              "z_index_offset": 0
            }
          },
          "5d2cc5daf751422481b146821e4d4089": {
            "model_module": "jupyter-leaflet",
            "model_module_version": "^0.13.5",
            "model_name": "LeafletMapModel",
            "state": {
              "_dom_classes": [],
              "_model_module": "jupyter-leaflet",
              "_model_module_version": "^0.13.5",
              "_model_name": "LeafletMapModel",
              "_view_count": null,
              "_view_module": "jupyter-leaflet",
              "_view_module_version": "^0.13.5",
              "_view_name": "LeafletMapView",
              "bottom": 0,
              "bounce_at_zoom_limits": true,
              "box_zoom": true,
              "center": [
                48.05,
                11.49
              ],
              "close_popup_on_click": true,
              "controls": [
                "IPY_MODEL_86d239cd25d04297b03dcb18f34ab979",
                "IPY_MODEL_dc29de61615845aa879ced0fd166fc48"
              ],
              "crs": {
                "custom": false,
                "name": "EPSG3857"
              },
              "default_style": "IPY_MODEL_10cfe5fb67aa4e80b148039581256397",
              "double_click_zoom": true,
              "dragging": true,
              "dragging_style": "IPY_MODEL_d929b8d638f34700a2218aef3da81905",
              "east": 0,
              "fullscreen": false,
              "inertia": true,
              "inertia_deceleration": 3000,
              "inertia_max_speed": 1500,
              "interpolation": "bilinear",
              "keyboard": true,
              "keyboard_pan_offset": 80,
              "keyboard_zoom_offset": 1,
              "layers": [
                "IPY_MODEL_dd0bc1cc39ee4b77ad1bcd67e77c7415",
                "IPY_MODEL_529c796347f84d079355c0d3418ae18c"
              ],
              "layout": "IPY_MODEL_991ca82fcf3649bdb78092718818688b",
              "left": 9007199254740991,
              "max_zoom": 18,
              "min_zoom": 1,
              "modisdate": "yesterday",
              "north": 0,
              "options": [
                "bounce_at_zoom_limits",
                "box_zoom",
                "center",
                "close_popup_on_click",
                "double_click_zoom",
                "dragging",
                "fullscreen",
                "inertia",
                "inertia_deceleration",
                "inertia_max_speed",
                "interpolation",
                "keyboard",
                "keyboard_pan_offset",
                "keyboard_zoom_offset",
                "max_zoom",
                "min_zoom",
                "scroll_wheel_zoom",
                "tap",
                "tap_tolerance",
                "touch_zoom",
                "world_copy_jump",
                "zoom",
                "zoom_animation_threshold",
                "zoom_delta",
                "zoom_snap",
                "zoom_start"
              ],
              "right": 0,
              "scroll_wheel_zoom": false,
              "south": 0,
              "style": "IPY_MODEL_0e9c297c0f0c41e2af97f0fea4bde858",
              "tap": true,
              "tap_tolerance": 15,
              "top": 9007199254740991,
              "touch_zoom": true,
              "west": 0,
              "window_url": "",
              "world_copy_jump": false,
              "zoom": 10,
              "zoom_animation_threshold": 4,
              "zoom_delta": 1,
              "zoom_snap": 1,
              "zoom_start": 12
            }
          },
          "86d239cd25d04297b03dcb18f34ab979": {
            "model_module": "jupyter-leaflet",
            "model_module_version": "^0.13.5",
            "model_name": "LeafletZoomControlModel",
            "state": {
              "_model_module": "jupyter-leaflet",
              "_model_module_version": "^0.13.5",
              "_model_name": "LeafletZoomControlModel",
              "_view_count": null,
              "_view_module": "jupyter-leaflet",
              "_view_module_version": "^0.13.5",
              "_view_name": "LeafletZoomControlView",
              "options": [
                "position",
                "zoom_in_text",
                "zoom_in_title",
                "zoom_out_text",
                "zoom_out_title"
              ],
              "position": "topleft",
              "zoom_in_text": "+",
              "zoom_in_title": "Zoom in",
              "zoom_out_text": "-",
              "zoom_out_title": "Zoom out"
            }
          },
          "991ca82fcf3649bdb78092718818688b": {
            "model_module": "@jupyter-widgets/base",
            "model_module_version": "1.2.0",
            "model_name": "LayoutModel",
            "state": {
              "_model_module": "@jupyter-widgets/base",
              "_model_module_version": "1.2.0",
              "_model_name": "LayoutModel",
              "_view_count": null,
              "_view_module": "@jupyter-widgets/base",
              "_view_module_version": "1.2.0",
              "_view_name": "LayoutView",
              "align_content": null,
              "align_items": null,
              "align_self": null,
              "border": null,
              "bottom": null,
              "display": null,
              "flex": null,
              "flex_flow": null,
              "grid_area": null,
              "grid_auto_columns": null,
              "grid_auto_flow": null,
              "grid_auto_rows": null,
              "grid_column": null,
              "grid_gap": null,
              "grid_row": null,
              "grid_template_areas": null,
              "grid_template_columns": null,
              "grid_template_rows": null,
              "height": null,
              "justify_content": null,
              "justify_items": null,
              "left": null,
              "margin": null,
              "max_height": null,
              "max_width": null,
              "min_height": null,
              "min_width": null,
              "object_fit": null,
              "object_position": null,
              "order": null,
              "overflow": null,
              "overflow_x": null,
              "overflow_y": null,
              "padding": null,
              "right": null,
              "top": null,
              "visibility": null,
              "width": null
            }
          },
          "d929b8d638f34700a2218aef3da81905": {
            "model_module": "jupyter-leaflet",
            "model_module_version": "^0.13.5",
            "model_name": "LeafletMapStyleModel",
            "state": {
              "_model_module": "jupyter-leaflet",
              "_model_module_version": "^0.13.5",
              "_model_name": "LeafletMapStyleModel",
              "_view_count": null,
              "_view_module": "@jupyter-widgets/base",
              "_view_module_version": "1.2.0",
              "_view_name": "StyleView",
              "cursor": "move"
            }
          },
          "dc29de61615845aa879ced0fd166fc48": {
            "model_module": "jupyter-leaflet",
            "model_module_version": "^0.13.5",
            "model_name": "LeafletAttributionControlModel",
            "state": {
              "_model_module": "jupyter-leaflet",
              "_model_module_version": "^0.13.5",
              "_model_name": "LeafletAttributionControlModel",
              "_view_count": null,
              "_view_module": "jupyter-leaflet",
              "_view_module_version": "^0.13.5",
              "_view_name": "LeafletAttributionControlView",
              "options": [
                "position",
                "prefix"
              ],
              "position": "bottomright",
              "prefix": "ipyleaflet"
            }
          },
          "dd0bc1cc39ee4b77ad1bcd67e77c7415": {
            "model_module": "jupyter-leaflet",
            "model_module_version": "^0.13.5",
            "model_name": "LeafletTileLayerModel",
            "state": {
              "_model_module": "jupyter-leaflet",
              "_model_module_version": "^0.13.5",
              "_model_name": "LeafletTileLayerModel",
              "_view_count": null,
              "_view_module": "jupyter-leaflet",
              "_view_module_version": "^0.13.5",
              "_view_name": "LeafletTileLayerView",
              "attribution": "Map data (c) <a href=\"https://openstreetmap.org\">OpenStreetMap</a> contributors",
              "base": true,
              "bottom": true,
              "detect_retina": false,
              "loading": false,
              "max_native_zoom": 18,
              "max_zoom": 19,
              "min_native_zoom": 0,
              "min_zoom": 1,
              "name": "OpenStreetMap.Mapnik",
              "no_wrap": false,
              "opacity": 1,
              "options": [
                "attribution",
                "detect_retina",
                "max_native_zoom",
                "max_zoom",
                "min_native_zoom",
                "min_zoom",
                "no_wrap",
                "tile_size",
                "tms"
              ],
              "popup": null,
              "popup_max_height": null,
              "popup_max_width": 300,
              "popup_min_width": 50,
              "show_loading": false,
              "tile_size": 256,
              "tms": false,
              "url": "https://{s}.tile.openstreetmap.org/{z}/{x}/{y}.png",
              "visible": true
            }
          }
        },
        "version_major": 2,
        "version_minor": 0
      }
    }
  },
  "nbformat": 4,
  "nbformat_minor": 5
}
