{
  "cells": [
    {
      "cell_type": "markdown",
      "id": "excess-syria",
      "metadata": {
        "papermill": {
          "duration": 0.014448,
          "end_time": "2021-05-11T14:51:50.556851",
          "exception": false,
          "start_time": "2021-05-11T14:51:50.542403",
          "status": "completed"
        },
        "tags": []
      },
      "source": [
        "# DAPA Tutorial #5: DEM"
      ]
    },
    {
      "cell_type": "markdown",
      "id": "appointed-google",
      "metadata": {
        "papermill": {
          "duration": 0.012763,
          "end_time": "2021-05-11T14:51:50.582731",
          "exception": false,
          "start_time": "2021-05-11T14:51:50.569968",
          "status": "completed"
        },
        "tags": []
      },
      "source": [
        "## Load environment variables\n",
        "Please make sure that the environment variable \"DAPA_URL\" is set in the `custom.env` file. You can check this by executing the following block. \n",
        "\n",
        "If DAPA_URL is not set, please create a text file named `custom.env` in your home directory with the following input: \n",
        ">DAPA_URL=YOUR-PERSONAL-DAPA-APP-URL"
      ]
    },
    {
      "cell_type": "code",
      "execution_count": 1,
      "id": "fuzzy-collaboration",
      "metadata": {
        "execution": {
          "iopub.execute_input": "2021-05-11T14:51:50.612022Z",
          "iopub.status.busy": "2021-05-11T14:51:50.611484Z",
          "iopub.status.idle": "2021-05-11T14:51:50.662246Z",
          "shell.execute_reply": "2021-05-11T14:51:50.662579Z"
        },
        "papermill": {
          "duration": 0.067173,
          "end_time": "2021-05-11T14:51:50.662730",
          "exception": false,
          "start_time": "2021-05-11T14:51:50.595557",
          "status": "completed"
        },
        "tags": []
      },
      "outputs": [
        {
          "data": {
            "text/markdown": [
              "API credentials have automatically been injected for your active subscriptions.  \n",
              "The following environment variables are now available:\n",
              "\n",
              "The following additional environment variables have been loaded from `~/custom.env`:\n",
              "* `AWS_BUCKET`\n",
              "* `DAPA_URL`\n",
              "* `DB_HOST`, `DB_NAME`, `DB_PASSWORD`, `DB_USER`\n",
              "* `OGC_EDC_URL`\n",
              "* `REFERENCE_DATA`\n"
            ],
            "text/plain": [
              "<IPython.core.display.Markdown object>"
            ]
          },
          "metadata": {},
          "output_type": "display_data"
        }
      ],
      "source": [
        "from edc import setup_environment_variables\n",
        "setup_environment_variables()"
      ]
    },
    {
      "cell_type": "markdown",
      "id": "genetic-extent",
      "metadata": {
        "papermill": {
          "duration": 0.012961,
          "end_time": "2021-05-11T14:51:50.688664",
          "exception": false,
          "start_time": "2021-05-11T14:51:50.675703",
          "status": "completed"
        },
        "tags": []
      },
      "source": [
        "## Check notebook compabtibility\n",
        "**Please note:** If you conduct this notebook again at a later time, the base image of this Jupyter Hub service can include newer versions of the libraries installed. Thus, the notebook execution can fail. This compatibility check is only necessary when something is broken. "
      ]
    },
    {
      "cell_type": "code",
      "execution_count": 2,
      "id": "hindu-timothy",
      "metadata": {
        "execution": {
          "iopub.execute_input": "2021-05-11T14:51:50.718011Z",
          "iopub.status.busy": "2021-05-11T14:51:50.717475Z",
          "iopub.status.idle": "2021-05-11T14:51:50.720977Z",
          "shell.execute_reply": "2021-05-11T14:51:50.720493Z"
        },
        "papermill": {
          "duration": 0.019407,
          "end_time": "2021-05-11T14:51:50.721080",
          "exception": false,
          "start_time": "2021-05-11T14:51:50.701673",
          "status": "completed"
        },
        "tags": []
      },
      "outputs": [
        {
          "data": {
            "text/html": [
              "<script type=\"text/javascript\">\n",
              "        function toggle(id) {\n",
              "            el = document.getElementById(id);\n",
              "            el.style.display = el.style.display === \"none\" ? \"block\" : \"none\";\n",
              "        }\n",
              "    </script>"
            ],
            "text/plain": [
              "<IPython.core.display.HTML object>"
            ]
          },
          "metadata": {},
          "output_type": "display_data"
        },
        {
          "data": {
            "text/html": [
              "This notebook is compatible with this base image version (user-0.24.5)."
            ],
            "text/plain": [
              "<IPython.core.display.HTML object>"
            ]
          },
          "metadata": {},
          "output_type": "display_data"
        }
      ],
      "source": [
        "from edc import check_compatibility\n",
        "check_compatibility(\"user-0.24.5\", dependencies=[])"
      ]
    },
    {
      "cell_type": "markdown",
      "id": "parental-cleanup",
      "metadata": {
        "papermill": {
          "duration": 0.017795,
          "end_time": "2021-05-11T14:51:50.752436",
          "exception": false,
          "start_time": "2021-05-11T14:51:50.734641",
          "status": "completed"
        },
        "tags": []
      },
      "source": [
        "## Load libraries"
      ]
    },
    {
      "cell_type": "markdown",
      "id": "returning-testing",
      "metadata": {
        "papermill": {
          "duration": 0.01348,
          "end_time": "2021-05-11T14:51:50.779407",
          "exception": false,
          "start_time": "2021-05-11T14:51:50.765927",
          "status": "completed"
        },
        "tags": []
      },
      "source": [
        "Python libraries used in this tutorial will be loaded."
      ]
    },
    {
      "cell_type": "code",
      "execution_count": 3,
      "id": "seventh-netherlands",
      "metadata": {
        "execution": {
          "iopub.execute_input": "2021-05-11T14:51:50.811042Z",
          "iopub.status.busy": "2021-05-11T14:51:50.810295Z",
          "iopub.status.idle": "2021-05-11T14:51:52.109710Z",
          "shell.execute_reply": "2021-05-11T14:51:52.110153Z"
        },
        "papermill": {
          "duration": 1.316933,
          "end_time": "2021-05-11T14:51:52.110291",
          "exception": false,
          "start_time": "2021-05-11T14:51:50.793358",
          "status": "completed"
        },
        "tags": []
      },
      "outputs": [],
      "source": [
        "import os\n",
        "import xarray as xr\n",
        "import pandas as pd\n",
        "import requests\n",
        "import matplotlib\n",
        "import rasterio\n",
        "from rasterio.plot import show\n",
        "from ipyleaflet import Map, Rectangle, DrawControl, basemaps, basemap_to_tiles\n",
        "%matplotlib inline"
      ]
    },
    {
      "cell_type": "markdown",
      "id": "public-depth",
      "metadata": {
        "papermill": {
          "duration": 0.01381,
          "end_time": "2021-05-11T14:51:52.138086",
          "exception": false,
          "start_time": "2021-05-11T14:51:52.124276",
          "status": "completed"
        },
        "tags": []
      },
      "source": [
        "## Set DAPA endpoint\n",
        "Execute the following code to check if the DAPA_URL is available in the environment variable and to set the `/dapa` endpoint. "
      ]
    },
    {
      "cell_type": "code",
      "execution_count": 4,
      "id": "environmental-montana",
      "metadata": {
        "execution": {
          "iopub.execute_input": "2021-05-11T14:51:52.169260Z",
          "iopub.status.busy": "2021-05-11T14:51:52.168760Z",
          "iopub.status.idle": "2021-05-11T14:51:52.171316Z",
          "shell.execute_reply": "2021-05-11T14:51:52.171656Z"
        },
        "papermill": {
          "duration": 0.019975,
          "end_time": "2021-05-11T14:51:52.171762",
          "exception": false,
          "start_time": "2021-05-11T14:51:52.151787",
          "status": "completed"
        },
        "tags": []
      },
      "outputs": [
        {
          "name": "stdout",
          "output_type": "stream",
          "text": [
            "DAPA path: /oapi\n"
          ]
        }
      ],
      "source": [
        "service_url = None\n",
        "dapa_url = None\n",
        "\n",
        "if 'DAPA_URL' not in os.environ:\n",
        "    print('!! DAPA_URL does not exist as environment variable. Please make sure this is the case - see first block of this notebook! !!')\n",
        "else:    \n",
        "    service_url = os.environ['DAPA_URL']\n",
        "    dapa_url = '{}/{}'.format(service_url, 'oapi')\n",
        "    print('DAPA path: {}'.format(dapa_url.replace(service_url, '')))"
      ]
    },
    {
      "cell_type": "markdown",
      "id": "special-secretariat",
      "metadata": {
        "papermill": {
          "duration": 0.013797,
          "end_time": "2021-05-11T14:51:52.199218",
          "exception": false,
          "start_time": "2021-05-11T14:51:52.185421",
          "status": "completed"
        },
        "tags": []
      },
      "source": [
        "## Get collections supported by this endpoint\n",
        "This request provides a list of collections. The path of each collection is used as starting path of this service."
      ]
    },
    {
      "cell_type": "code",
      "execution_count": 5,
      "id": "historical-birth",
      "metadata": {
        "execution": {
          "iopub.execute_input": "2021-05-11T14:51:52.233433Z",
          "iopub.status.busy": "2021-05-11T14:51:52.230530Z",
          "iopub.status.idle": "2021-05-11T14:51:52.256558Z",
          "shell.execute_reply": "2021-05-11T14:51:52.257046Z"
        },
        "papermill": {
          "duration": 0.044018,
          "end_time": "2021-05-11T14:51:52.257160",
          "exception": false,
          "start_time": "2021-05-11T14:51:52.213142",
          "status": "completed"
        },
        "tags": []
      },
      "outputs": [
        {
          "name": "stdout",
          "output_type": "stream",
          "text": [
            "DAPA path: /oapi/collections\n"
          ]
        },
        {
          "data": {
            "text/plain": [
              "['/oapi/collections/DEM/',\n",
              " '/oapi/collections/L8L1C/',\n",
              " '/oapi/collections/S1GRD/',\n",
              " '/oapi/collections/S2L1C/',\n",
              " '/oapi/collections/S2L2A/',\n",
              " '/oapi/collections/S3OLCI/',\n",
              " '/oapi/collections/S3SLSTR/',\n",
              " '/oapi/collections/S5PL2/',\n",
              " '/oapi/collections/MODIS/']"
            ]
          },
          "execution_count": 5,
          "metadata": {},
          "output_type": "execute_result"
        }
      ],
      "source": [
        "collections_url = '{}/{}'.format(dapa_url, 'collections')\n",
        "collections = requests.get(collections_url, headers={'Accept': 'application/json'})\n",
        "\n",
        "print('DAPA path: {}'.format(collections.url.replace(service_url, '')))\n",
        "collections.json()"
      ]
    },
    {
      "cell_type": "markdown",
      "id": "processed-flood",
      "metadata": {
        "papermill": {
          "duration": 0.01414,
          "end_time": "2021-05-11T14:51:52.285662",
          "exception": false,
          "start_time": "2021-05-11T14:51:52.271522",
          "status": "completed"
        },
        "tags": []
      },
      "source": [
        "## Get fields of collection DEM\n",
        "The fields (or variables in other DAPA endpoints - these are the bands of the raster data) can be retrieved in all requests to the DAPA endpoint. In addition to the fixed set of fields, \"virtual\" fields can be used to conduct math operations (e.g., the calculation of indices). "
      ]
    },
    {
      "cell_type": "code",
      "execution_count": 6,
      "id": "different-intake",
      "metadata": {
        "execution": {
          "iopub.execute_input": "2021-05-11T14:51:52.318401Z",
          "iopub.status.busy": "2021-05-11T14:51:52.317033Z",
          "iopub.status.idle": "2021-05-11T14:51:52.340659Z",
          "shell.execute_reply": "2021-05-11T14:51:52.341008Z"
        },
        "papermill": {
          "duration": 0.041356,
          "end_time": "2021-05-11T14:51:52.341115",
          "exception": false,
          "start_time": "2021-05-11T14:51:52.299759",
          "status": "completed"
        },
        "tags": []
      },
      "outputs": [
        {
          "name": "stdout",
          "output_type": "stream",
          "text": [
            "DAPA path: /oapi/collections/DEM/dapa/fields\n"
          ]
        },
        {
          "data": {
            "text/plain": [
              "[{'id': 'DEM', 'wavelength': None}]"
            ]
          },
          "execution_count": 6,
          "metadata": {},
          "output_type": "execute_result"
        }
      ],
      "source": [
        "collection = 'DEM'\n",
        "\n",
        "fields_url = '{}/{}/{}/{}'.format(dapa_url, 'collections', collection, 'dapa/fields')\n",
        "fields = requests.get(fields_url, headers={'Accept': 'application/json'})\n",
        "\n",
        "print('DAPA path: {}'.format(fields.url.replace(service_url, '')))\n",
        "fields.json()"
      ]
    },
    {
      "cell_type": "markdown",
      "id": "increasing-blackjack",
      "metadata": {
        "papermill": {
          "duration": 0.0144,
          "end_time": "2021-05-11T14:51:52.370029",
          "exception": false,
          "start_time": "2021-05-11T14:51:52.355629",
          "status": "completed"
        },
        "tags": []
      },
      "source": [
        "## Retrieve a subset of an area of interest"
      ]
    },
    {
      "cell_type": "markdown",
      "id": "equivalent-lending",
      "metadata": {
        "papermill": {
          "duration": 0.014481,
          "end_time": "2021-05-11T14:51:52.399004",
          "exception": false,
          "start_time": "2021-05-11T14:51:52.384523",
          "status": "completed"
        },
        "tags": []
      },
      "source": [
        "### Set DAPA URL and parameters\n",
        "The output of this request is a single raster (`area` endpoint). As the input collection (DEM) is a single raster as well, only subsetting is done, no aggregation method needs to be specified.\n",
        "\n",
        "To retrieve a subset of an area of interest, a bounding box (`bbox`) or polygon geometry (`geom`) needs to be provided. Also the band (`field`) to be returned by DAPA needs to be specified."
      ]
    },
    {
      "cell_type": "code",
      "execution_count": 7,
      "id": "offshore-covering",
      "metadata": {
        "execution": {
          "iopub.execute_input": "2021-05-11T14:51:52.442373Z",
          "iopub.status.busy": "2021-05-11T14:51:52.435629Z",
          "iopub.status.idle": "2021-05-11T14:51:52.455613Z",
          "shell.execute_reply": "2021-05-11T14:51:52.453035Z"
        },
        "papermill": {
          "duration": 0.042177,
          "end_time": "2021-05-11T14:51:52.455702",
          "exception": false,
          "start_time": "2021-05-11T14:51:52.413525",
          "status": "completed"
        },
        "tags": []
      },
      "outputs": [
        {
          "data": {
            "application/vnd.jupyter.widget-view+json": {
              "model_id": "4d948a894516420b8bc9f5f5585ecdd9",
              "version_major": 2,
              "version_minor": 0
            },
            "text/plain": [
              "Map(center=[48.25, 11.5], controls=(ZoomControl(options=['position', 'zoom_in_text', 'zoom_in_title', 'zoom_ou…"
            ]
          },
          "metadata": {},
          "output_type": "display_data"
        }
      ],
      "source": [
        "# DAPA URL\n",
        "url = '{}/{}/{}/{}'.format(dapa_url, 'collections', collection, 'dapa/area')\n",
        "\n",
        "# Parameters for this request\n",
        "params = {\n",
        "    'bbox': '11,48,12,48.5',\n",
        "    'fields': 'DEM'\n",
        "}\n",
        "\n",
        "# show area in the map\n",
        "m = Map(\n",
        "    basemap=basemap_to_tiles(basemaps.OpenStreetMap.Mapnik),\n",
        "    center=(48.25, 11.5),\n",
        "    zoom=9\n",
        ")\n",
        "\n",
        "bbox = [float(coord) for coord in params['bbox'].split(',')]\n",
        "rectangle = Rectangle(bounds=((bbox[1], bbox[0]), (bbox[3], bbox[2])))\n",
        "m.add_layer(rectangle)\n",
        "m"
      ]
    },
    {
      "cell_type": "markdown",
      "id": "turned-supplement",
      "metadata": {
        "papermill": {
          "duration": 0.014777,
          "end_time": "2021-05-11T14:51:52.485475",
          "exception": false,
          "start_time": "2021-05-11T14:51:52.470698",
          "status": "completed"
        },
        "tags": []
      },
      "source": [
        "### Build request URL and conduct request"
      ]
    },
    {
      "cell_type": "code",
      "execution_count": 8,
      "id": "posted-threshold",
      "metadata": {
        "execution": {
          "iopub.execute_input": "2021-05-11T14:51:52.520158Z",
          "iopub.status.busy": "2021-05-11T14:51:52.519549Z",
          "iopub.status.idle": "2021-05-11T14:51:52.819311Z",
          "shell.execute_reply": "2021-05-11T14:51:52.818736Z"
        },
        "papermill": {
          "duration": 0.319131,
          "end_time": "2021-05-11T14:51:52.819410",
          "exception": false,
          "start_time": "2021-05-11T14:51:52.500279",
          "status": "completed"
        },
        "tags": []
      },
      "outputs": [
        {
          "name": "stdout",
          "output_type": "stream",
          "text": [
            "DAPA path: /oapi/collections/DEM/dapa/area?bbox=11,48,12,48.5&fields=DEM\n",
            "Status code: 200\n"
          ]
        }
      ],
      "source": [
        "params_str = \"&\".join(\"%s=%s\" % (k, v) for k,v in params.items())\n",
        "r = requests.get(url, params=params_str)\n",
        "\n",
        "print('DAPA path: {}'.format(r.url.replace(service_url, '')))\n",
        "print('Status code: {}'.format(r.status_code))"
      ]
    },
    {
      "cell_type": "markdown",
      "id": "alpha-foster",
      "metadata": {
        "papermill": {
          "duration": 0.015057,
          "end_time": "2021-05-11T14:51:52.850240",
          "exception": false,
          "start_time": "2021-05-11T14:51:52.835183",
          "status": "completed"
        },
        "tags": []
      },
      "source": [
        "### Write raster dataset to GeoTIFF file\n",
        "The response of the `area` endpoint is currently a GeoTIFF file, which can either be saved to disk or used directly in further processing."
      ]
    },
    {
      "cell_type": "code",
      "execution_count": 9,
      "id": "derived-british",
      "metadata": {
        "execution": {
          "iopub.execute_input": "2021-05-11T14:51:52.884189Z",
          "iopub.status.busy": "2021-05-11T14:51:52.883675Z",
          "iopub.status.idle": "2021-05-11T14:51:52.885707Z",
          "shell.execute_reply": "2021-05-11T14:51:52.886044Z"
        },
        "papermill": {
          "duration": 0.020148,
          "end_time": "2021-05-11T14:51:52.886143",
          "exception": false,
          "start_time": "2021-05-11T14:51:52.865995",
          "status": "completed"
        },
        "tags": []
      },
      "outputs": [],
      "source": [
        "with open('dem_subset.tif', 'wb') as filew:\n",
        "    filew.write(r.content)"
      ]
    },
    {
      "cell_type": "markdown",
      "id": "subsequent-wheat",
      "metadata": {
        "papermill": {
          "duration": 0.014982,
          "end_time": "2021-05-11T14:51:52.916034",
          "exception": false,
          "start_time": "2021-05-11T14:51:52.901052",
          "status": "completed"
        },
        "tags": []
      },
      "source": [
        "### Open raster dataset with xarray\n",
        "The GeoTIFF file can be opened with xarray. As the request only specified one field and no aggregation is needed, only one band is available."
      ]
    },
    {
      "cell_type": "code",
      "execution_count": 10,
      "id": "established-budget",
      "metadata": {
        "execution": {
          "iopub.execute_input": "2021-05-11T14:51:52.950983Z",
          "iopub.status.busy": "2021-05-11T14:51:52.950429Z",
          "iopub.status.idle": "2021-05-11T14:51:52.965390Z",
          "shell.execute_reply": "2021-05-11T14:51:52.964976Z"
        },
        "papermill": {
          "duration": 0.03466,
          "end_time": "2021-05-11T14:51:52.965476",
          "exception": false,
          "start_time": "2021-05-11T14:51:52.930816",
          "status": "completed"
        },
        "tags": []
      },
      "outputs": [
        {
          "data": {
            "text/html": [
              "<div><svg style=\"position: absolute; width: 0; height: 0; overflow: hidden\">\n",
              "<defs>\n",
              "<symbol id=\"icon-database\" viewBox=\"0 0 32 32\">\n",
              "<path d=\"M16 0c-8.837 0-16 2.239-16 5v4c0 2.761 7.163 5 16 5s16-2.239 16-5v-4c0-2.761-7.163-5-16-5z\"></path>\n",
              "<path d=\"M16 17c-8.837 0-16-2.239-16-5v6c0 2.761 7.163 5 16 5s16-2.239 16-5v-6c0 2.761-7.163 5-16 5z\"></path>\n",
              "<path d=\"M16 26c-8.837 0-16-2.239-16-5v6c0 2.761 7.163 5 16 5s16-2.239 16-5v-6c0 2.761-7.163 5-16 5z\"></path>\n",
              "</symbol>\n",
              "<symbol id=\"icon-file-text2\" viewBox=\"0 0 32 32\">\n",
              "<path d=\"M28.681 7.159c-0.694-0.947-1.662-2.053-2.724-3.116s-2.169-2.030-3.116-2.724c-1.612-1.182-2.393-1.319-2.841-1.319h-15.5c-1.378 0-2.5 1.121-2.5 2.5v27c0 1.378 1.122 2.5 2.5 2.5h23c1.378 0 2.5-1.122 2.5-2.5v-19.5c0-0.448-0.137-1.23-1.319-2.841zM24.543 5.457c0.959 0.959 1.712 1.825 2.268 2.543h-4.811v-4.811c0.718 0.556 1.584 1.309 2.543 2.268zM28 29.5c0 0.271-0.229 0.5-0.5 0.5h-23c-0.271 0-0.5-0.229-0.5-0.5v-27c0-0.271 0.229-0.5 0.5-0.5 0 0 15.499-0 15.5 0v7c0 0.552 0.448 1 1 1h7v19.5z\"></path>\n",
              "<path d=\"M23 26h-14c-0.552 0-1-0.448-1-1s0.448-1 1-1h14c0.552 0 1 0.448 1 1s-0.448 1-1 1z\"></path>\n",
              "<path d=\"M23 22h-14c-0.552 0-1-0.448-1-1s0.448-1 1-1h14c0.552 0 1 0.448 1 1s-0.448 1-1 1z\"></path>\n",
              "<path d=\"M23 18h-14c-0.552 0-1-0.448-1-1s0.448-1 1-1h14c0.552 0 1 0.448 1 1s-0.448 1-1 1z\"></path>\n",
              "</symbol>\n",
              "</defs>\n",
              "</svg>\n",
              "<style>/* CSS stylesheet for displaying xarray objects in jupyterlab.\n",
              " *\n",
              " */\n",
              "\n",
              ":root {\n",
              "  --xr-font-color0: var(--jp-content-font-color0, rgba(0, 0, 0, 1));\n",
              "  --xr-font-color2: var(--jp-content-font-color2, rgba(0, 0, 0, 0.54));\n",
              "  --xr-font-color3: var(--jp-content-font-color3, rgba(0, 0, 0, 0.38));\n",
              "  --xr-border-color: var(--jp-border-color2, #e0e0e0);\n",
              "  --xr-disabled-color: var(--jp-layout-color3, #bdbdbd);\n",
              "  --xr-background-color: var(--jp-layout-color0, white);\n",
              "  --xr-background-color-row-even: var(--jp-layout-color1, white);\n",
              "  --xr-background-color-row-odd: var(--jp-layout-color2, #eeeeee);\n",
              "}\n",
              "\n",
              "html[theme=dark],\n",
              "body.vscode-dark {\n",
              "  --xr-font-color0: rgba(255, 255, 255, 1);\n",
              "  --xr-font-color2: rgba(255, 255, 255, 0.54);\n",
              "  --xr-font-color3: rgba(255, 255, 255, 0.38);\n",
              "  --xr-border-color: #1F1F1F;\n",
              "  --xr-disabled-color: #515151;\n",
              "  --xr-background-color: #111111;\n",
              "  --xr-background-color-row-even: #111111;\n",
              "  --xr-background-color-row-odd: #313131;\n",
              "}\n",
              "\n",
              ".xr-wrap {\n",
              "  display: block;\n",
              "  min-width: 300px;\n",
              "  max-width: 700px;\n",
              "}\n",
              "\n",
              ".xr-text-repr-fallback {\n",
              "  /* fallback to plain text repr when CSS is not injected (untrusted notebook) */\n",
              "  display: none;\n",
              "}\n",
              "\n",
              ".xr-header {\n",
              "  padding-top: 6px;\n",
              "  padding-bottom: 6px;\n",
              "  margin-bottom: 4px;\n",
              "  border-bottom: solid 1px var(--xr-border-color);\n",
              "}\n",
              "\n",
              ".xr-header > div,\n",
              ".xr-header > ul {\n",
              "  display: inline;\n",
              "  margin-top: 0;\n",
              "  margin-bottom: 0;\n",
              "}\n",
              "\n",
              ".xr-obj-type,\n",
              ".xr-array-name {\n",
              "  margin-left: 2px;\n",
              "  margin-right: 10px;\n",
              "}\n",
              "\n",
              ".xr-obj-type {\n",
              "  color: var(--xr-font-color2);\n",
              "}\n",
              "\n",
              ".xr-sections {\n",
              "  padding-left: 0 !important;\n",
              "  display: grid;\n",
              "  grid-template-columns: 150px auto auto 1fr 20px 20px;\n",
              "}\n",
              "\n",
              ".xr-section-item {\n",
              "  display: contents;\n",
              "}\n",
              "\n",
              ".xr-section-item input {\n",
              "  display: none;\n",
              "}\n",
              "\n",
              ".xr-section-item input + label {\n",
              "  color: var(--xr-disabled-color);\n",
              "}\n",
              "\n",
              ".xr-section-item input:enabled + label {\n",
              "  cursor: pointer;\n",
              "  color: var(--xr-font-color2);\n",
              "}\n",
              "\n",
              ".xr-section-item input:enabled + label:hover {\n",
              "  color: var(--xr-font-color0);\n",
              "}\n",
              "\n",
              ".xr-section-summary {\n",
              "  grid-column: 1;\n",
              "  color: var(--xr-font-color2);\n",
              "  font-weight: 500;\n",
              "}\n",
              "\n",
              ".xr-section-summary > span {\n",
              "  display: inline-block;\n",
              "  padding-left: 0.5em;\n",
              "}\n",
              "\n",
              ".xr-section-summary-in:disabled + label {\n",
              "  color: var(--xr-font-color2);\n",
              "}\n",
              "\n",
              ".xr-section-summary-in + label:before {\n",
              "  display: inline-block;\n",
              "  content: '►';\n",
              "  font-size: 11px;\n",
              "  width: 15px;\n",
              "  text-align: center;\n",
              "}\n",
              "\n",
              ".xr-section-summary-in:disabled + label:before {\n",
              "  color: var(--xr-disabled-color);\n",
              "}\n",
              "\n",
              ".xr-section-summary-in:checked + label:before {\n",
              "  content: '▼';\n",
              "}\n",
              "\n",
              ".xr-section-summary-in:checked + label > span {\n",
              "  display: none;\n",
              "}\n",
              "\n",
              ".xr-section-summary,\n",
              ".xr-section-inline-details {\n",
              "  padding-top: 4px;\n",
              "  padding-bottom: 4px;\n",
              "}\n",
              "\n",
              ".xr-section-inline-details {\n",
              "  grid-column: 2 / -1;\n",
              "}\n",
              "\n",
              ".xr-section-details {\n",
              "  display: none;\n",
              "  grid-column: 1 / -1;\n",
              "  margin-bottom: 5px;\n",
              "}\n",
              "\n",
              ".xr-section-summary-in:checked ~ .xr-section-details {\n",
              "  display: contents;\n",
              "}\n",
              "\n",
              ".xr-array-wrap {\n",
              "  grid-column: 1 / -1;\n",
              "  display: grid;\n",
              "  grid-template-columns: 20px auto;\n",
              "}\n",
              "\n",
              ".xr-array-wrap > label {\n",
              "  grid-column: 1;\n",
              "  vertical-align: top;\n",
              "}\n",
              "\n",
              ".xr-preview {\n",
              "  color: var(--xr-font-color3);\n",
              "}\n",
              "\n",
              ".xr-array-preview,\n",
              ".xr-array-data {\n",
              "  padding: 0 5px !important;\n",
              "  grid-column: 2;\n",
              "}\n",
              "\n",
              ".xr-array-data,\n",
              ".xr-array-in:checked ~ .xr-array-preview {\n",
              "  display: none;\n",
              "}\n",
              "\n",
              ".xr-array-in:checked ~ .xr-array-data,\n",
              ".xr-array-preview {\n",
              "  display: inline-block;\n",
              "}\n",
              "\n",
              ".xr-dim-list {\n",
              "  display: inline-block !important;\n",
              "  list-style: none;\n",
              "  padding: 0 !important;\n",
              "  margin: 0;\n",
              "}\n",
              "\n",
              ".xr-dim-list li {\n",
              "  display: inline-block;\n",
              "  padding: 0;\n",
              "  margin: 0;\n",
              "}\n",
              "\n",
              ".xr-dim-list:before {\n",
              "  content: '(';\n",
              "}\n",
              "\n",
              ".xr-dim-list:after {\n",
              "  content: ')';\n",
              "}\n",
              "\n",
              ".xr-dim-list li:not(:last-child):after {\n",
              "  content: ',';\n",
              "  padding-right: 5px;\n",
              "}\n",
              "\n",
              ".xr-has-index {\n",
              "  font-weight: bold;\n",
              "}\n",
              "\n",
              ".xr-var-list,\n",
              ".xr-var-item {\n",
              "  display: contents;\n",
              "}\n",
              "\n",
              ".xr-var-item > div,\n",
              ".xr-var-item label,\n",
              ".xr-var-item > .xr-var-name span {\n",
              "  background-color: var(--xr-background-color-row-even);\n",
              "  margin-bottom: 0;\n",
              "}\n",
              "\n",
              ".xr-var-item > .xr-var-name:hover span {\n",
              "  padding-right: 5px;\n",
              "}\n",
              "\n",
              ".xr-var-list > li:nth-child(odd) > div,\n",
              ".xr-var-list > li:nth-child(odd) > label,\n",
              ".xr-var-list > li:nth-child(odd) > .xr-var-name span {\n",
              "  background-color: var(--xr-background-color-row-odd);\n",
              "}\n",
              "\n",
              ".xr-var-name {\n",
              "  grid-column: 1;\n",
              "}\n",
              "\n",
              ".xr-var-dims {\n",
              "  grid-column: 2;\n",
              "}\n",
              "\n",
              ".xr-var-dtype {\n",
              "  grid-column: 3;\n",
              "  text-align: right;\n",
              "  color: var(--xr-font-color2);\n",
              "}\n",
              "\n",
              ".xr-var-preview {\n",
              "  grid-column: 4;\n",
              "}\n",
              "\n",
              ".xr-var-name,\n",
              ".xr-var-dims,\n",
              ".xr-var-dtype,\n",
              ".xr-preview,\n",
              ".xr-attrs dt {\n",
              "  white-space: nowrap;\n",
              "  overflow: hidden;\n",
              "  text-overflow: ellipsis;\n",
              "  padding-right: 10px;\n",
              "}\n",
              "\n",
              ".xr-var-name:hover,\n",
              ".xr-var-dims:hover,\n",
              ".xr-var-dtype:hover,\n",
              ".xr-attrs dt:hover {\n",
              "  overflow: visible;\n",
              "  width: auto;\n",
              "  z-index: 1;\n",
              "}\n",
              "\n",
              ".xr-var-attrs,\n",
              ".xr-var-data {\n",
              "  display: none;\n",
              "  background-color: var(--xr-background-color) !important;\n",
              "  padding-bottom: 5px !important;\n",
              "}\n",
              "\n",
              ".xr-var-attrs-in:checked ~ .xr-var-attrs,\n",
              ".xr-var-data-in:checked ~ .xr-var-data {\n",
              "  display: block;\n",
              "}\n",
              "\n",
              ".xr-var-data > table {\n",
              "  float: right;\n",
              "}\n",
              "\n",
              ".xr-var-name span,\n",
              ".xr-var-data,\n",
              ".xr-attrs {\n",
              "  padding-left: 25px !important;\n",
              "}\n",
              "\n",
              ".xr-attrs,\n",
              ".xr-var-attrs,\n",
              ".xr-var-data {\n",
              "  grid-column: 1 / -1;\n",
              "}\n",
              "\n",
              "dl.xr-attrs {\n",
              "  padding: 0;\n",
              "  margin: 0;\n",
              "  display: grid;\n",
              "  grid-template-columns: 125px auto;\n",
              "}\n",
              "\n",
              ".xr-attrs dt,\n",
              ".xr-attrs dd {\n",
              "  padding: 0;\n",
              "  margin: 0;\n",
              "  float: left;\n",
              "  padding-right: 10px;\n",
              "  width: auto;\n",
              "}\n",
              "\n",
              ".xr-attrs dt {\n",
              "  font-weight: normal;\n",
              "  grid-column: 1;\n",
              "}\n",
              "\n",
              ".xr-attrs dt:hover span {\n",
              "  display: inline-block;\n",
              "  background: var(--xr-background-color);\n",
              "  padding-right: 10px;\n",
              "}\n",
              "\n",
              ".xr-attrs dd {\n",
              "  grid-column: 2;\n",
              "  white-space: pre-wrap;\n",
              "  word-break: break-all;\n",
              "}\n",
              "\n",
              ".xr-icon-database,\n",
              ".xr-icon-file-text2 {\n",
              "  display: inline-block;\n",
              "  vertical-align: middle;\n",
              "  width: 1em;\n",
              "  height: 1.5em !important;\n",
              "  stroke-width: 0;\n",
              "  stroke: currentColor;\n",
              "  fill: currentColor;\n",
              "}\n",
              "</style><pre class='xr-text-repr-fallback'>&lt;xarray.DataArray (band: 1, y: 512, x: 512)&gt;\n",
              "[262144 values with dtype=float32]\n",
              "Coordinates:\n",
              "  * band     (band) int64 1\n",
              "  * y        (y) float64 48.5 48.5 48.5 48.5 48.5 ... 48.0 48.0 48.0 48.0 48.0\n",
              "  * x        (x) float64 11.0 11.0 11.0 11.01 11.01 ... 11.99 12.0 12.0 12.0\n",
              "Attributes:\n",
              "    transform:               (0.001953125, 0.0, 11.0, 0.0, -0.0009765625, 48.5)\n",
              "    crs:                     +init=epsg:4326\n",
              "    res:                     (0.001953125, 0.0009765625)\n",
              "    is_tiled:                0\n",
              "    nodatavals:              (nan,)\n",
              "    scales:                  (1.0,)\n",
              "    offsets:                 (0.0,)\n",
              "    descriptions:            (&#x27;DEM&#x27;,)\n",
              "    AREA_OR_POINT:           Area\n",
              "    TIFFTAG_RESOLUTIONUNIT:  1 (unitless)\n",
              "    TIFFTAG_XRESOLUTION:     1\n",
              "    TIFFTAG_YRESOLUTION:     1</pre><div class='xr-wrap' hidden><div class='xr-header'><div class='xr-obj-type'>xarray.DataArray</div><div class='xr-array-name'></div><ul class='xr-dim-list'><li><span class='xr-has-index'>band</span>: 1</li><li><span class='xr-has-index'>y</span>: 512</li><li><span class='xr-has-index'>x</span>: 512</li></ul></div><ul class='xr-sections'><li class='xr-section-item'><div class='xr-array-wrap'><input id='section-c1e10340-57cf-4073-8c50-396334ec0a86' class='xr-array-in' type='checkbox' checked><label for='section-c1e10340-57cf-4073-8c50-396334ec0a86' title='Show/hide data repr'><svg class='icon xr-icon-database'><use xlink:href='#icon-database'></use></svg></label><div class='xr-array-preview xr-preview'><span>...</span></div><div class='xr-array-data'><pre>[262144 values with dtype=float32]</pre></div></div></li><li class='xr-section-item'><input id='section-6a27d368-68ed-418b-bc8b-ed033743e135' class='xr-section-summary-in' type='checkbox'  checked><label for='section-6a27d368-68ed-418b-bc8b-ed033743e135' class='xr-section-summary' >Coordinates: <span>(3)</span></label><div class='xr-section-inline-details'></div><div class='xr-section-details'><ul class='xr-var-list'><li class='xr-var-item'><div class='xr-var-name'><span class='xr-has-index'>band</span></div><div class='xr-var-dims'>(band)</div><div class='xr-var-dtype'>int64</div><div class='xr-var-preview xr-preview'>1</div><input id='attrs-0e2cab5d-e6b1-41a6-8c2b-7f422704e05c' class='xr-var-attrs-in' type='checkbox' disabled><label for='attrs-0e2cab5d-e6b1-41a6-8c2b-7f422704e05c' title='Show/Hide attributes'><svg class='icon xr-icon-file-text2'><use xlink:href='#icon-file-text2'></use></svg></label><input id='data-6c04b61a-23ab-4224-ad88-09cbda1e0d8e' class='xr-var-data-in' type='checkbox'><label for='data-6c04b61a-23ab-4224-ad88-09cbda1e0d8e' title='Show/Hide data repr'><svg class='icon xr-icon-database'><use xlink:href='#icon-database'></use></svg></label><div class='xr-var-attrs'><dl class='xr-attrs'></dl></div><div class='xr-var-data'><pre>array([1])</pre></div></li><li class='xr-var-item'><div class='xr-var-name'><span class='xr-has-index'>y</span></div><div class='xr-var-dims'>(y)</div><div class='xr-var-dtype'>float64</div><div class='xr-var-preview xr-preview'>48.5 48.5 48.5 ... 48.0 48.0 48.0</div><input id='attrs-efc88e27-b0be-47e7-a534-04b0c1353f4f' class='xr-var-attrs-in' type='checkbox' disabled><label for='attrs-efc88e27-b0be-47e7-a534-04b0c1353f4f' title='Show/Hide attributes'><svg class='icon xr-icon-file-text2'><use xlink:href='#icon-file-text2'></use></svg></label><input id='data-4f322127-32fb-45e8-b32d-d56547eb193d' class='xr-var-data-in' type='checkbox'><label for='data-4f322127-32fb-45e8-b32d-d56547eb193d' title='Show/Hide data repr'><svg class='icon xr-icon-database'><use xlink:href='#icon-database'></use></svg></label><div class='xr-var-attrs'><dl class='xr-attrs'></dl></div><div class='xr-var-data'><pre>array([48.499512, 48.498535, 48.497559, ..., 48.002441, 48.001465, 48.000488])</pre></div></li><li class='xr-var-item'><div class='xr-var-name'><span class='xr-has-index'>x</span></div><div class='xr-var-dims'>(x)</div><div class='xr-var-dtype'>float64</div><div class='xr-var-preview xr-preview'>11.0 11.0 11.0 ... 12.0 12.0 12.0</div><input id='attrs-0f773861-d0b5-4e84-9a11-99533fa94d3a' class='xr-var-attrs-in' type='checkbox' disabled><label for='attrs-0f773861-d0b5-4e84-9a11-99533fa94d3a' title='Show/Hide attributes'><svg class='icon xr-icon-file-text2'><use xlink:href='#icon-file-text2'></use></svg></label><input id='data-8f4344fc-6690-4b13-9c26-912e6a0a4878' class='xr-var-data-in' type='checkbox'><label for='data-8f4344fc-6690-4b13-9c26-912e6a0a4878' title='Show/Hide data repr'><svg class='icon xr-icon-database'><use xlink:href='#icon-database'></use></svg></label><div class='xr-var-attrs'><dl class='xr-attrs'></dl></div><div class='xr-var-data'><pre>array([11.000977, 11.00293 , 11.004883, ..., 11.995117, 11.99707 , 11.999023])</pre></div></li></ul></div></li><li class='xr-section-item'><input id='section-e7426e24-377f-46f5-a71e-1437b7600573' class='xr-section-summary-in' type='checkbox'  ><label for='section-e7426e24-377f-46f5-a71e-1437b7600573' class='xr-section-summary' >Attributes: <span>(12)</span></label><div class='xr-section-inline-details'></div><div class='xr-section-details'><dl class='xr-attrs'><dt><span>transform :</span></dt><dd>(0.001953125, 0.0, 11.0, 0.0, -0.0009765625, 48.5)</dd><dt><span>crs :</span></dt><dd>+init=epsg:4326</dd><dt><span>res :</span></dt><dd>(0.001953125, 0.0009765625)</dd><dt><span>is_tiled :</span></dt><dd>0</dd><dt><span>nodatavals :</span></dt><dd>(nan,)</dd><dt><span>scales :</span></dt><dd>(1.0,)</dd><dt><span>offsets :</span></dt><dd>(0.0,)</dd><dt><span>descriptions :</span></dt><dd>(&#x27;DEM&#x27;,)</dd><dt><span>AREA_OR_POINT :</span></dt><dd>Area</dd><dt><span>TIFFTAG_RESOLUTIONUNIT :</span></dt><dd>1 (unitless)</dd><dt><span>TIFFTAG_XRESOLUTION :</span></dt><dd>1</dd><dt><span>TIFFTAG_YRESOLUTION :</span></dt><dd>1</dd></dl></div></li></ul></div></div>"
            ],
            "text/plain": [
              "<xarray.DataArray (band: 1, y: 512, x: 512)>\n",
              "[262144 values with dtype=float32]\n",
              "Coordinates:\n",
              "  * band     (band) int64 1\n",
              "  * y        (y) float64 48.5 48.5 48.5 48.5 48.5 ... 48.0 48.0 48.0 48.0 48.0\n",
              "  * x        (x) float64 11.0 11.0 11.0 11.01 11.01 ... 11.99 12.0 12.0 12.0\n",
              "Attributes:\n",
              "    transform:               (0.001953125, 0.0, 11.0, 0.0, -0.0009765625, 48.5)\n",
              "    crs:                     +init=epsg:4326\n",
              "    res:                     (0.001953125, 0.0009765625)\n",
              "    is_tiled:                0\n",
              "    nodatavals:              (nan,)\n",
              "    scales:                  (1.0,)\n",
              "    offsets:                 (0.0,)\n",
              "    descriptions:            ('DEM',)\n",
              "    AREA_OR_POINT:           Area\n",
              "    TIFFTAG_RESOLUTIONUNIT:  1 (unitless)\n",
              "    TIFFTAG_XRESOLUTION:     1\n",
              "    TIFFTAG_YRESOLUTION:     1"
            ]
          },
          "execution_count": 10,
          "metadata": {},
          "output_type": "execute_result"
        }
      ],
      "source": [
        "ds = xr.open_rasterio('dem_subset.tif')\n",
        "ds"
      ]
    },
    {
      "cell_type": "markdown",
      "id": "static-latex",
      "metadata": {
        "papermill": {
          "duration": 0.015481,
          "end_time": "2021-05-11T14:51:52.996833",
          "exception": false,
          "start_time": "2021-05-11T14:51:52.981352",
          "status": "completed"
        },
        "tags": []
      },
      "source": [
        "### Plot DEM image"
      ]
    },
    {
      "cell_type": "code",
      "execution_count": 11,
      "id": "european-philadelphia",
      "metadata": {
        "execution": {
          "iopub.execute_input": "2021-05-11T14:51:53.031566Z",
          "iopub.status.busy": "2021-05-11T14:51:53.031009Z",
          "iopub.status.idle": "2021-05-11T14:51:53.449507Z",
          "shell.execute_reply": "2021-05-11T14:51:53.449852Z"
        },
        "papermill": {
          "duration": 0.437653,
          "end_time": "2021-05-11T14:51:53.449985",
          "exception": false,
          "start_time": "2021-05-11T14:51:53.012332",
          "status": "completed"
        },
        "tags": []
      },
      "outputs": [
        {
          "data": {
            "text/plain": [
              "<matplotlib.collections.QuadMesh at 0x7f9cf14bdb80>"
            ]
          },
          "execution_count": 11,
          "metadata": {},
          "output_type": "execute_result"
        },
        {
          "data": {
            "image/png": "[encoded data removed]",
            "text/plain": [
              "<Figure size 432x288 with 2 Axes>"
            ]
          },
          "metadata": {
            "needs_background": "light"
          },
          "output_type": "display_data"
        }
      ],
      "source": [
        "ds[0].plot()"
      ]
    },
    {
      "cell_type": "markdown",
      "id": "welsh-panama",
      "metadata": {
        "papermill": {
          "duration": 0.018413,
          "end_time": "2021-05-11T14:51:53.487547",
          "exception": false,
          "start_time": "2021-05-11T14:51:53.469134",
          "status": "completed"
        },
        "tags": []
      },
      "source": [
        "## Output gdalinfo"
      ]
    },
    {
      "cell_type": "code",
      "execution_count": 12,
      "id": "floppy-gender",
      "metadata": {
        "execution": {
          "iopub.execute_input": "2021-05-11T14:51:53.527544Z",
          "iopub.status.busy": "2021-05-11T14:51:53.526884Z",
          "iopub.status.idle": "2021-05-11T14:51:54.222318Z",
          "shell.execute_reply": "2021-05-11T14:51:54.222703Z"
        },
        "papermill": {
          "duration": 0.717026,
          "end_time": "2021-05-11T14:51:54.222834",
          "exception": false,
          "start_time": "2021-05-11T14:51:53.505808",
          "status": "completed"
        },
        "scrolled": true,
        "tags": []
      },
      "outputs": [
        {
          "name": "stdout",
          "output_type": "stream",
          "text": [
            "Driver: GTiff/GeoTIFF\r\n",
            "Files: dem_subset.tif\r\n",
            "Size is 512, 512\r\n"
          ]
        },
        {
          "name": "stdout",
          "output_type": "stream",
          "text": [
            "Coordinate System is:\r\n",
            "GEOGCRS[\"WGS 84\",\r\n",
            "    DATUM[\"World Geodetic System 1984\",\r\n",
            "        ELLIPSOID[\"WGS 84\",6378137,298.257223563,\r\n",
            "            LENGTHUNIT[\"metre\",1]]],\r\n",
            "    PRIMEM[\"Greenwich\",0,\r\n",
            "        ANGLEUNIT[\"degree\",0.0174532925199433]],\r\n",
            "    CS[ellipsoidal,2],\r\n",
            "        AXIS[\"geodetic latitude (Lat)\",north,\r\n",
            "            ORDER[1],\r\n",
            "            ANGLEUNIT[\"degree\",0.0174532925199433]],\r\n",
            "        AXIS[\"geodetic longitude (Lon)\",east,\r\n",
            "            ORDER[2],\r\n",
            "            ANGLEUNIT[\"degree\",0.0174532925199433]],\r\n",
            "    ID[\"EPSG\",4326]]\r\n",
            "Data axis to CRS axis mapping: 2,1\r\n",
            "Origin = (11.000000000000000,48.500000000000000)\r\n",
            "Pixel Size = (0.001953125000000,-0.000976562500000)\r\n",
            "Metadata:\r\n",
            "  AREA_OR_POINT=Area\r\n",
            "  TIFFTAG_RESOLUTIONUNIT=1 (unitless)\r\n",
            "  TIFFTAG_XRESOLUTION=1\r\n",
            "  TIFFTAG_YRESOLUTION=1\r\n",
            "Image Structure Metadata:\r\n",
            "  COMPRESSION=DEFLATE\r\n",
            "  INTERLEAVE=BAND\r\n",
            "Corner Coordinates:\r\n",
            "Upper Left  (  11.0000000,  48.5000000) ( 11d 0' 0.00\"E, 48d30' 0.00\"N)\r\n",
            "Lower Left  (  11.0000000,  48.0000000) ( 11d 0' 0.00\"E, 48d 0' 0.00\"N)\r\n",
            "Upper Right (  12.0000000,  48.5000000) ( 12d 0' 0.00\"E, 48d30' 0.00\"N)\r\n",
            "Lower Right (  12.0000000,  48.0000000) ( 12d 0' 0.00\"E, 48d 0' 0.00\"N)\r\n",
            "Center      (  11.5000000,  48.2500000) ( 11d30' 0.00\"E, 48d15' 0.00\"N)\r\n",
            "Band 1 Block=512x8 Type=Float32, ColorInterp=Gray\r\n",
            "  Description = DEM\r\n",
            "  Minimum=404.000, Maximum=706.000, Mean=515.058, StdDev=50.925\r\n",
            "  Metadata:\r\n",
            "    STATISTICS_MAXIMUM=706\r\n",
            "    STATISTICS_MEAN=515.05847167968\r\n",
            "    STATISTICS_MINIMUM=404\r\n",
            "    STATISTICS_STDDEV=50.925299661138\r\n",
            "    STATISTICS_VALID_PERCENT=100\r\n"
          ]
        }
      ],
      "source": [
        "!gdalinfo -stats dem_subset.tif"
      ]
    },
    {
      "cell_type": "markdown",
      "id": "absent-mercy",
      "metadata": {
        "papermill": {
          "duration": 0.018988,
          "end_time": "2021-05-11T14:51:54.261698",
          "exception": false,
          "start_time": "2021-05-11T14:51:54.242710",
          "status": "completed"
        },
        "tags": []
      },
      "source": [
        "## Retrieve DEM value within an area of interest aggregated spatially\n",
        "The output of this request is a single value requested from an area of interest (`value/area` endpoint). As the input collection (DEM) is a single raster, only spatial aggregation is conducted.\n",
        "\n",
        "To retrieve a single value of an area of interest, a bounding box (`bbox`) or polygon geometry (`geom`) needs to be provided together with the `aggregate` parameter, which specifies the aggregation methods being conducted. The band (`field`) to be returned by DAPA needs to be specified.\n",
        "\n",
        "The response of this request returns plain text with values splitted by comma. The order of the values relates to the order of the functions specified in the `aggregate` parameter. Additional output formats will be integrated within the testbed activtiy. "
      ]
    },
    {
      "cell_type": "code",
      "execution_count": 13,
      "id": "ready-administration",
      "metadata": {
        "execution": {
          "iopub.execute_input": "2021-05-11T14:51:54.306108Z",
          "iopub.status.busy": "2021-05-11T14:51:54.305561Z",
          "iopub.status.idle": "2021-05-11T14:51:54.619892Z",
          "shell.execute_reply": "2021-05-11T14:51:54.620242Z"
        },
        "papermill": {
          "duration": 0.3399,
          "end_time": "2021-05-11T14:51:54.620359",
          "exception": false,
          "start_time": "2021-05-11T14:51:54.280459",
          "status": "completed"
        },
        "tags": []
      },
      "outputs": [
        {
          "name": "stdout",
          "output_type": "stream",
          "text": [
            "DAPA path: /oapi/collections/DEM/dapa/value/area?bbox=11,48,12,48.5&fields=DEM&aggregate=min,max,avg\n",
            "Status code: 200\n"
          ]
        }
      ],
      "source": [
        "url = '{}/{}/{}/{}'.format(dapa_url, 'collections', collection, 'dapa/value/area')\n",
        "params = {\n",
        "    'bbox': '11,48,12,48.5',\n",
        "    'fields': 'DEM',\n",
        "    'aggregate': 'min,max,avg'\n",
        "}\n",
        "\n",
        "params_str = \"&\".join(\"%s=%s\" % (k, v) for k,v in params.items())\n",
        "r = requests.get(url, params=params_str)\n",
        "\n",
        "print('DAPA path: {}'.format(r.url.replace(service_url, '')))\n",
        "print('Status code: {}'.format(r.status_code))"
      ]
    },
    {
      "cell_type": "markdown",
      "id": "figured-blackberry",
      "metadata": {
        "papermill": {
          "duration": 0.018933,
          "end_time": "2021-05-11T14:51:54.658565",
          "exception": false,
          "start_time": "2021-05-11T14:51:54.639632",
          "status": "completed"
        },
        "tags": []
      },
      "source": [
        "Print values of the request"
      ]
    },
    {
      "cell_type": "code",
      "execution_count": 14,
      "id": "ambient-dining",
      "metadata": {
        "execution": {
          "iopub.execute_input": "2021-05-11T14:51:54.699770Z",
          "iopub.status.busy": "2021-05-11T14:51:54.699239Z",
          "iopub.status.idle": "2021-05-11T14:51:54.701741Z",
          "shell.execute_reply": "2021-05-11T14:51:54.701236Z"
        },
        "papermill": {
          "duration": 0.024459,
          "end_time": "2021-05-11T14:51:54.701849",
          "exception": false,
          "start_time": "2021-05-11T14:51:54.677390",
          "status": "completed"
        },
        "tags": []
      },
      "outputs": [
        {
          "name": "stdout",
          "output_type": "stream",
          "text": [
            "min: 404.0\n",
            "max: 706.0\n",
            "avg: 515.0584\n"
          ]
        }
      ],
      "source": [
        "values = r.text.split(',')\n",
        "print('min: %s' % values[0])\n",
        "print('max: %s' % values[1])\n",
        "print('avg: %s' % values[2])"
      ]
    },
    {
      "cell_type": "markdown",
      "id": "advanced-natural",
      "metadata": {
        "papermill": {
          "duration": 0.019109,
          "end_time": "2021-05-11T14:51:54.739998",
          "exception": false,
          "start_time": "2021-05-11T14:51:54.720889",
          "status": "completed"
        },
        "tags": []
      },
      "source": [
        "## Retrieve DEM value at a specific point\n",
        "The output of this request is a single value requested from a point of interest (`value/position` endpoint). As the input collection (DEM) is a single raster and the requested geometry is a point, no aggregation is needed.\n",
        "\n",
        "To retrieve a single value of a point, the parameter `point` needs to be provided. The band (`field`) to be returned by DAPA needs to be specified.\n",
        "\n",
        "The response of this request returns plain text with values splitted by comma. The order of the values relates to the order of the fields specified in the `fields` parameter. Additional output formats will be integrated within the testbed activtiy. "
      ]
    },
    {
      "cell_type": "code",
      "execution_count": 15,
      "id": "compact-washer",
      "metadata": {
        "execution": {
          "iopub.execute_input": "2021-05-11T14:51:54.791914Z",
          "iopub.status.busy": "2021-05-11T14:51:54.791353Z",
          "iopub.status.idle": "2021-05-11T14:51:54.973481Z",
          "shell.execute_reply": "2021-05-11T14:51:54.973047Z"
        },
        "papermill": {
          "duration": 0.21031,
          "end_time": "2021-05-11T14:51:54.973581",
          "exception": false,
          "start_time": "2021-05-11T14:51:54.763271",
          "status": "completed"
        },
        "tags": []
      },
      "outputs": [
        {
          "name": "stdout",
          "output_type": "stream",
          "text": [
            "DAPA path: /oapi/collections/DEM/dapa/value/position?point=11,48&fields=DEM\n",
            "Status code: 200\n",
            "Value: 648.0\n"
          ]
        }
      ],
      "source": [
        "url = '{}/{}/{}/{}'.format(dapa_url, 'collections', collection, 'dapa/value/position')\n",
        "params = {\n",
        "    'point': '11,48',\n",
        "    'fields': 'DEM'\n",
        "}\n",
        "\n",
        "params_str = \"&\".join(\"%s=%s\" % (k, v) for k,v in params.items())\n",
        "r = requests.get(url, params=params_str)\n",
        "\n",
        "print('DAPA path: {}'.format(r.url.replace(service_url, '')))\n",
        "print('Status code: {}'.format(r.status_code))\n",
        "print('Value: {}'.format(r.text))"
      ]
    },
    {
      "cell_type": "markdown",
      "id": "subject-penetration",
      "metadata": {
        "papermill": {
          "duration": 0.019255,
          "end_time": "2021-05-11T14:51:55.012073",
          "exception": false,
          "start_time": "2021-05-11T14:51:54.992818",
          "status": "completed"
        },
        "tags": []
      },
      "source": [
        "## Retrieve DEM value at a specific point calculated in feet\n",
        "You can do math operations in the `fields` parameter. To calculate from meter to feet you need only to specify a virtual field: \n",
        "> FEET=DEM/0.3048"
      ]
    },
    {
      "cell_type": "code",
      "execution_count": 16,
      "id": "studied-boost",
      "metadata": {
        "execution": {
          "iopub.execute_input": "2021-05-11T14:51:55.055514Z",
          "iopub.status.busy": "2021-05-11T14:51:55.054794Z",
          "iopub.status.idle": "2021-05-11T14:51:55.193527Z",
          "shell.execute_reply": "2021-05-11T14:51:55.193106Z"
        },
        "papermill": {
          "duration": 0.162457,
          "end_time": "2021-05-11T14:51:55.193648",
          "exception": false,
          "start_time": "2021-05-11T14:51:55.031191",
          "status": "completed"
        },
        "tags": []
      },
      "outputs": [
        {
          "name": "stdout",
          "output_type": "stream",
          "text": [
            "DAPA path: /oapi/collections/DEM/dapa/value/position?point=11,48&fields=FEET=DEM/0.3048\n",
            "Status code: 200\n",
            "Value: 2125.9841\n"
          ]
        }
      ],
      "source": [
        "url = '{}/{}/{}/{}'.format(dapa_url, 'collections', collection, 'dapa/value/position')\n",
        "params = {\n",
        "    'point': '11,48',\n",
        "    'fields': 'FEET=DEM/0.3048'\n",
        "}\n",
        "\n",
        "params_str = \"&\".join(\"%s=%s\" % (k, v) for k,v in params.items())\n",
        "r = requests.get(url, params=params_str)\n",
        "\n",
        "print('DAPA path: {}'.format(r.url.replace(service_url, '')))\n",
        "print('Status code: {}'.format(r.status_code))\n",
        "print('Value: {}'.format(r.text))"
      ]
    }
  ],
  "metadata": {
    "kernelspec": {
      "display_name": "EDC 0.19.6 (Python3)",
      "language": "python",
      "name": "edc"
    },
    "language_info": {
      "codemirror_mode": {
        "name": "ipython",
        "version": 3
      },
      "file_extension": ".py",
      "mimetype": "text/x-python",
      "name": "python",
      "nbconvert_exporter": "python",
      "pygments_lexer": "ipython3",
      "version": "3.8.10"
    },
    "papermill": {
      "duration": 5.847202,
      "end_time": "2021-05-11T14:51:55.618596",
      "environment_variables": {},
      "exception": null,
      "input_path": "/tmp/tmpgly3mcm8",
      "output_path": "/tmp/cur_notebook.ipynb",
      "parameters": {},
      "start_time": "2021-05-11T14:51:49.771394",
      "version": "2.1.2"
    },
    "properties": {
      "authors": [
        {
          "id": "47919774-57f5-4b2d-9f6c-570b91e23604",
          "name": "jonas.eberle@dlr.de"
        }
      ],
      "description": "DEM example based on DAPA experimental interface",
      "id": "819590ab-5711-493b-8875-4aefcad5acb1",
      "license": null,
      "name": "DAPA Tutorial #5: DEM example – OGC Testbed 16",
      "requirements": [],
      "tags": [
        "DAPA"
      ],
      "tosAgree": true,
      "type": "Jupyter Notebook",
      "version": "0.3",
      "automatically_executable": false
    },
    "widgets": {
      "application/vnd.jupyter.widget-state+json": {
        "state": {
          "3292105e9b784b40bec710d14a624a21": {
            "model_module": "jupyter-leaflet",
            "model_module_version": "^0.13.5",
            "model_name": "LeafletMapStyleModel",
            "state": {
              "_model_module": "jupyter-leaflet",
              "_model_module_version": "^0.13.5",
              "_model_name": "LeafletMapStyleModel",
              "_view_count": null,
              "_view_module": "@jupyter-widgets/base",
              "_view_module_version": "1.2.0",
              "_view_name": "StyleView",
              "cursor": "move"
            }
          },
          "33136a5cbde44034b44fc004f4c34421": {
            "model_module": "jupyter-leaflet",
            "model_module_version": "^0.13.5",
            "model_name": "LeafletZoomControlModel",
            "state": {
              "_model_module": "jupyter-leaflet",
              "_model_module_version": "^0.13.5",
              "_model_name": "LeafletZoomControlModel",
              "_view_count": null,
              "_view_module": "jupyter-leaflet",
              "_view_module_version": "^0.13.5",
              "_view_name": "LeafletZoomControlView",
              "options": [
                "position",
                "zoom_in_text",
                "zoom_in_title",
                "zoom_out_text",
                "zoom_out_title"
              ],
              "position": "topleft",
              "zoom_in_text": "+",
              "zoom_in_title": "Zoom in",
              "zoom_out_text": "-",
              "zoom_out_title": "Zoom out"
            }
          },
          "3d79637213634559b4d9d8ad774f97bc": {
            "model_module": "@jupyter-widgets/base",
            "model_module_version": "1.2.0",
            "model_name": "LayoutModel",
            "state": {
              "_model_module": "@jupyter-widgets/base",
              "_model_module_version": "1.2.0",
              "_model_name": "LayoutModel",
              "_view_count": null,
              "_view_module": "@jupyter-widgets/base",
              "_view_module_version": "1.2.0",
              "_view_name": "LayoutView",
              "align_content": null,
              "align_items": null,
              "align_self": null,
              "border": null,
              "bottom": null,
              "display": null,
              "flex": null,
              "flex_flow": null,
              "grid_area": null,
              "grid_auto_columns": null,
              "grid_auto_flow": null,
              "grid_auto_rows": null,
              "grid_column": null,
              "grid_gap": null,
              "grid_row": null,
              "grid_template_areas": null,
              "grid_template_columns": null,
              "grid_template_rows": null,
              "height": null,
              "justify_content": null,
              "justify_items": null,
              "left": null,
              "margin": null,
              "max_height": null,
              "max_width": null,
              "min_height": null,
              "min_width": null,
              "object_fit": null,
              "object_position": null,
              "order": null,
              "overflow": null,
              "overflow_x": null,
              "overflow_y": null,
              "padding": null,
              "right": null,
              "top": null,
              "visibility": null,
              "width": null
            }
          },
          "4d948a894516420b8bc9f5f5585ecdd9": {
            "model_module": "jupyter-leaflet",
            "model_module_version": "^0.13.5",
            "model_name": "LeafletMapModel",
            "state": {
              "_dom_classes": [],
              "_model_module": "jupyter-leaflet",
              "_model_module_version": "^0.13.5",
              "_model_name": "LeafletMapModel",
              "_view_count": null,
              "_view_module": "jupyter-leaflet",
              "_view_module_version": "^0.13.5",
              "_view_name": "LeafletMapView",
              "bottom": 0,
              "bounce_at_zoom_limits": true,
              "box_zoom": true,
              "center": [
                48.25,
                11.5
              ],
              "close_popup_on_click": true,
              "controls": [
                "IPY_MODEL_33136a5cbde44034b44fc004f4c34421",
                "IPY_MODEL_ee31e115bf6342118923117fc07cc85b"
              ],
              "crs": {
                "custom": false,
                "name": "EPSG3857"
              },
              "default_style": "IPY_MODEL_e3c55e7338b74933b2517181a8b1fde4",
              "double_click_zoom": true,
              "dragging": true,
              "dragging_style": "IPY_MODEL_3292105e9b784b40bec710d14a624a21",
              "east": 0,
              "fullscreen": false,
              "inertia": true,
              "inertia_deceleration": 3000,
              "inertia_max_speed": 1500,
              "interpolation": "bilinear",
              "keyboard": true,
              "keyboard_pan_offset": 80,
              "keyboard_zoom_offset": 1,
              "layers": [
                "IPY_MODEL_8b918b50ccd3421e9ef381fec5a1476d",
                "IPY_MODEL_51fbe6a51ad44b22926afdc284b1857e"
              ],
              "layout": "IPY_MODEL_3d79637213634559b4d9d8ad774f97bc",
              "left": 9007199254740991,
              "max_zoom": 18,
              "min_zoom": 1,
              "modisdate": "yesterday",
              "north": 0,
              "options": [
                "bounce_at_zoom_limits",
                "box_zoom",
                "center",
                "close_popup_on_click",
                "double_click_zoom",
                "dragging",
                "fullscreen",
                "inertia",
                "inertia_deceleration",
                "inertia_max_speed",
                "interpolation",
                "keyboard",
                "keyboard_pan_offset",
                "keyboard_zoom_offset",
                "max_zoom",
                "min_zoom",
                "scroll_wheel_zoom",
                "tap",
                "tap_tolerance",
                "touch_zoom",
                "world_copy_jump",
                "zoom",
                "zoom_animation_threshold",
                "zoom_delta",
                "zoom_snap",
                "zoom_start"
              ],
              "right": 0,
              "scroll_wheel_zoom": false,
              "south": 0,
              "style": "IPY_MODEL_d9803622df2749ad8283ea0862522b71",
              "tap": true,
              "tap_tolerance": 15,
              "top": 9007199254740991,
              "touch_zoom": true,
              "west": 0,
              "window_url": "",
              "world_copy_jump": false,
              "zoom": 9,
              "zoom_animation_threshold": 4,
              "zoom_delta": 1,
              "zoom_snap": 1,
              "zoom_start": 12
            }
          },
          "51fbe6a51ad44b22926afdc284b1857e": {
            "model_module": "jupyter-leaflet",
            "model_module_version": "^0.13.5",
            "model_name": "LeafletRectangleModel",
            "state": {
              "_model_module": "jupyter-leaflet",
              "_model_module_version": "^0.13.5",
              "_model_name": "LeafletRectangleModel",
              "_view_count": null,
              "_view_module": "jupyter-leaflet",
              "_view_module_version": "^0.13.5",
              "_view_name": "LeafletRectangleView",
              "base": false,
              "bottom": false,
              "bounds": [
                [
                  48,
                  11
                ],
                [
                  48.5,
                  12
                ]
              ],
              "color": "#0033FF",
              "dash_array": null,
              "draggable": false,
              "fill": true,
              "fill_color": null,
              "fill_opacity": 0.2,
              "line_cap": "round",
              "line_join": "round",
              "locations": [],
              "name": "",
              "no_clip": true,
              "opacity": 1,
              "options": [
                "color",
                "dash_array",
                "draggable",
                "fill",
                "fill_color",
                "fill_opacity",
                "line_cap",
                "line_join",
                "no_clip",
                "opacity",
                "pointer_events",
                "smooth_factor",
                "stroke",
                "transform",
                "weight"
              ],
              "pointer_events": "",
              "popup": null,
              "popup_max_height": null,
              "popup_max_width": 300,
              "popup_min_width": 50,
              "rotation": true,
              "scaling": true,
              "smooth_factor": 1,
              "stroke": true,
              "transform": false,
              "uniform_scaling": false,
              "weight": 5
            }
          },
          "8b918b50ccd3421e9ef381fec5a1476d": {
            "model_module": "jupyter-leaflet",
            "model_module_version": "^0.13.5",
            "model_name": "LeafletTileLayerModel",
            "state": {
              "_model_module": "jupyter-leaflet",
              "_model_module_version": "^0.13.5",
              "_model_name": "LeafletTileLayerModel",
              "_view_count": null,
              "_view_module": "jupyter-leaflet",
              "_view_module_version": "^0.13.5",
              "_view_name": "LeafletTileLayerView",
              "attribution": "Map data (c) <a href=\"https://openstreetmap.org\">OpenStreetMap</a> contributors",
              "base": true,
              "bottom": true,
              "detect_retina": false,
              "loading": false,
              "max_native_zoom": 18,
              "max_zoom": 19,
              "min_native_zoom": 0,
              "min_zoom": 1,
              "name": "OpenStreetMap.Mapnik",
              "no_wrap": false,
              "opacity": 1,
              "options": [
                "attribution",
                "detect_retina",
                "max_native_zoom",
                "max_zoom",
                "min_native_zoom",
                "min_zoom",
                "no_wrap",
                "tile_size",
                "tms"
              ],
              "popup": null,
              "popup_max_height": null,
              "popup_max_width": 300,
              "popup_min_width": 50,
              "show_loading": false,
              "tile_size": 256,
              "tms": false,
              "url": "https://{s}.tile.openstreetmap.org/{z}/{x}/{y}.png",
              "visible": true
            }
          },
          "d9803622df2749ad8283ea0862522b71": {
            "model_module": "jupyter-leaflet",
            "model_module_version": "^0.13.5",
            "model_name": "LeafletMapStyleModel",
            "state": {
              "_model_module": "jupyter-leaflet",
              "_model_module_version": "^0.13.5",
              "_model_name": "LeafletMapStyleModel",
              "_view_count": null,
              "_view_module": "@jupyter-widgets/base",
              "_view_module_version": "1.2.0",
              "_view_name": "StyleView",
              "cursor": "grab"
            }
          },
          "e3c55e7338b74933b2517181a8b1fde4": {
            "model_module": "jupyter-leaflet",
            "model_module_version": "^0.13.5",
            "model_name": "LeafletMapStyleModel",
            "state": {
              "_model_module": "jupyter-leaflet",
              "_model_module_version": "^0.13.5",
              "_model_name": "LeafletMapStyleModel",
              "_view_count": null,
              "_view_module": "@jupyter-widgets/base",
              "_view_module_version": "1.2.0",
              "_view_name": "StyleView",
              "cursor": "grab"
            }
          },
          "ee31e115bf6342118923117fc07cc85b": {
            "model_module": "jupyter-leaflet",
            "model_module_version": "^0.13.5",
            "model_name": "LeafletAttributionControlModel",
            "state": {
              "_model_module": "jupyter-leaflet",
              "_model_module_version": "^0.13.5",
              "_model_name": "LeafletAttributionControlModel",
              "_view_count": null,
              "_view_module": "jupyter-leaflet",
              "_view_module_version": "^0.13.5",
              "_view_name": "LeafletAttributionControlView",
              "options": [
                "position",
                "prefix"
              ],
              "position": "bottomright",
              "prefix": "ipyleaflet"
            }
          }
        },
        "version_major": 2,
        "version_minor": 0
      }
    }
  },
  "nbformat": 4,
  "nbformat_minor": 5
}
